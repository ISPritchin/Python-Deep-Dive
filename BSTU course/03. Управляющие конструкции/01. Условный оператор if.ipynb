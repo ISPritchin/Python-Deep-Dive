{
 "cells": [
  {
   "cell_type": "markdown",
   "source": [
    "# Условный оператор _if_\n",
    "\n",
    "Рассмотрим такую задачу: с клавиатуры вводится число, если оно отрицательное, нужно поменять знак. Конечно это можно решить так:"
   ],
   "metadata": {
    "collapsed": false,
    "pycharm": {
     "name": "#%% md\n"
    }
   }
  },
  {
   "cell_type": "code",
   "execution_count": 13,
   "outputs": [
    {
     "name": "stdout",
     "output_type": "stream",
     "text": [
      "20\n"
     ]
    }
   ],
   "source": [
    "x = abs(int(input())) # Введено: -20\n",
    "print(x)"
   ],
   "metadata": {
    "collapsed": false,
    "pycharm": {
     "name": "#%%\n"
    }
   }
  },
  {
   "cell_type": "markdown",
   "source": [
    "Попробуем решить это без использования функции `abs`, используя другие языковые средства. Рассмотрим оператор `if`. Его конструкция:\n",
    "\n",
    "```\n",
    "if <логическое выражение>:\n",
    "    <оператор1>\n",
    "    <оператор2>\n",
    "    ...\n",
    "    <операторN>\n",
    "```\n",
    "\n",
    "Он работает следующим образом: если результатом <логического выражения> является значение `True` то выполняется последовательность операторов, которые **обязаны иметь отступ слева**. В противном случае операторы не выполняются.\n",
    "\n",
    "Возможное решение задачи о модуле числа:"
   ],
   "metadata": {
    "collapsed": false,
    "pycharm": {
     "name": "#%% md\n"
    }
   }
  },
  {
   "cell_type": "code",
   "execution_count": 14,
   "outputs": [
    {
     "name": "stdout",
     "output_type": "stream",
     "text": [
      "20\n"
     ]
    }
   ],
   "source": [
    "x = int(input())\n",
    "if x < 0:  # Введено: -20\n",
    "    x = -x\n",
    "\n",
    "print(x)"
   ],
   "metadata": {
    "collapsed": false,
    "pycharm": {
     "name": "#%%\n"
    }
   }
  },
  {
   "cell_type": "markdown",
   "source": [
    "Задача: вводится два числа, необходимо обменять их значения по следующему правилу: после работы программы в переменной `a` было бы записано число, которое не больше, чем значение в переменной `b`. Возможное решение:"
   ],
   "metadata": {
    "collapsed": false,
    "pycharm": {
     "name": "#%% md\n"
    }
   }
  },
  {
   "cell_type": "code",
   "execution_count": 22,
   "outputs": [
    {
     "name": "stdout",
     "output_type": "stream",
     "text": [
      "1 2\n"
     ]
    }
   ],
   "source": [
    "a, b = map(int, input().split()) # Введено: 2 1\n",
    "\n",
    "if a > b:\n",
    "    t = a\n",
    "    a = b\n",
    "    b = t\n",
    "\n",
    "print(a, b)"
   ],
   "metadata": {
    "collapsed": false,
    "pycharm": {
     "name": "#%%\n"
    }
   }
  },
  {
   "cell_type": "markdown",
   "source": [
    "То же самое, но короче:"
   ],
   "metadata": {
    "collapsed": false,
    "pycharm": {
     "name": "#%% md\n"
    }
   }
  },
  {
   "cell_type": "code",
   "execution_count": 23,
   "outputs": [
    {
     "name": "stdout",
     "output_type": "stream",
     "text": [
      "1 2\n"
     ]
    }
   ],
   "source": [
    "a, b = map(int, input().split()) # Введено: 2 1\n",
    "\n",
    "if a > b:\n",
    "    a, b = b, a\n",
    "\n",
    "print(a, b)"
   ],
   "metadata": {
    "collapsed": false,
    "pycharm": {
     "name": "#%%\n"
    }
   }
  },
  {
   "cell_type": "markdown",
   "source": [
    "Задача: пусть в некоторой стране $X$ зарплата человека, которому исполнилось 18 лет облагается налогом в 15%, а зарплата того кому нет 18 -- не облагается. Программа должна считывать возраст и зарплату до вычетов налогов и выводить фактические начисления.\n",
    "\n",
    "Решение:"
   ],
   "metadata": {
    "collapsed": false,
    "pycharm": {
     "name": "#%% md\n"
    }
   }
  },
  {
   "cell_type": "code",
   "execution_count": 28,
   "outputs": [
    {
     "name": "stdout",
     "output_type": "stream",
     "text": [
      "К выплате 63750.0 рублей\n"
     ]
    }
   ],
   "source": [
    "salary = int(input(\"Зарплата: \"))      # Введено: 75000\n",
    "age = int(input(\"Введите возраст: \"))  # Введено: 50\n",
    "tax = 0.15\n",
    "\n",
    "if age >= 18:\n",
    "    salary *= 1 - tax\n",
    "\n",
    "print(f\"К выплате {salary} рублей\")"
   ],
   "metadata": {
    "collapsed": false,
    "pycharm": {
     "name": "#%%\n"
    }
   }
  }
 ],
 "metadata": {
  "kernelspec": {
   "display_name": "Python 3",
   "language": "python",
   "name": "python3"
  },
  "language_info": {
   "codemirror_mode": {
    "name": "ipython",
    "version": 2
   },
   "file_extension": ".py",
   "mimetype": "text/x-python",
   "name": "python",
   "nbconvert_exporter": "python",
   "pygments_lexer": "ipython2",
   "version": "2.7.6"
  }
 },
 "nbformat": 4,
 "nbformat_minor": 0
}