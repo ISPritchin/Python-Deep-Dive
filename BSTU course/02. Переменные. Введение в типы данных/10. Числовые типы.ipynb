{
 "cells": [
  {
   "cell_type": "markdown",
   "metadata": {
    "collapsed": true,
    "pycharm": {
     "name": "#%% md\n"
    }
   },
   "source": [
    "# Числовые типы\n",
    "\n",
    "В математике существует следующие множества чисел: целые, рациональные, вещественные, комплексные числа. Каждому из типов в языке программирования Python соответствует тип данных:\n",
    "* логические переменные (`bool`)\n",
    "* целые (`int`)\n",
    "* рациональные (`fraction.Fraction`)\n",
    "* вещественные (`float`, `decimal.Decimal`)\n",
    "* комплексные (`complex`)"
   ],
   "outputs": []
  }
 ],
 "metadata": {
  "kernelspec": {
   "display_name": "Python 3",
   "language": "python",
   "name": "python3"
  },
  "language_info": {
   "codemirror_mode": {
    "name": "ipython",
    "version": 2
   },
   "file_extension": ".py",
   "mimetype": "text/x-python",
   "name": "python",
   "nbconvert_exporter": "python",
   "pygments_lexer": "ipython2",
   "version": "2.7.6"
  }
 },
 "nbformat": 4,
 "nbformat_minor": 0
}