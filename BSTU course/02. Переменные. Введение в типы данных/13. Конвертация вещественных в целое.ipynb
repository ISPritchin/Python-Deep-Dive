{
 "cells": [
  {
   "cell_type": "markdown",
   "source": [
    "# Конвертация вещественных в целое\n",
    "\n",
    "При конвертировании вещественного в целое, часть после запятой отбрасывается:"
   ],
   "metadata": {
    "collapsed": false,
    "pycharm": {
     "name": "#%% md\n"
    }
   }
  },
  {
   "cell_type": "code",
   "execution_count": 50,
   "outputs": [
    {
     "name": "stdout",
     "output_type": "stream",
     "text": [
      "10 -10\n"
     ]
    }
   ],
   "source": [
    "x = int(10.4)\n",
    "y = int(-10.4)\n",
    "print(x, y)"
   ],
   "metadata": {
    "collapsed": false,
    "pycharm": {
     "name": "#%%\n"
    }
   }
  },
  {
   "cell_type": "markdown",
   "source": [
    "В библиотеке `math` определены разные функции округления:"
   ],
   "metadata": {
    "collapsed": false,
    "pycharm": {
     "name": "#%% md\n"
    }
   }
  },
  {
   "cell_type": "code",
   "execution_count": 51,
   "outputs": [
    {
     "name": "stdout",
     "output_type": "stream",
     "text": [
      "10 11\n",
      "-11 -10\n"
     ]
    }
   ],
   "source": [
    "from math import floor, ceil\n",
    "\n",
    "print(floor(10.4), ceil(10.4))\n",
    "print(floor(-10.4), ceil(-10.4))"
   ],
   "metadata": {
    "collapsed": false,
    "pycharm": {
     "name": "#%%\n"
    }
   }
  },
  {
   "cell_type": "markdown",
   "source": [
    "Округление вещественных до разного количества знаков после запятой:"
   ],
   "metadata": {
    "collapsed": false,
    "pycharm": {
     "name": "#%% md\n"
    }
   }
  },
  {
   "cell_type": "code",
   "execution_count": 52,
   "outputs": [
    {
     "name": "stdout",
     "output_type": "stream",
     "text": [
      "5412\n",
      "5412.0 5412.5 5412.45\n",
      "5410.0\n",
      "5400.0\n"
     ]
    }
   ],
   "source": [
    "x = 5412.454\n",
    "print(round(x))      # без второго параметра всегда вернёт int\n",
    "print(round(x, 0), round(x, 1),\n",
    "      round(x, 2))   # при указании второго параметра всегда вернёт тот тип, что был у первого аргумента\n",
    "print(round(x, -1))  # округление до 1 цифры до запятой\n",
    "print(round(x, -2))  # округление до 2 цифры до запятой"
   ],
   "metadata": {
    "collapsed": false,
    "pycharm": {
     "name": "#%%\n"
    }
   }
  },
  {
   "cell_type": "markdown",
   "source": [
    "Интересно происходит округление вещественных, когда абсолютное отклонение до тех значений, до которых они могут быть округлены одинаковое:"
   ],
   "metadata": {
    "collapsed": false,
    "pycharm": {
     "name": "#%% md\n"
    }
   }
  },
  {
   "cell_type": "code",
   "execution_count": 53,
   "outputs": [
    {
     "name": "stdout",
     "output_type": "stream",
     "text": [
      "1.2\n",
      "1.4\n",
      "1.4\n",
      "1.6\n"
     ]
    }
   ],
   "source": [
    "print(round(1.25, 1))  # округление вниз\n",
    "print(round(1.35, 1))  # округление вверх\n",
    "print(round(1.45, 1))  # округление вниз\n",
    "print(round(1.55, 1))  # округление вверх\n",
    "# в таком случае округление ведётся таким образом, чтобы последняя цифра округленного значения была четной"
   ],
   "metadata": {
    "collapsed": false,
    "pycharm": {
     "name": "#%%\n"
    }
   }
  },
  {
   "cell_type": "markdown",
   "source": [
    "При необходимости округлять по правилам математики можно использовать подход"
   ],
   "metadata": {
    "collapsed": false,
    "pycharm": {
     "name": "#%% md\n"
    }
   }
  },
  {
   "cell_type": "code",
   "execution_count": 54,
   "outputs": [
    {
     "name": "stdout",
     "output_type": "stream",
     "text": [
      "3 2\n"
     ]
    }
   ],
   "source": [
    "from math import copysign\n",
    "\n",
    "\n",
    "def math_round(x: float):\n",
    "    return int(x + 0.5 * copysign(1, x))\n",
    "\n",
    "\n",
    "print(math_round(2.5), round(2.5))"
   ],
   "metadata": {
    "collapsed": false,
    "pycharm": {
     "name": "#%%\n"
    }
   }
  }
 ],
 "metadata": {
  "kernelspec": {
   "display_name": "Python 3",
   "language": "python",
   "name": "python3"
  },
  "language_info": {
   "codemirror_mode": {
    "name": "ipython",
    "version": 2
   },
   "file_extension": ".py",
   "mimetype": "text/x-python",
   "name": "python",
   "nbconvert_exporter": "python",
   "pygments_lexer": "ipython2",
   "version": "2.7.6"
  }
 },
 "nbformat": 4,
 "nbformat_minor": 0
}