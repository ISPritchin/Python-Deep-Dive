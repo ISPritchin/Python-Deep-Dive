{
 "cells": [
  {
   "cell_type": "markdown",
   "source": [
    "# Строки\n",
    "\n",
    "**Строка** -- последовательность символов. Литералы строк заключаются в одинарные или двойные кавычки."
   ],
   "metadata": {
    "collapsed": false,
    "pycharm": {
     "name": "#%% md\n"
    }
   }
  },
  {
   "cell_type": "code",
   "execution_count": 3,
   "metadata": {
    "collapsed": true
   },
   "outputs": [
    {
     "name": "stdout",
     "output_type": "stream",
     "text": [
      "I love programming\n",
      "I love programming\n"
     ]
    }
   ],
   "source": [
    "s1 = \"I love programming\"\n",
    "# если использовать одинарные\n",
    "s2 = 'I love programming'\n",
    "\n",
    "print(s1)\n",
    "print(s2)"
   ]
  },
  {
   "cell_type": "markdown",
   "source": [
    "Для того, чтобы узнать сколько символов хранится в строке используется функция `len`:"
   ],
   "metadata": {
    "collapsed": false,
    "pycharm": {
     "name": "#%% md\n"
    }
   }
  },
  {
   "cell_type": "code",
   "execution_count": 4,
   "outputs": [
    {
     "name": "stdout",
     "output_type": "stream",
     "text": [
      "18\n"
     ]
    }
   ],
   "source": [
    "s = \"I love programming\"\n",
    "print(len(s))"
   ],
   "metadata": {
    "collapsed": false,
    "pycharm": {
     "name": "#%%\n"
    }
   }
  },
  {
   "cell_type": "markdown",
   "source": [
    "Ключевой особенностью последовательностей в Python является возможность получения некоторого значения последовательности по индексу. Для этого используется квадратные скобки (**нумерация ведётся с нуля**):"
   ],
   "metadata": {
    "collapsed": false,
    "pycharm": {
     "name": "#%% md\n"
    }
   }
  },
  {
   "cell_type": "code",
   "execution_count": 18,
   "outputs": [
    {
     "name": "stdout",
     "output_type": "stream",
     "text": [
      "e\n",
      "H\n"
     ]
    }
   ],
   "source": [
    "x = \"Hello, world!\"\n",
    "print(x[1]) # первый элемент строки\n",
    "print(x[0]) # нулевой элемент строки"
   ],
   "metadata": {
    "collapsed": false,
    "pycharm": {
     "name": "#%%\n"
    }
   }
  },
  {
   "cell_type": "markdown",
   "source": [
    "В отличие от многих языков, Python поддерживает отрицательную индексацию. Используя отрицательные индексы можно получать значения с конца последовательности (в данном случае -- с конца строки):"
   ],
   "metadata": {
    "collapsed": false,
    "pycharm": {
     "name": "#%% md\n"
    }
   }
  },
  {
   "cell_type": "code",
   "execution_count": 19,
   "outputs": [
    {
     "name": "stdout",
     "output_type": "stream",
     "text": [
      "!\n",
      "d\n"
     ]
    }
   ],
   "source": [
    "x = \"Hello, world!\"\n",
    "print(x[-1]) # первый элемент с конца\n",
    "print(x[-2]) # второй элемент с конца"
   ],
   "metadata": {
    "collapsed": false,
    "pycharm": {
     "name": "#%%\n"
    }
   }
  },
  {
   "cell_type": "markdown",
   "source": [
    "Используя синтаксис срезов можно получать некоторые подпоследовательности:"
   ],
   "metadata": {
    "collapsed": false,
    "pycharm": {
     "name": "#%% md\n"
    }
   }
  },
  {
   "cell_type": "code",
   "execution_count": 20,
   "outputs": [
    {
     "name": "stdout",
     "output_type": "stream",
     "text": [
      "el\n",
      "o, wor\n"
     ]
    }
   ],
   "source": [
    "x = \"Hello, world!\"\n",
    "print(x[1:3])  # получить строку из символов с 1-го по 3-ий (значение 3 не включительно)\n",
    "print(x[4:10]) # получить строку из символов с 4-го по 10-ый (значение 10 не включительно)"
   ],
   "metadata": {
    "collapsed": false,
    "pycharm": {
     "name": "#%%\n"
    }
   }
  },
  {
   "cell_type": "markdown",
   "source": [
    "Если не указывать первое или второе значение среза, на его месте будут подставлены 0 и длина последовательности соответственно:"
   ],
   "metadata": {
    "collapsed": false,
    "pycharm": {
     "name": "#%% md\n"
    }
   }
  },
  {
   "cell_type": "code",
   "execution_count": 21,
   "outputs": [
    {
     "name": "stdout",
     "output_type": "stream",
     "text": [
      "Hel\n",
      "o, world!\n",
      "Hello, world!\n"
     ]
    }
   ],
   "source": [
    "x = \"Hello, world!\"\n",
    "print(x[:3]) # получить строку из символов с начала строки по 3-ий (значение 3 не включительно)\n",
    "print(x[4:]) # получить строку из символов с 4-го до конца строки\n",
    "print(x[:])  # получить строки из символов от начала строки до конца строки"
   ],
   "metadata": {
    "collapsed": false,
    "pycharm": {
     "name": "#%%\n"
    }
   }
  },
  {
   "cell_type": "markdown",
   "source": [
    "В результате использования срезов в памяти создаются новые объекты. Это будет крайне важно в контексте изменяемых объектов."
   ],
   "metadata": {
    "collapsed": false,
    "pycharm": {
     "name": "#%% md\n"
    }
   }
  }
 ],
 "metadata": {
  "kernelspec": {
   "display_name": "Python 3",
   "language": "python",
   "name": "python3"
  },
  "language_info": {
   "codemirror_mode": {
    "name": "ipython",
    "version": 2
   },
   "file_extension": ".py",
   "mimetype": "text/x-python",
   "name": "python",
   "nbconvert_exporter": "python",
   "pygments_lexer": "ipython2",
   "version": "2.7.6"
  }
 },
 "nbformat": 4,
 "nbformat_minor": 0
}