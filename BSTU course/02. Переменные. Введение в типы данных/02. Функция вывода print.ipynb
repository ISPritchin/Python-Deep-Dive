{
 "cells": [
  {
   "cell_type": "markdown",
   "metadata": {
    "collapsed": true,
    "pycharm": {
     "name": "#%% md\n"
    }
   },
   "source": [
    "# Функция вывода _print_:"
   ]
  },
  {
   "cell_type": "code",
   "execution_count": 1,
   "outputs": [
    {
     "name": "stdout",
     "output_type": "stream",
     "text": [
      "100\n",
      "42\n",
      "Hello, world\n",
      "Hi!\n",
      "42 1000 1 Hi!\n",
      "Значение x = 100\n"
     ]
    }
   ],
   "source": [
    "x = 100\n",
    "\n",
    "print(x)                 # вывод значения переменной x\n",
    "print(42)                # вывод значения 42\n",
    "print(\"Hello, world\")    # вывод сообщения \"Hello, world\"\n",
    "print('Hi!')             # вывод сообщения \"Hi!\"\n",
    "# \"Hello, world\" -- строка. Строкой называется последовательность символов, заключенных в двойные или одинарные кавычки.\n",
    "\n",
    "print(42, x * 10, 1, \"Hi!\")\n",
    "print(\"Значение x =\", x) # вывод сообщения, за которым последует значение x\n",
    "\n",
    "# После каждого вызова функции print происходит перенос на новую строку"
   ],
   "metadata": {
    "collapsed": false,
    "pycharm": {
     "name": "#%%\n"
    }
   }
  }
 ],
 "metadata": {
  "kernelspec": {
   "display_name": "Python 3",
   "language": "python",
   "name": "python3"
  },
  "language_info": {
   "codemirror_mode": {
    "name": "ipython",
    "version": 2
   },
   "file_extension": ".py",
   "mimetype": "text/x-python",
   "name": "python",
   "nbconvert_exporter": "python",
   "pygments_lexer": "ipython2",
   "version": "2.7.6"
  }
 },
 "nbformat": 4,
 "nbformat_minor": 0
}