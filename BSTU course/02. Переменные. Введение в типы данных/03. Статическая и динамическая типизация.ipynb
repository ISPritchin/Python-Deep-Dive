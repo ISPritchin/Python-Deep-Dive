{
 "cells": [
  {
   "cell_type": "markdown",
   "metadata": {
    "collapsed": true,
    "pycharm": {
     "name": "#%% md\n"
    }
   },
   "source": [
    "# Статическая и динамическая типизация\n",
    "\n",
    "В языках со статической типизацией перед тем, как использовать переменную, вы обязаны сказать, к какому именно типу она относится. Например, для языка С:\n",
    "\n",
    "```\n",
    "int a = 10;  // переменная `a` является переменной целочисленного типа.\n",
    "             // она имеет целочисленный тип не потому, что ей присвоили значение 10\n",
    "             // а потому, что перед `a` при объявлении переменной поставили ключевое слово `int`.\n",
    "```\n",
    "\n",
    "```\n",
    "int a = 10.5 // переменная a является всё равно переменной целочисленного типа, несмотря на то,\n",
    "             // что осуществляется попытка присвоить вещественное значение\n",
    "```"
   ]
  },
  {
   "cell_type": "markdown",
   "source": [
    "В отличие от языка С, Python обладает динамической типизацией. Сама идея типа данных привязана не к переменной, а к объекту, с которым связана ссылка:\n",
    "```\n",
    "a = 10     # `a` - ссылка целое, так как справа от знака присваивания находится целое значение\n",
    "a = 3.1415 # `a` - ссылка на вещественное, так как справа от знака присваивания находится вещественное\n",
    " значение\n",
    "a = 'Hello, world!' # `a` - ссылка на строку\n",
    "```\n",
    "\n",
    "Таким образом, одна переменная может ссылаться на объекты различного типа. Как только происходит присваивание, старое значение переменной стирается."
   ],
   "metadata": {
    "collapsed": false,
    "pycharm": {
     "name": "#%% md\n"
    }
   }
  },
  {
   "cell_type": "code",
   "execution_count": 2,
   "outputs": [
    {
     "name": "stdout",
     "output_type": "stream",
     "text": [
      "10\n",
      "3.1415\n",
      "Hello, world!\n",
      "Для многих программистов первой написанной программой является программа \"Hello, world!\"\n"
     ]
    }
   ],
   "source": [
    "var = 10\n",
    "print(var)\n",
    "\n",
    "var = 3.1415\n",
    "print(var)\n",
    "\n",
    "var = \"Hello, world!\"\n",
    "print(var)\n",
    "\n",
    "var = f'Для многих программистов первой написанной программой является программа \"{var}\"'\n",
    "print(var)"
   ],
   "metadata": {
    "collapsed": false,
    "pycharm": {
     "name": "#%%\n"
    }
   }
  },
  {
   "cell_type": "markdown",
   "source": [
    "Тип переменной в Python выполняется во время выполнения (запуска) программы. Можно использовать функцию `type` чтобы узнать, на объект какого типа ссылается переменная:"
   ],
   "metadata": {
    "collapsed": false,
    "pycharm": {
     "name": "#%% md\n"
    }
   }
  },
  {
   "cell_type": "code",
   "execution_count": 4,
   "outputs": [
    {
     "name": "stdout",
     "output_type": "stream",
     "text": [
      "<class 'int'>\n",
      "<class 'float'>\n",
      "<class 'str'>\n",
      "<class 'str'>\n"
     ]
    }
   ],
   "source": [
    "var = 10\n",
    "print(type(var))\n",
    "\n",
    "var = 3.1415\n",
    "print(type(var))\n",
    "\n",
    "var = \"Hello, world!\"\n",
    "print(type(var))\n",
    "\n",
    "var = f'Для многих программистов первой написанной программой является программа \"{var}\"'\n",
    "print(type(var))"
   ],
   "metadata": {
    "collapsed": false,
    "pycharm": {
     "name": "#%%\n"
    }
   }
  }
 ],
 "metadata": {
  "kernelspec": {
   "display_name": "Python 3",
   "language": "python",
   "name": "python3"
  },
  "language_info": {
   "codemirror_mode": {
    "name": "ipython",
    "version": 2
   },
   "file_extension": ".py",
   "mimetype": "text/x-python",
   "name": "python",
   "nbconvert_exporter": "python",
   "pygments_lexer": "ipython2",
   "version": "2.7.6"
  }
 },
 "nbformat": 4,
 "nbformat_minor": 0
}