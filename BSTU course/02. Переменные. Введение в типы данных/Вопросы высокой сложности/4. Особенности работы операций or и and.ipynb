{
 "cells": [
  {
   "cell_type": "markdown",
   "source": [
    "# Особенности работы операций or и and"
   ],
   "metadata": {
    "collapsed": false,
    "pycharm": {
     "name": "#%% md\n"
    }
   }
  },
  {
   "cell_type": "markdown",
   "source": [
    "Интересна работа операций `or` и `and`. Каждая из них возвращает значение операнда, на котором остановилось вычисление (операнд, на котором было понятно, была ли получена 'истина' или 'ложь'). `X and Y` возвращает значение `X` если оно ложно, в противном случае возвращается значение `Y`. `X or Y` возвращает значение `X` если оно истина, в противном случае возвращается значение `Y`."
   ],
   "metadata": {
    "collapsed": false
   }
  },
  {
   "cell_type": "code",
   "execution_count": 3,
   "outputs": [
    {
     "name": "stdout",
     "output_type": "stream",
     "text": [
      "True\n",
      "10\n",
      "True\n",
      "0\n"
     ]
    }
   ],
   "source": [
    "a, b = True, False\n",
    "c, d = 10, 0\n",
    "\n",
    "print(a or c)\n",
    "print(c or a)\n",
    "print(b or a)\n",
    "print(b or d)"
   ],
   "metadata": {
    "collapsed": false,
    "pycharm": {
     "name": "#%%\n"
    }
   }
  },
  {
   "cell_type": "code",
   "execution_count": 4,
   "outputs": [
    {
     "name": "stdout",
     "output_type": "stream",
     "text": [
      "10\n",
      "True\n",
      "False\n",
      "False\n"
     ]
    }
   ],
   "source": [
    "a, b = True, False\n",
    "c, d = 10, 0\n",
    "print(a and c)\n",
    "print(c and a)\n",
    "print(b and a)\n",
    "print(b and d)"
   ],
   "metadata": {
    "collapsed": false,
    "pycharm": {
     "name": "#%%\n"
    }
   }
  },
  {
   "cell_type": "markdown",
   "source": [
    "Приём может использоваться для вычисления среднего значения:"
   ],
   "metadata": {
    "collapsed": false,
    "pycharm": {
     "name": "#%% md\n"
    }
   }
  },
  {
   "cell_type": "code",
   "execution_count": 5,
   "outputs": [
    {
     "name": "stdout",
     "output_type": "stream",
     "text": [
      "2.0\n",
      "0\n"
     ]
    }
   ],
   "source": [
    "a = [1, 2, 3]\n",
    "print(len(a) and sum(a) / len(a))\n",
    "\n",
    "a = []\n",
    "print(len(a) and sum(a) / len(a))"
   ],
   "metadata": {
    "collapsed": false,
    "pycharm": {
     "name": "#%%\n"
    }
   }
  },
  {
   "cell_type": "code",
   "execution_count": 6,
   "outputs": [
    {
     "name": "stdout",
     "output_type": "stream",
     "text": [
      "h\n",
      "\n"
     ]
    }
   ],
   "source": [
    "# Поиск первого символа в строке, если она не является пустой\n",
    "s = \"hello\"\n",
    "print(s and s[0])\n",
    "\n",
    "s = \"\"\n",
    "print(s and s[0])"
   ],
   "metadata": {
    "collapsed": false,
    "pycharm": {
     "name": "#%%\n"
    }
   }
  }
 ],
 "metadata": {
  "kernelspec": {
   "display_name": "Python 3",
   "language": "python",
   "name": "python3"
  },
  "language_info": {
   "codemirror_mode": {
    "name": "ipython",
    "version": 2
   },
   "file_extension": ".py",
   "mimetype": "text/x-python",
   "name": "python",
   "nbconvert_exporter": "python",
   "pygments_lexer": "ipython2",
   "version": "2.7.6"
  }
 },
 "nbformat": 4,
 "nbformat_minor": 0
}