{
 "cells": [
  {
   "cell_type": "markdown",
   "source": [
    "# Деление с округлением вниз и остаток от деления"
   ],
   "metadata": {
    "collapsed": false,
    "pycharm": {
     "name": "#%% md\n"
    }
   }
  },
  {
   "cell_type": "markdown",
   "source": [
    "Пусть рассматривается число $n$ и число $d$, на которое производится деление числа $n$. Операции деление с округлением вниз и остаток от деления связаны тождеством:\n",
    "$$n = d * (n\\,//\\,d) + (n\\,\\%\\,d)$$\n",
    "\n",
    "Важно отметить, как деление с округлением вниз работает в отрицательными значениями. Будет ошибочно говорить, что это простое деление, при котором откидывается вещественная часть:"
   ],
   "metadata": {
    "collapsed": false,
    "pycharm": {
     "name": "#%% md\n"
    }
   }
  },
  {
   "cell_type": "code",
   "execution_count": null,
   "outputs": [],
   "source": [
    "print(7 // 4)   # -> 1.75 -> 1   (выполнено округление вниз)\n",
    "print(-7 // 4)  # -> -1.75 -> -2 (выполнено округление вниз)"
   ],
   "metadata": {
    "collapsed": false,
    "pycharm": {
     "name": "#%%\n"
    }
   }
  },
  {
   "cell_type": "markdown",
   "source": [
    "Таким образом, ошибочно говорить, что деление с округлением вниз это то же самое, что и целочисленное деление (если бы оно работало как целочисленное деление во многих языках, то в результате целочисленного деления значения -7 на 4 получалось бы значение 1)."
   ],
   "metadata": {
    "collapsed": false,
    "pycharm": {
     "name": "#%% md\n"
    }
   }
  },
  {
   "cell_type": "markdown",
   "source": [
    "Проверка соотношения $n = d * (n\\,//\\,d) + (n\\,\\%\\,d)$"
   ],
   "metadata": {
    "collapsed": false,
    "pycharm": {
     "name": "#%% md\n"
    }
   }
  },
  {
   "cell_type": "code",
   "execution_count": 3,
   "outputs": [
    {
     "name": "stdout",
     "output_type": "stream",
     "text": [
      "13 // 4 = 3\n",
      "13 % 4 = 1\n",
      "n = d * (n // d) + (n % d) = 4 * (13 // 4) + (13 % 4) = 4 * 3 + 1\n",
      "\n",
      "13 // -4 = -4\n",
      "13 % -4 = -3\n",
      "n = d * (n // d) + (n % d) = -4 * (13 // -4) + (13 % -4) = -4 * -4 + -3\n",
      "\n",
      "-13 // 4 = -4\n",
      "-13 % 4 = 3\n",
      "n = d * (n // d) + (n % d) = 4 * (-13 // 4) + (-13 % 4) = 4 * -4 + 3\n",
      "\n",
      "-13 // -4 = 3\n",
      "-13 % -4 = -1\n",
      "n = d * (n // d) + (n % d) = -4 * (-13 // -4) + (-13 % -4) = -4 * 3 + -1\n",
      "\n"
     ]
    }
   ],
   "source": [
    "for n in [13, -13]:\n",
    "    for d in [4, -4]:\n",
    "        print(f\"{n} // {d} = {n // d}\")\n",
    "        print(f\"{n} % {d} = {n % d}\")\n",
    "        print(f\"n = d * (n // d) + (n % d) = \"\n",
    "              f\"{d} * ({n} // {d}) + ({n} % {d}) = {d} * {(n // d)} + {(n % d)}\")\n",
    "        print()"
   ],
   "metadata": {
    "collapsed": false,
    "pycharm": {
     "name": "#%%\n"
    }
   }
  },
  {
   "cell_type": "markdown",
   "source": [
    "# Особенности представления целых чисел"
   ],
   "metadata": {
    "collapsed": false,
    "pycharm": {
     "name": "#%% md\n"
    }
   }
  },
  {
   "cell_type": "markdown",
   "source": [
    "Под хранение значения может отводиться 4, 8, 12... байт. Очевидно, что если получаемое число велико, то операции над ними будут занимать больше времени.\n",
    "\n",
    "На данный момент под хранение объекта со значением 0 требуется 24 байта памяти:"
   ],
   "metadata": {
    "collapsed": false,
    "pycharm": {
     "name": "#%% md\n"
    }
   }
  },
  {
   "cell_type": "code",
   "execution_count": 21,
   "outputs": [
    {
     "name": "stdout",
     "output_type": "stream",
     "text": [
      "24\n"
     ]
    }
   ],
   "source": [
    "import sys\n",
    "\n",
    "print(sys.getsizeof(0))"
   ],
   "metadata": {
    "collapsed": false,
    "pycharm": {
     "name": "#%%\n"
    }
   }
  },
  {
   "cell_type": "markdown",
   "source": [
    "Откуда берётся такое значение? Всё в Python является объектами. Каждый из объектов хранит некоторую дополнительную информацию. Этим и обусловлены большие затраты даже для хранения маленьких значений."
   ],
   "metadata": {
    "collapsed": false,
    "pycharm": {
     "name": "#%% md\n"
    }
   }
  },
  {
   "cell_type": "markdown",
   "source": [
    "Можно заметить, что количество памяти при увеличении размера увеличивается на 4 байта (хотя для хранения каждого последующего значения требуется на 2 байта больше памяти):"
   ],
   "metadata": {
    "collapsed": false,
    "pycharm": {
     "name": "#%% md\n"
    }
   }
  },
  {
   "cell_type": "code",
   "execution_count": 22,
   "outputs": [
    {
     "name": "stdout",
     "output_type": "stream",
     "text": [
      "28 28 32 32 36 36 "
     ]
    }
   ],
   "source": [
    "t = 1\n",
    "for x in range(8, 100, 16):\n",
    "    print(sys.getsizeof(t << x), end=' ')"
   ],
   "metadata": {
    "collapsed": false,
    "pycharm": {
     "name": "#%%\n"
    }
   }
  },
  {
   "cell_type": "markdown",
   "source": [
    "# Перевод в произвольную систему счисления"
   ],
   "metadata": {
    "collapsed": false,
    "pycharm": {
     "name": "#%% md\n"
    }
   }
  },
  {
   "cell_type": "code",
   "execution_count": 1,
   "outputs": [
    {
     "name": "stdout",
     "output_type": "stream",
     "text": [
      "101010 1120 2A 1I\n"
     ]
    }
   ],
   "source": [
    "import string\n",
    "\n",
    "\n",
    "def to_base(n: int, base: int):\n",
    "    N_LETTERS_IN_ENGLISH_ABC = 26\n",
    "    if n == 0:\n",
    "        return 0\n",
    "    elif n < 0 or base < 2 or base > 10 + N_LETTERS_IN_ENGLISH_ABC:  # 10 цифр +\n",
    "                                                                     # 26 букв английского алфавита\n",
    "        raise ValueError\n",
    "\n",
    "    digits = []\n",
    "    while n != 0:\n",
    "        digit = n % base\n",
    "        digits.append(digit)\n",
    "        n //= base\n",
    "\n",
    "    digits = digits[::-1]\n",
    "    digits_list = string.digits + string.ascii_uppercase\n",
    "\n",
    "    return \"\".join([digits_list[x] for x in digits])\n",
    "\n",
    "\n",
    "print(to_base(42, 2), to_base(42, 3), to_base(42, 16), to_base(42, 24))"
   ],
   "metadata": {
    "collapsed": false,
    "pycharm": {
     "name": "#%%\n"
    }
   }
  }
 ],
 "metadata": {
  "kernelspec": {
   "display_name": "Python 3",
   "language": "python",
   "name": "python3"
  },
  "language_info": {
   "codemirror_mode": {
    "name": "ipython",
    "version": 2
   },
   "file_extension": ".py",
   "mimetype": "text/x-python",
   "name": "python",
   "nbconvert_exporter": "python",
   "pygments_lexer": "ipython2",
   "version": "2.7.6"
  }
 },
 "nbformat": 4,
 "nbformat_minor": 0
}