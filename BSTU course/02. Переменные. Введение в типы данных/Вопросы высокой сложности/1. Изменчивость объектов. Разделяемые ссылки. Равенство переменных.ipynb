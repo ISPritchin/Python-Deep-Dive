{
 "cells": [
  {
   "cell_type": "markdown",
   "source": [
    "Объекты можно разделить на изменяемые (mutable) и неизменяемые (immutable) в зависимости от того, могут ли они изменять своё внутреннее состояние. К неизменяемым объектам относятся `int`, `Boolean`, `complex` и другие числовые типы; строки, кортежи, `frozen sets`.\n",
    "\n",
    "К изменяемым типам данных относятся списки, множества, словари."
   ],
   "metadata": {
    "collapsed": false,
    "pycharm": {
     "name": "#%% md\n"
    }
   }
  },
  {
   "cell_type": "markdown",
   "source": [
    "# Изменяемость и неизменяемость объектов **\n",
    "\n",
    "Изменение данных внутри объекта называется модификацией внутреннего состояния объекта (modifying the internal state). Допустим, что был создан следующий экземпляр класса:"
   ],
   "metadata": {
    "collapsed": false,
    "pycharm": {
     "name": "#%% md\n"
    }
   }
  },
  {
   "cell_type": "code",
   "execution_count": 1,
   "outputs": [
    {
     "name": "stdout",
     "output_type": "stream",
     "text": [
      "2644364231728\n"
     ]
    }
   ],
   "source": [
    "class Rectangle:\n",
    "    def __init__(self, height, width):\n",
    "        self.height = height\n",
    "        self.width = width\n",
    "\n",
    "\n",
    "r = Rectangle(3, 4)\n",
    "print(id(r))"
   ],
   "metadata": {
    "collapsed": false,
    "pycharm": {
     "name": "#%%\n"
    }
   }
  },
  {
   "cell_type": "code",
   "execution_count": 2,
   "outputs": [
    {
     "name": "stdout",
     "output_type": "stream",
     "text": [
      "2644364231728\n"
     ]
    }
   ],
   "source": [
    "r.height = 10\n",
    "r.width = 10\n",
    "print(id(r))"
   ],
   "metadata": {
    "collapsed": false,
    "pycharm": {
     "name": "#%%\n"
    }
   }
  },
  {
   "cell_type": "markdown",
   "source": [
    "Можно заметить, что раположение объекта не изменилось. Таким образом, экземпляры класса являются изменяемыми (mutable) типами данных т.е. могут изменять своё внутреннее состояние."
   ],
   "metadata": {
    "collapsed": false,
    "pycharm": {
     "name": "#%% md\n"
    }
   }
  },
  {
   "cell_type": "code",
   "execution_count": 3,
   "outputs": [],
   "source": [
    "t = (1, 2, 3)  # кортеж - неизменяемый тип данных.\n",
    "# Элементы не могут быть удалены, заменены, произведена вставка элементов внутрь кортежа."
   ],
   "metadata": {
    "collapsed": false,
    "pycharm": {
     "name": "#%%\n"
    }
   }
  },
  {
   "cell_type": "markdown",
   "source": [
    "Создадим кортеж из двух списков. Обратите внимание, что расположение объектов в памяти (списков и кортежа) остаётся неизменным:"
   ],
   "metadata": {
    "collapsed": false,
    "pycharm": {
     "name": "#%% md\n"
    }
   }
  },
  {
   "cell_type": "code",
   "execution_count": 4,
   "outputs": [
    {
     "name": "stdout",
     "output_type": "stream",
     "text": [
      "([1, 2], [3, 4])\n",
      "a_id = 2644364491904, b_id = 2644359721152, t_id = 2644363551360\n"
     ]
    }
   ],
   "source": [
    "a = [1, 2]\n",
    "b = [3, 4]\n",
    "t = (a, b)\n",
    "print(t)\n",
    "print(f\"a_id = {id(a)}, b_id = {id(b)}, t_id = {id(t)}\")"
   ],
   "metadata": {
    "collapsed": false,
    "pycharm": {
     "name": "#%%\n"
    }
   }
  },
  {
   "cell_type": "markdown",
   "source": [
    "Сам кортеж поменять нельзя. Однако можно изменять элементы через переменные `a` и `b`:"
   ],
   "metadata": {
    "collapsed": false,
    "pycharm": {
     "name": "#%% md\n"
    }
   }
  },
  {
   "cell_type": "code",
   "execution_count": 5,
   "outputs": [
    {
     "name": "stdout",
     "output_type": "stream",
     "text": [
      "([1, 2, 3], [3, 4, 6])\n",
      "a_id = 2644364491904, b_id = 2644359721152, t_id = 2644363551360\n"
     ]
    }
   ],
   "source": [
    "a.append(3), b.append(6)\n",
    "print(t)\n",
    "print(f\"a_id = {id(a)}, b_id = {id(b)}, t_id = {id(t)}\")"
   ],
   "metadata": {
    "collapsed": false,
    "pycharm": {
     "name": "#%%\n"
    }
   }
  },
  {
   "cell_type": "markdown",
   "source": [
    "А если обратиться к элементу кортежа, мы получим ссылку на соответсвующий список и сможем произвести его изменение:"
   ],
   "metadata": {
    "collapsed": false,
    "pycharm": {
     "name": "#%% md\n"
    }
   }
  },
  {
   "cell_type": "code",
   "execution_count": 6,
   "outputs": [
    {
     "name": "stdout",
     "output_type": "stream",
     "text": [
      "([1, 2, 3, 100], [3, 4, 6])\n",
      "a_id = 2644364491904, b_id = 2644359721152, t_id = 2644363551360\n"
     ]
    }
   ],
   "source": [
    "t[0].append(100)\n",
    "print(t)\n",
    "print(f\"a_id = {id(a)}, b_id = {id(b)}, t_id = {id(t)}\")"
   ],
   "metadata": {
    "collapsed": false,
    "pycharm": {
     "name": "#%%\n"
    }
   }
  },
  {
   "cell_type": "markdown",
   "source": [
    "Но мы не сможем изменить элемент кортежа:"
   ],
   "metadata": {
    "collapsed": false,
    "pycharm": {
     "name": "#%% md\n"
    }
   }
  },
  {
   "cell_type": "code",
   "execution_count": 7,
   "outputs": [],
   "source": [
    "# t[0] = [1, 2] -> ошибка"
   ],
   "metadata": {
    "collapsed": false,
    "pycharm": {
     "name": "#%%\n"
    }
   }
  },
  {
   "cell_type": "markdown",
   "source": [
    "# Изменяемость объектов в контексте функций **\n",
    "\n",
    "Вопрос изменяемости объектов имеет большее значение при работе с функциями. Если функция принимает изменяемый объект, то все действия внутри функции над данным объектом отразятся на аргументе:"
   ],
   "metadata": {
    "collapsed": false,
    "pycharm": {
     "name": "#%% md\n"
    }
   }
  },
  {
   "cell_type": "code",
   "execution_count": 8,
   "outputs": [
    {
     "name": "stdout",
     "output_type": "stream",
     "text": [
      "1. module scope a_id = 2644364883584\n",
      "2. module scope a_id = 2644364883584\n",
      "3. module scope a_id = 2644364883584\n",
      "4. module scope a_id = 2644364883584\n",
      "[0, 2, 3]\n"
     ]
    }
   ],
   "source": [
    "def f(a):\n",
    "    print(f\"2. module scope a_id = {id(a)}\")\n",
    "    a[0] = 0\n",
    "    print(f\"3. module scope a_id = {id(a)}\")\n",
    "\n",
    "\n",
    "a = [1, 2, 3]\n",
    "print(f\"1. module scope a_id = {id(a)}\")\n",
    "f(a)\n",
    "print(f\"4. module scope a_id = {id(a)}\")\n",
    "print(a)"
   ],
   "metadata": {
    "collapsed": false,
    "pycharm": {
     "name": "#%%\n"
    }
   }
  },
  {
   "cell_type": "markdown",
   "source": [
    "Если аргумент относится к неизменяемым типам, никакого влияния после вызова функции на аргумент не будет произведено:"
   ],
   "metadata": {
    "collapsed": false,
    "pycharm": {
     "name": "#%% md\n"
    }
   }
  },
  {
   "cell_type": "code",
   "execution_count": 9,
   "outputs": [
    {
     "name": "stdout",
     "output_type": "stream",
     "text": [
      "1. module scope s1_id = 2644364990064\n",
      "2. f scope s_id = 2644364990064\n",
      "3. f scope s_id = 2644364992048\n",
      "4. module scope s1_id = 2644364990064\n",
      "5. module scope s2_id = 2644364990064\n"
     ]
    }
   ],
   "source": [
    "def f(s: str):\n",
    "    print(f\"2. f scope s_id = {id(s)}\")\n",
    "    s = s + \"!!!\"  # локальная переменная s указывает на строку,\n",
    "    # полученную в результате конкатенации;\n",
    "    # никакого влияния на исходную строку не будет\n",
    "    print(f\"3. f scope s_id = {id(s)}\")\n",
    "    return s\n",
    "\n",
    "\n",
    "s1 = \"hello, world\"\n",
    "print(f\"1. module scope s1_id = {id(s1)}\")\n",
    "s2 = f(s1)\n",
    "print(f\"4. module scope s1_id = {id(s1)}\")\n",
    "print(f\"5. module scope s2_id = {id(s1)}\")"
   ],
   "metadata": {
    "collapsed": false,
    "pycharm": {
     "name": "#%%\n"
    }
   }
  },
  {
   "cell_type": "code",
   "execution_count": 10,
   "outputs": [
    {
     "name": "stdout",
     "output_type": "stream",
     "text": [
      "([1, 2, 100], 3)\n"
     ]
    }
   ],
   "source": [
    "def f(t):\n",
    "    t[0].append(100)\n",
    "\n",
    "\n",
    "t = ([1, 2], 3)\n",
    "f(t)\n",
    "print(t)"
   ],
   "metadata": {
    "collapsed": false,
    "pycharm": {
     "name": "#%%\n"
    }
   }
  },
  {
   "cell_type": "markdown",
   "source": [
    "# Разделяемые ссылки\n",
    "\n",
    "Иногда переменные могут указывать на один и тот же объект. Такие ссылки называются разделяемыми. Если объект неизменяемый и имеются разделяемые ссылки, то изменение одного объекта никак не повлияет на второй объект:"
   ],
   "metadata": {
    "collapsed": false,
    "pycharm": {
     "name": "#%% md\n"
    }
   }
  },
  {
   "cell_type": "code",
   "execution_count": 11,
   "outputs": [
    {
     "name": "stdout",
     "output_type": "stream",
     "text": [
      "hello 2644359545200\n",
      "world! 2644364974320\n"
     ]
    }
   ],
   "source": [
    "a = \"hello\"\n",
    "b = a\n",
    "b = \"world!\"\n",
    "print(a, id(a))\n",
    "print(b, id(b))"
   ],
   "metadata": {
    "collapsed": false,
    "pycharm": {
     "name": "#%%\n"
    }
   }
  },
  {
   "cell_type": "markdown",
   "source": [
    "Иногда два объекта могут ссылаться на один объект. Если объект относится к изменяемым, то изменение объекта по одной ссылке приведёт к изменению объекта и по другой ссылке:"
   ],
   "metadata": {
    "collapsed": false,
    "pycharm": {
     "name": "#%% md\n"
    }
   }
  },
  {
   "cell_type": "code",
   "execution_count": 12,
   "outputs": [
    {
     "name": "stdout",
     "output_type": "stream",
     "text": [
      "2644364156352 2644364156352\n",
      "[1, 2, 4, 5, 'hi', 3] [1, 2, 4, 5, 'hi', 3]\n"
     ]
    }
   ],
   "source": [
    "a = [1, 2, 4, 5, \"hi\"]\n",
    "b = a\n",
    "print(id(a), id(b))\n",
    "b.append(3)\n",
    "print(a, b)"
   ],
   "metadata": {
    "collapsed": false,
    "pycharm": {
     "name": "#%%\n"
    }
   }
  },
  {
   "cell_type": "markdown",
   "source": [
    "# Равенство переменных\n",
    "\n",
    "Мы можем говорить о равенстве переменных с двух позиций. Первый: переменные равны, если они располагаются по одинаковым адресам. Второй: переменные равны, если совпадает их внутреннее состояние. Для проверки первого сценария используется ключевые слова `is`, `not is`:"
   ],
   "metadata": {
    "collapsed": false,
    "pycharm": {
     "name": "#%% md\n"
    }
   }
  },
  {
   "cell_type": "code",
   "execution_count": 13,
   "outputs": [
    {
     "name": "stdout",
     "output_type": "stream",
     "text": [
      "True\n"
     ]
    }
   ],
   "source": [
    "a = b = 10\n",
    "print(a is b)"
   ],
   "metadata": {
    "collapsed": false,
    "pycharm": {
     "name": "#%%\n"
    }
   }
  },
  {
   "cell_type": "markdown",
   "source": [
    "Для проверки равенства внутреннего состояния объектов используется оператор `==`, `!=`:"
   ],
   "metadata": {
    "collapsed": false,
    "pycharm": {
     "name": "#%% md\n"
    }
   }
  },
  {
   "cell_type": "code",
   "execution_count": 14,
   "outputs": [
    {
     "name": "stdout",
     "output_type": "stream",
     "text": [
      "True\n"
     ]
    }
   ],
   "source": [
    "a = b = 10\n",
    "print(a == b)"
   ],
   "metadata": {
    "collapsed": false,
    "pycharm": {
     "name": "#%%\n"
    }
   }
  },
  {
   "cell_type": "code",
   "execution_count": 15,
   "outputs": [
    {
     "name": "stdout",
     "output_type": "stream",
     "text": [
      "2644364496896 2644355840384\n",
      "True\n",
      "False\n"
     ]
    }
   ],
   "source": [
    "a = [1, 2, 3]\n",
    "b = [1, 2, 3]\n",
    "print(id(a), id(b))\n",
    "print(a == b) # Одинаково ли внутреннее состояние?\n",
    "print(a is b) # Ссылаются ли переменные на один и тот же объект?"
   ],
   "metadata": {
    "collapsed": false,
    "pycharm": {
     "name": "#%%\n"
    }
   }
  },
  {
   "cell_type": "code",
   "execution_count": 16,
   "outputs": [
    {
     "name": "stdout",
     "output_type": "stream",
     "text": [
      "True\n",
      "False\n"
     ]
    }
   ],
   "source": [
    "a = 10\n",
    "b = 10.0\n",
    "print(a == b) # Одинаково ли внутреннее состояние?\n",
    "print(a is b) # Ссылаются ли переменные на один и тот же объект?"
   ],
   "metadata": {
    "collapsed": false,
    "pycharm": {
     "name": "#%%\n"
    }
   }
  },
  {
   "cell_type": "code",
   "source": [
    "# None - специальный тип, который относится к так называемым сингелтонам. Данный объект существует в единственном числе.\n",
    "a = b = None\n",
    "print(a == b) # Одинаково ли внутреннее состояние?\n",
    "print(a is b) # Ссылаются ли переменные на один и тот же объект?"
   ],
   "metadata": {
    "collapsed": false,
    "pycharm": {
     "name": "#%%\n"
    }
   },
   "execution_count": 17,
   "outputs": [
    {
     "name": "stdout",
     "output_type": "stream",
     "text": [
      "True\n",
      "True\n"
     ]
    }
   ]
  }
 ],
 "metadata": {
  "kernelspec": {
   "display_name": "Python 3",
   "language": "python",
   "name": "python3"
  },
  "language_info": {
   "codemirror_mode": {
    "name": "ipython",
    "version": 2
   },
   "file_extension": ".py",
   "mimetype": "text/x-python",
   "name": "python",
   "nbconvert_exporter": "python",
   "pygments_lexer": "ipython2",
   "version": "2.7.6"
  }
 },
 "nbformat": 4,
 "nbformat_minor": 0
}