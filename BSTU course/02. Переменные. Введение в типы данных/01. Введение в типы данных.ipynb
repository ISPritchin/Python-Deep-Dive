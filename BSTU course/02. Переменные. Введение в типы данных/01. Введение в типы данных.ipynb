{
 "cells": [
  {
   "cell_type": "markdown",
   "metadata": {
    "collapsed": true,
    "pycharm": {
     "name": "#%% md\n"
    }
   },
   "source": [
    "# Введение в типы данных\n",
    "\n",
    "При обработке информации в ЭВМ возникает два вопроса: где хранить информацию и как её обрабатывать. Вопрос \"как обрабатывать\" -- это вопрос алгоритмов, а \"где хранить\" -- структур данных. Каждый язык обладает рядом встроенных структур. Типы данных являются их подмножеством."
   ]
  },
  {
   "cell_type": "markdown",
   "source": [
    "# Иерархия типов данных в Python\n",
    "\n",
    "### Числовые типы:\n",
    "* Целые (Integers, Booleans)\n",
    "* Нецелые (Floats, Complex, Decimals, Fractions)\n",
    "\n",
    "### Последовательности:\n",
    "* Изменяемые (Lists)\n",
    "* Неизменяемые (Tuples, Strings)\n",
    "\n",
    "### Множества:\n",
    "* Изменяемые (Sets)\n",
    "* Неизменяемые (Frozen sets)\n",
    "\n",
    "### Словари (Dictionaries)\n",
    "\n",
    "### Вызываемые объекты (Callables):\n",
    "* Функции определенные пользователем (user-defined functions)\n",
    "* Встроенные функции (built-in functions) (`len()`, `open()`)\n",
    "* Генераторы (generators)\n",
    "* Классы (classes)\n",
    "* Методы класса (instance methods)\n",
    "* Встроенные методы (built-in methods) (`list.append()`)\n",
    "* Class instances (`.__call__()`)\n",
    "\n",
    "### Singeltons:\n",
    "* None\n",
    "* NotImplemented\n",
    "* Ellipsis"
   ],
   "metadata": {
    "collapsed": false,
    "pycharm": {
     "name": "#%% md\n"
    }
   }
  },
  {
   "cell_type": "markdown",
   "source": [
    "Область памяти, в которой хранится некоторое значение, называется **объектом**. Например:\n",
    "```\n",
    "workers_count = 1000\n",
    "```\n",
    "`workers_count` -- **переменная**, а значение 1, которое располагается где-то в памяти является объектом.\n",
    "\n",
    "**Переменная** -- ссылка на объект; некоторое имя, по которому этот объект может быть идентифицирован. Память представляет собой последовательность ячеек."
   ],
   "metadata": {
    "collapsed": false,
    "pycharm": {
     "name": "#%% md\n"
    }
   }
  },
  {
   "cell_type": "code",
   "execution_count": 5,
   "outputs": [
    {
     "name": "stdout",
     "output_type": "stream",
     "text": [
      "1000\n"
     ]
    }
   ],
   "source": [
    "workers_count = 1000\n",
    "print(workers_count) # функция вывода; выводит значение переменной"
   ],
   "metadata": {
    "collapsed": false,
    "pycharm": {
     "name": "#%%\n"
    }
   }
  },
  {
   "cell_type": "markdown",
   "source": [
    "Требование к именованию переменных: переменные должны иметь имя в стиле `snake_case` (слова разделены нижним подчёркиванием, верхний регистр отсутствует)."
   ],
   "metadata": {
    "collapsed": false,
    "pycharm": {
     "name": "#%% md\n"
    }
   }
  },
  {
   "cell_type": "markdown",
   "source": [
    "## Пример создания переменных различного типа"
   ],
   "metadata": {
    "collapsed": false,
    "pycharm": {
     "name": "#%% md\n"
    }
   }
  },
  {
   "cell_type": "code",
   "execution_count": 7,
   "outputs": [
    {
     "name": "stdout",
     "output_type": "stream",
     "text": [
      "26 3.52 True Программирование\n",
      "\n",
      "Multiple\n",
      "Line\n",
      "String\n",
      "\n"
     ]
    }
   ],
   "source": [
    "students_count = 26\n",
    "rating = 3.52\n",
    "is_black = True\n",
    "course_name = \"Программирование\"\n",
    "\n",
    "long_string = \"\"\"\n",
    "Multiple\n",
    "Line\n",
    "String\n",
    "\"\"\"\n",
    "print(students_count, rating, is_black, course_name)\n",
    "print(long_string)"
   ],
   "metadata": {
    "collapsed": false,
    "pycharm": {
     "name": "#%%\n"
    }
   }
  },
  {
   "cell_type": "markdown",
   "source": [
    "`=` - операция присваивания. Она работает следующим образом: вычисляется значение выражения, которое находится справа от знака присваивания. В результате этого получается некоторый объект. В дальнейшем имя переменной слева связывается с объектом. Когда выполняется присваивание:"
   ],
   "metadata": {
    "collapsed": false,
    "pycharm": {
     "name": "#%% md\n"
    }
   }
  },
  {
   "cell_type": "code",
   "execution_count": null,
   "outputs": [],
   "source": [
    "x = 46 + 79\n",
    "print(x)"
   ],
   "metadata": {
    "collapsed": false,
    "pycharm": {
     "name": "#%%\n"
    }
   }
  },
  {
   "cell_type": "markdown",
   "source": [
    "создаётся ссылка `x`, которая указывает на объект, хранящий в себе значение `46 + 79 = 125`. Объект с таким значением создаётся в памяти, следовательно, занимает место."
   ],
   "metadata": {
    "collapsed": false,
    "pycharm": {
     "name": "#%% md\n"
    }
   }
  },
  {
   "cell_type": "markdown",
   "source": [
    "## Инициализация переменных\n",
    "\n",
    "**Инициализация** -- присвоение переменой начального значения:"
   ],
   "metadata": {
    "collapsed": false,
    "pycharm": {
     "name": "#%% md\n"
    }
   }
  },
  {
   "cell_type": "code",
   "execution_count": 10,
   "outputs": [],
   "source": [
    "x = 10"
   ],
   "metadata": {
    "collapsed": false,
    "pycharm": {
     "name": "#%%\n"
    }
   }
  },
  {
   "cell_type": "markdown",
   "source": [
    "Несколько переменных могут быть инициализированы в одной строке:"
   ],
   "metadata": {
    "collapsed": false,
    "pycharm": {
     "name": "#%% md\n"
    }
   }
  },
  {
   "cell_type": "code",
   "execution_count": 15,
   "outputs": [
    {
     "name": "stdout",
     "output_type": "stream",
     "text": [
      "10\n",
      "25\n"
     ]
    }
   ],
   "source": [
    "# Допустимо\n",
    "# x = 10\n",
    "# y = 25\n",
    "\n",
    "# но можно короче\n",
    "x, y = 10, 25\n",
    "print(x)\n",
    "print(y)"
   ],
   "metadata": {
    "collapsed": false,
    "pycharm": {
     "name": "#%%\n"
    }
   }
  },
  {
   "cell_type": "code",
   "execution_count": 16,
   "outputs": [
    {
     "name": "stdout",
     "output_type": "stream",
     "text": [
      "Ivan\n",
      "Pritchin\n"
     ]
    }
   ],
   "source": [
    "name, surname = \"Ivan\", \"Pritchin\"\n",
    "print(name)\n",
    "print(surname)"
   ],
   "metadata": {
    "collapsed": false,
    "pycharm": {
     "name": "#%%\n"
    }
   }
  },
  {
   "cell_type": "markdown",
   "source": [
    "Можно создать несколько переменных (ссылок) на один и тот же объект:"
   ],
   "metadata": {
    "collapsed": false,
    "pycharm": {
     "name": "#%% md\n"
    }
   }
  },
  {
   "cell_type": "code",
   "source": [
    "x = y = 1\n",
    "print(x)\n",
    "print(y)"
   ],
   "metadata": {
    "collapsed": false,
    "pycharm": {
     "name": "#%%\n"
    }
   },
   "execution_count": 18,
   "outputs": [
    {
     "name": "stdout",
     "output_type": "stream",
     "text": [
      "1\n",
      "1\n"
     ]
    }
   ]
  }
 ],
 "metadata": {
  "kernelspec": {
   "display_name": "Python 3",
   "language": "python",
   "name": "python3"
  },
  "language_info": {
   "codemirror_mode": {
    "name": "ipython",
    "version": 2
   },
   "file_extension": ".py",
   "mimetype": "text/x-python",
   "name": "python",
   "nbconvert_exporter": "python",
   "pygments_lexer": "ipython2",
   "version": "2.7.6"
  }
 },
 "nbformat": 4,
 "nbformat_minor": 0
}