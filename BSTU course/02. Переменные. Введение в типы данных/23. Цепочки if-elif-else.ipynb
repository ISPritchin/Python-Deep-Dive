{
 "cells": [
  {
   "cell_type": "markdown",
   "source": [
    "# 23. Цепочки if-elif-else\n",
    "\n",
    "Иногда количество веток выполнения становится больше, чем 2, тогда на помощь приходит конструкция `if-elif-...-elif-else`. Рассмотрим её применение на задачах."
   ],
   "metadata": {
    "collapsed": false,
    "pycharm": {
     "name": "#%% md\n"
    }
   }
  },
  {
   "cell_type": "markdown",
   "source": [
    "Задача: с клавиатуры вводятся три попарно различных числа $a$, $b$, $c$. Необходимо найти минимальное. Функцией `min` не пользоваться.\n",
    "\n",
    "Решение:"
   ],
   "metadata": {
    "collapsed": false,
    "pycharm": {
     "name": "#%% md\n"
    }
   }
  },
  {
   "cell_type": "code",
   "execution_count": 10,
   "outputs": [
    {
     "name": "stdout",
     "output_type": "stream",
     "text": [
      "1\n"
     ]
    }
   ],
   "source": [
    "a, b, c = map(int, input().split()) # Введено: 2 5 1\n",
    "if a < b < c:  # если условие будет ложным, то `a` точно не является минимумом\n",
    "    print(a)\n",
    "elif b < c:\n",
    "    print(b)\n",
    "else:\n",
    "    print(c)"
   ],
   "metadata": {
    "collapsed": false,
    "pycharm": {
     "name": "#%%\n"
    }
   }
  },
  {
   "cell_type": "markdown",
   "source": [
    "Задача: вводится возраст человека. Если ему меньше 14, вывести сообщение \"Ребёнок\", если меньше 18 -- \"Подросток\", если меньше 65 -- \"Взрослый\", во всех оставшихся случаях выводить сообщение \"Пенсионер\".\n",
    "\n",
    "Решение:"
   ],
   "metadata": {
    "collapsed": false,
    "pycharm": {
     "name": "#%% md\n"
    }
   }
  },
  {
   "cell_type": "code",
   "execution_count": 11,
   "outputs": [
    {
     "name": "stdout",
     "output_type": "stream",
     "text": [
      "Ребёнок\n"
     ]
    }
   ],
   "source": [
    "age = int(input())\n",
    "if age < 14:\n",
    "    print(\"Ребёнок\")\n",
    "elif age < 18:\n",
    "    print(\"Подросток\")\n",
    "elif age < 65:\n",
    "    print(\"Взрослый\")\n",
    "else:\n",
    "    print(\"Пенсионер\")"
   ],
   "metadata": {
    "collapsed": false,
    "pycharm": {
     "name": "#%%\n"
    }
   }
  },
  {
   "cell_type": "markdown",
   "source": [
    "Добавим в нашу задачи элемент логических выражений.\n",
    "\n",
    "Задача: вводятся значения $a$ и $b$. Необходимо решить уравнение вида:\n",
    "$$ax + b = 0$$\n",
    "\n",
    "Из курса математики известно, что\n",
    "* если $a = 0$ и $b = 0$ то $x$ может быть любым, так как выражение примет вид:\n",
    "$$0x + 0 = 0$$\n",
    "* если $a = 0$ и $b \\ne 0$ равняются нулю, то решений нет.\n",
    "* во всех остальных случаях решением является значение $\\frac{-b}{a}$.\n",
    "\n",
    "Запишем решение в виде программы:"
   ],
   "metadata": {
    "collapsed": false,
    "pycharm": {
     "name": "#%% md\n"
    }
   }
  },
  {
   "cell_type": "code",
   "execution_count": 14,
   "outputs": [
    {
     "name": "stdout",
     "output_type": "stream",
     "text": [
      "x = -0.5\n"
     ]
    }
   ],
   "source": [
    "a, b = map(int, input().split())\n",
    "if a == 0 and b == 0:\n",
    "    print(\"x - любое\")\n",
    "elif a == 0 and b != 0:\n",
    "    print(\"Решений нет\")\n",
    "else:\n",
    "    print(f\"x = {-b / a}\")"
   ],
   "metadata": {
    "collapsed": false,
    "pycharm": {
     "name": "#%%\n"
    }
   }
  },
  {
   "cell_type": "markdown",
   "source": [
    "Задача могла быть решена и так:"
   ],
   "metadata": {
    "collapsed": false,
    "pycharm": {
     "name": "#%% md\n"
    }
   }
  },
  {
   "cell_type": "code",
   "execution_count": 15,
   "outputs": [
    {
     "name": "stdout",
     "output_type": "stream",
     "text": [
      "x - любое\n"
     ]
    }
   ],
   "source": [
    "a, b = map(int, input().split())\n",
    "if a == 0:\n",
    "    if (b == 0):\n",
    "        print(\"x - любое\")\n",
    "    else:\n",
    "        print(\"Решений нет\")\n",
    "else:\n",
    "    print(f\"x = {-b / a}\")"
   ],
   "metadata": {
    "collapsed": false,
    "pycharm": {
     "name": "#%%\n"
    }
   }
  }
 ],
 "metadata": {
  "kernelspec": {
   "display_name": "Python 3",
   "language": "python",
   "name": "python3"
  },
  "language_info": {
   "codemirror_mode": {
    "name": "ipython",
    "version": 2
   },
   "file_extension": ".py",
   "mimetype": "text/x-python",
   "name": "python",
   "nbconvert_exporter": "python",
   "pygments_lexer": "ipython2",
   "version": "2.7.6"
  }
 },
 "nbformat": 4,
 "nbformat_minor": 0
}