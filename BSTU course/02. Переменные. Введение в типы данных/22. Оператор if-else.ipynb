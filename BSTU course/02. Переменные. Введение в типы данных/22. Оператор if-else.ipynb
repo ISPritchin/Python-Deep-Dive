{
 "cells": [
  {
   "cell_type": "markdown",
   "source": [
    "# Оператор _if-else_\n",
    "\n",
    "Рассмотрим конструкцию:\n",
    "```\n",
    "if <логическое выражение>:\n",
    "    <операторA1>\n",
    "    ...\n",
    "    <операторAN>\n",
    "else:\n",
    "    <операторB1>\n",
    "    ...\n",
    "    <операторBN>\n",
    "```\n",
    "\n",
    "Она работает следующим образом: если результатом `<логического выражения>` является значение `True` то выполняется последовательность `операторовA`. В противном случае (если `<логическое выражение>` ложно) выполняются `операторыB`.\n",
    "\n",
    "Рассмотрим на задачах."
   ],
   "metadata": {
    "collapsed": false,
    "pycharm": {
     "name": "#%% md\n"
    }
   }
  },
  {
   "cell_type": "markdown",
   "source": [
    "Задача: с клавиатуры вводится возраст человека. Необходимо вывести, является ли он совершеннолетним. Решение:"
   ],
   "metadata": {
    "collapsed": false,
    "pycharm": {
     "name": "#%% md\n"
    }
   }
  },
  {
   "cell_type": "code",
   "execution_count": 6,
   "outputs": [
    {
     "name": "stdout",
     "output_type": "stream",
     "text": [
      "Совершеннолетний\n"
     ]
    }
   ],
   "source": [
    "age = int(input(\"Введите возраст:\")) # Введено: 63\n",
    "if age < 18:\n",
    "    print(\"Несовершеннолетний\")\n",
    "else:\n",
    "    print(\"Совершеннолетний\")"
   ],
   "metadata": {
    "collapsed": false,
    "pycharm": {
     "name": "#%%\n"
    }
   }
  },
  {
   "cell_type": "markdown",
   "source": [
    "Задача: с клавиатуры вводятся числа $a$, $b$, $c$. Гарантируется, что\n",
    "$$a \\le b \\le c$$\n",
    "Необходимо проверить, может ли быть составлен треугольник с такими сторонами.\n",
    "\n",
    "Решение:"
   ],
   "metadata": {
    "collapsed": false
   }
  },
  {
   "cell_type": "code",
   "execution_count": 16,
   "outputs": [
    {
     "name": "stdout",
     "output_type": "stream",
     "text": [
      "Возможно составить треугольник\n"
     ]
    }
   ],
   "source": [
    "a, b, c = map(int, input().split()) # Введено: 4 5 6\n",
    "if c <= a + b:\n",
    "    print(\"Возможно составить треугольник\")\n",
    "else:\n",
    "    print(\"Составить треугольник невозможно\")"
   ],
   "metadata": {
    "collapsed": false,
    "pycharm": {
     "name": "#%%\n"
    }
   }
  },
  {
   "cell_type": "markdown",
   "source": [
    "Задача: с клавиатуры вводятся числа $a$, $b$, $c$. Значение $a$ не равняется нулю. Решить квадратное уравнение:\n",
    "$$ax^2 + bx + c = 0$$\n",
    "\n",
    "Примечание к задаче: при $D=0$ считать, что имеется два совпадающих корня."
   ],
   "metadata": {
    "collapsed": false,
    "pycharm": {
     "name": "#%% md\n"
    }
   }
  },
  {
   "cell_type": "code",
   "execution_count": 12,
   "outputs": [
    {
     "name": "stdout",
     "output_type": "stream",
     "text": [
      "-2.0 2.0\n"
     ]
    }
   ],
   "source": [
    "import math\n",
    "\n",
    "a, b, c = map(int, input().split()) # Введено 1 0 -4\n",
    "D = b ** 2 - 4 * a * c\n",
    "if D < 0:\n",
    "    print(\"Действительных корней нет\")\n",
    "elif D >= 0:\n",
    "    x1 = (-b - math.sqrt(D)) / (2 * a)\n",
    "    x2 = (-b + math.sqrt(D)) / (2 * a)\n",
    "    print(x1, x2)"
   ],
   "metadata": {
    "collapsed": false,
    "pycharm": {
     "name": "#%%\n"
    }
   }
  }
 ],
 "metadata": {
  "kernelspec": {
   "display_name": "Python 3",
   "language": "python",
   "name": "python3"
  },
  "language_info": {
   "codemirror_mode": {
    "name": "ipython",
    "version": 2
   },
   "file_extension": ".py",
   "mimetype": "text/x-python",
   "name": "python",
   "nbconvert_exporter": "python",
   "pygments_lexer": "ipython2",
   "version": "2.7.6"
  }
 },
 "nbformat": 4,
 "nbformat_minor": 0
}