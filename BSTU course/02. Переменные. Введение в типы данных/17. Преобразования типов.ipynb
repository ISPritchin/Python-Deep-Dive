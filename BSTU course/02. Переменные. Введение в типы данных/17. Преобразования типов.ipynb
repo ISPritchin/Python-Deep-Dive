{
 "cells": [
  {
   "cell_type": "markdown",
   "metadata": {
    "collapsed": true,
    "pycharm": {
     "name": "#%% md\n"
    }
   },
   "source": [
    "# Преобразования типов\n",
    "\n",
    "Объекты одного типа, могут быть преобразованы в другой:"
   ]
  },
  {
   "cell_type": "code",
   "execution_count": 7,
   "outputs": [
    {
     "name": "stdout",
     "output_type": "stream",
     "text": [
      "10.5 10.5\n"
     ]
    }
   ],
   "source": [
    "s = \"10.5\"   # s - строка\n",
    "x = float(s) # x - вещественное число\n",
    "print(s, x)"
   ],
   "metadata": {
    "collapsed": false,
    "pycharm": {
     "name": "#%%\n"
    }
   }
  },
  {
   "cell_type": "code",
   "execution_count": 8,
   "outputs": [
    {
     "name": "stdout",
     "output_type": "stream",
     "text": [
      "10 10\n"
     ]
    }
   ],
   "source": [
    "s = \"10\"   # s - строка\n",
    "x = int(s) # x - целое число\n",
    "print(s, x)"
   ],
   "metadata": {
    "collapsed": false,
    "pycharm": {
     "name": "#%%\n"
    }
   }
  },
  {
   "cell_type": "code",
   "execution_count": 9,
   "outputs": [
    {
     "name": "stdout",
     "output_type": "stream",
     "text": [
      "123 123\n"
     ]
    }
   ],
   "source": [
    "x = 123    # x - число\n",
    "s = str(x) # s - строка\n",
    "print(x, s)"
   ],
   "metadata": {
    "collapsed": false,
    "pycharm": {
     "name": "#%%\n"
    }
   }
  },
  {
   "cell_type": "markdown",
   "source": [
    "# Понятие \"истина\" и \"ложь\" в контексте типов данных\n",
    "\n",
    "Каждому объекту в языке программирования Python может быть сопоставлено значение истина или ложь:\n",
    "* Любое числовое значение, отличное от 0 трактуется как `True`\n",
    "* Любая пустая коллекция (словарь, список, кортеж, множество) трактуются как `False` в противном случае -- `True`\n",
    "* `None` трактуется как `False`\n",
    "* Если класс имеет метод `__len__` / `__bool__` и он возвращает `0` / `False`, то объект трактуется как `False`"
   ],
   "metadata": {
    "collapsed": false,
    "pycharm": {
     "name": "#%% md\n"
    }
   }
  },
  {
   "cell_type": "code",
   "source": [
    "print(bool(1))          # True\n",
    "print(bool(0.0))        # False\n",
    "print(bool([]))         # False\n",
    "print(bool([1, 2, 3]))  # True\n",
    "print(bool( () ))       # False\n",
    "print(bool((1, 2, 3)))  # True\n",
    "print(bool(None))       # False\n",
    "print(bool(\"Hi\"))       # True\n",
    "print(bool(\"\"))         # False"
   ],
   "metadata": {
    "collapsed": false,
    "pycharm": {
     "name": "#%%\n"
    }
   },
   "execution_count": 11,
   "outputs": [
    {
     "name": "stdout",
     "output_type": "stream",
     "text": [
      "True\n",
      "False\n",
      "False\n",
      "True\n",
      "False\n",
      "True\n",
      "False\n",
      "True\n",
      "False\n"
     ]
    }
   ]
  }
 ],
 "metadata": {
  "kernelspec": {
   "display_name": "Python 3",
   "language": "python",
   "name": "python3"
  },
  "language_info": {
   "codemirror_mode": {
    "name": "ipython",
    "version": 2
   },
   "file_extension": ".py",
   "mimetype": "text/x-python",
   "name": "python",
   "nbconvert_exporter": "python",
   "pygments_lexer": "ipython2",
   "version": "2.7.6"
  }
 },
 "nbformat": 4,
 "nbformat_minor": 0
}