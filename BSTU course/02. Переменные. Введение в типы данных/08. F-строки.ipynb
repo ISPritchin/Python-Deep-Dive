{
 "cells": [
  {
   "cell_type": "markdown",
   "source": [
    "# _f_-строки"
   ],
   "metadata": {
    "collapsed": false,
    "pycharm": {
     "name": "#%% md\n"
    }
   }
  },
  {
   "cell_type": "markdown",
   "source": [
    "Строка называется f-строкой, так как перед двойными кавычками (которые являются признаком строки) ставится символ f:"
   ],
   "metadata": {
    "collapsed": false,
    "pycharm": {
     "name": "#%% md\n"
    }
   }
  },
  {
   "cell_type": "code",
   "execution_count": 1,
   "outputs": [],
   "source": [
    "s = f\"Hello world\" # f-строка"
   ],
   "metadata": {
    "collapsed": false,
    "pycharm": {
     "name": "#%%\n"
    }
   }
  },
  {
   "cell_type": "markdown",
   "source": [
    "Если в _f_-строке встречается выражение, заключенное в фигурные скобки, оно будет подсчитано, а результат подставлен на место `{}`:"
   ],
   "metadata": {
    "collapsed": false,
    "pycharm": {
     "name": "#%% md\n"
    }
   }
  },
  {
   "cell_type": "code",
   "execution_count": 6,
   "outputs": [
    {
     "name": "stdout",
     "output_type": "stream",
     "text": [
      "2 * 2 = 4\n"
     ]
    }
   ],
   "source": [
    "s = f\"2 * 2 = {2 * 2}\"\n",
    "print(s)"
   ],
   "metadata": {
    "collapsed": false,
    "pycharm": {
     "name": "#%%\n"
    }
   }
  },
  {
   "cell_type": "code",
   "execution_count": 7,
   "outputs": [
    {
     "name": "stdout",
     "output_type": "stream",
     "text": [
      "7 раз отметь, 1 раз отрежь\n"
     ]
    }
   ],
   "source": [
    "a = 7\n",
    "b = 1\n",
    "s = f\"{a} раз отметь, {b} раз отрежь\"\n",
    "print(s)"
   ],
   "metadata": {
    "collapsed": false,
    "pycharm": {
     "name": "#%%\n"
    }
   }
  },
  {
   "cell_type": "markdown",
   "source": [
    "F-строки позволяют легко комбинировать вывод переменных и строк:"
   ],
   "metadata": {
    "collapsed": false,
    "pycharm": {
     "name": "#%% md\n"
    }
   }
  },
  {
   "cell_type": "code",
   "execution_count": 8,
   "outputs": [
    {
     "name": "stdout",
     "output_type": "stream",
     "text": [
      "Значение x = x\n",
      "Значение x = 10\n",
      "Значение 2x = 20\n"
     ]
    }
   ],
   "source": [
    "x = 10\n",
    "print(f\"Значение x = x\")   # если нет переменных в {}, то будет выведена строка без каких-либо подстановок\n",
    "print(f\"Значение x = {x}\") # вместо {x} будет подставлен объект, на который указывает x\n",
    "print(f\"Значение 2x = {x * 2}\")"
   ],
   "metadata": {
    "collapsed": false,
    "pycharm": {
     "name": "#%%\n"
    }
   }
  },
  {
   "cell_type": "code",
   "execution_count": 9,
   "outputs": [
    {
     "name": "stdout",
     "output_type": "stream",
     "text": [
      "Его имя Антон. Ему 25 лет\n"
     ]
    }
   ],
   "source": [
    "name = 'Антон'\n",
    "age = 25\n",
    "print(f'Его имя {name}. Ему {age} лет')"
   ],
   "metadata": {
    "collapsed": false,
    "pycharm": {
     "name": "#%%\n"
    }
   }
  },
  {
   "cell_type": "markdown",
   "source": [
    "## Альтернатива f-строкам\n",
    "\n",
    "Можно использовать метод `.format` для вывода значений переменных внутри строки:"
   ],
   "metadata": {
    "collapsed": false,
    "pycharm": {
     "name": "#%% md\n"
    }
   }
  },
  {
   "cell_type": "code",
   "execution_count": 4,
   "outputs": [
    {
     "name": "stdout",
     "output_type": "stream",
     "text": [
      "Его имя Антон. Просто Антон. Ему 25 лет\n"
     ]
    }
   ],
   "source": [
    "# В этом варианте функции вместо {0} подставится значение переменной name,\n",
    "# вместо {1} -- значение возраста.\n",
    "print('Его имя {0}. Просто {0}. Ему {1} лет'.format(name, age))"
   ],
   "metadata": {
    "collapsed": false,
    "pycharm": {
     "name": "#%%\n"
    }
   }
  }
 ],
 "metadata": {
  "kernelspec": {
   "display_name": "Python 3",
   "language": "python",
   "name": "python3"
  },
  "language_info": {
   "codemirror_mode": {
    "name": "ipython",
    "version": 2
   },
   "file_extension": ".py",
   "mimetype": "text/x-python",
   "name": "python",
   "nbconvert_exporter": "python",
   "pygments_lexer": "ipython2",
   "version": "2.7.6"
  }
 },
 "nbformat": 4,
 "nbformat_minor": 0
}