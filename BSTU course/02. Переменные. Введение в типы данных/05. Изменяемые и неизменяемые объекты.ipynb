{
 "cells": [
  {
   "cell_type": "markdown",
   "metadata": {
    "collapsed": true,
    "pycharm": {
     "name": "#%% md\n"
    }
   },
   "source": [
    "# Изменяемые и неизменяемые объекты\n",
    "\n",
    "Объекты в языке программирования Python могут быть разделены на изменяемые и неизменяемые. Перед тем как более подробно поговорить об этом, опишу функцию `id(x)` она позволяет узнать адрес объекта, с которым связана переменная `x`:"
   ]
  },
  {
   "cell_type": "code",
   "execution_count": 2,
   "outputs": [
    {
     "name": "stdout",
     "output_type": "stream",
     "text": [
      "1\n",
      "2976631030000\n"
     ]
    }
   ],
   "source": [
    "x = 1\n",
    "print(x)     # выводит значение переменной x\n",
    "print(id(x)) # выводит номер ячейки памяти, в которой располагается объект,\n",
    "             # на который указывает переменная x"
   ],
   "metadata": {
    "collapsed": false,
    "pycharm": {
     "name": "#%%\n"
    }
   }
  },
  {
   "cell_type": "markdown",
   "source": [
    "Создадим две переменные с одинаковым значением и узнаем, где они располагаются в памяти:"
   ],
   "metadata": {
    "collapsed": false,
    "pycharm": {
     "name": "#%% md\n"
    }
   }
  },
  {
   "cell_type": "code",
   "execution_count": 7,
   "outputs": [
    {
     "name": "stdout",
     "output_type": "stream",
     "text": [
      "2976631030000 2976631030000\n"
     ]
    }
   ],
   "source": [
    "x = y = 1\n",
    "print(id(x), id(y))"
   ],
   "metadata": {
    "collapsed": false,
    "pycharm": {
     "name": "#%%\n"
    }
   }
  },
  {
   "cell_type": "markdown",
   "source": [
    "Всё в языке программирования Python является объектами. Это позволяет нам узнать, где лежит тот или иной объект. Например, расположение функции `id`:"
   ],
   "metadata": {
    "collapsed": false,
    "pycharm": {
     "name": "#%% md\n"
    }
   }
  },
  {
   "cell_type": "code",
   "execution_count": 16,
   "outputs": [
    {
     "name": "stdout",
     "output_type": "stream",
     "text": [
      "2976631656336\n"
     ]
    }
   ],
   "source": [
    "print(id(id))"
   ],
   "metadata": {
    "collapsed": false,
    "pycharm": {
     "name": "#%%\n"
    }
   }
  },
  {
   "cell_type": "markdown",
   "source": [
    "Можно заметить, что переменные ссылаются на один и тот же объект. Такая ситуация в языке программирования Python называется __разделяемые ссылки__.\n",
    "\n",
    "Объект 1, который был создан в памяти не может быть изменен. Объекты относятся к неизменяемым типам данным, если обладают таким поведением. Это присуще числам, кортежам, строкам."
   ],
   "metadata": {
    "collapsed": false,
    "pycharm": {
     "name": "#%% md\n"
    }
   }
  },
  {
   "cell_type": "markdown",
   "source": [
    "Может показаться, что при изменении значения переменной, результат вычисления будет располагаться в том же фрагменте памяти, но это не так:"
   ],
   "metadata": {
    "collapsed": false,
    "pycharm": {
     "name": "#%% md\n"
    }
   }
  },
  {
   "cell_type": "code",
   "execution_count": 17,
   "outputs": [
    {
     "name": "stdout",
     "output_type": "stream",
     "text": [
      "Объект, на который ссылается x со значением 1, располагается в ячейке 2976631030000\n",
      "Объект, на который ссылается x со значением 3, располагается в ячейке 2976631030064\n"
     ]
    }
   ],
   "source": [
    "x = 1\n",
    "print(f\"Объект, на который ссылается x со значением {x}, располагается в ячейке {id(x)}\")\n",
    "\n",
    "x = x * 3 # x = 3\n",
    "print(f\"Объект, на который ссылается x со значением {x}, располагается в ячейке {id(x)}\")"
   ],
   "metadata": {
    "collapsed": false,
    "pycharm": {
     "name": "#%%\n"
    }
   }
  },
  {
   "cell_type": "markdown",
   "source": [
    "Рассмотрим какой-нибудь изменяемый тип. Возьмём список -- изменяемую коллекцию объектов:"
   ],
   "metadata": {
    "collapsed": false,
    "pycharm": {
     "name": "#%% md\n"
    }
   }
  },
  {
   "cell_type": "code",
   "execution_count": 18,
   "outputs": [
    {
     "name": "stdout",
     "output_type": "stream",
     "text": [
      "Объект, на который ссылается x со значением [1, 2, 3], располагается в ячейке 2976709908096\n",
      "Объект, на который ссылается x со значением [1, 2, 3, 4], располагается в ячейке 2976709908096\n"
     ]
    }
   ],
   "source": [
    "x = [1, 2, 3]\n",
    "print(f\"Объект, на который ссылается x со значением {x}, располагается в ячейке {id(x)}\")\n",
    "\n",
    "x.append(4)\n",
    "print(f\"Объект, на который ссылается x со значением {x}, располагается в ячейке {id(x)}\")"
   ],
   "metadata": {
    "collapsed": false,
    "pycharm": {
     "name": "#%%\n"
    }
   }
  },
  {
   "cell_type": "markdown",
   "source": [
    "При изменении списка, его адрес не изменился.\n",
    "\n",
    "Это и есть основная разница между изменяемыми и неизменяемыми типами данных."
   ],
   "metadata": {
    "collapsed": false,
    "pycharm": {
     "name": "#%% md\n"
    }
   }
  },
  {
   "cell_type": "code",
   "execution_count": null,
   "outputs": [],
   "source": [],
   "metadata": {
    "collapsed": false,
    "pycharm": {
     "name": "#%%\n"
    }
   }
  }
 ],
 "metadata": {
  "kernelspec": {
   "display_name": "Python 3",
   "language": "python",
   "name": "python3"
  },
  "language_info": {
   "codemirror_mode": {
    "name": "ipython",
    "version": 2
   },
   "file_extension": ".py",
   "mimetype": "text/x-python",
   "name": "python",
   "nbconvert_exporter": "python",
   "pygments_lexer": "ipython2",
   "version": "2.7.6"
  }
 },
 "nbformat": 4,
 "nbformat_minor": 0
}