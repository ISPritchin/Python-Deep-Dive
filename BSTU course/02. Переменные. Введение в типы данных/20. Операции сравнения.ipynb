{
 "cells": [
  {
   "cell_type": "markdown",
   "source": [
    "# Операции сравнения\n",
    "\n",
    "Существуют следующие операции сравнения:\n",
    "* `is`, `not is`\n",
    "* `==`, `!=`\n",
    "* `<`, `<=`, `>`, `>=`и"
   ],
   "metadata": {
    "collapsed": false
   }
  },
  {
   "cell_type": "code",
   "execution_count": 1,
   "outputs": [
    {
     "name": "stdout",
     "output_type": "stream",
     "text": [
      "True\n",
      "False\n",
      "True\n",
      "False\n",
      "False\n"
     ]
    }
   ],
   "source": [
    "a = 4\n",
    "\n",
    "print(a == 4)\n",
    "print(a == 5)\n",
    "print(a < 10)\n",
    "print(a > 7 and a < 10)\n",
    "print(7 < a < 10)"
   ],
   "metadata": {
    "collapsed": false,
    "pycharm": {
     "name": "#%%\n"
    }
   }
  },
  {
   "cell_type": "markdown",
   "source": [
    "В языке программирования Python допускаются цепочки сравнений (_chained comparison_):"
   ],
   "metadata": {
    "collapsed": false
   }
  },
  {
   "cell_type": "code",
   "execution_count": 2,
   "outputs": [
    {
     "name": "stdout",
     "output_type": "stream",
     "text": [
      "True\n"
     ]
    }
   ],
   "source": [
    "# запись цепочкой\n",
    "a, b, c = 1, 3, 5\n",
    "print(a < b < c)\n",
    "\n",
    "# второй вариант:\n",
    "# print(a < b and b < c)"
   ],
   "metadata": {
    "collapsed": false,
    "pycharm": {
     "name": "#%%\n"
    }
   }
  },
  {
   "cell_type": "markdown",
   "source": [
    "# Понятие равенства переменных\n",
    "\n",
    "Существует два подхода к сравнению переменных в Python:\n",
    "* сравнивать переменные по значению (равны ли значения объектов)\n",
    "* проверять ссылаются ли две переменные на один и тот же объект"
   ],
   "metadata": {
    "collapsed": false
   }
  },
  {
   "cell_type": "code",
   "execution_count": 3,
   "outputs": [
    {
     "name": "stdout",
     "output_type": "stream",
     "text": [
      "True\n",
      "2034285150544 2034285150544\n"
     ]
    }
   ],
   "source": [
    "a = 4\n",
    "b = 4\n",
    "print(a is b)\n",
    "print(id(a), id(b))"
   ],
   "metadata": {
    "collapsed": false,
    "pycharm": {
     "name": "#%%\n"
    }
   }
  },
  {
   "cell_type": "code",
   "execution_count": 4,
   "outputs": [
    {
     "name": "stdout",
     "output_type": "stream",
     "text": [
      "False\n",
      "True\n",
      "2034285150544 2034367160592\n"
     ]
    }
   ],
   "source": [
    "a = 4\n",
    "b = 4.0\n",
    "print(a is b)\n",
    "print(a == b)\n",
    "print(id(a), id(b))"
   ],
   "metadata": {
    "collapsed": false,
    "pycharm": {
     "name": "#%%\n"
    }
   }
  }
 ],
 "metadata": {
  "kernelspec": {
   "display_name": "Python 3",
   "language": "python",
   "name": "python3"
  },
  "language_info": {
   "codemirror_mode": {
    "name": "ipython",
    "version": 2
   },
   "file_extension": ".py",
   "mimetype": "text/x-python",
   "name": "python",
   "nbconvert_exporter": "python",
   "pygments_lexer": "ipython2",
   "version": "2.7.6"
  }
 },
 "nbformat": 4,
 "nbformat_minor": 0
}