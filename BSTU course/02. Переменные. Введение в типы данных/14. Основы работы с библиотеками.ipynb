{
 "cells": [
  {
   "cell_type": "markdown",
   "source": [
    "# Работа с библиотекой math\n",
    "\n",
    "Использование библиотек может расширить ваши возможности.\n",
    "Например, некоторые математические функции доступны и без использования библиотек, пример:"
   ],
   "metadata": {
    "collapsed": false,
    "pycharm": {
     "name": "#%% md\n"
    }
   }
  },
  {
   "cell_type": "code",
   "execution_count": 6,
   "outputs": [
    {
     "name": "stdout",
     "output_type": "stream",
     "text": [
      "14\n"
     ]
    }
   ],
   "source": [
    "print(abs(-14))"
   ],
   "metadata": {
    "collapsed": false,
    "pycharm": {
     "name": "#%%\n"
    }
   }
  },
  {
   "cell_type": "markdown",
   "source": [
    "но большинство их располагается именно в них."
   ],
   "metadata": {
    "collapsed": false,
    "pycharm": {
     "name": "#%% md\n"
    }
   }
  },
  {
   "cell_type": "code",
   "source": [
    "# Импортирование библиотеки\n",
    "import math"
   ],
   "metadata": {
    "collapsed": false,
    "pycharm": {
     "name": "#%%\n"
    }
   },
   "execution_count": 1,
   "outputs": []
  },
  {
   "cell_type": "code",
   "execution_count": 9,
   "outputs": [
    {
     "name": "stdout",
     "output_type": "stream",
     "text": [
      "3628800\n",
      "4.0\n",
      "3.141592653589793\n",
      "1.2246467991473532e-16\n",
      "3.9999999999999996\n"
     ]
    }
   ],
   "source": [
    "# Примеры вызова функции из библиотек\n",
    "print(math.factorial(10))\n",
    "print(math.sqrt(16))\n",
    "print(math.pi)\n",
    "print(math.sin(math.pi))\n",
    "print(math.pow(8, 2/3))"
   ],
   "metadata": {
    "collapsed": false,
    "pycharm": {
     "name": "#%%\n"
    }
   }
  }
 ],
 "metadata": {
  "kernelspec": {
   "display_name": "Python 3",
   "language": "python",
   "name": "python3"
  },
  "language_info": {
   "codemirror_mode": {
    "name": "ipython",
    "version": 2
   },
   "file_extension": ".py",
   "mimetype": "text/x-python",
   "name": "python",
   "nbconvert_exporter": "python",
   "pygments_lexer": "ipython2",
   "version": "2.7.6"
  }
 },
 "nbformat": 4,
 "nbformat_minor": 0
}