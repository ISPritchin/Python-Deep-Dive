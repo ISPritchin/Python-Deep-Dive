{
 "cells": [
  {
   "cell_type": "markdown",
   "metadata": {
    "collapsed": true,
    "pycharm": {
     "name": "#%% md\n"
    }
   },
   "source": [
    "# Аннотации типов\n",
    "\n",
    "Вам известно, что код написанный ниже допустим:"
   ]
  },
  {
   "cell_type": "code",
   "execution_count": 3,
   "outputs": [
    {
     "name": "stdout",
     "output_type": "stream",
     "text": [
      "Python\n"
     ]
    }
   ],
   "source": [
    "var = 27\n",
    "var = \"Python\"\n",
    "print(var)"
   ],
   "metadata": {
    "collapsed": false,
    "pycharm": {
     "name": "#%%\n"
    }
   }
  },
  {
   "cell_type": "markdown",
   "source": [
    "На практике довольно редко так происходит, чтобы переменной присваивали значения уж совсем разных типов. В каком-то смысле можно сказать, что несмотря на возможность одной переменной ссылаться на объекты разных типов, такое нужно редко, и в большинстве случаев переменная во время выполнения фрагмента программы ссылается на объект одного и того же типа.\n",
    "\n",
    "Поэтому имеется способ указать для среды разработки (программа, в которой пишется код), к какому типу относится та или иная переменная. Это можно сделать при помощи аннотации типов. Аннотации типов позволяют средам разработки выдавать более качественные подсказки при редактировании кода."
   ],
   "metadata": {
    "collapsed": false,
    "pycharm": {
     "name": "#%% md\n"
    }
   }
  },
  {
   "cell_type": "code",
   "execution_count": 7,
   "outputs": [],
   "source": [
    "age: int = 20              # : int - аннотация целочисленного типа\n",
    "is_published: bool = True  # : bool - аннотация логического типа"
   ],
   "metadata": {
    "collapsed": false,
    "pycharm": {
     "name": "#%%\n"
    }
   }
  },
  {
   "cell_type": "markdown",
   "source": [
    "В простых случаях среда может вывести тип самостоятельно и выдавать хорошие подсказки, но не всегда это так. Более подробно об этом будет рассказано при изучении функций."
   ],
   "metadata": {
    "collapsed": false,
    "pycharm": {
     "name": "#%% md\n"
    }
   }
  }
 ],
 "metadata": {
  "kernelspec": {
   "display_name": "Python 3",
   "language": "python",
   "name": "python3"
  },
  "language_info": {
   "codemirror_mode": {
    "name": "ipython",
    "version": 2
   },
   "file_extension": ".py",
   "mimetype": "text/x-python",
   "name": "python",
   "nbconvert_exporter": "python",
   "pygments_lexer": "ipython2",
   "version": "2.7.6"
  }
 },
 "nbformat": 4,
 "nbformat_minor": 0
}