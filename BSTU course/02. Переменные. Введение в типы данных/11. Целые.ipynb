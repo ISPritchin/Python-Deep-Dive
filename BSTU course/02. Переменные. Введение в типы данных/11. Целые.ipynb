{
 "cells": [
  {
   "cell_type": "markdown",
   "source": [
    "# Целочисленный тип (`int`)\n",
    "\n",
    "В отличие от многих языков, в Python в переменные типа `int` можно записывать большие числа. Их размер ограничивается доступной оперативной памяти компьютера:"
   ],
   "metadata": {
    "collapsed": false,
    "pycharm": {
     "name": "#%% md\n"
    }
   }
  },
  {
   "cell_type": "code",
   "execution_count": 20,
   "outputs": [
    {
     "name": "stdout",
     "output_type": "stream",
     "text": [
      "1606938044258990275541962092341162602522202993782792835301376\n",
      "100000000000000000\n"
     ]
    }
   ],
   "source": [
    "x = 16 ** 50 # 16 в 50 степени\n",
    "y = 100_000_000_000_000_000 # для лучшей читаемости можно использовать нижнее подчёркивание при написании чисел\n",
    "print(x)\n",
    "print(y)"
   ],
   "metadata": {
    "collapsed": false,
    "pycharm": {
     "name": "#%%\n"
    }
   }
  },
  {
   "cell_type": "markdown",
   "source": [
    "Необязательно записывать числовые значения в десятичной системе счисления. Числа могут быть записаны в двоичной, восьмеричной и шестнадцатеричной:"
   ],
   "metadata": {
    "collapsed": false,
    "pycharm": {
     "name": "#%% md\n"
    }
   }
  },
  {
   "cell_type": "code",
   "execution_count": 6,
   "outputs": [
    {
     "name": "stdout",
     "output_type": "stream",
     "text": [
      "10 41 163\n"
     ]
    }
   ],
   "source": [
    "x = 0b1010 # префикс 0b намекает на то, что дальше будет записано значение\n",
    "           # в двоичной системе счисления\n",
    "y = 0o51   # префикс 0o намекает на то, что дальше будет записано значение\n",
    "           # в восьмеричной системе счисления\n",
    "z = 0xA3   # префикс 0x намекает на то, что дальше будет записано значение\n",
    "           # в шестнадцатеричной системе счисления\n",
    "\n",
    "print(x, y, z)"
   ],
   "metadata": {
    "collapsed": false,
    "pycharm": {
     "name": "#%%\n"
    }
   }
  },
  {
   "cell_type": "markdown",
   "source": [
    "Можно делать и обратные преобразования: переводить числа из десятичной системы счисления в соответствующие **строки**:"
   ],
   "metadata": {
    "collapsed": false,
    "pycharm": {
     "name": "#%% md\n"
    }
   }
  },
  {
   "cell_type": "code",
   "source": [
    "print(bin(42), oct(42), hex(42))\n",
    "type(bin(42))"
   ],
   "metadata": {
    "collapsed": false,
    "pycharm": {
     "name": "#%%\n"
    }
   },
   "execution_count": 10,
   "outputs": [
    {
     "name": "stdout",
     "output_type": "stream",
     "text": [
      "0b101010 0o52 0x2a\n"
     ]
    },
    {
     "data": {
      "text/plain": "str"
     },
     "execution_count": 10,
     "metadata": {},
     "output_type": "execute_result"
    }
   ]
  },
  {
   "cell_type": "markdown",
   "source": [
    "# Операции над целыми\n",
    "\n",
    "Над целыми определены операции:\n",
    "* сложения (`+`),\n",
    "* вычитания (`-`),\n",
    "* умножения (`*`),\n",
    "* деления (`/`),\n",
    "* деления с округлением вниз (floor division) (`//`),\n",
    "* взятия остатка от целочисленного деления (modulo) (`%`),\n",
    "* возведение в степень (`**`)."
   ],
   "metadata": {
    "collapsed": false,
    "pycharm": {
     "name": "#%% md\n"
    }
   }
  },
  {
   "cell_type": "code",
   "execution_count": 3,
   "outputs": [
    {
     "name": "stdout",
     "output_type": "stream",
     "text": [
      "8\n",
      "-2\n",
      "15\n",
      "243\n"
     ]
    }
   ],
   "source": [
    "a = 3\n",
    "b = 5\n",
    "print(a + b)  # 8\n",
    "print(a - b)  # -2\n",
    "print(a * b)  # 15\n",
    "print(a ** b) # 243"
   ],
   "metadata": {
    "collapsed": false,
    "pycharm": {
     "name": "#%%\n"
    }
   }
  },
  {
   "cell_type": "markdown",
   "source": [
    "Операции интуитивно понятны. Наибольшую сложность вызывают операции, производящие деление. Отметьте для себя тот факт, что в результате деления получаются результаты разных типов:"
   ],
   "metadata": {
    "collapsed": false,
    "pycharm": {
     "name": "#%% md\n"
    }
   }
  },
  {
   "cell_type": "code",
   "execution_count": 12,
   "outputs": [
    {
     "name": "stdout",
     "output_type": "stream",
     "text": [
      "38.75\n",
      "38\n",
      "3\n",
      "<class 'float'>\n",
      "<class 'int'>\n",
      "<class 'int'>\n"
     ]
    }
   ],
   "source": [
    "v1 = 155 / 4\n",
    "print(v1)  # вещественное деление, как на калькуляторе\n",
    "v2 = 155 // 4\n",
    "print(v2)  # деление с округлением вниз (как в начальной школе: получаем 38 и 3 в остатке)\n",
    "v3 = 155 % 4\n",
    "print(v3)\n",
    "\n",
    "print(type(v1))\n",
    "print(type(v2))\n",
    "print(type(v3))"
   ],
   "metadata": {
    "collapsed": false,
    "pycharm": {
     "name": "#%%\n"
    }
   }
  },
  {
   "cell_type": "markdown",
   "source": [
    "# Корректирующее присваивание:\n",
    "\n",
    "Существует более короткий способ записи конструкций вида:"
   ],
   "metadata": {
    "collapsed": false,
    "pycharm": {
     "name": "#%% md\n"
    }
   }
  },
  {
   "cell_type": "code",
   "execution_count": 14,
   "outputs": [
    {
     "name": "stdout",
     "output_type": "stream",
     "text": [
      "10\n"
     ]
    }
   ],
   "source": [
    "x = int(input()) # ввод целого значения x с клавиатуры\n",
    "x = x + 5\n",
    "print(x)"
   ],
   "metadata": {
    "collapsed": false,
    "pycharm": {
     "name": "#%%\n"
    }
   }
  },
  {
   "cell_type": "markdown",
   "source": [
    "если использовать корректирующее присваивание:"
   ],
   "metadata": {
    "collapsed": false,
    "pycharm": {
     "name": "#%% md\n"
    }
   }
  },
  {
   "cell_type": "code",
   "execution_count": 15,
   "outputs": [
    {
     "name": "stdout",
     "output_type": "stream",
     "text": [
      "10\n"
     ]
    }
   ],
   "source": [
    "x = int(input()) # ввод целого значения x с клавиатуры\n",
    "x += 5\n",
    "print(x)"
   ],
   "metadata": {
    "collapsed": false,
    "pycharm": {
     "name": "#%%\n"
    }
   }
  },
  {
   "cell_type": "markdown",
   "source": [
    "## Конструкторы целых чисел\n",
    "\n",
    "**Конструктор** -- специальная функция, которая требуется для того, чтобы создать объект определенного класса"
   ],
   "metadata": {
    "collapsed": false,
    "pycharm": {
     "name": "#%% md\n"
    }
   }
  },
  {
   "cell_type": "code",
   "execution_count": 26,
   "outputs": [
    {
     "name": "stdout",
     "output_type": "stream",
     "text": [
      "10\n"
     ]
    }
   ],
   "source": [
    "a = int(10)\n",
    "print(a)"
   ],
   "metadata": {
    "collapsed": false,
    "pycharm": {
     "name": "#%%\n"
    }
   }
  },
  {
   "cell_type": "code",
   "execution_count": 27,
   "outputs": [
    {
     "name": "stdout",
     "output_type": "stream",
     "text": [
      "-10\n"
     ]
    }
   ],
   "source": [
    "a = int(-10.5)  # вещественная часть откидывается\n",
    "print(a)"
   ],
   "metadata": {
    "collapsed": false,
    "pycharm": {
     "name": "#%%\n"
    }
   }
  },
  {
   "cell_type": "markdown",
   "source": [
    "Значения \"истина\" и \"ложь\" трактуются как 1 и 0:"
   ],
   "metadata": {
    "collapsed": false,
    "pycharm": {
     "name": "#%% md\n"
    }
   }
  },
  {
   "cell_type": "code",
   "execution_count": 28,
   "outputs": [
    {
     "name": "stdout",
     "output_type": "stream",
     "text": [
      "1 0\n"
     ]
    }
   ],
   "source": [
    "print(int(True), int(False))"
   ],
   "metadata": {
    "collapsed": false,
    "pycharm": {
     "name": "#%%\n"
    }
   }
  },
  {
   "cell_type": "markdown",
   "source": [
    "Eсли строка может быть преобразована в целое число, происходит такое преобразование:"
   ],
   "metadata": {
    "collapsed": false,
    "pycharm": {
     "name": "#%% md\n"
    }
   }
  },
  {
   "cell_type": "code",
   "execution_count": 29,
   "outputs": [
    {
     "name": "stdout",
     "output_type": "stream",
     "text": [
      "10\n"
     ]
    }
   ],
   "source": [
    "print(int(\"10\"))\n"
   ],
   "metadata": {
    "collapsed": false,
    "pycharm": {
     "name": "#%%\n"
    }
   }
  },
  {
   "cell_type": "code",
   "execution_count": 11,
   "outputs": [
    {
     "ename": "ValueError",
     "evalue": "invalid literal for int() with base 10: '10.0'",
     "output_type": "error",
     "traceback": [
      "\u001B[1;31m---------------------------------------------------------------------------\u001B[0m",
      "\u001B[1;31mValueError\u001B[0m                                Traceback (most recent call last)",
      "Cell \u001B[1;32mIn [11], line 1\u001B[0m\n\u001B[1;32m----> 1\u001B[0m \u001B[38;5;28mprint\u001B[39m(\u001B[38;5;28;43mint\u001B[39;49m\u001B[43m(\u001B[49m\u001B[38;5;124;43m\"\u001B[39;49m\u001B[38;5;124;43m10.0\u001B[39;49m\u001B[38;5;124;43m\"\u001B[39;49m\u001B[43m)\u001B[49m)\n",
      "\u001B[1;31mValueError\u001B[0m: invalid literal for int() with base 10: '10.0'"
     ]
    }
   ],
   "source": [
    "print(int(\"10.0\"))  # -> ошибка, так как в строке записано нецелое"
   ],
   "metadata": {
    "collapsed": false,
    "pycharm": {
     "name": "#%%\n"
    }
   }
  },
  {
   "cell_type": "markdown",
   "source": [
    "Eсли целое считывается из строки, в качестве второго параметра для конструктора целых чисел можно указать основание системы счисления:"
   ],
   "metadata": {
    "collapsed": false,
    "pycharm": {
     "name": "#%% md\n"
    }
   }
  },
  {
   "cell_type": "code",
   "execution_count": 30,
   "outputs": [
    {
     "name": "stdout",
     "output_type": "stream",
     "text": [
      "42\n",
      "161\n"
     ]
    }
   ],
   "source": [
    "print(int(\"101010\", 2))  # 101010_2 -> 42\n",
    "print(int(\"A1\", 16))     # A1_16 -> 161"
   ],
   "metadata": {
    "collapsed": false,
    "pycharm": {
     "name": "#%%\n"
    }
   }
  }
 ],
 "metadata": {
  "kernelspec": {
   "display_name": "Python 3",
   "language": "python",
   "name": "python3"
  },
  "language_info": {
   "codemirror_mode": {
    "name": "ipython",
    "version": 2
   },
   "file_extension": ".py",
   "mimetype": "text/x-python",
   "name": "python",
   "nbconvert_exporter": "python",
   "pygments_lexer": "ipython2",
   "version": "2.7.6"
  }
 },
 "nbformat": 4,
 "nbformat_minor": 0
}