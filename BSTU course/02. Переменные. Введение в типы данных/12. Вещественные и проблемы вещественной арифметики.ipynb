{
 "cells": [
  {
   "cell_type": "markdown",
   "source": [
    "# Вещественные числа\n",
    "\n",
    "Вещественные числа в Python занимают 8 байт. Если более точно:\n",
    "* 1 бит отводится под знак\n",
    "* 11 бит под экспоненту\n",
    "* 52 бита под значащие цифры (15-17 цифр)\n",
    "\n",
    "Важно понимать, что не все значения могут быть точно представлены в памяти ЭВМ. Возможность проверки представления можно осуществить, если запросить большое количество знаков после запятой:"
   ],
   "metadata": {
    "collapsed": false,
    "pycharm": {
     "name": "#%% md\n"
    }
   }
  },
  {
   "cell_type": "code",
   "execution_count": 4,
   "outputs": [
    {
     "name": "stdout",
     "output_type": "stream",
     "text": [
      "0.1\n",
      "0.10000\n",
      "0.1000000000\n",
      "0.1000000000000000055511151\n"
     ]
    }
   ],
   "source": [
    "x = 0.1\n",
    "print(x)\n",
    "print(format(x, '.5f'))\n",
    "print(format(x, '.10f'))\n",
    "print(format(x, '.25f'))  # 0.1 не может быть точно представлено в памяти ЭВМ"
   ],
   "metadata": {
    "collapsed": false,
    "pycharm": {
     "name": "#%%\n"
    }
   }
  },
  {
   "cell_type": "code",
   "execution_count": 44,
   "outputs": [
    {
     "name": "stdout",
     "output_type": "stream",
     "text": [
      "0.125\n",
      "0.12500\n",
      "0.1250000000\n",
      "0.1250000000000000000000000\n"
     ]
    }
   ],
   "source": [
    "x = 0.125\n",
    "print(x)\n",
    "print(format(x, '.5f'))\n",
    "print(format(x, '.10f'))\n",
    "print(format(x, '.25f'))  # 0.125 может быть точно представлено в памяти ЭВМ"
   ],
   "metadata": {
    "collapsed": false,
    "pycharm": {
     "name": "#%%\n"
    }
   }
  },
  {
   "cell_type": "markdown",
   "source": [
    "## Проблема сравнения вещественных значений и способы её разрешения\n",
    "\n",
    "В силу того, что не все вещественные могут быть точно представлены в памяти ЭВМ возникает такая проблема:"
   ],
   "metadata": {
    "collapsed": false,
    "pycharm": {
     "name": "#%% md\n"
    }
   }
  },
  {
   "cell_type": "code",
   "execution_count": 2,
   "outputs": [
    {
     "name": "stdout",
     "output_type": "stream",
     "text": [
      "False\n",
      "0.3000000000000000444089210 0.2999999999999999888977698\n"
     ]
    }
   ],
   "source": [
    "a = 0.1 + 0.1 + 0.1\n",
    "b = 0.3\n",
    "print(a == b)                                # упс, числа не являются равными\n",
    "print(format(a, '.25f'), format(b, '.25f'))  # можно увидеть, что числа являются разными"
   ],
   "metadata": {
    "collapsed": false,
    "pycharm": {
     "name": "#%%\n"
    }
   }
  },
  {
   "cell_type": "markdown",
   "source": [
    "Сравнивать вещественные можно используя функцию `round`. В примере ниже сравниваются вещественные, округлённые до 5 знака после запятой"
   ],
   "metadata": {
    "collapsed": false,
    "pycharm": {
     "name": "#%% md\n"
    }
   }
  },
  {
   "cell_type": "code",
   "execution_count": 1,
   "outputs": [
    {
     "name": "stdout",
     "output_type": "stream",
     "text": [
      "True\n"
     ]
    }
   ],
   "source": [
    "a = 0.1 + 0.1 + 0.1\n",
    "b = 0.3\n",
    "print(round(a, 5) == round(b, 5))"
   ],
   "metadata": {
    "collapsed": false,
    "pycharm": {
     "name": "#%%\n"
    }
   }
  },
  {
   "cell_type": "markdown",
   "source": [
    "Eщё один подход: вещественные равны, если модуль разности между ними не превышает некоторое tolerance"
   ],
   "metadata": {
    "collapsed": false,
    "pycharm": {
     "name": "#%% md\n"
    }
   }
  },
  {
   "cell_type": "code",
   "execution_count": 5,
   "outputs": [
    {
     "name": "stdout",
     "output_type": "stream",
     "text": [
      "True\n",
      "True\n"
     ]
    }
   ],
   "source": [
    "def is_equal(a: float, b: float, tolerance: float = 0.000000001):\n",
    "    return abs(a - b) < tolerance\n",
    "\n",
    "\n",
    "a = 0.1 + 0.1 + 0.1\n",
    "b = 0.3\n",
    "print(is_equal(a, b))\n",
    "# Недостаток подхода: плохо сравнивает значения близкие к 0. Второе число в примере ниже в 10^16 раз больше, но такой алгоритм сравнения считает их равными\n",
    "print(is_equal(0.000000000001, 0.0000000000000000000000000001))"
   ],
   "metadata": {
    "collapsed": false,
    "pycharm": {
     "name": "#%%\n"
    }
   }
  },
  {
   "cell_type": "markdown",
   "source": [
    "Eщё один подход: найдём отклонение и вычислим какой процент оно составляет от максимального значения"
   ],
   "metadata": {
    "collapsed": false,
    "pycharm": {
     "name": "#%% md\n"
    }
   }
  },
  {
   "cell_type": "code",
   "execution_count": 6,
   "outputs": [
    {
     "name": "stdout",
     "output_type": "stream",
     "text": [
      "True\n",
      "False\n"
     ]
    }
   ],
   "source": [
    "def is_equal(a: float, b: float, rel_tolerance: float = 0.0001):\n",
    "    \"\"\"\n",
    "    rel_tolerance: максимальное допустимое отклонение в процентах от максимума\n",
    "    0.0001 -- отклонение не более 0.01 процента от максимального значения\n",
    "    \"\"\"\n",
    "    tolerance = max(a, b) * rel_tolerance\n",
    "    return abs(a - b) < tolerance\n",
    "\n",
    "\n",
    "a = 0.1 + 0.1 + 0.1\n",
    "b = 0.3\n",
    "print(is_equal(a, b))\n",
    "print(is_equal(0.000000000001, 0.0000000000000000000000000001))"
   ],
   "metadata": {
    "collapsed": false,
    "pycharm": {
     "name": "#%%\n"
    }
   }
  },
  {
   "cell_type": "markdown",
   "source": [
    "В модуле `math` имеется функция для сравнения вещественных в обоих подходах, описанных выше"
   ],
   "metadata": {
    "collapsed": false,
    "pycharm": {
     "name": "#%% md\n"
    }
   }
  },
  {
   "cell_type": "code",
   "execution_count": 49,
   "outputs": [
    {
     "name": "stdout",
     "output_type": "stream",
     "text": [
      "True\n",
      "True\n"
     ]
    }
   ],
   "source": [
    "from math import isclose\n",
    "\n",
    "a = 0.1 + 0.1 + 0.1\n",
    "b = 0.3\n",
    "print(isclose(a, b, rel_tol=0.00001))\n",
    "print(isclose(a, b, abs_tol=0.0000001))"
   ],
   "metadata": {
    "collapsed": false,
    "pycharm": {
     "name": "#%%\n"
    }
   }
  }
 ],
 "metadata": {
  "kernelspec": {
   "display_name": "Python 3",
   "language": "python",
   "name": "python3"
  },
  "language_info": {
   "codemirror_mode": {
    "name": "ipython",
    "version": 2
   },
   "file_extension": ".py",
   "mimetype": "text/x-python",
   "name": "python",
   "nbconvert_exporter": "python",
   "pygments_lexer": "ipython2",
   "version": "2.7.6"
  }
 },
 "nbformat": 4,
 "nbformat_minor": 0
}