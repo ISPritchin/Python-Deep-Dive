{
 "cells": [
  {
   "cell_type": "markdown",
   "source": [
    "# Логическая и физическая строка\n",
    "\n",
    "**Физическая строка** -- строка кода, заканчивающаяся на символ перехода на новую строку.\n",
    "\n",
    "**Логическая строка** -- строка, заканчивающаяся на логический newline-токен. Логическая строка может состоять из нескольких физических строк.\n",
    "\n",
    "Физическая строка не разрывается внутри литералов списков, кортежей, словарей и множеств; списка аргументов и списка формальных параметров. Переносы строк, можно сказать, будут неявно удалены и строка будет преобразована в одну физическую. Следующие две формы записи эквивалентны:"
   ],
   "metadata": {
    "collapsed": false,
    "pycharm": {
     "name": "#%% md\n"
    }
   }
  },
  {
   "cell_type": "code",
   "source": [
    "a = [1,\n",
    "     2,\n",
    "     3]"
   ],
   "metadata": {
    "collapsed": false,
    "pycharm": {
     "name": "#%%\n"
    }
   },
   "execution_count": 1,
   "outputs": []
  },
  {
   "cell_type": "code",
   "source": [
    "a = [1, 2, 3]"
   ],
   "metadata": {
    "collapsed": false,
    "pycharm": {
     "name": "#%%\n"
    }
   },
   "execution_count": 2,
   "outputs": []
  },
  {
   "cell_type": "markdown",
   "source": [
    "Более того, поддерживаются однострочные комментарии в конце каждой строки:"
   ],
   "metadata": {
    "collapsed": false,
    "pycharm": {
     "name": "#%% md\n"
    }
   }
  },
  {
   "cell_type": "code",
   "execution_count": 3,
   "outputs": [],
   "source": [
    "a = [1,  # one\n",
    "     2,  # two\n",
    "     3]  # three"
   ],
   "metadata": {
    "collapsed": false,
    "pycharm": {
     "name": "#%%\n"
    }
   }
  },
  {
   "cell_type": "code",
   "execution_count": 4,
   "outputs": [],
   "source": [
    "def add(a,   # комментарий\n",
    "        b):  # комментарий\n",
    "     return a + b"
   ],
   "metadata": {
    "collapsed": false,
    "pycharm": {
     "name": "#%%\n"
    }
   }
  },
  {
   "cell_type": "markdown",
   "source": [
    "При необходимости разорвать строку в любой другом месте используется символ обратного слеша. Комментарии при таких разрывах строк ставить нельзя."
   ],
   "metadata": {
    "collapsed": false,
    "pycharm": {
     "name": "#%% md\n"
    }
   }
  },
  {
   "cell_type": "code",
   "execution_count": 5,
   "outputs": [
    {
     "name": "stdout",
     "output_type": "stream",
     "text": [
      "Yeah!\n"
     ]
    }
   ],
   "source": [
    "operand1, operand2, operand3 = False, False, True\n",
    "if operand1 and operand2 \\\n",
    "     or operand3:\n",
    "     print(\"Yeah!\")"
   ],
   "metadata": {
    "collapsed": false,
    "pycharm": {
     "name": "#%%\n"
    }
   }
  },
  {
   "cell_type": "markdown",
   "source": [
    "Способы для создания многостроковых литералов:"
   ],
   "metadata": {
    "collapsed": false,
    "pycharm": {
     "name": "#%% md\n"
    }
   }
  },
  {
   "cell_type": "code",
   "execution_count": 6,
   "outputs": [
    {
     "name": "stdout",
     "output_type": "stream",
     "text": [
      "line 1\n",
      "line 2\n"
     ]
    }
   ],
   "source": [
    "multiline_literals = '''line 1\n",
    "line 2'''\n",
    "print(multiline_literals)"
   ],
   "metadata": {
    "collapsed": false,
    "pycharm": {
     "name": "#%%\n"
    }
   }
  },
  {
   "cell_type": "markdown",
   "source": [
    "В случае выше любые введённые символы будут отображены в результате: табуляции, переносы на новую строку и т. п. Ещё один способ создания многостроковых литералов:"
   ],
   "metadata": {
    "collapsed": false,
    "pycharm": {
     "name": "#%% md\n"
    }
   }
  },
  {
   "cell_type": "code",
   "execution_count": 7,
   "outputs": [
    {
     "name": "stdout",
     "output_type": "stream",
     "text": [
      "line 1\n",
      "line 2\n"
     ]
    }
   ],
   "source": [
    "multiline_literals = \"line 1\\n\" \\\n",
    "                     \"line 2\"\n",
    "print(multiline_literals)"
   ],
   "metadata": {
    "collapsed": false,
    "pycharm": {
     "name": "#%%\n"
    }
   }
  },
  {
   "cell_type": "markdown",
   "source": [
    "# Правила именования переменных\n",
    "* язык чувствителен к регистру переменных (case-sensitive)\n",
    "* имя переменной должно начинаться с буквы или знака подчёркивания, за которым могут следовать произвольные непробельные символы\n",
    "* имена переменных не могут быть зарезервированным словом (keyword)\n",
    "* нижнее подчёркивание показывает нам, что поле / метод класса предназначен для внутреннего использования т.е. является приватным. Объекты, которые имеют имя, начинающееся с _ не импортируются инструкцией\n",
    "```\n",
    "from module import *\n",
    "```\n",
    "* именование `__x` используется для атрибутов, которые должны быть унаследованы\n",
    "* имена `__x__` зарезервированы для служебных целей. Не стоит выполнять именование переменных таким образом во избежание конфликтов. Примеры зарезервированных имён: `__init__`, `__lt__`. Например, когда выполняется сравнение\n",
    "```\n",
    "if x < y:\n",
    "```\n",
    "происходит вызов метода:\n",
    "```\n",
    "if x.__lt__(y)\n",
    "```\n",
    "* имена пакетов: короткие, в нижнем регистре, желательно без нижних подчёркиваний\n",
    "* имена модулей: короткие, в нижнем регистре, могут иметь нижние подчёркивания\n",
    "* имена классов: UpperCamelCaseStyle\n",
    "* имена функций и переменных: нижний регистр, слова разделяются нижним подчёркиванием (snake case)\n",
    "* имена констант: UPPER_SNAKE_CASE\n"
   ],
   "metadata": {
    "collapsed": false,
    "pycharm": {
     "name": "#%% md\n"
    }
   }
  },
  {
   "cell_type": "markdown",
   "source": [
    "<p align=\"center\">\n",
    "  <img src=\"images/Variable names.PNG\" alt=\"drawing\" width=\"1200\"/>\n",
    "</p>\n"
   ],
   "metadata": {
    "collapsed": false,
    "pycharm": {
     "name": "#%% md\n"
    }
   }
  },
  {
   "cell_type": "markdown",
   "source": [
    "# Условный оператор if и тернарная операция"
   ],
   "metadata": {
    "collapsed": false,
    "pycharm": {
     "name": "#%% md\n"
    }
   }
  },
  {
   "cell_type": "code",
   "execution_count": 8,
   "outputs": [
    {
     "name": "stdout",
     "output_type": "stream",
     "text": [
      "a is less than b\n"
     ]
    }
   ],
   "source": [
    "a, b = map(int, input().split())\n",
    "if a < b:\n",
    "     r = 'a is less than b'\n",
    "else:\n",
    "     r = 'b is less or equal than a'\n",
    "print(r)"
   ],
   "metadata": {
    "collapsed": false,
    "pycharm": {
     "name": "#%%\n"
    }
   }
  },
  {
   "cell_type": "code",
   "execution_count": 9,
   "outputs": [
    {
     "name": "stdout",
     "output_type": "stream",
     "text": [
      "b is less or equal than a\n"
     ]
    }
   ],
   "source": [
    "a, b = map(int, input().split())\n",
    "r = 'a is less than b' if a < b else 'b is less or equal than a'\n",
    "print(r)"
   ],
   "metadata": {
    "collapsed": false,
    "pycharm": {
     "name": "#%%\n"
    }
   }
  },
  {
   "cell_type": "markdown",
   "source": [
    "# Функции"
   ],
   "metadata": {
    "collapsed": false,
    "pycharm": {
     "name": "#%% md\n"
    }
   }
  },
  {
   "cell_type": "code",
   "execution_count": 10,
   "outputs": [
    {
     "name": "stdout",
     "output_type": "stream",
     "text": [
      "7\n"
     ]
    }
   ],
   "source": [
    "# определение функции\n",
    "def add(lhs, rhs):\n",
    "     return lhs + rhs\n",
    "\n",
    "\n",
    "# вызов функции\n",
    "print(add(2, 5))"
   ],
   "metadata": {
    "collapsed": false,
    "pycharm": {
     "name": "#%%\n"
    }
   }
  },
  {
   "cell_type": "code",
   "execution_count": 11,
   "outputs": [
    {
     "name": "stdout",
     "output_type": "stream",
     "text": [
      "8\n"
     ]
    }
   ],
   "source": [
    "lambda_add = lambda lhs, rhs: lhs + rhs\n",
    "\n",
    "print(lambda_add(3, 5))"
   ],
   "metadata": {
    "collapsed": false,
    "pycharm": {
     "name": "#%%\n"
    }
   }
  },
  {
   "cell_type": "markdown",
   "source": [
    "# Цикл while\n",
    "```\n",
    "while <выражение>:\n",
    "     <операторы>\n",
    "[else:\n",
    "     <операторы>]"
   ],
   "metadata": {
    "collapsed": false
   }
  },
  {
   "cell_type": "code",
   "execution_count": 12,
   "outputs": [
    {
     "name": "stdout",
     "output_type": "stream",
     "text": [
      "0\n",
      "1\n",
      "2\n"
     ]
    }
   ],
   "source": [
    "i = 0\n",
    "while i < 3:\n",
    "     print(i)\n",
    "     i += 1"
   ],
   "metadata": {
    "collapsed": false,
    "pycharm": {
     "name": "#%%\n"
    }
   }
  },
  {
   "cell_type": "markdown",
   "source": [
    "Операторы могут и не выполнится ни разу:"
   ],
   "metadata": {
    "collapsed": false,
    "pycharm": {
     "name": "#%% md\n"
    }
   }
  },
  {
   "cell_type": "code",
   "execution_count": 13,
   "outputs": [],
   "source": [
    "i = 5\n",
    "while i < 3:\n",
    "     print(i)\n",
    "     i += 1"
   ],
   "metadata": {
    "collapsed": false,
    "pycharm": {
     "name": "#%%\n"
    }
   }
  },
  {
   "cell_type": "markdown",
   "source": [
    "Для корректности ввода может использоваться бесконечный цикл и ключевое слово `break`. В примере ниже ввод будет происходить до тех пор, пока пользователь не введёт положительное значение:"
   ],
   "metadata": {
    "collapsed": false,
    "pycharm": {
     "name": "#%% md\n"
    }
   }
  },
  {
   "cell_type": "code",
   "execution_count": 14,
   "outputs": [],
   "source": [
    "while True:\n",
    "     value = int(input())\n",
    "     if value >= 0:\n",
    "          break"
   ],
   "metadata": {
    "collapsed": false,
    "pycharm": {
     "name": "#%%\n"
    }
   }
  },
  {
   "cell_type": "markdown",
   "source": [
    "# Цикл for"
   ],
   "metadata": {
    "collapsed": false,
    "pycharm": {
     "name": "#%% md\n"
    }
   }
  },
  {
   "cell_type": "markdown",
   "source": [
    "```\n",
    "for <l-value> in <последовательность>:\n",
    "     <операторы>\n",
    "[else:\n",
    "     <операторы>]\n",
    "```"
   ],
   "metadata": {
    "collapsed": false,
    "pycharm": {
     "name": "#%% md\n"
    }
   }
  },
  {
   "cell_type": "code",
   "execution_count": 15,
   "outputs": [
    {
     "name": "stdout",
     "output_type": "stream",
     "text": [
      "0\n",
      "1\n",
      "2\n",
      "3\n"
     ]
    }
   ],
   "source": [
    "for x in [0, 1, 2, 3]:\n",
    "     print(x)"
   ],
   "metadata": {
    "collapsed": false,
    "pycharm": {
     "name": "#%%\n"
    }
   }
  },
  {
   "cell_type": "code",
   "execution_count": 16,
   "outputs": [
    {
     "name": "stdout",
     "output_type": "stream",
     "text": [
      "0\n",
      "1\n",
      "2\n",
      "3\n"
     ]
    }
   ],
   "source": [
    "for x in range(0, 4):\n",
    "     print(x)"
   ],
   "metadata": {
    "collapsed": false,
    "pycharm": {
     "name": "#%%\n"
    }
   }
  },
  {
   "cell_type": "code",
   "execution_count": 17,
   "outputs": [
    {
     "name": "stdout",
     "output_type": "stream",
     "text": [
      "5 3\n",
      "6 4\n"
     ]
    }
   ],
   "source": [
    "for i, j in ((5, 3), (6, 4)):\n",
    "     print(i, j)"
   ],
   "metadata": {
    "collapsed": false,
    "pycharm": {
     "name": "#%%\n"
    }
   }
  },
  {
   "cell_type": "code",
   "execution_count": 18,
   "outputs": [
    {
     "name": "stdout",
     "output_type": "stream",
     "text": [
      "h\n",
      "e\n",
      "l\n",
      "l\n",
      "o\n"
     ]
    }
   ],
   "source": [
    "for x in \"hello\":\n",
    "     print(x)"
   ],
   "metadata": {
    "collapsed": false,
    "pycharm": {
     "name": "#%%\n"
    }
   }
  },
  {
   "cell_type": "code",
   "execution_count": 19,
   "outputs": [
    {
     "name": "stdout",
     "output_type": "stream",
     "text": [
      "10 6 14 "
     ]
    }
   ],
   "source": [
    "l = [5, 3, 7]\n",
    "for i, x in enumerate(l):\n",
    "     l[i] = x * 2\n",
    "\n",
    "for x in l:\n",
    "     print(x, end=\" \")"
   ],
   "metadata": {
    "collapsed": false,
    "pycharm": {
     "name": "#%%\n"
    }
   }
  },
  {
   "cell_type": "markdown",
   "source": [
    "# try - except - finally"
   ],
   "metadata": {
    "collapsed": false,
    "pycharm": {
     "name": "#%% md\n"
    }
   }
  },
  {
   "cell_type": "code",
   "execution_count": 20,
   "outputs": [
    {
     "name": "stdout",
     "output_type": "stream",
     "text": [
      "division by zero\n",
      "this always executed\n"
     ]
    }
   ],
   "source": [
    "a = 10\n",
    "b = 0\n",
    "try:\n",
    "     print(a // b)\n",
    "except ZeroDivisionError:\n",
    "     print(\"division by zero\")\n",
    "finally:\n",
    "     print(\"this always executed\")"
   ],
   "metadata": {
    "collapsed": false,
    "pycharm": {
     "name": "#%%\n"
    }
   }
  },
  {
   "cell_type": "markdown",
   "source": [
    "# Классы"
   ],
   "metadata": {
    "collapsed": false,
    "pycharm": {
     "name": "#%% md\n"
    }
   }
  },
  {
   "cell_type": "code",
   "execution_count": 21,
   "outputs": [
    {
     "name": "stdout",
     "output_type": "stream",
     "text": [
      "Rectangle: height = 3, width = 4\n",
      "Area = 12\n",
      "Perimeter = 14\n"
     ]
    }
   ],
   "source": [
    "class Rectangle:\n",
    "     def __init__(self, height, width):\n",
    "          self.height = height\n",
    "          self.width = width\n",
    "\n",
    "     def area(self):\n",
    "          return self.width * self.height\n",
    "\n",
    "     def perimeter(self):\n",
    "          return 2 * (self.width + self.height)\n",
    "\n",
    "     def __str__(self):\n",
    "          return f'Rectangle: height = {self.height}, ' \\\n",
    "                 f'width = {self.width}'\n",
    "\n",
    "\n",
    "r = Rectangle(3, 4)\n",
    "print(r)\n",
    "print(f\"Area = {r.area()}\")\n",
    "print(f\"Perimeter = {r.perimeter()}\")"
   ],
   "metadata": {
    "collapsed": false,
    "pycharm": {
     "name": "#%%\n"
    }
   }
  },
  {
   "cell_type": "code",
   "execution_count": 22,
   "outputs": [
    {
     "name": "stdout",
     "output_type": "stream",
     "text": [
      "False\n",
      "False\n"
     ]
    }
   ],
   "source": [
    "r1 = Rectangle(3, 4)\n",
    "r2 = Rectangle(3, 4)\n",
    "print(r1 is r2)\n",
    "print(r1 == r2)"
   ],
   "metadata": {
    "collapsed": false,
    "pycharm": {
     "name": "#%%\n"
    }
   }
  },
  {
   "cell_type": "code",
   "execution_count": 23,
   "outputs": [
    {
     "name": "stdout",
     "output_type": "stream",
     "text": [
      "False\n",
      "True\n"
     ]
    }
   ],
   "source": [
    "class Rectangle:\n",
    "     def __init__(self, height, width):\n",
    "          self.height = height\n",
    "          self.width = width\n",
    "\n",
    "     def area(self):\n",
    "          return self.width * self.height\n",
    "\n",
    "     def perimeter(self):\n",
    "          return 2 * (self.width + self.height)\n",
    "\n",
    "     def __str__(self):\n",
    "          return f'Rectangle: height = {self.height}, ' \\\n",
    "                 f'width = {self.width}'\n",
    "\n",
    "     def __eq__(self, other):\n",
    "          if isinstance(other, Rectangle):\n",
    "               return self.width == other.width and self.height == other.height\n",
    "          else:\n",
    "               return False\n",
    "\n",
    "     def __lt__(self, other):\n",
    "          if isinstance(other, Rectangle):\n",
    "               return self.area < other.area()\n",
    "          else:\n",
    "               raise NotImplementedError(f\"operation < is not supported for Rectangle and {type(other)}\")\n",
    "\n",
    "\n",
    "r1 = Rectangle(3, 4)\n",
    "r2 = Rectangle(3, 4)\n",
    "print(r1 is r2)\n",
    "print(r1 == r2)"
   ],
   "metadata": {
    "collapsed": false,
    "pycharm": {
     "name": "#%%\n"
    }
   }
  },
  {
   "cell_type": "code",
   "execution_count": 24,
   "outputs": [
    {
     "data": {
      "text/plain": "False"
     },
     "execution_count": 24,
     "metadata": {},
     "output_type": "execute_result"
    }
   ],
   "source": [
    "r1 == 100"
   ],
   "metadata": {
    "collapsed": false,
    "pycharm": {
     "name": "#%%\n"
    }
   }
  },
  {
   "cell_type": "code",
   "execution_count": 25,
   "outputs": [
    {
     "name": "stdout",
     "output_type": "stream",
     "text": [
      "30\n"
     ]
    }
   ],
   "source": [
    "class Rectangle:\n",
    "     def __init__(self, height, width):\n",
    "          self._height = height\n",
    "          self._width = width\n",
    "\n",
    "     def area(self):\n",
    "          return self.width * self.height\n",
    "\n",
    "     def __str__(self):\n",
    "          return f'Rectangle: height = {self.height}, ' \\\n",
    "                 f'width = {self.width}'\n",
    "\n",
    "     @property\n",
    "     def width(self):\n",
    "          return self._width\n",
    "\n",
    "     @width.setter\n",
    "     def width(self, width):\n",
    "          if width <= 0:\n",
    "               raise ValueError('Width must be positive')\n",
    "          else:\n",
    "               self._width = width\n",
    "\n",
    "     @property\n",
    "     def height(self):\n",
    "          return self._height\n",
    "\n",
    "     @height.setter\n",
    "     def height(self, height):\n",
    "          if height <= 0:\n",
    "               raise ValueError('Height must be positive')\n",
    "          else:\n",
    "               self._height = height\n",
    "\n",
    "\n",
    "r1 = Rectangle(3, 4)\n",
    "r1.width = 10\n",
    "print(r1.area())"
   ],
   "metadata": {
    "collapsed": false,
    "pycharm": {
     "name": "#%%\n"
    }
   }
  },
  {
   "cell_type": "code",
   "execution_count": 26,
   "outputs": [
    {
     "ename": "ValueError",
     "evalue": "Width must be positive",
     "output_type": "error",
     "traceback": [
      "\u001B[1;31m---------------------------------------------------------------------------\u001B[0m",
      "\u001B[1;31mValueError\u001B[0m                                Traceback (most recent call last)",
      "Cell \u001B[1;32mIn [26], line 1\u001B[0m\n\u001B[1;32m----> 1\u001B[0m r1\u001B[38;5;241m.\u001B[39mwidth \u001B[38;5;241m=\u001B[39m \u001B[38;5;241m-\u001B[39m\u001B[38;5;241m10\u001B[39m\n",
      "Cell \u001B[1;32mIn [25], line 20\u001B[0m, in \u001B[0;36mRectangle.width\u001B[1;34m(self, width)\u001B[0m\n\u001B[0;32m     17\u001B[0m \u001B[38;5;129m@width\u001B[39m\u001B[38;5;241m.\u001B[39msetter\n\u001B[0;32m     18\u001B[0m \u001B[38;5;28;01mdef\u001B[39;00m \u001B[38;5;21mwidth\u001B[39m(\u001B[38;5;28mself\u001B[39m, width):\n\u001B[0;32m     19\u001B[0m      \u001B[38;5;28;01mif\u001B[39;00m width \u001B[38;5;241m<\u001B[39m\u001B[38;5;241m=\u001B[39m \u001B[38;5;241m0\u001B[39m:\n\u001B[1;32m---> 20\u001B[0m           \u001B[38;5;28;01mraise\u001B[39;00m \u001B[38;5;167;01mValueError\u001B[39;00m(\u001B[38;5;124m'\u001B[39m\u001B[38;5;124mWidth must be positive\u001B[39m\u001B[38;5;124m'\u001B[39m)\n\u001B[0;32m     21\u001B[0m      \u001B[38;5;28;01melse\u001B[39;00m:\n\u001B[0;32m     22\u001B[0m           \u001B[38;5;28mself\u001B[39m\u001B[38;5;241m.\u001B[39m_width \u001B[38;5;241m=\u001B[39m width\n",
      "\u001B[1;31mValueError\u001B[0m: Width must be positive"
     ]
    }
   ],
   "source": [
    "r1.width = -10"
   ],
   "metadata": {
    "collapsed": false,
    "pycharm": {
     "name": "#%%\n"
    }
   }
  }
 ],
 "metadata": {
  "kernelspec": {
   "display_name": "Python 3",
   "language": "python",
   "name": "python3"
  },
  "language_info": {
   "codemirror_mode": {
    "name": "ipython",
    "version": 2
   },
   "file_extension": ".py",
   "mimetype": "text/x-python",
   "name": "python",
   "nbconvert_exporter": "python",
   "pygments_lexer": "ipython2",
   "version": "2.7.6"
  }
 },
 "nbformat": 4,
 "nbformat_minor": 0
}