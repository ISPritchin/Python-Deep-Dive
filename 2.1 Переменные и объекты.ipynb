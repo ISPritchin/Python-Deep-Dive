{
 "cells": [
  {
   "cell_type": "markdown",
   "source": [
    "# Введение в типы данных\n",
    "\n",
    "При обработке информации в ЭВМ возникает два вопроса: где хранить информацию и как её обрабатывать. Вопрос \"как обрабатывать\" -- это вопрос алгоритмов, а \"где хранить\" -- структур данных. Каждый язык обладает рядом встроенных структур. Типы данных являются их подмножеством."
   ],
   "metadata": {
    "collapsed": false,
    "pycharm": {
     "name": "#%% md\n"
    }
   }
  },
  {
   "cell_type": "markdown",
   "metadata": {
    "collapsed": true,
    "pycharm": {
     "name": "#%% md\n"
    }
   },
   "source": [
    "# Иерархия типов данных в Python\n",
    "\n",
    "### Числовые типы:\n",
    "* Целые (Integers, Booleans)\n",
    "* Нецелые (Floats, Complex, Decimals, Fractions)\n",
    "\n",
    "### Последовательности:\n",
    "* Изменяемые (Lists)\n",
    "* Неизменяемые (Tuples, Strings)\n",
    "\n",
    "### Множества:\n",
    "* Изменяемые (Sets)\n",
    "* Неизменяемые (Frozen sets)\n",
    "\n",
    "### Словари (Dictionaries)\n",
    "\n",
    "### Вызываемые объекты (Callables):\n",
    "* Функции определенные пользователем (user-defined functions)\n",
    "* Встроенные функции (built-in functions) (`len()`, `open()`)\n",
    "* Генераторы (generators)\n",
    "* Классы (classes)\n",
    "* Методы класса (instance methods)\n",
    "* Встроенные методы (built-in methods) (`list.append()`)\n",
    "* Class instances (`.__call__()`)\n",
    "\n",
    "### Singeltons:\n",
    "* None\n",
    "* NotImplemented\n",
    "* Ellipsis"
   ]
  },
  {
   "cell_type": "markdown",
   "source": [
    "Область памяти, в которой хранится некоторое значение, называется **объектом**. Например:\n",
    "```\n",
    "x = 1\n",
    "```\n",
    "`x` -- **переменная**, а значение 1, которое располагается где-то в памяти является объектом.\n",
    "\n",
    "**Переменная** -- ссылка на объект; некоторое имя, по которому этот объект может быть идентифицирован. Память представляет собой последовательность ячеек."
   ],
   "metadata": {
    "collapsed": false,
    "pycharm": {
     "name": "#%% md\n"
    }
   }
  },
  {
   "cell_type": "code",
   "execution_count": 1,
   "outputs": [
    {
     "name": "stdout",
     "output_type": "stream",
     "text": [
      "1\n"
     ]
    }
   ],
   "source": [
    "x = 1\n",
    "print(x) # функция вывода; выводит значение переменной"
   ],
   "metadata": {
    "collapsed": false,
    "pycharm": {
     "name": "#%%\n"
    }
   }
  },
  {
   "cell_type": "markdown",
   "source": [
    "Номер ячейки, на которую ссылается переменная можно узнать при помощи функции `id`:"
   ],
   "metadata": {
    "collapsed": false,
    "pycharm": {
     "name": "#%% md\n"
    }
   }
  },
  {
   "cell_type": "code",
   "execution_count": 2,
   "outputs": [
    {
     "name": "stdout",
     "output_type": "stream",
     "text": [
      "2592883867888\n"
     ]
    }
   ],
   "source": [
    "print(id(x))"
   ],
   "metadata": {
    "collapsed": false,
    "pycharm": {
     "name": "#%%\n"
    }
   }
  },
  {
   "cell_type": "markdown",
   "source": [
    "`=` - операция присваивания. Она работает следующим образом: вычисляется значение выражения, которое находится справа от знака присваивания. В результате этого получается некоторый объект. В дальнейшем имя переменной слева связывается с объектом. Когда выполняется присваивание:"
   ],
   "metadata": {
    "collapsed": false,
    "pycharm": {
     "name": "#%% md\n"
    }
   }
  },
  {
   "cell_type": "code",
   "execution_count": 3,
   "outputs": [
    {
     "name": "stdout",
     "output_type": "stream",
     "text": [
      "125\n"
     ]
    }
   ],
   "source": [
    "x = 46 + 79\n",
    "print(x)"
   ],
   "metadata": {
    "collapsed": false,
    "pycharm": {
     "name": "#%%\n"
    }
   }
  },
  {
   "cell_type": "markdown",
   "source": [
    "создаётся ссылка `x`, которая указывает на объект, хранящий в себе значение `46 + 79 = 125`. Объект с таким значением создаётся в памяти, следовательно, занимает место. На данный момент мы имеем одну ссылку на объект.\n",
    "\n",
    "Допустим, что дальше была создана ещё одна ссылка на тот же объект:"
   ],
   "metadata": {
    "collapsed": false
   }
  },
  {
   "cell_type": "code",
   "source": [
    "y = x # Переменная y теперь ссылается туда же, куда и x. Они обе знают, где располагается объект."
   ],
   "metadata": {
    "collapsed": false,
    "pycharm": {
     "name": "#%%\n"
    }
   },
   "execution_count": 4,
   "outputs": []
  },
  {
   "cell_type": "markdown",
   "source": [
    "Можно легко убедиться, что переменные ссылаются на один и тот же объект:"
   ],
   "metadata": {
    "collapsed": false,
    "pycharm": {
     "name": "#%% md\n"
    }
   }
  },
  {
   "cell_type": "code",
   "execution_count": 5,
   "outputs": [
    {
     "name": "stdout",
     "output_type": "stream",
     "text": [
      "2592883871856 2592883871856\n"
     ]
    }
   ],
   "source": [
    "print(id(x), id(y))"
   ],
   "metadata": {
    "collapsed": false,
    "pycharm": {
     "name": "#%%\n"
    }
   }
  },
  {
   "cell_type": "markdown",
   "source": [
    "Количество ссылок увеличивается на 1. Интерпретатору известно, сколько ссылок указывает на объект и если количество ссылок становится равным нулю, объект уничтожается с целью освободить память.\n",
    "\n",
    "**Интерпретатор** -- программа, выполняющая интерпретацию. **Интерпрета́ция** — построчный анализ, обработка и выполнение исходного кода программы или запроса.\n"
   ],
   "metadata": {
    "collapsed": false,
    "pycharm": {
     "name": "#%% md\n"
    }
   }
  },
  {
   "cell_type": "markdown",
   "source": [
    "Для дальнейшего повествования нам потребуется разбор функции вывода `print`. Рассмотрим способы вывода переменных в языке программирования Python:"
   ],
   "metadata": {
    "collapsed": false,
    "pycharm": {
     "name": "#%% md\n"
    }
   }
  },
  {
   "cell_type": "code",
   "source": [
    "x = 100\n",
    "\n",
    "print(x)                 # вывод значения переменной x\n",
    "print(42)                # вывод значения 42\n",
    "print(\"Hello, world\")    # вывод сообщения \"Hello, world\"\n",
    "print('Hi!')             # вывод сообщения \"Hi!\"\n",
    "# \"Hello, world\" -- строка. Строкой называется последовательность символов, заключенных в двойные или одинарные кавычки.\n",
    "\n",
    "print(42, x * 10, 1, \"Hi!\")\n",
    "print(\"Значение x =\", x) # вывод сообщения, за которым последует значение x\n",
    "\n",
    "# После каждого вызова функции print происходит перенос на новую строку"
   ],
   "metadata": {
    "collapsed": false,
    "pycharm": {
     "name": "#%%\n"
    }
   },
   "execution_count": 6,
   "outputs": [
    {
     "name": "stdout",
     "output_type": "stream",
     "text": [
      "100\n",
      "42\n",
      "Hello, world\n",
      "Hi!\n",
      "42 1000 1 Hi!\n",
      "Значение x = 100\n"
     ]
    }
   ]
  },
  {
   "cell_type": "markdown",
   "source": [
    "Последний вывод показанный выше неудобен, когда количество переменных становится велико. Для решения этой задачи в Python добавили f-строки. Строка называется f-строкой, так как перед двойными кавычками (которые являются признаком строки) ставится символ f. F-строки позволяют легко комбинировать вывод переменных и строк:"
   ],
   "metadata": {
    "collapsed": false,
    "pycharm": {
     "name": "#%% md\n"
    }
   }
  },
  {
   "cell_type": "code",
   "execution_count": 7,
   "outputs": [
    {
     "name": "stdout",
     "output_type": "stream",
     "text": [
      "Значение x = x\n",
      "Значение x = 10\n",
      "Значение 2x = 20\n"
     ]
    }
   ],
   "source": [
    "x = 10\n",
    "print(f\"Значение x = x\")   # если нет переменных в {}, то будет выведена как простая строка\n",
    "print(f\"Значение x = {x}\") # вместо {x} будет подставлен объект, на который указывает x\n",
    "print(f\"Значение 2x = {x * 2}\")"
   ],
   "metadata": {
    "collapsed": false,
    "pycharm": {
     "name": "#%%\n"
    }
   }
  },
  {
   "cell_type": "code",
   "execution_count": 8,
   "outputs": [
    {
     "name": "stdout",
     "output_type": "stream",
     "text": [
      "Его имя Антон. Ему 250 лет\n"
     ]
    }
   ],
   "source": [
    "name = 'Антон'\n",
    "age = 250\n",
    "print(f'Его имя {name}. Ему {age} лет')"
   ],
   "metadata": {
    "collapsed": false,
    "pycharm": {
     "name": "#%%\n"
    }
   }
  },
  {
   "cell_type": "markdown",
   "source": [
    "Можно использовать метод `.format` для вывода значений переменных внутри строки."
   ],
   "metadata": {
    "collapsed": false,
    "pycharm": {
     "name": "#%% md\n"
    }
   }
  },
  {
   "cell_type": "code",
   "execution_count": 9,
   "outputs": [
    {
     "name": "stdout",
     "output_type": "stream",
     "text": [
      "Его зовут Виктор. Ему 10 лет\n"
     ]
    }
   ],
   "source": [
    "name = \"Виктор\"\n",
    "age = 10\n",
    "\n",
    "# На место первых {} подставится name, на место вторых {} age\n",
    "print('Его зовут {}. Ему {} лет'.format(name, age))"
   ],
   "metadata": {
    "collapsed": false,
    "pycharm": {
     "name": "#%%\n"
    }
   }
  },
  {
   "cell_type": "code",
   "execution_count": 10,
   "outputs": [
    {
     "name": "stdout",
     "output_type": "stream",
     "text": [
      "Его имя Виктор. Просто Виктор. Ему 10 лет\n"
     ]
    }
   ],
   "source": [
    "# В этом варианте функции вместо {0} подставится значение переменной name,\n",
    "# вместо {1} -- значение возраста.\n",
    "print('Его имя {0}. Просто {0}. Ему {1} лет'.format(name, age))"
   ],
   "metadata": {
    "collapsed": false,
    "pycharm": {
     "name": "#%%\n"
    }
   }
  },
  {
   "cell_type": "markdown",
   "source": [
    "Возвращаемся к рассказу о переменных. Для того, чтобы узнать, сколько ссылок указывает на объект, можно воспользоваться функцией\n",
    "```sys.getrefcount(x)```\n",
    "(примечание: возвращаемое количество обычно больше, чем можно ожидать)"
   ],
   "metadata": {
    "collapsed": false,
    "pycharm": {
     "name": "#%% md\n"
    }
   }
  },
  {
   "cell_type": "code",
   "execution_count": 11,
   "outputs": [
    {
     "name": "stdout",
     "output_type": "stream",
     "text": [
      "Количество ссылок на объект id = 2592961541584 равняется 3\n",
      "Количество ссылок на объект id = 2592961541584 равняется 4\n",
      "Количество ссылок на объект id = 2592961541584 равняется 3\n"
     ]
    }
   ],
   "source": [
    "import sys # Импортирование библиотеки. Это необходимо, чтобы иметь доступ к функциям sys.\n",
    "\n",
    "v1 = 523424\n",
    "print(f\"Количество ссылок на объект id = {id(v1)} равняется {sys.getrefcount(v1)}\")\n",
    "v2 = v1  # количество ссылок должно увеличиться на 1\n",
    "print(f\"Количество ссылок на объект id = {id(v2)} равняется {sys.getrefcount(v2)}\")\n",
    "v2 += 1  # количество ссылок на значение 523424 должно уменьшиться на 1\n",
    "print(f\"Количество ссылок на объект id = {id(v1)} равняется {sys.getrefcount(v1)}\")"
   ],
   "metadata": {
    "collapsed": false,
    "pycharm": {
     "name": "#%%\n"
    }
   }
  },
  {
   "cell_type": "markdown",
   "source": [
    "В отличии от языков С / С++ и прочих, тип переменной не связан непосредственно с идентификатором. Когда пишется\n",
    "```\n",
    "x = 10\n",
    "```\n",
    "Из этого не следует, что `x` -- переменная целочисленного типа. Это значит, что `x` -- ссылка, на целочисленное значение. Она может в будущем указывать на объект другого типа:\n",
    "```\n",
    "x = 'hello, world!'\n",
    "```\n",
    "Вызывая функцию `type(x)` мы получаем не тип переменной `x`, а тип объекта, на который указывает ссылка."
   ],
   "metadata": {
    "collapsed": false,
    "pycharm": {
     "name": "#%% md\n"
    }
   }
  },
  {
   "cell_type": "code",
   "execution_count": 12,
   "outputs": [
    {
     "name": "stdout",
     "output_type": "stream",
     "text": [
      "<class 'int'>\n",
      "<class 'str'>\n"
     ]
    }
   ],
   "source": [
    "x = 10\n",
    "print(type(x))\n",
    "\n",
    "x = 'Hello world'\n",
    "print(type(x))"
   ],
   "metadata": {
    "collapsed": false,
    "pycharm": {
     "name": "#%%\n"
    }
   }
  },
  {
   "cell_type": "markdown",
   "source": [
    "Когда вычисляется значение выражения, получается некоторый результат. Этому результату должен соответствовать объект. В примере ниже можно убедиться, что адрес расположения объекта, полученного в результате сложения совпадает с адресом переменной, которая хранит такое же значение:"
   ],
   "metadata": {
    "collapsed": false,
    "pycharm": {
     "name": "#%% md\n"
    }
   }
  },
  {
   "cell_type": "code",
   "execution_count": 13,
   "outputs": [
    {
     "name": "stdout",
     "output_type": "stream",
     "text": [
      "2592883868176\n",
      "2592883868336 2592883868336\n"
     ]
    }
   ],
   "source": [
    "x = 10\n",
    "print(id(x))\n",
    "x += 5  # то же самое что и x = x + 5\n",
    "print(id(x), id(15))"
   ],
   "metadata": {
    "collapsed": false,
    "pycharm": {
     "name": "#%%\n"
    }
   }
  },
  {
   "cell_type": "code",
   "execution_count": 14,
   "outputs": [
    {
     "name": "stdout",
     "output_type": "stream",
     "text": [
      "2592884494224\n"
     ]
    }
   ],
   "source": [
    "# Функции являются объектами. Они тоже имеют свой адрес в памяти:\n",
    "print(id(id))"
   ],
   "metadata": {
    "collapsed": false,
    "pycharm": {
     "name": "#%%\n"
    }
   }
  }
 ],
 "metadata": {
  "kernelspec": {
   "display_name": "Python 3",
   "language": "python",
   "name": "python3"
  },
  "language_info": {
   "codemirror_mode": {
    "name": "ipython",
    "version": 2
   },
   "file_extension": ".py",
   "mimetype": "text/x-python",
   "name": "python",
   "nbconvert_exporter": "python",
   "pygments_lexer": "ipython2",
   "version": "2.7.6"
  }
 },
 "nbformat": 4,
 "nbformat_minor": 0
}