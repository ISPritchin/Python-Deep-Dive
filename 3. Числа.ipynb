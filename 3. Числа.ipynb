{
 "cells": [
  {
   "cell_type": "markdown",
   "metadata": {
    "collapsed": true,
    "pycharm": {
     "name": "#%% md\n"
    }
   },
   "source": [
    "# Числовые типы\n",
    "\n",
    "В математике существует следующие множества чисел: целые, рациональные, вещественные, комплексные числа. Каждому из типов в языке программирования Python соответствует тип данных:\n",
    "* логические переменные (`bool`)\n",
    "* целые (`int`)\n",
    "* рациональные (`fraction.Fraction`)\n",
    "* вещественные (`float`, `decimal.Decimal`)\n",
    "* комплексные (`complex`)"
   ]
  },
  {
   "cell_type": "markdown",
   "source": [
    "# Целочисленный тип (int)\n",
    "\n",
    "В отличии от многих языков, в Python в переменные типа `int` можно записывать большие числа. Их размер ограничивается доступной оперативной памяти компьютера:"
   ],
   "metadata": {
    "collapsed": false,
    "pycharm": {
     "name": "#%% md\n"
    }
   }
  },
  {
   "cell_type": "code",
   "execution_count": 20,
   "outputs": [
    {
     "name": "stdout",
     "output_type": "stream",
     "text": [
      "1606938044258990275541962092341162602522202993782792835301376\n",
      "100000000000000000\n"
     ]
    }
   ],
   "source": [
    "x = 16 ** 50 # 16 в 50 степени\n",
    "y = 100_000_000_000_000_000 # для лучшей читаемости можно использовать нижнее подчёркивание при написании чисел\n",
    "print(x)\n",
    "print(y)"
   ],
   "metadata": {
    "collapsed": false,
    "pycharm": {
     "name": "#%%\n"
    }
   }
  },
  {
   "cell_type": "markdown",
   "source": [
    "Под хранение значения может отводиться 4, 8, 12... байт. Очевидно, что если получаемое число велико, то операции над ними будут занимать больше времени.\n",
    "\n",
    "На данный момент под хранение объекта со значением 0 требуется 24 байта памяти:"
   ],
   "metadata": {
    "collapsed": false,
    "pycharm": {
     "name": "#%% md\n"
    }
   }
  },
  {
   "cell_type": "code",
   "execution_count": 21,
   "outputs": [
    {
     "name": "stdout",
     "output_type": "stream",
     "text": [
      "24\n"
     ]
    }
   ],
   "source": [
    "import sys\n",
    "\n",
    "print(sys.getsizeof(0))"
   ],
   "metadata": {
    "collapsed": false,
    "pycharm": {
     "name": "#%%\n"
    }
   }
  },
  {
   "cell_type": "markdown",
   "source": [
    "Откуда берётся такое значение? Всё в Python является объектами. Каждый из объектов хранит некоторую дополнительную информацию. Этим и обусловлены большие затраты даже для хранения маленьких значений."
   ],
   "metadata": {
    "collapsed": false,
    "pycharm": {
     "name": "#%% md\n"
    }
   }
  },
  {
   "cell_type": "markdown",
   "source": [
    "Можно заметить, что количество памяти при увеличении размера увеличивается на 4 байта (хотя для хранения каждого последующего значения требуется на 2 байта больше памяти):"
   ],
   "metadata": {
    "collapsed": false,
    "pycharm": {
     "name": "#%% md\n"
    }
   }
  },
  {
   "cell_type": "code",
   "execution_count": 22,
   "outputs": [
    {
     "name": "stdout",
     "output_type": "stream",
     "text": [
      "28 28 32 32 36 36 "
     ]
    }
   ],
   "source": [
    "t = 1\n",
    "for x in range(8, 100, 16):\n",
    "    print(sys.getsizeof(t << x), end=' ')"
   ],
   "metadata": {
    "collapsed": false,
    "pycharm": {
     "name": "#%%\n"
    }
   }
  },
  {
   "cell_type": "markdown",
   "source": [
    "# Операции над целыми\n",
    "\n",
    "Над целыми определены операции сложения (`+`), вычитания (`-`), умножения (`*`), деления (`/`), деления с округлением вниз (floor division) (`//`), взятия остатка от целочисленного деления (modulo) (`%`), возведение в степень (`**`). Операции интуитивно понятны. Наибольшую сложность вызывают операции, производящие деление. Отметьте для себя тот факт, что в результате деления получаются результаты разных типов:"
   ],
   "metadata": {
    "collapsed": false,
    "pycharm": {
     "name": "#%% md\n"
    }
   }
  },
  {
   "cell_type": "code",
   "execution_count": 23,
   "outputs": [
    {
     "name": "stdout",
     "output_type": "stream",
     "text": [
      "38.75 <class 'float'>\n",
      "38 <class 'int'>\n",
      "3 <class 'int'>\n"
     ]
    }
   ],
   "source": [
    "v1 = 155 / 4\n",
    "print(v1, type(v1))  # вещественное деление, как на калькуляторе\n",
    "v2 = 155 // 4\n",
    "print(v2, type(v2))  # целочисленное деление (как в начальной школе: получаем 38 и 3 в остатке)\n",
    "v3 = 155 % 4\n",
    "print(v3, type(v3))"
   ],
   "metadata": {
    "collapsed": false,
    "pycharm": {
     "name": "#%%\n"
    }
   }
  },
  {
   "cell_type": "markdown",
   "source": [
    "Пусть рассматривается число $n$ и число $d$, на которое производится деление числа $n$. Операции деление с округлением вниз и остаток от деления связаны тождеством:\n",
    "$$n = d * (n\\,//\\,d) + (n\\,\\%\\,d)$$"
   ],
   "metadata": {
    "collapsed": false,
    "pycharm": {
     "name": "#%% md\n"
    }
   }
  },
  {
   "cell_type": "markdown",
   "source": [
    "Важно отметить, как деление с округлением вниз работает в отрицательными значениями. Будет ошибочно говорить, что это простое деление, при котором откидывается вещественная часть:"
   ],
   "metadata": {
    "collapsed": false,
    "pycharm": {
     "name": "#%% md\n"
    }
   }
  },
  {
   "cell_type": "code",
   "execution_count": 24,
   "outputs": [
    {
     "name": "stdout",
     "output_type": "stream",
     "text": [
      "1\n",
      "-2\n"
     ]
    }
   ],
   "source": [
    "print(7 // 4)   # -> 1.75 -> 1   (выполнено округление вниз)\n",
    "print(-7 // 4)  # -> -1.75 -> -2 (выполнено округление вниз)"
   ],
   "metadata": {
    "collapsed": false,
    "pycharm": {
     "name": "#%%\n"
    }
   }
  },
  {
   "cell_type": "markdown",
   "source": [
    "Таким образом, ошибочно говорить, что деление с округлением вниз это то же самое, что и целочисленное деление (если бы оно работало как целочисленное деление во многих языках, то в результате целочисленного деления значения -7 на 4 получалось бы значение 1)."
   ],
   "metadata": {
    "collapsed": false,
    "pycharm": {
     "name": "#%% md\n"
    }
   }
  },
  {
   "cell_type": "code",
   "execution_count": 25,
   "outputs": [
    {
     "name": "stdout",
     "output_type": "stream",
     "text": [
      "13 // 4 = 3\n",
      "13 % 4 = 1\n",
      "n = d * (n // d) + (n % d) = 4 * (13 // 4) + (13 % 4) = 4 * 3 + 1\n",
      "\n",
      "13 // -4 = -4\n",
      "13 % -4 = -3\n",
      "n = d * (n // d) + (n % d) = -4 * (13 // -4) + (13 % -4) = -4 * -4 + -3\n",
      "\n",
      "-13 // 4 = -4\n",
      "-13 % 4 = 3\n",
      "n = d * (n // d) + (n % d) = 4 * (-13 // 4) + (-13 % 4) = 4 * -4 + 3\n",
      "\n",
      "-13 // -4 = 3\n",
      "-13 % -4 = -1\n",
      "n = d * (n // d) + (n % d) = -4 * (-13 // -4) + (-13 % -4) = -4 * 3 + -1\n",
      "\n"
     ]
    }
   ],
   "source": [
    "for n in [13, -13]:\n",
    "    for d in [4, -4]:\n",
    "        print(f\"{n} // {d} = {n // d}\")\n",
    "        print(f\"{n} % {d} = {n % d}\")\n",
    "        print(f\"n = d * (n // d) + (n % d) = \"\n",
    "              f\"{d} * ({n} // {d}) + ({n} % {d}) = {d} * {(n // d)} + {(n % d)}\")\n",
    "        print()"
   ],
   "metadata": {
    "collapsed": false,
    "pycharm": {
     "name": "#%%\n"
    }
   }
  },
  {
   "cell_type": "markdown",
   "source": [
    "## Конструкторы целых чисел"
   ],
   "metadata": {
    "collapsed": false,
    "pycharm": {
     "name": "#%% md\n"
    }
   }
  },
  {
   "cell_type": "markdown",
   "source": [
    "**Конструктор** -- специальная функция, которая требуется для того, чтобы создать объект определенного класса"
   ],
   "metadata": {
    "collapsed": false,
    "pycharm": {
     "name": "#%% md\n"
    }
   }
  },
  {
   "cell_type": "code",
   "execution_count": 26,
   "outputs": [
    {
     "name": "stdout",
     "output_type": "stream",
     "text": [
      "10\n"
     ]
    }
   ],
   "source": [
    "a = int(10)\n",
    "print(a)"
   ],
   "metadata": {
    "collapsed": false,
    "pycharm": {
     "name": "#%%\n"
    }
   }
  },
  {
   "cell_type": "code",
   "execution_count": 27,
   "outputs": [
    {
     "name": "stdout",
     "output_type": "stream",
     "text": [
      "-10\n"
     ]
    }
   ],
   "source": [
    "a = int(-10.5)  # вещественная часть откидывается\n",
    "print(a)"
   ],
   "metadata": {
    "collapsed": false,
    "pycharm": {
     "name": "#%%\n"
    }
   }
  },
  {
   "cell_type": "markdown",
   "source": [
    "Значения \"истина\" и \"ложь\" трактуются как 1 и 0:"
   ],
   "metadata": {
    "collapsed": false,
    "pycharm": {
     "name": "#%% md\n"
    }
   }
  },
  {
   "cell_type": "code",
   "execution_count": 28,
   "outputs": [
    {
     "name": "stdout",
     "output_type": "stream",
     "text": [
      "1 0\n"
     ]
    }
   ],
   "source": [
    "print(int(True), int(False))"
   ],
   "metadata": {
    "collapsed": false,
    "pycharm": {
     "name": "#%%\n"
    }
   }
  },
  {
   "cell_type": "markdown",
   "source": [
    "Eсли строка может быть преобразована в целое число, происходит такое преобразование:"
   ],
   "metadata": {
    "collapsed": false,
    "pycharm": {
     "name": "#%% md\n"
    }
   }
  },
  {
   "cell_type": "code",
   "execution_count": 29,
   "outputs": [
    {
     "name": "stdout",
     "output_type": "stream",
     "text": [
      "10\n"
     ]
    }
   ],
   "source": [
    "print(int(\"10\"))\n",
    "# print(int(\"10.0\")) -> ошибка, так как в строке записано нецелое"
   ],
   "metadata": {
    "collapsed": false,
    "pycharm": {
     "name": "#%%\n"
    }
   }
  },
  {
   "cell_type": "markdown",
   "source": [
    "Eсли целое считывается из строки, в качестве второго параметра для конструктора целых чисел можно указать основание системы счисления:"
   ],
   "metadata": {
    "collapsed": false,
    "pycharm": {
     "name": "#%% md\n"
    }
   }
  },
  {
   "cell_type": "code",
   "execution_count": 30,
   "outputs": [
    {
     "name": "stdout",
     "output_type": "stream",
     "text": [
      "42\n",
      "161\n"
     ]
    }
   ],
   "source": [
    "print(int(\"101010\", 2))  # 101010_2 -> 42\n",
    "print(int(\"A1\", 16))     # A1_16 -> 161"
   ],
   "metadata": {
    "collapsed": false,
    "pycharm": {
     "name": "#%%\n"
    }
   }
  },
  {
   "cell_type": "markdown",
   "source": [
    "Получение строки, в которой записано число в двоичном, восьмеричном, шестнадцатеричном представлении\n"
   ],
   "metadata": {
    "collapsed": false,
    "pycharm": {
     "name": "#%% md\n"
    }
   }
  },
  {
   "cell_type": "code",
   "execution_count": 31,
   "outputs": [
    {
     "name": "stdout",
     "output_type": "stream",
     "text": [
      "0b101010 0o52 0x2a\n"
     ]
    }
   ],
   "source": [
    "print(bin(42), oct(42), hex(42))"
   ],
   "metadata": {
    "collapsed": false,
    "pycharm": {
     "name": "#%%\n"
    }
   }
  },
  {
   "cell_type": "markdown",
   "source": [
    "При необходимости перевода в другие системы счисления можно написать свою функцию:"
   ],
   "metadata": {
    "collapsed": false,
    "pycharm": {
     "name": "#%% md\n"
    }
   }
  },
  {
   "cell_type": "code",
   "execution_count": 32,
   "outputs": [
    {
     "name": "stdout",
     "output_type": "stream",
     "text": [
      "101010 1120 2A 1I\n"
     ]
    }
   ],
   "source": [
    "import string\n",
    "\n",
    "\n",
    "def to_base(n, base):\n",
    "    if n == 0:\n",
    "        return 0\n",
    "    elif n < 0 or base < 2 or base > 10 + 26:  # 10 цифр + 26 букв английского алфавита\n",
    "        raise ValueError\n",
    "\n",
    "    digits = []\n",
    "    while n != 0:\n",
    "        digit = n % base\n",
    "        digits.append(digit)\n",
    "        n //= base\n",
    "\n",
    "    digits = digits[::-1]\n",
    "    digits_list = string.digits + string.ascii_uppercase\n",
    "\n",
    "    return \"\".join([digits_list[x] for x in digits])\n",
    "\n",
    "\n",
    "print(to_base(42, 2), to_base(42, 3), to_base(42, 16), to_base(42, 24))"
   ],
   "metadata": {
    "collapsed": false,
    "pycharm": {
     "name": "#%%\n"
    }
   }
  },
  {
   "cell_type": "markdown",
   "source": [
    "# Рациональные числа"
   ],
   "metadata": {
    "collapsed": false,
    "pycharm": {
     "name": "#%% md\n"
    }
   }
  },
  {
   "cell_type": "markdown",
   "source": [
    "В модуле `fractions` определен класс дробь `Fraction`:"
   ],
   "metadata": {
    "collapsed": false,
    "pycharm": {
     "name": "#%% md\n"
    }
   }
  },
  {
   "cell_type": "code",
   "execution_count": 33,
   "outputs": [
    {
     "name": "stdout",
     "output_type": "stream",
     "text": [
      "7/12\n"
     ]
    }
   ],
   "source": [
    "from fractions import Fraction\n",
    "\n",
    "x = Fraction(1, 4)\n",
    "y = Fraction(1, 3)\n",
    "print(x + y)"
   ],
   "metadata": {
    "collapsed": false,
    "pycharm": {
     "name": "#%%\n"
    }
   }
  },
  {
   "cell_type": "markdown",
   "source": [
    "При оперировании дробями происходит их автоматическое упрощение:"
   ],
   "metadata": {
    "collapsed": false,
    "pycharm": {
     "name": "#%% md\n"
    }
   }
  },
  {
   "cell_type": "code",
   "execution_count": 34,
   "outputs": [
    {
     "name": "stdout",
     "output_type": "stream",
     "text": [
      "2/5\n"
     ]
    }
   ],
   "source": [
    "print(Fraction(4, 10))"
   ],
   "metadata": {
    "collapsed": false,
    "pycharm": {
     "name": "#%%\n"
    }
   }
  },
  {
   "cell_type": "code",
   "execution_count": 35,
   "outputs": [
    {
     "name": "stdout",
     "output_type": "stream",
     "text": [
      "1/2\n"
     ]
    }
   ],
   "source": [
    "x = Fraction(1, 4)\n",
    "print(x * 2)"
   ],
   "metadata": {
    "collapsed": false,
    "pycharm": {
     "name": "#%%\n"
    }
   }
  },
  {
   "cell_type": "markdown",
   "source": [
    "Знак дроби всегда хранится в числителе:"
   ],
   "metadata": {
    "collapsed": false,
    "pycharm": {
     "name": "#%% md\n"
    }
   }
  },
  {
   "cell_type": "code",
   "execution_count": 36,
   "outputs": [
    {
     "name": "stdout",
     "output_type": "stream",
     "text": [
      "-2/5\n"
     ]
    }
   ],
   "source": [
    "print(Fraction(4, -10))"
   ],
   "metadata": {
    "collapsed": false,
    "pycharm": {
     "name": "#%%\n"
    }
   }
  },
  {
   "cell_type": "markdown",
   "source": [
    "Вещественное число может быть переведено в дробь"
   ],
   "metadata": {
    "collapsed": false,
    "pycharm": {
     "name": "#%% md\n"
    }
   }
  },
  {
   "cell_type": "code",
   "execution_count": 37,
   "outputs": [
    {
     "name": "stdout",
     "output_type": "stream",
     "text": [
      "1/4\n"
     ]
    }
   ],
   "source": [
    "print(Fraction(0.25))"
   ],
   "metadata": {
    "collapsed": false,
    "pycharm": {
     "name": "#%%\n"
    }
   }
  },
  {
   "cell_type": "markdown",
   "source": [
    "Бесконечные непериодические дроби будут аппроксимированы:"
   ],
   "metadata": {
    "collapsed": false,
    "pycharm": {
     "name": "#%% md\n"
    }
   }
  },
  {
   "cell_type": "code",
   "execution_count": 38,
   "outputs": [
    {
     "name": "stdout",
     "output_type": "stream",
     "text": [
      "884279719003555/281474976710656\n",
      "3.141592653589793\n"
     ]
    }
   ],
   "source": [
    "from math import pi\n",
    "\n",
    "print(Fraction(pi))\n",
    "print(884279719003555 / 281474976710656)"
   ],
   "metadata": {
    "collapsed": false,
    "pycharm": {
     "name": "#%%\n"
    }
   }
  },
  {
   "cell_type": "markdown",
   "source": [
    "В силу проблем с представлением вещественных чисел, не всегда перевод будет происходить так, как ожидалось:"
   ],
   "metadata": {
    "collapsed": false,
    "pycharm": {
     "name": "#%% md\n"
    }
   }
  },
  {
   "cell_type": "code",
   "execution_count": 39,
   "outputs": [
    {
     "name": "stdout",
     "output_type": "stream",
     "text": [
      "5404319552844595/18014398509481984\n"
     ]
    }
   ],
   "source": [
    "print(Fraction(0.3))  # очевидно, что может быть представлено как 3/10"
   ],
   "metadata": {
    "collapsed": false,
    "pycharm": {
     "name": "#%%\n"
    }
   }
  },
  {
   "cell_type": "markdown",
   "source": [
    "Можно ограничить значение знаменателя:"
   ],
   "metadata": {
    "collapsed": false,
    "pycharm": {
     "name": "#%% md\n"
    }
   }
  },
  {
   "cell_type": "code",
   "execution_count": 40,
   "outputs": [
    {
     "name": "stdout",
     "output_type": "stream",
     "text": [
      "22/7\n",
      "3.142857142857143\n",
      "355/113\n",
      "3.1415929203539825\n"
     ]
    }
   ],
   "source": [
    "print(Fraction(pi).limit_denominator(10))\n",
    "print(22 / 7)\n",
    "print(Fraction(pi).limit_denominator(10000))\n",
    "print(355 / 113)"
   ],
   "metadata": {
    "collapsed": false,
    "pycharm": {
     "name": "#%%\n"
    }
   }
  },
  {
   "cell_type": "code",
   "execution_count": 41,
   "outputs": [
    {
     "name": "stdout",
     "output_type": "stream",
     "text": [
      "1/5 1/8\n"
     ]
    }
   ],
   "source": [
    "# Дробь может быть считана из строки\n",
    "print(Fraction(\"1/5\"), Fraction(\"0.125\"))"
   ],
   "metadata": {
    "collapsed": false,
    "pycharm": {
     "name": "#%%\n"
    }
   }
  },
  {
   "cell_type": "code",
   "execution_count": 42,
   "outputs": [
    {
     "name": "stdout",
     "output_type": "stream",
     "text": [
      "5/6\n",
      "1/6\n",
      "1/6\n",
      "3/2\n",
      "1\n",
      "1/6\n",
      "0.7937005259840998\n"
     ]
    }
   ],
   "source": [
    "# Над дробями определены операции +, -, *, /, //, %, **:\n",
    "x = Fraction(1, 2)\n",
    "y = Fraction(1, 3)\n",
    "print(x + y)\n",
    "print(x - y)\n",
    "print(x * y)\n",
    "print(x / y)\n",
    "print(x // y)\n",
    "print(x % y)\n",
    "print(x ** y)"
   ],
   "metadata": {
    "collapsed": false,
    "pycharm": {
     "name": "#%%\n"
    }
   }
  },
  {
   "cell_type": "markdown",
   "source": [
    "# Вещественные числа\n",
    "\n",
    "Вещественные числа в Python занимают 8 байт. Если более точно:\n",
    "* 1 бит отводится под знак\n",
    "* 11 бит под экспоненту\n",
    "* 52 бита под значащие цифры (15-17 цифр)\n",
    "\n",
    "\n",
    "Важно понимать, что не все значения могут быть точно представлены в памяти ЭВМ. Возможность проверки представления можно осуществить, если запросить большое количество знаков после запятой:"
   ],
   "metadata": {
    "collapsed": false,
    "pycharm": {
     "name": "#%% md\n"
    }
   }
  },
  {
   "cell_type": "code",
   "execution_count": 43,
   "outputs": [
    {
     "name": "stdout",
     "output_type": "stream",
     "text": [
      "0.1\n",
      "0.10000\n",
      "0.1000000000\n",
      "0.1000000000000000055511151\n"
     ]
    }
   ],
   "source": [
    "x = 0.1\n",
    "print(x)\n",
    "print(format(x, '.5f'))\n",
    "print(format(x, '.10f'))\n",
    "print(format(x, '.25f'))  # 0.1 не может быть точно представлено в памяти ЭВМ"
   ],
   "metadata": {
    "collapsed": false,
    "pycharm": {
     "name": "#%%\n"
    }
   }
  },
  {
   "cell_type": "code",
   "execution_count": 44,
   "outputs": [
    {
     "name": "stdout",
     "output_type": "stream",
     "text": [
      "0.125\n",
      "0.12500\n",
      "0.1250000000\n",
      "0.1250000000000000000000000\n"
     ]
    }
   ],
   "source": [
    "x = 0.125\n",
    "print(x)\n",
    "print(format(x, '.5f'))\n",
    "print(format(x, '.10f'))\n",
    "print(format(x, '.25f'))  # 0.125 может быть точно представлено в памяти ЭВМ"
   ],
   "metadata": {
    "collapsed": false,
    "pycharm": {
     "name": "#%%\n"
    }
   }
  },
  {
   "cell_type": "markdown",
   "source": [
    "В связи с этим, возникает проблема сравнения вещественных значений. Например:"
   ],
   "metadata": {
    "collapsed": false,
    "pycharm": {
     "name": "#%% md\n"
    }
   }
  },
  {
   "cell_type": "code",
   "execution_count": 45,
   "outputs": [
    {
     "name": "stdout",
     "output_type": "stream",
     "text": [
      "False\n",
      "0.3000000000000000444089210 0.2999999999999999888977698\n"
     ]
    }
   ],
   "source": [
    "a = 0.1 + 0.1 + 0.1\n",
    "b = 0.3\n",
    "print(a == b)\n",
    "print(format(a, '.25f'), format(b, '.25f'))  # можно увидеть, что числа являются разными"
   ],
   "metadata": {
    "collapsed": false,
    "pycharm": {
     "name": "#%%\n"
    }
   }
  },
  {
   "cell_type": "markdown",
   "source": [
    "Сравнивать вещественные можно используя функцию `round`. В примере ниже сравниваются вещественные, округлённые до 5 знака после запятой"
   ],
   "metadata": {
    "collapsed": false,
    "pycharm": {
     "name": "#%% md\n"
    }
   }
  },
  {
   "cell_type": "code",
   "execution_count": 46,
   "outputs": [
    {
     "name": "stdout",
     "output_type": "stream",
     "text": [
      "True\n"
     ]
    }
   ],
   "source": [
    "a = 0.1 + 0.1 + 0.1\n",
    "b = 0.3\n",
    "print(round(a, 5) == round(b, 5))"
   ],
   "metadata": {
    "collapsed": false,
    "pycharm": {
     "name": "#%%\n"
    }
   }
  },
  {
   "cell_type": "markdown",
   "source": [
    "Eщё один подход: вещественные равны, если модуль разности между ними не превышает некоторое tolerance"
   ],
   "metadata": {
    "collapsed": false,
    "pycharm": {
     "name": "#%% md\n"
    }
   }
  },
  {
   "cell_type": "code",
   "execution_count": 47,
   "outputs": [
    {
     "name": "stdout",
     "output_type": "stream",
     "text": [
      "True\n",
      "True\n"
     ]
    }
   ],
   "source": [
    "def is_equal(a, b, tolerance: float = 0.000000001):\n",
    "    return abs(a - b) < tolerance\n",
    "\n",
    "\n",
    "a = 0.1 + 0.1 + 0.1\n",
    "b = 0.3\n",
    "print(is_equal(a, b))\n",
    "# Недостаток подхода: плохо сравнивает значения близкие к 0. Второе число в примере ниже в 10^16 раз больше, но такой алгоритм сравнения считает их равными\n",
    "print(is_equal(0.000000000001, 0.0000000000000000000000000001))"
   ],
   "metadata": {
    "collapsed": false,
    "pycharm": {
     "name": "#%%\n"
    }
   }
  },
  {
   "cell_type": "markdown",
   "source": [
    "Eщё один подход: найдём отклонение и вычислим какой процент оно составляет от максимального значения"
   ],
   "metadata": {
    "collapsed": false,
    "pycharm": {
     "name": "#%% md\n"
    }
   }
  },
  {
   "cell_type": "code",
   "execution_count": 48,
   "outputs": [
    {
     "name": "stdout",
     "output_type": "stream",
     "text": [
      "True\n",
      "False\n"
     ]
    }
   ],
   "source": [
    "def is_equal(a: float, b: float, rel_tolerance: float = 0.000001):\n",
    "    \"\"\"\n",
    "    rel_tolerance: максимальное допустимое отклонение в процентах от максимума\n",
    "    \"\"\"\n",
    "    tolerance = max(a, b) * rel_tolerance\n",
    "    return abs(a - b) < tolerance\n",
    "\n",
    "\n",
    "a = 0.1 + 0.1 + 0.1\n",
    "b = 0.3\n",
    "print(is_equal(a, b))\n",
    "print(is_equal(0.000000000001, 0.0000000000000000000000000001))"
   ],
   "metadata": {
    "collapsed": false,
    "pycharm": {
     "name": "#%%\n"
    }
   }
  },
  {
   "cell_type": "markdown",
   "source": [
    "В модуле `math` имеется функция для сравнения вещественных в обоих подходах, описанных выше"
   ],
   "metadata": {
    "collapsed": false,
    "pycharm": {
     "name": "#%% md\n"
    }
   }
  },
  {
   "cell_type": "code",
   "execution_count": 49,
   "outputs": [
    {
     "name": "stdout",
     "output_type": "stream",
     "text": [
      "True\n",
      "True\n"
     ]
    }
   ],
   "source": [
    "from math import isclose\n",
    "\n",
    "a = 0.1 + 0.1 + 0.1\n",
    "b = 0.3\n",
    "print(isclose(a, b, rel_tol=0.00001))\n",
    "print(isclose(a, b, abs_tol=0.0000001))"
   ],
   "metadata": {
    "collapsed": false,
    "pycharm": {
     "name": "#%%\n"
    }
   }
  },
  {
   "cell_type": "markdown",
   "source": [
    "# Конвертация вещественных в целое"
   ],
   "metadata": {
    "collapsed": false,
    "pycharm": {
     "name": "#%% md\n"
    }
   }
  },
  {
   "cell_type": "markdown",
   "source": [
    "При конвертировании вещественного в целое, часть после запятой отбрасывается:"
   ],
   "metadata": {
    "collapsed": false,
    "pycharm": {
     "name": "#%% md\n"
    }
   }
  },
  {
   "cell_type": "code",
   "execution_count": 50,
   "outputs": [
    {
     "name": "stdout",
     "output_type": "stream",
     "text": [
      "10 -10\n"
     ]
    }
   ],
   "source": [
    "x = int(10.4)\n",
    "y = int(-10.4)\n",
    "print(x, y)"
   ],
   "metadata": {
    "collapsed": false,
    "pycharm": {
     "name": "#%%\n"
    }
   }
  },
  {
   "cell_type": "markdown",
   "source": [
    "В библиотеке `math` определены разные функции округления:"
   ],
   "metadata": {
    "collapsed": false,
    "pycharm": {
     "name": "#%% md\n"
    }
   }
  },
  {
   "cell_type": "code",
   "execution_count": 51,
   "outputs": [
    {
     "name": "stdout",
     "output_type": "stream",
     "text": [
      "10 11\n",
      "-11 -10\n"
     ]
    }
   ],
   "source": [
    "from math import floor, ceil\n",
    "\n",
    "print(floor(10.4), ceil(10.4))\n",
    "print(floor(-10.4), ceil(-10.4))"
   ],
   "metadata": {
    "collapsed": false,
    "pycharm": {
     "name": "#%%\n"
    }
   }
  },
  {
   "cell_type": "markdown",
   "source": [
    "Округление вещественных до разного количества знаков после запятой:"
   ],
   "metadata": {
    "collapsed": false,
    "pycharm": {
     "name": "#%% md\n"
    }
   }
  },
  {
   "cell_type": "code",
   "execution_count": 52,
   "outputs": [
    {
     "name": "stdout",
     "output_type": "stream",
     "text": [
      "5412\n",
      "5412.0 5412.5 5412.45\n",
      "5410.0\n",
      "5400.0\n"
     ]
    }
   ],
   "source": [
    "x = 5412.454\n",
    "print(round(x))      # без второго параметра всегда вернёт int\n",
    "print(round(x, 0), round(x, 1),\n",
    "      round(x, 2))   # при указании второго параметра всегда вернёт тот тип, что был у первого аргумента\n",
    "print(round(x, -1))  # округление до 1 цифры до запятой\n",
    "print(round(x, -2))  # округление до 2 цифры до запятой"
   ],
   "metadata": {
    "collapsed": false,
    "pycharm": {
     "name": "#%%\n"
    }
   }
  },
  {
   "cell_type": "markdown",
   "source": [
    "Интересно происходит округление вещественных, когда абсолютное отклонение до тех значений, до которых они могут быть округлены одинаковое:"
   ],
   "metadata": {
    "collapsed": false,
    "pycharm": {
     "name": "#%% md\n"
    }
   }
  },
  {
   "cell_type": "code",
   "execution_count": 53,
   "outputs": [
    {
     "name": "stdout",
     "output_type": "stream",
     "text": [
      "1.2\n",
      "1.4\n",
      "1.4\n",
      "1.6\n"
     ]
    }
   ],
   "source": [
    "print(round(1.25, 1))  # округление вниз\n",
    "print(round(1.35, 1))  # округление вверх\n",
    "print(round(1.45, 1))  # округление вниз\n",
    "print(round(1.55, 1))  # округление вверх\n",
    "# в таком случае округление ведётся таким образом, чтобы последняя цифра округленного значения была четной"
   ],
   "metadata": {
    "collapsed": false,
    "pycharm": {
     "name": "#%%\n"
    }
   }
  },
  {
   "cell_type": "markdown",
   "source": [
    "При необходимости округлять по правилам математики можно использовать подход"
   ],
   "metadata": {
    "collapsed": false,
    "pycharm": {
     "name": "#%% md\n"
    }
   }
  },
  {
   "cell_type": "code",
   "execution_count": 54,
   "outputs": [
    {
     "name": "stdout",
     "output_type": "stream",
     "text": [
      "3 2\n"
     ]
    }
   ],
   "source": [
    "from math import copysign\n",
    "\n",
    "\n",
    "def math_round(x: float):\n",
    "    return int(x + 0.5 * copysign(1, x))\n",
    "\n",
    "\n",
    "print(math_round(2.5), round(2.5))"
   ],
   "metadata": {
    "collapsed": false,
    "pycharm": {
     "name": "#%%\n"
    }
   }
  },
  {
   "cell_type": "markdown",
   "source": [
    "## Логический тип\n",
    "\n",
    "Логический тип `bool` является подклассом типа `int`. Переменные данного типа принимают значение истина (`True`) и ложь (`False`).\n",
    "\n",
    "Каждому объекту в языке программирования Python может быть сопоставлено значение истина или ложь:\n",
    "* Любое числовое значение, отличное от 0 трактуется как `True`\n",
    "* Любая пустая коллекция (словарь, список, кортеж, множество) трактуются как `False` в противном случае -- `True`\n",
    "* `None` трактуется как `False`\n",
    "* Если класс имеет метод `__len__` / `__bool__` и он возвращает `0` / `False`, то объект трактуется как `False`\n",
    "<p align=\"center\">\n",
    "  <img src=\"images/Truthiness.PNG\" alt=\"drawing\" width=\"600\"/>\n",
    "</p>\n"
   ],
   "metadata": {
    "collapsed": false,
    "pycharm": {
     "name": "#%% md\n"
    }
   }
  },
  {
   "cell_type": "code",
   "execution_count": 55,
   "outputs": [
    {
     "name": "stdout",
     "output_type": "stream",
     "text": [
      "1 is True\n",
      "0.0 is False\n",
      "[] is False\n",
      "[1, 2, 3] is True\n",
      "() is False\n",
      "(1, 2, 3) is True\n",
      "None is False\n"
     ]
    }
   ],
   "source": [
    "def isTrue(x):\n",
    "    print(x, end=\" is \")\n",
    "    if x:\n",
    "        print(\"True\")\n",
    "    else:\n",
    "        print(\"False\")\n",
    "\n",
    "isTrue(1)\n",
    "isTrue(0.0)\n",
    "isTrue([])\n",
    "isTrue([1, 2, 3])\n",
    "isTrue(())\n",
    "isTrue((1, 2, 3))\n",
    "isTrue(None)"
   ],
   "metadata": {
    "collapsed": false,
    "pycharm": {
     "name": "#%%\n"
    }
   }
  },
  {
   "cell_type": "code",
   "execution_count": 56,
   "outputs": [
    {
     "data": {
      "text/plain": "True"
     },
     "execution_count": 56,
     "metadata": {},
     "output_type": "execute_result"
    }
   ],
   "source": [
    "issubclass(bool, int)"
   ],
   "metadata": {
    "collapsed": false,
    "pycharm": {
     "name": "#%%\n"
    }
   }
  },
  {
   "cell_type": "markdown",
   "source": [
    "Имеется одна тонкость значения `True` и `False` являются синглтонами. Несмотря на то, что они трактуются как `0` и `1`, можно заметить, что:"
   ],
   "metadata": {
    "collapsed": false,
    "pycharm": {
     "name": "#%% md\n"
    }
   }
  },
  {
   "cell_type": "code",
   "execution_count": 57,
   "outputs": [
    {
     "name": "stdout",
     "output_type": "stream",
     "text": [
      "True True\n",
      "140718382431080 1497492095216\n",
      "140718382431080 140718382431080\n"
     ]
    }
   ],
   "source": [
    "print(True == 1, False == 0)\n",
    "print(id(True), id(1))     # 0 и 1 располагаются в разных участках памяти\n",
    "print(id(3 < 4), id(True)) # значение True лежит в одном и том же месте вне зависимости от того, как получен результат"
   ],
   "metadata": {
    "collapsed": false,
    "pycharm": {
     "name": "#%%\n"
    }
   }
  },
  {
   "cell_type": "markdown",
   "source": [
    "В силу трактования их значений как 0 и 1 корректно поведение:"
   ],
   "metadata": {
    "collapsed": false,
    "pycharm": {
     "name": "#%% md\n"
    }
   }
  },
  {
   "cell_type": "code",
   "execution_count": 58,
   "outputs": [
    {
     "name": "stdout",
     "output_type": "stream",
     "text": [
      "True\n",
      "3\n"
     ]
    }
   ],
   "source": [
    "print(True > False)\n",
    "print(True * 3)"
   ],
   "metadata": {
    "collapsed": false,
    "pycharm": {
     "name": "#%%\n"
    }
   }
  },
  {
   "cell_type": "markdown",
   "source": [
    "Конструкция вида:"
   ],
   "metadata": {
    "collapsed": false,
    "pycharm": {
     "name": "#%% md\n"
    }
   }
  },
  {
   "cell_type": "code",
   "execution_count": 59,
   "outputs": [],
   "source": [
    "my_list = [1, 2, 3]\n",
    "if my_list:\n",
    "    pass"
   ],
   "metadata": {
    "collapsed": false,
    "pycharm": {
     "name": "#%%\n"
    }
   }
  },
  {
   "cell_type": "markdown",
   "source": [
    "неявно преобразуется в:"
   ],
   "metadata": {
    "collapsed": false,
    "pycharm": {
     "name": "#%% md\n"
    }
   }
  },
  {
   "cell_type": "code",
   "execution_count": 60,
   "outputs": [],
   "source": [
    "my_list = [1, 2, 3]\n",
    "if my_list is not None and len(my_list) > 0:\n",
    "    pass"
   ],
   "metadata": {
    "collapsed": false,
    "pycharm": {
     "name": "#%%\n"
    }
   }
  },
  {
   "cell_type": "markdown",
   "source": [
    "Интересна работа операций `or` и `and`. Каждая из них возвращает значение операнда, на котором остановилось вычисление (операнд, на котором было понятно, была ли получена 'истина' или 'ложь'). `X and Y` возвращает значение `X` если оно ложно, в противном случае возвращается значение `Y`. `X or Y` возвращает значение `X` если оно истина, в противном случае возвращается значение `Y`."
   ],
   "metadata": {
    "collapsed": false,
    "pycharm": {
     "name": "#%% md\n"
    }
   }
  },
  {
   "cell_type": "code",
   "execution_count": 61,
   "outputs": [
    {
     "name": "stdout",
     "output_type": "stream",
     "text": [
      "Bad value\n"
     ]
    }
   ],
   "source": [
    "a = 5\n",
    "if a != 0 and a > 5:\n",
    "    print(\"Good value\")\n",
    "else:\n",
    "    print(\"Bad value\")"
   ],
   "metadata": {
    "collapsed": false,
    "pycharm": {
     "name": "#%%\n"
    }
   }
  },
  {
   "cell_type": "code",
   "execution_count": 62,
   "outputs": [
    {
     "name": "stdout",
     "output_type": "stream",
     "text": [
      "Good value\n"
     ]
    }
   ],
   "source": [
    "a = 6\n",
    "if a != 0 and a > 5:\n",
    "    print(\"Good value\")\n",
    "else:\n",
    "    print(\"Bad value\")"
   ],
   "metadata": {
    "collapsed": false,
    "pycharm": {
     "name": "#%%\n"
    }
   }
  },
  {
   "cell_type": "code",
   "execution_count": 63,
   "outputs": [
    {
     "name": "stdout",
     "output_type": "stream",
     "text": [
      "Good value\n"
     ]
    }
   ],
   "source": [
    "a = 3\n",
    "if a == 3 or a != 0 and a > 5:\n",
    "    print(\"Good value\")\n",
    "else:\n",
    "    print(\"Bad value\")"
   ],
   "metadata": {
    "collapsed": false,
    "pycharm": {
     "name": "#%%\n"
    }
   }
  },
  {
   "cell_type": "code",
   "execution_count": 64,
   "outputs": [
    {
     "name": "stdout",
     "output_type": "stream",
     "text": [
      "A B   F\n",
      "0 0 | 0\n",
      "0 1 | 0\n",
      "1 0 | 0\n",
      "1 1 | 1\n"
     ]
    }
   ],
   "source": [
    "print(\"A B   F\")\n",
    "for a in [False, True]:\n",
    "    for b in [False, True]:\n",
    "        print(f\"{int(a)} {int(b)} | {int(a and b)}\")"
   ],
   "metadata": {
    "collapsed": false,
    "pycharm": {
     "name": "#%%\n"
    }
   }
  },
  {
   "cell_type": "code",
   "execution_count": 65,
   "outputs": [
    {
     "name": "stdout",
     "output_type": "stream",
     "text": [
      "A B   F\n",
      "0 0 | 0\n",
      "0 1 | 1\n",
      "1 0 | 1\n",
      "1 1 | 1\n"
     ]
    }
   ],
   "source": [
    "print(\"A B   F\")\n",
    "for a in [False, True]:\n",
    "    for b in [False, True]:\n",
    "        print(f\"{int(a)} {int(b)} | {int(a or b)}\")"
   ],
   "metadata": {
    "collapsed": false,
    "pycharm": {
     "name": "#%%\n"
    }
   }
  },
  {
   "cell_type": "code",
   "execution_count": 66,
   "outputs": [
    {
     "name": "stdout",
     "output_type": "stream",
     "text": [
      "True\n",
      "10\n",
      "True\n",
      "0\n"
     ]
    }
   ],
   "source": [
    "a, b = True, False\n",
    "c, d = 10, 0\n",
    "\n",
    "print(a or c)\n",
    "print(c or a)\n",
    "print(b or a)\n",
    "print(b or d)"
   ],
   "metadata": {
    "collapsed": false,
    "pycharm": {
     "name": "#%%\n"
    }
   }
  },
  {
   "cell_type": "code",
   "execution_count": 67,
   "outputs": [
    {
     "name": "stdout",
     "output_type": "stream",
     "text": [
      "10\n",
      "True\n",
      "False\n",
      "False\n"
     ]
    }
   ],
   "source": [
    "a, b = True, False\n",
    "c, d = 10, 0\n",
    "print(a and c)\n",
    "print(c and a)\n",
    "print(b and a)\n",
    "print(b and d)"
   ],
   "metadata": {
    "collapsed": false,
    "pycharm": {
     "name": "#%%\n"
    }
   }
  },
  {
   "cell_type": "code",
   "execution_count": 68,
   "outputs": [
    {
     "name": "stdout",
     "output_type": "stream",
     "text": [
      "2.0\n",
      "0\n",
      "h\n",
      "\n"
     ]
    }
   ],
   "source": [
    "# Приём может использоваться для вычисления среднего значения\n",
    "a = [1, 2, 3]\n",
    "print(len(a) and sum(a) / len(a))\n",
    "\n",
    "a = []\n",
    "print(len(a) and sum(a) / len(a))\n",
    "\n",
    "# Поиск первого символа в строке\n",
    "s = \"hello\"\n",
    "print(s and s[0])\n",
    "\n",
    "s = \"\"\n",
    "print(s and s[0])"
   ],
   "metadata": {
    "collapsed": false,
    "pycharm": {
     "name": "#%%\n"
    }
   }
  },
  {
   "cell_type": "markdown",
   "source": [
    "### Операции сравнения\n",
    "* `is`, `not is`\n",
    "* `==`, `!=`\n",
    "* `<`, `<=`, `>`, `>=`"
   ],
   "metadata": {
    "collapsed": false,
    "pycharm": {
     "name": "#%% md\n"
    }
   }
  },
  {
   "cell_type": "code",
   "execution_count": 69,
   "outputs": [
    {
     "name": "stdout",
     "output_type": "stream",
     "text": [
      "True\n",
      "False\n",
      "True\n",
      "False\n",
      "False\n"
     ]
    }
   ],
   "source": [
    "a = 4\n",
    "print(a == 4)\n",
    "print(a == 5)\n",
    "print(a < 10)\n",
    "print(a < 10 and a > 7)\n",
    "print(7 < a < 10)"
   ],
   "metadata": {
    "collapsed": false,
    "pycharm": {
     "name": "#%%\n"
    }
   }
  },
  {
   "cell_type": "markdown",
   "source": [
    "В языке программирования Python допускаются цепочки сравнений (chained comparison):"
   ],
   "metadata": {
    "collapsed": false,
    "pycharm": {
     "name": "#%% md\n"
    }
   }
  },
  {
   "cell_type": "code",
   "execution_count": 70,
   "outputs": [
    {
     "name": "stdout",
     "output_type": "stream",
     "text": [
      "True\n"
     ]
    }
   ],
   "source": [
    "# запись цепочкой\n",
    "a, b, c = 1, 3, 5\n",
    "if a < b < c:\n",
    "    print(True)\n",
    "\n",
    "# второй вариант:\n",
    "# if a < b and b < c:\n",
    "#    print(True)"
   ],
   "metadata": {
    "collapsed": false,
    "pycharm": {
     "name": "#%%\n"
    }
   }
  },
  {
   "cell_type": "code",
   "execution_count": 71,
   "outputs": [
    {
     "name": "stdout",
     "output_type": "stream",
     "text": [
      "1\n"
     ]
    }
   ],
   "source": [
    "# минимум можно искать более эффективно, пример представлен в ознакомительных целях:\n",
    "a, b, c = map(int, input().split())\n",
    "if a < b < c:  # -> a < b and b < c\n",
    "    print(a)\n",
    "elif b < c:\n",
    "    print(b)\n",
    "else:\n",
    "    print(c)"
   ],
   "metadata": {
    "collapsed": false,
    "pycharm": {
     "name": "#%%\n"
    }
   }
  },
  {
   "cell_type": "code",
   "execution_count": 72,
   "outputs": [
    {
     "name": "stdout",
     "output_type": "stream",
     "text": [
      "True\n",
      "1497492095312 1497492095312\n"
     ]
    }
   ],
   "source": [
    "a = 4\n",
    "b = 4\n",
    "print(a is b)\n",
    "print(id(a), id(b))"
   ],
   "metadata": {
    "collapsed": false,
    "pycharm": {
     "name": "#%%\n"
    }
   }
  },
  {
   "cell_type": "code",
   "execution_count": 73,
   "outputs": [
    {
     "name": "stdout",
     "output_type": "stream",
     "text": [
      "False\n",
      "True\n",
      "1497492095312 1497570241328\n"
     ]
    }
   ],
   "source": [
    "a = 4\n",
    "b = 4.0\n",
    "print(a is b)\n",
    "print(a == b)\n",
    "print(id(a), id(b))"
   ],
   "metadata": {
    "collapsed": false,
    "pycharm": {
     "name": "#%%\n"
    }
   }
  }
 ],
 "metadata": {
  "kernelspec": {
   "display_name": "Python 3",
   "language": "python",
   "name": "python3"
  },
  "language_info": {
   "codemirror_mode": {
    "name": "ipython",
    "version": 2
   },
   "file_extension": ".py",
   "mimetype": "text/x-python",
   "name": "python",
   "nbconvert_exporter": "python",
   "pygments_lexer": "ipython2",
   "version": "2.7.6"
  }
 },
 "nbformat": 4,
 "nbformat_minor": 0
}