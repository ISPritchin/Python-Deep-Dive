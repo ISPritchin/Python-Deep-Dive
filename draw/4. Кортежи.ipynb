{
 "cells": [
  {
   "cell_type": "markdown",
   "metadata": {
    "collapsed": true,
    "pycharm": {
     "name": "#%% md\n"
    }
   },
   "source": [
    "# Кортежи\n",
    "\n",
    "**Кортеж** -- неизменяемая гетерогенная последовательность.\n",
    "\n",
    "**Неизменяемая последовательность** -- последовательность, значения которой невозможно изменить.\n",
    "\n",
    "**Гетерогенная последовательность** -- последовательность, которая может хранить в себе значения разного типа (в отличии от гомогенных последовательностей)."
   ]
  },
  {
   "cell_type": "code",
   "execution_count": 2,
   "outputs": [
    {
     "name": "stdout",
     "output_type": "stream",
     "text": [
      "(1, 5, 4)\n",
      "('Hello', 'world', 42, 5.6)\n",
      "(1, 2, 3)\n"
     ]
    }
   ],
   "source": [
    "t1 = (1, 5, 4)\n",
    "t2 = (\"Hello\", \"world\", 42, 5.6)\n",
    "t3 = 1, 2, 3\n",
    "print(t1)\n",
    "print(t2)\n",
    "print(t3)"
   ],
   "metadata": {
    "collapsed": false,
    "pycharm": {
     "name": "#%%\n"
    }
   }
  },
  {
   "cell_type": "markdown",
   "source": [
    "Получение элемента по индексу:"
   ],
   "metadata": {
    "collapsed": false,
    "pycharm": {
     "name": "#%% md\n"
    }
   }
  },
  {
   "cell_type": "code",
   "execution_count": 4,
   "outputs": [
    {
     "name": "stdout",
     "output_type": "stream",
     "text": [
      "Hello\n",
      "5.6\n"
     ]
    }
   ],
   "source": [
    "t = (\"Hello\", \"world\", 42, 5.6)\n",
    "print(t[0]) # вывод нулевого элемента кортежа\n",
    "print(t[3]) # вывод первого элемента кортежа"
   ],
   "metadata": {
    "collapsed": false,
    "pycharm": {
     "name": "#%%\n"
    }
   }
  },
  {
   "cell_type": "markdown",
   "source": [
    "Можно использовать отрицательную индексацию. Если указан отрицательный индекс, берётся определенное значение с конца последовательности:"
   ],
   "metadata": {
    "collapsed": false,
    "pycharm": {
     "name": "#%% md\n"
    }
   }
  },
  {
   "cell_type": "code",
   "execution_count": 5,
   "outputs": [
    {
     "name": "stdout",
     "output_type": "stream",
     "text": [
      "6 5 4\n"
     ]
    }
   ],
   "source": [
    "t = (1, 2, 3, 4, 5, 6)\n",
    "print(t[-1], t[-2], t[-3])"
   ],
   "metadata": {
    "collapsed": false,
    "pycharm": {
     "name": "#%%\n"
    }
   }
  },
  {
   "cell_type": "markdown",
   "source": [
    "Изменение элементов кортежа запрещено. При попытке это сделать, будет выдана ошибка:"
   ],
   "metadata": {
    "collapsed": false,
    "pycharm": {
     "name": "#%% md\n"
    }
   }
  },
  {
   "cell_type": "code",
   "execution_count": 4,
   "outputs": [
    {
     "ename": "TypeError",
     "evalue": "'tuple' object does not support item assignment",
     "output_type": "error",
     "traceback": [
      "\u001B[1;31m---------------------------------------------------------------------------\u001B[0m",
      "\u001B[1;31mTypeError\u001B[0m                                 Traceback (most recent call last)",
      "Cell \u001B[1;32mIn [4], line 2\u001B[0m\n\u001B[0;32m      1\u001B[0m t \u001B[38;5;241m=\u001B[39m (\u001B[38;5;241m1\u001B[39m, \u001B[38;5;241m2\u001B[39m, \u001B[38;5;241m3\u001B[39m, \u001B[38;5;241m4\u001B[39m, \u001B[38;5;241m5\u001B[39m, \u001B[38;5;241m6\u001B[39m)\n\u001B[1;32m----> 2\u001B[0m t[\u001B[38;5;241m0\u001B[39m] \u001B[38;5;241m=\u001B[39m \u001B[38;5;241m10\u001B[39m\n",
      "\u001B[1;31mTypeError\u001B[0m: 'tuple' object does not support item assignment"
     ]
    }
   ],
   "source": [
    "t = (1, 2, 3, 4, 5, 6)\n",
    "t[0] = 10"
   ],
   "metadata": {
    "collapsed": false,
    "pycharm": {
     "name": "#%%\n"
    }
   }
  },
  {
   "cell_type": "markdown",
   "source": [
    "Кортежи могут выполнять функции записей / структур в некоторых других языках программирования. Например, кортежем можно представлять точки на плоскости, где первой координатой была бы координата $x$, а вторая координата -- координата $y$:"
   ],
   "metadata": {
    "collapsed": false,
    "pycharm": {
     "name": "#%% md\n"
    }
   }
  },
  {
   "cell_type": "code",
   "execution_count": 6,
   "outputs": [
    {
     "name": "stdout",
     "output_type": "stream",
     "text": [
      "(10, 20)\n",
      "(10, 20, 0)\n"
     ]
    }
   ],
   "source": [
    "point = (10, 20)\n",
    "print(point)\n",
    "point3D = (10, 20, 0)\n",
    "print(point3D)"
   ],
   "metadata": {
    "collapsed": false,
    "pycharm": {
     "name": "#%%\n"
    }
   }
  },
  {
   "cell_type": "markdown",
   "source": [
    "Можно привести другой пример. Представим окружность координатами центра и радиусом:"
   ],
   "metadata": {
    "collapsed": false,
    "pycharm": {
     "name": "#%% md\n"
    }
   }
  },
  {
   "cell_type": "code",
   "source": [
    "circle = (0, 0, 10) # окружность с координатой центра (0, 0) и радиусом 10"
   ],
   "metadata": {
    "collapsed": false,
    "pycharm": {
     "name": "#%%\n"
    }
   },
   "execution_count": 7,
   "outputs": []
  },
  {
   "cell_type": "markdown",
   "source": [
    "При помощи кортежа можно хранить данные, например, о городе:"
   ],
   "metadata": {
    "collapsed": false,
    "pycharm": {
     "name": "#%% md\n"
    }
   }
  },
  {
   "cell_type": "code",
   "execution_count": 7,
   "outputs": [],
   "source": [
    "city = (\"Лондон\", 'Соединенное Королевство', 8_780_000)"
   ],
   "metadata": {
    "collapsed": false,
    "pycharm": {
     "name": "#%%\n"
    }
   }
  },
  {
   "cell_type": "code",
   "execution_count": 8,
   "outputs": [
    {
     "name": "stdout",
     "output_type": "stream",
     "text": [
      "('Лондон', 'Соединенное Королевство', 8780000)\n"
     ]
    }
   ],
   "source": [
    "# На самом деле, круглые скобки необязательны:\n",
    "city = \"Лондон\", 'Соединенное Королевство', 8_780_000\n",
    "# но это улучшает читаемость\n",
    "print(city)"
   ],
   "metadata": {
    "collapsed": false,
    "pycharm": {
     "name": "#%%\n"
    }
   }
  },
  {
   "cell_type": "markdown",
   "source": [
    "Хранить информацию можно в таком виде, однако есть один существенный недостаток: надо помнить что и на какой позиции находится (где располагается имя города, страна и численность). Есть и преимущество: гарантируется, что кортеж не сможет быть изменён чем-бы то ни было."
   ],
   "metadata": {
    "collapsed": false,
    "pycharm": {
     "name": "#%% md\n"
    }
   }
  },
  {
   "cell_type": "markdown",
   "source": [
    "Рассмотрим пример задачи вычисления населения:"
   ],
   "metadata": {
    "collapsed": false,
    "pycharm": {
     "name": "#%% md\n"
    }
   }
  },
  {
   "cell_type": "code",
   "execution_count": 13,
   "outputs": [
    {
     "name": "stdout",
     "output_type": "stream",
     "text": [
      "('Лондон', 'Соединенное Королевство', 8780000)\n",
      "8780000\n",
      "('Москва', 'Россия', 11920000)\n",
      "11920000\n",
      "('Нью-Йорк', 'Соединённые Штаты Америки', 8380000)\n",
      "8380000\n",
      "29080000\n"
     ]
    }
   ],
   "source": [
    "cities = (\n",
    "    (\"Лондон\", 'Соединенное Королевство', 8_780_000),\n",
    "    (\"Москва\", 'Россия', 11_920_000),\n",
    "    (\"Нью-Йорк\", 'Соединённые Штаты Америки', 8_380_000),\n",
    ")\n",
    "\n",
    "total_population = 0\n",
    "for city in cities:\n",
    "    print(city)\n",
    "    print(city[2])\n",
    "    # total_population = total_population + city[2]\n",
    "    total_population += city[2]\n",
    "\n",
    "print(total_population)"
   ],
   "metadata": {
    "collapsed": false,
    "pycharm": {
     "name": "#%%\n"
    }
   }
  },
  {
   "cell_type": "markdown",
   "source": [
    "Основной недостаток подхода состоит в том, что информация о городе завтра может измениться. Город будет описываться на тремя параметрами, а сотней параметров, из которых население будет не на 3 месте, а на 67. Тогда код написанный выше придётся переделывать, что не есть хорошо."
   ],
   "metadata": {
    "collapsed": false,
    "pycharm": {
     "name": "#%% md\n"
    }
   }
  },
  {
   "cell_type": "markdown",
   "source": [
    "Кортежи поддерживают распаковку:"
   ],
   "metadata": {
    "collapsed": false,
    "pycharm": {
     "name": "#%% md\n"
    }
   }
  },
  {
   "cell_type": "code",
   "execution_count": 10,
   "outputs": [
    {
     "name": "stdout",
     "output_type": "stream",
     "text": [
      "Москва\n",
      "Россия\n",
      "11920000\n"
     ]
    }
   ],
   "source": [
    "city = (\"Москва\", 'Россия', 11_920_000)\n",
    "name, county, population = city\n",
    "print(name)\n",
    "print(county)\n",
    "print(population)"
   ],
   "metadata": {
    "collapsed": false,
    "pycharm": {
     "name": "#%%\n"
    }
   }
  },
  {
   "cell_type": "markdown",
   "source": [
    "Если при распаковке какая-то переменная не является нужной, используйте нижнее подчёркивание в качестве \"заглушки\":"
   ],
   "metadata": {
    "collapsed": false,
    "pycharm": {
     "name": "#%% md\n"
    }
   }
  },
  {
   "cell_type": "code",
   "execution_count": 14,
   "outputs": [
    {
     "name": "stdout",
     "output_type": "stream",
     "text": [
      "Москва Россия\n",
      "1147\n"
     ]
    }
   ],
   "source": [
    "city = (\"Москва\", 'Россия', 11_920_000, 1147)\n",
    "name, county, _, _ = city\n",
    "print(name, county)\n",
    "print(_)"
   ],
   "metadata": {
    "collapsed": false,
    "pycharm": {
     "name": "#%%\n"
    }
   }
  },
  {
   "cell_type": "markdown",
   "source": [
    "Вы должны осознавать, что `_` - легальное имя переменной. Однако мы будем его использовать, чтобы подчеркнуть тот факт, то что значение, мы не будем использовать"
   ],
   "metadata": {
    "collapsed": false,
    "pycharm": {
     "name": "#%% md\n"
    }
   }
  },
  {
   "cell_type": "markdown",
   "source": [
    "Рассмотрим ещё один пример распаковки. Допустим, что информация о городе представлена уже так:"
   ],
   "metadata": {
    "collapsed": false,
    "pycharm": {
     "name": "#%% md\n"
    }
   }
  },
  {
   "cell_type": "code",
   "execution_count": 12,
   "outputs": [],
   "source": [
    "city = (\"Москва\", 'Россия', \"Столица России\", \"55°44′24.00\", \"37°36′36.00″\", 11_920_000, 1147)"
   ],
   "metadata": {
    "collapsed": false,
    "pycharm": {
     "name": "#%%\n"
    }
   }
  },
  {
   "cell_type": "markdown",
   "source": [
    "и стоит задача достать имя, численность населения и год основания. Допустимо написать такой код:"
   ],
   "metadata": {
    "collapsed": false,
    "pycharm": {
     "name": "#%% md\n"
    }
   }
  },
  {
   "cell_type": "code",
   "execution_count": 13,
   "outputs": [],
   "source": [
    "name, population, year = city[0], city[5], city[6]"
   ],
   "metadata": {
    "collapsed": false,
    "pycharm": {
     "name": "#%%\n"
    }
   }
  },
  {
   "cell_type": "markdown",
   "source": [
    "Однако вместо него лучше использовать следующий:"
   ],
   "metadata": {
    "collapsed": false,
    "pycharm": {
     "name": "#%% md\n"
    }
   }
  },
  {
   "cell_type": "code",
   "execution_count": 14,
   "outputs": [
    {
     "name": "stdout",
     "output_type": "stream",
     "text": [
      "Город Москва основан в 1147 году. Его население составляет 11.92 млн. человек\n"
     ]
    }
   ],
   "source": [
    "name, *_, population, year = city\n",
    "print(f\"Город {name} основан в {year} году. Его население составляет {population / 1000000} млн. человек\")"
   ],
   "metadata": {
    "collapsed": false,
    "pycharm": {
     "name": "#%%\n"
    }
   }
  },
  {
   "cell_type": "markdown",
   "source": [
    "Ещё раз обратим внимание на то, что у нас есть зависимость между позицией элемента в кортеже и смыслом элемента. Хотелось бы иметь более надежный подход. Для решения этой проблемы предлагается использование именованных кортежей."
   ],
   "metadata": {
    "collapsed": false,
    "pycharm": {
     "name": "#%% md\n"
    }
   }
  },
  {
   "cell_type": "markdown",
   "source": [
    "# Именованные кортежи\n",
    "\n",
    "Функция namedtuple генерирует новый класс, который обеспечивает именованный кортеж желаемым поведением:"
   ],
   "metadata": {
    "collapsed": false,
    "pycharm": {
     "name": "#%% md\n"
    }
   }
  },
  {
   "cell_type": "code",
   "execution_count": 15,
   "outputs": [
    {
     "name": "stdout",
     "output_type": "stream",
     "text": [
      "Point2D(x=10, y=20)\n"
     ]
    }
   ],
   "source": [
    "from collections import namedtuple\n",
    "\n",
    "# любой из трех способов допустим\n",
    "Point2D = namedtuple('Point2D', ['x', 'y'])\n",
    "Point2D = namedtuple('Point2D', 'x y')\n",
    "Point2D = namedtuple('Point2D', 'x, y')\n",
    "\n",
    "pt = Point2D(10, 20)\n",
    "print(pt)"
   ],
   "metadata": {
    "collapsed": false,
    "pycharm": {
     "name": "#%%\n"
    }
   }
  },
  {
   "cell_type": "markdown",
   "source": [
    "Класс `nametuple` является подклассом класс `tuple`:"
   ],
   "metadata": {
    "collapsed": false,
    "pycharm": {
     "name": "#%% md\n"
    }
   }
  },
  {
   "cell_type": "code",
   "execution_count": 16,
   "outputs": [
    {
     "data": {
      "text/plain": "True"
     },
     "execution_count": 16,
     "metadata": {},
     "output_type": "execute_result"
    }
   ],
   "source": [
    "issubclass(Point2D, tuple)"
   ],
   "metadata": {
    "collapsed": false,
    "pycharm": {
     "name": "#%%\n"
    }
   }
  },
  {
   "cell_type": "markdown",
   "source": [
    "Попытки изменить именованный кортеж закончатся ошибкой:"
   ],
   "metadata": {
    "collapsed": false,
    "pycharm": {
     "name": "#%% md\n"
    }
   }
  },
  {
   "cell_type": "code",
   "execution_count": 19,
   "outputs": [
    {
     "name": "stdout",
     "output_type": "stream",
     "text": [
      "10 20\n"
     ]
    },
    {
     "ename": "AttributeError",
     "evalue": "can't set attribute",
     "output_type": "error",
     "traceback": [
      "\u001B[1;31m---------------------------------------------------------------------------\u001B[0m",
      "\u001B[1;31mAttributeError\u001B[0m                            Traceback (most recent call last)",
      "Cell \u001B[1;32mIn [19], line 3\u001B[0m\n\u001B[0;32m      1\u001B[0m pt \u001B[38;5;241m=\u001B[39m Point2D(\u001B[38;5;241m10\u001B[39m, \u001B[38;5;241m20\u001B[39m)\n\u001B[0;32m      2\u001B[0m \u001B[38;5;28mprint\u001B[39m(pt\u001B[38;5;241m.\u001B[39mx, pt\u001B[38;5;241m.\u001B[39my)\n\u001B[1;32m----> 3\u001B[0m pt\u001B[38;5;241m.\u001B[39mx \u001B[38;5;241m=\u001B[39m \u001B[38;5;241m100\u001B[39m\n",
      "\u001B[1;31mAttributeError\u001B[0m: can't set attribute"
     ]
    }
   ],
   "source": [
    "pt = Point2D(10, 20)\n",
    "pt.x = 100"
   ],
   "metadata": {
    "collapsed": false,
    "pycharm": {
     "name": "#%%\n"
    }
   }
  },
  {
   "cell_type": "markdown",
   "source": [
    "Однако до сих пор имеется доступ к получению значений:"
   ],
   "metadata": {
    "collapsed": false,
    "pycharm": {
     "name": "#%% md\n"
    }
   }
  },
  {
   "cell_type": "code",
   "execution_count": 21,
   "outputs": [
    {
     "name": "stdout",
     "output_type": "stream",
     "text": [
      "10 20\n"
     ]
    }
   ],
   "source": [
    "pt = Point2D(10, 20)\n",
    "print(pt.x, pt.y)"
   ],
   "metadata": {
    "collapsed": false,
    "pycharm": {
     "name": "#%%\n"
    }
   }
  },
  {
   "cell_type": "markdown",
   "source": [
    "Чтобы узнать, какими атрибутами обладает объект, используется свойство `_fields`:"
   ],
   "metadata": {
    "collapsed": false,
    "pycharm": {
     "name": "#%% md\n"
    }
   }
  },
  {
   "cell_type": "code",
   "execution_count": 22,
   "outputs": [
    {
     "data": {
      "text/plain": "('x', 'y')"
     },
     "execution_count": 22,
     "metadata": {},
     "output_type": "execute_result"
    }
   ],
   "source": [
    "pt._fields"
   ],
   "metadata": {
    "collapsed": false,
    "pycharm": {
     "name": "#%%\n"
    }
   }
  },
  {
   "cell_type": "markdown",
   "source": [
    "Метод `._asdict()` позволяет выполнить приведение к словарю:"
   ],
   "metadata": {
    "collapsed": false,
    "pycharm": {
     "name": "#%% md\n"
    }
   }
  },
  {
   "cell_type": "code",
   "execution_count": 20,
   "outputs": [
    {
     "data": {
      "text/plain": "{'x': 10, 'y': 20}"
     },
     "execution_count": 20,
     "metadata": {},
     "output_type": "execute_result"
    }
   ],
   "source": [
    "pt._asdict()"
   ],
   "metadata": {
    "collapsed": false,
    "pycharm": {
     "name": "#%%\n"
    }
   }
  },
  {
   "cell_type": "markdown",
   "source": [
    "Можно создать функции, оперирующие точками:"
   ],
   "metadata": {
    "collapsed": false,
    "pycharm": {
     "name": "#%% md\n"
    }
   }
  },
  {
   "cell_type": "code",
   "execution_count": 21,
   "outputs": [
    {
     "data": {
      "text/plain": "-1"
     },
     "execution_count": 21,
     "metadata": {},
     "output_type": "execute_result"
    }
   ],
   "source": [
    "def dot_product(a: Point2D, b: Point2D):\n",
    "    return a.x * b.x + a.y * b.y\n",
    "\n",
    "dot_product(Point2D(1, 0), Point2D(-1, 0))"
   ],
   "metadata": {
    "collapsed": false,
    "pycharm": {
     "name": "#%%\n"
    }
   }
  },
  {
   "cell_type": "code",
   "execution_count": 23,
   "outputs": [
    {
     "name": "stdout",
     "output_type": "stream",
     "text": [
      "City(name='Москва', country='Россия', population=11920000)\n",
      "Москва Россия 11920000\n"
     ]
    }
   ],
   "source": [
    "City = namedtuple('City', 'name, country, population')\n",
    "city = City('Москва', 'Россия', 11_920_000)\n",
    "print(city)\n",
    "print(city.name, city.country, city.population)"
   ],
   "metadata": {
    "collapsed": false,
    "pycharm": {
     "name": "#%%\n"
    }
   }
  },
  {
   "cell_type": "code",
   "execution_count": 24,
   "outputs": [
    {
     "name": "stdout",
     "output_type": "stream",
     "text": [
      "29080000\n"
     ]
    }
   ],
   "source": [
    "City = namedtuple('City', 'name, country, population')\n",
    "\n",
    "cities = [\n",
    "    City(\"Лондон\", 'Соединенное Королевство', 8_780_000),\n",
    "    City(\"Москва\", 'Россия', 11_920_000),\n",
    "    City(\"Нью-Йорк\", 'Соединённые Штаты Америки', 8_380_000),\n",
    "]\n",
    "\n",
    "total_population = 0\n",
    "for city in cities:\n",
    "    total_population += city.population\n",
    "\n",
    "print(total_population)"
   ],
   "metadata": {
    "collapsed": false,
    "pycharm": {
     "name": "#%%\n"
    }
   }
  },
  {
   "cell_type": "code",
   "execution_count": 25,
   "outputs": [
    {
     "name": "stdout",
     "output_type": "stream",
     "text": [
      "29080000\n"
     ]
    }
   ],
   "source": [
    "City = namedtuple('City', 'population, name, country')\n",
    "\n",
    "cities = [\n",
    "    City(8_780_000, \"Лондон\", 'Соединенное Королевство'),\n",
    "    City(11_920_000, \"Москва\", 'Россия'),\n",
    "    City(8_380_000, \"Нью-Йорк\", 'Соединённые Штаты Америки'),\n",
    "]\n",
    "\n",
    "total_population = 0\n",
    "for city in cities:\n",
    "    total_population += city.population\n",
    "\n",
    "print(total_population)"
   ],
   "metadata": {
    "collapsed": false,
    "pycharm": {
     "name": "#%%\n"
    }
   }
  },
  {
   "cell_type": "markdown",
   "source": [
    "Иногда может возникнуть задача получить другую точку, которая похожа на какую-то старую, просто у неё изменена координата. Возможное решение:"
   ],
   "metadata": {
    "collapsed": false,
    "pycharm": {
     "name": "#%% md\n"
    }
   }
  },
  {
   "cell_type": "code",
   "execution_count": 24,
   "outputs": [
    {
     "name": "stdout",
     "output_type": "stream",
     "text": [
      "Point2D(x=0, y=0) Point2D(x=10, y=0)\n"
     ]
    }
   ],
   "source": [
    "pt1 = Point2D(0, 0)\n",
    "pt2 = pt1._replace(x=10)\n",
    "print(pt1, pt2)"
   ],
   "metadata": {
    "collapsed": false,
    "pycharm": {
     "name": "#%%\n"
    }
   }
  },
  {
   "cell_type": "markdown",
   "source": [
    "Предположим, что нам потребовались сейчас точки в 3D пространстве. Мы бы хотели лишь дополнить координату $z$ к нашей точке и получить новый класс. Это возможно сделать:"
   ],
   "metadata": {
    "collapsed": false,
    "pycharm": {
     "name": "#%% md\n"
    }
   }
  },
  {
   "cell_type": "code",
   "execution_count": 25,
   "outputs": [
    {
     "name": "stdout",
     "output_type": "stream",
     "text": [
      "('x', 'y', 'z')\n",
      "Point3D(x=1, y=2, z=3)\n"
     ]
    }
   ],
   "source": [
    "new_fields = Point2D._fields + ('z',)\n",
    "Point3D = namedtuple('Point3D', new_fields)\n",
    "print(Point3D._fields)\n",
    "p1 = Point3D(1, 2, 3)\n",
    "print(p1)"
   ],
   "metadata": {
    "collapsed": false,
    "pycharm": {
     "name": "#%%\n"
    }
   }
  },
  {
   "cell_type": "markdown",
   "source": [
    "Если требуются поля со значениями по умолчанию, используется следующий синтаксис:"
   ],
   "metadata": {
    "collapsed": false,
    "pycharm": {
     "name": "#%% md\n"
    }
   }
  },
  {
   "cell_type": "code",
   "execution_count": 26,
   "outputs": [
    {
     "name": "stdout",
     "output_type": "stream",
     "text": [
      "Vector3D(x=10, y=0, z=0)\n",
      "Vector3D(x=10, y=0, z=20)\n"
     ]
    }
   ],
   "source": [
    "Vector3D = namedtuple(\"Vector3D\", \"x, y, z\")\n",
    "Vector3D.__new__.__defaults__ = (0, 0)\n",
    "\n",
    "v1 = Vector3D(x=10)\n",
    "v2 = Vector3D(x=10, z=20)\n",
    "print(v1)\n",
    "print(v2)"
   ],
   "metadata": {
    "collapsed": false,
    "pycharm": {
     "name": "#%%\n"
    }
   }
  },
  {
   "cell_type": "markdown",
   "source": [
    "Основное приложение для именованных кортежей и кортежей в принципе -- возможность вернуть несколько значений из функции."
   ],
   "metadata": {
    "collapsed": false,
    "pycharm": {
     "name": "#%% md\n"
    }
   }
  },
  {
   "cell_type": "code",
   "execution_count": 27,
   "outputs": [
    {
     "name": "stdout",
     "output_type": "stream",
     "text": [
      "196\n"
     ]
    }
   ],
   "source": [
    "import random\n",
    "\n",
    "Color = namedtuple(\"Color\", 'red, green, blue')\n",
    "\n",
    "def get_random_color():\n",
    "    return Color(\n",
    "        random.randint(0, 255),\n",
    "        random.randint(0, 255),\n",
    "        random.randint(0, 255)\n",
    "    )\n",
    "\n",
    "color = get_random_color()\n",
    "print(color.red)"
   ],
   "metadata": {
    "collapsed": false,
    "pycharm": {
     "name": "#%%\n"
    }
   }
  },
  {
   "cell_type": "code",
   "execution_count": null,
   "outputs": [],
   "source": [],
   "metadata": {
    "collapsed": false,
    "pycharm": {
     "name": "#%%\n"
    }
   }
  }
 ],
 "metadata": {
  "kernelspec": {
   "display_name": "Python 3",
   "language": "python",
   "name": "python3"
  },
  "language_info": {
   "codemirror_mode": {
    "name": "ipython",
    "version": 2
   },
   "file_extension": ".py",
   "mimetype": "text/x-python",
   "name": "python",
   "nbconvert_exporter": "python",
   "pygments_lexer": "ipython2",
   "version": "2.7.6"
  }
 },
 "nbformat": 4,
 "nbformat_minor": 0
}