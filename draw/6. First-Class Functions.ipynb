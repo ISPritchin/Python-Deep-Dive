{
 "cells": [
  {
   "cell_type": "markdown",
   "metadata": {
    "collapsed": true,
    "pycharm": {
     "name": "#%% md\n"
    }
   },
   "source": [
    "## Аннотации типов\n",
    "\n",
    "В Python появилась возможно явно указывать ожидаемые типы параметров с целью помочь средам разработки проводить лучший анализ кода:"
   ]
  },
  {
   "cell_type": "code",
   "execution_count": 1,
   "outputs": [
    {
     "name": "stdout",
     "output_type": "stream",
     "text": [
      "7\n",
      "7.0\n",
      "{'a': <class 'int'>, 'b': <class 'int'>, 'return': <class 'int'>}\n"
     ]
    }
   ],
   "source": [
    "import inspect\n",
    "import random\n",
    "\n",
    "\n",
    "def f(a: int, b: int) -> int:\n",
    "    return a + b\n",
    "\n",
    "\n",
    "print(f(5, 2))\n",
    "# Аннотации типов могут нарушаться, но будет выдано предупреждение от среды разработки\n",
    "print(f(5, 2.0))\n",
    "print(f.__annotations__)"
   ],
   "metadata": {
    "collapsed": false,
    "pycharm": {
     "name": "#%%\n"
    }
   }
  },
  {
   "cell_type": "markdown",
   "source": [
    "Функции желательно снабжать документацией:"
   ],
   "metadata": {
    "collapsed": false,
    "pycharm": {
     "name": "#%% md\n"
    }
   }
  },
  {
   "cell_type": "code",
   "execution_count": 3,
   "outputs": [
    {
     "name": "stdout",
     "output_type": "stream",
     "text": [
      "\n",
      "    Функция для замеров среднего времени при нескольких экспериментах\n",
      "    :param fn: функция, время которой замеряется\n",
      "    :param args: позиционные аргументы, необходимые для функции fn\n",
      "    :param rep: количество вызовов функции fn\n",
      "    :param kwargs: именованные аргументы, необходимые для функции fn\n",
      "    :return: среднее время работы\n",
      "    \n"
     ]
    }
   ],
   "source": [
    "import time\n",
    "\n",
    "\n",
    "def get_avg_time(fn, *args, rep=1, **kwargs):\n",
    "    \"\"\"\n",
    "    Функция для замеров среднего времени при нескольких экспериментах\n",
    "    :param fn: функция, время которой замеряется\n",
    "    :param args: позиционные аргументы, необходимые для функции fn\n",
    "    :param rep: количество вызовов функции fn\n",
    "    :param kwargs: именованные аргументы, необходимые для функции fn\n",
    "    :return: среднее время работы\n",
    "    \"\"\"\n",
    "    start = time.perf_counter()\n",
    "    for i in range(rep):\n",
    "        fn(*args, **kwargs)\n",
    "    end = time.perf_counter()\n",
    "    return (end - start) / rep\n",
    "\n",
    "\n",
    "# запрос документации\n",
    "print(get_avg_time.__doc__)"
   ],
   "metadata": {
    "collapsed": false,
    "pycharm": {
     "name": "#%%\n"
    }
   }
  },
  {
   "cell_type": "markdown",
   "source": [
    "## Лямбда-функции\n",
    "\n",
    "Синтаксис:\n",
    "labmda [<список параметров>] : <выражение>\n",
    "В результате работы фрагмента возвращается объект-функция"
   ],
   "metadata": {
    "collapsed": false,
    "pycharm": {
     "name": "#%% md\n"
    }
   }
  },
  {
   "cell_type": "code",
   "execution_count": 4,
   "outputs": [
    {
     "name": "stdout",
     "output_type": "stream",
     "text": [
      "9 100\n"
     ]
    }
   ],
   "source": [
    "square = lambda x: x ** 2\n",
    "print(square(3), square(10))"
   ],
   "metadata": {
    "collapsed": false,
    "pycharm": {
     "name": "#%%\n"
    }
   }
  },
  {
   "cell_type": "code",
   "execution_count": 5,
   "outputs": [],
   "source": [
    "# Лямбда функции удобно использовать для передачи в качестве аргументов в другие функции:\n",
    "def f(fn):\n",
    "    pass\n",
    "\n",
    "\n",
    "f(lambda x: x * 2);"
   ],
   "metadata": {
    "collapsed": false,
    "pycharm": {
     "name": "#%%\n"
    }
   }
  },
  {
   "cell_type": "markdown",
   "source": [
    "Длина lambda-функции не превышает одну строку, не может содержать аннотации. Лямбда-функции часто используются при сортировке."
   ],
   "metadata": {
    "collapsed": false,
    "pycharm": {
     "name": "#%% md\n"
    }
   }
  },
  {
   "cell_type": "code",
   "execution_count": 8,
   "outputs": [
    {
     "name": "stdout",
     "output_type": "stream",
     "text": [
      "[1, 4, 5, 6]\n",
      "[6, 5, 4, 1]\n"
     ]
    }
   ],
   "source": [
    "x = [1, 5, 4, 6]\n",
    "print(sorted(x))\n",
    "print(sorted(x, key=lambda x: -x))"
   ],
   "metadata": {
    "collapsed": false,
    "pycharm": {
     "name": "#%%\n"
    }
   }
  },
  {
   "cell_type": "code",
   "execution_count": 9,
   "outputs": [
    {
     "name": "stdout",
     "output_type": "stream",
     "text": [
      "['a', 'I', 'j', 'O', 'P', 'r', 't', 'w']\n"
     ]
    }
   ],
   "source": [
    "letters = \"ajtIwPrO\"\n",
    "print(sorted(letters, key=lambda x: x.upper()))"
   ],
   "metadata": {
    "collapsed": false,
    "pycharm": {
     "name": "#%%\n"
    }
   }
  },
  {
   "cell_type": "code",
   "execution_count": 10,
   "outputs": [
    {
     "name": "stdout",
     "output_type": "stream",
     "text": [
      "[1, 8, 7, 4, 2, 3, 5, 6]\n"
     ]
    }
   ],
   "source": [
    "import random\n",
    "\n",
    "x = [1, 2, 3, 4, 5, 6, 7, 8]\n",
    "print(sorted(x, key=lambda x: random.random()))"
   ],
   "metadata": {
    "collapsed": false,
    "pycharm": {
     "name": "#%%\n"
    }
   }
  },
  {
   "cell_type": "markdown",
   "source": [
    "## Атрибуты функций"
   ],
   "metadata": {
    "collapsed": false,
    "pycharm": {
     "name": "#%% md\n"
    }
   }
  },
  {
   "cell_type": "code",
   "execution_count": 11,
   "outputs": [
    {
     "name": "stdout",
     "output_type": "stream",
     "text": [
      "['__annotations__', '__builtins__', '__call__', '__class__', '__closure__', '__code__', '__defaults__', '__delattr__', '__dict__', '__dir__', '__doc__', '__eq__', '__format__', '__ge__', '__get__', '__getattribute__', '__globals__', '__gt__', '__hash__', '__init__', '__init_subclass__', '__kwdefaults__', '__le__', '__lt__', '__module__', '__name__', '__ne__', '__new__', '__qualname__', '__reduce__', '__reduce_ex__', '__repr__', '__setattr__', '__sizeof__', '__str__', '__subclasshook__']\n"
     ]
    }
   ],
   "source": [
    "def my_func(a, b=1, c=2, *args, kw1, kw2=100, kw3=200, **kwargs):\n",
    "    i = 10\n",
    "    j = 20\n",
    "\n",
    "\n",
    "print(dir(my_func))"
   ],
   "metadata": {
    "collapsed": false,
    "pycharm": {
     "name": "#%%\n"
    }
   }
  },
  {
   "cell_type": "code",
   "execution_count": 12,
   "outputs": [
    {
     "name": "stdout",
     "output_type": "stream",
     "text": [
      "my_func\n",
      "(1, 2)\n",
      "{'kw2': 100, 'kw3': 200}\n"
     ]
    }
   ],
   "source": [
    "print(my_func.__name__)\n",
    "print(my_func.__defaults__)  # кортеж из позиционных параметров, имеющих значения по умолчанию\n",
    "print(my_func.__kwdefaults__)  # словарь именованных параметров, имеющих значение по умолчанию"
   ],
   "metadata": {
    "collapsed": false,
    "pycharm": {
     "name": "#%%\n"
    }
   }
  },
  {
   "cell_type": "code",
   "execution_count": 13,
   "outputs": [
    {
     "name": "stdout",
     "output_type": "stream",
     "text": [
      "('a', 'b', 'c', 'kw1', 'kw2', 'kw3', 'args', 'kwargs', 'i', 'j')\n",
      "3\n"
     ]
    }
   ],
   "source": [
    "print(my_func.__code__.co_varnames)  # параметры\n",
    "print(my_func.__code__.co_argcount)  # количество позиционных параметров"
   ],
   "metadata": {
    "collapsed": false,
    "pycharm": {
     "name": "#%%\n"
    }
   }
  },
  {
   "cell_type": "markdown",
   "source": [
    "Атрибут класса, который может быть вызван как функция, именуется методом:"
   ],
   "metadata": {
    "collapsed": false,
    "pycharm": {
     "name": "#%% md\n"
    }
   }
  },
  {
   "cell_type": "code",
   "execution_count": 14,
   "outputs": [],
   "source": [
    "def func(x):\n",
    "    return x\n",
    "\n",
    "\n",
    "def MyClass():\n",
    "    def method(x):\n",
    "        return x"
   ],
   "metadata": {
    "collapsed": false,
    "pycharm": {
     "name": "#%%\n"
    }
   }
  },
  {
   "cell_type": "code",
   "execution_count": 15,
   "outputs": [
    {
     "name": "stdout",
     "output_type": "stream",
     "text": [
      "def my_func(a, b=1, c=2, *args, kw1, kw2=100, kw3=200, **kwargs):\n",
      "    i = 10\n",
      "    j = 20\n",
      "\n"
     ]
    }
   ],
   "source": [
    "import inspect\n",
    "\n",
    "print(inspect.getsource(my_func))  # выведет исходный код"
   ],
   "metadata": {
    "collapsed": false,
    "pycharm": {
     "name": "#%%\n"
    }
   }
  },
  {
   "cell_type": "code",
   "execution_count": 16,
   "outputs": [
    {
     "name": "stdout",
     "output_type": "stream",
     "text": [
      "<module '__main__'>\n"
     ]
    }
   ],
   "source": [
    "print(inspect.getmodule(my_func))  # выведет модуль, в котором определена функция"
   ],
   "metadata": {
    "collapsed": false,
    "pycharm": {
     "name": "#%%\n"
    }
   }
  },
  {
   "cell_type": "code",
   "execution_count": 17,
   "outputs": [
    {
     "name": "stdout",
     "output_type": "stream",
     "text": [
      "(a, b=1, c=2, *args, kw1, kw2=100, kw3=200, **kwargs)\n"
     ]
    }
   ],
   "source": [
    "print(inspect.signature(my_func))  # выведет сигнатуру функции"
   ],
   "metadata": {
    "collapsed": false,
    "pycharm": {
     "name": "#%%\n"
    }
   }
  },
  {
   "cell_type": "code",
   "execution_count": 18,
   "outputs": [
    {
     "name": "stdout",
     "output_type": "stream",
     "text": [
      "Key: a\n",
      "Name: a\n",
      "Default: <class 'inspect._empty'>\n",
      "Annotation: <class 'inspect._empty'>\n",
      "Kind: POSITIONAL_OR_KEYWORD\n",
      "-------------\n",
      "Key: b\n",
      "Name: b\n",
      "Default: 1\n",
      "Annotation: <class 'inspect._empty'>\n",
      "Kind: POSITIONAL_OR_KEYWORD\n",
      "-------------\n",
      "Key: c\n",
      "Name: c\n",
      "Default: 2\n",
      "Annotation: <class 'inspect._empty'>\n",
      "Kind: POSITIONAL_OR_KEYWORD\n",
      "-------------\n",
      "Key: args\n",
      "Name: args\n",
      "Default: <class 'inspect._empty'>\n",
      "Annotation: <class 'inspect._empty'>\n",
      "Kind: VAR_POSITIONAL\n",
      "-------------\n",
      "Key: kw1\n",
      "Name: kw1\n",
      "Default: <class 'inspect._empty'>\n",
      "Annotation: <class 'inspect._empty'>\n",
      "Kind: KEYWORD_ONLY\n",
      "-------------\n",
      "Key: kw2\n",
      "Name: kw2\n",
      "Default: 100\n",
      "Annotation: <class 'inspect._empty'>\n",
      "Kind: KEYWORD_ONLY\n",
      "-------------\n",
      "Key: kw3\n",
      "Name: kw3\n",
      "Default: 200\n",
      "Annotation: <class 'inspect._empty'>\n",
      "Kind: KEYWORD_ONLY\n",
      "-------------\n",
      "Key: kwargs\n",
      "Name: kwargs\n",
      "Default: <class 'inspect._empty'>\n",
      "Annotation: <class 'inspect._empty'>\n",
      "Kind: VAR_KEYWORD\n",
      "-------------\n"
     ]
    }
   ],
   "source": [
    "for k, param in inspect.signature(my_func).parameters.items():\n",
    "    print(\"Key:\", k)\n",
    "    print(\"Name:\", param.name)\n",
    "    print(\"Default:\", param.default)\n",
    "    print(\"Annotation:\", param.annotation)\n",
    "    print(\"Kind:\", param.kind)\n",
    "    print(\"-------------\")"
   ],
   "metadata": {
    "collapsed": false,
    "pycharm": {
     "name": "#%%\n"
    }
   }
  },
  {
   "cell_type": "markdown",
   "source": [
    "Объект считается способным к вызовам, если для него определен оператор `()`. Любой такой объект возвращает значение. Примеры таких объектов: функции, методы, объекты класса (если у них определен метод `__call__`) и другие."
   ],
   "metadata": {
    "collapsed": false,
    "pycharm": {
     "name": "#%% md\n"
    }
   }
  },
  {
   "cell_type": "code",
   "execution_count": 19,
   "outputs": [
    {
     "name": "stdout",
     "output_type": "stream",
     "text": [
      "True\n",
      "True\n",
      "False\n"
     ]
    }
   ],
   "source": [
    "print(callable(print))\n",
    "print(callable(my_func))\n",
    "print(callable(5))"
   ],
   "metadata": {
    "collapsed": false,
    "pycharm": {
     "name": "#%%\n"
    }
   }
  },
  {
   "cell_type": "markdown",
   "source": [
    "## map, zip, filter"
   ],
   "metadata": {
    "collapsed": false,
    "pycharm": {
     "name": "#%% md\n"
    }
   }
  },
  {
   "cell_type": "markdown",
   "source": [
    "**Функции высшего порядка** -- функции, которые принимают в качестве параметра другую функцию или возвращают функцию в результате своей работы. Пример функции высшего порядка -- `sorted`, `map`, `zip`, `filter`."
   ],
   "metadata": {
    "collapsed": false,
    "pycharm": {
     "name": "#%% md\n"
    }
   }
  },
  {
   "cell_type": "code",
   "execution_count": 20,
   "outputs": [
    {
     "name": "stdout",
     "output_type": "stream",
     "text": [
      "2 4 6 "
     ]
    }
   ],
   "source": [
    "# Функция map(func, *iterables) принимает некоторую функцию, которую она применяет ко всем элементам коллекции iterables.\n",
    "def getDoubledValue(x):\n",
    "    return x * 2\n",
    "\n",
    "\n",
    "a = [1, 2, 3]\n",
    "for x in map(getDoubledValue, a):\n",
    "    print(x, end=\" \")"
   ],
   "metadata": {
    "collapsed": false,
    "pycharm": {
     "name": "#%%\n"
    }
   }
  },
  {
   "cell_type": "code",
   "execution_count": 21,
   "outputs": [
    {
     "name": "stdout",
     "output_type": "stream",
     "text": [
      "<map object at 0x000001DA73EC5F30>\n"
     ]
    }
   ],
   "source": [
    "# Сама по себе функция возвращает итератор\n",
    "it = map(getDoubledValue, a)\n",
    "print(it)"
   ],
   "metadata": {
    "collapsed": false,
    "pycharm": {
     "name": "#%%\n"
    }
   }
  },
  {
   "cell_type": "code",
   "execution_count": 22,
   "outputs": [
    {
     "name": "stdout",
     "output_type": "stream",
     "text": [
      "[2, 4, 6]\n"
     ]
    }
   ],
   "source": [
    "# Итератор знает, как вычислить требуемую нам последовательность, но не будет этого делать до тех пор, пока вычисление не потребуется. Например, можно выполнить приведение итератора к списку, чтобы получить значения\n",
    "values = list(it)\n",
    "print(values)"
   ],
   "metadata": {
    "collapsed": false,
    "pycharm": {
     "name": "#%%\n"
    }
   }
  },
  {
   "cell_type": "code",
   "execution_count": 23,
   "outputs": [
    {
     "name": "stdout",
     "output_type": "stream",
     "text": [
      "2 4 6 "
     ]
    }
   ],
   "source": [
    "# Проитерироваться (перебрать значения итератора) можно только один раз. Рассмотрите пример:\n",
    "a = [1, 2, 3]\n",
    "it = map(getDoubledValue, a)\n",
    "\n",
    "for x in it:\n",
    "    print(x, end=\" \")\n",
    "\n",
    "for x in it:\n",
    "    print(x, end=\" \")"
   ],
   "metadata": {
    "collapsed": false,
    "pycharm": {
     "name": "#%%\n"
    }
   }
  },
  {
   "cell_type": "code",
   "execution_count": 24,
   "outputs": [
    {
     "name": "stdout",
     "output_type": "stream",
     "text": [
      "2 4 2 4 "
     ]
    }
   ],
   "source": [
    "# Функция filter(func, *iterables) принимает некоторую функцию и возвращает итератор на элементы из iterables, для которых func вернула значение True.\n",
    "def isEven(x):\n",
    "    return x % 2 == 0\n",
    "\n",
    "\n",
    "a = [1, 2, 3, 4, 5, 2, 4]\n",
    "for x in filter(isEven, a):  # итератор пройдётся только по чётным элементам\n",
    "    print(x, end=\" \")"
   ],
   "metadata": {
    "collapsed": false,
    "pycharm": {
     "name": "#%%\n"
    }
   }
  },
  {
   "cell_type": "code",
   "execution_count": 25,
   "outputs": [
    {
     "name": "stdout",
     "output_type": "stream",
     "text": [
      "4 3\n",
      "5 2\n",
      "6 1\n"
     ]
    }
   ],
   "source": [
    "# Функция zip(*iterables) возвращает итератор на кортеж, где i-ый элемент кортежа взят из i-ой последовательности.\n",
    "# Пример:\n",
    "# a = (4, 5, 6), b = (3, 2, 1)\n",
    "# zip(a, b) -> (4, 3), (5, 2), (6, 1)\n",
    "\n",
    "a = (4, 5, 6)\n",
    "b = (3, 2, 1)\n",
    "for x, y in zip(a, b):\n",
    "    print(x, y)"
   ],
   "metadata": {
    "collapsed": false,
    "pycharm": {
     "name": "#%%\n"
    }
   }
  },
  {
   "cell_type": "code",
   "execution_count": 26,
   "outputs": [
    {
     "name": "stdout",
     "output_type": "stream",
     "text": [
      "1 4\n",
      "2 3\n"
     ]
    }
   ],
   "source": [
    "# Если последовательности разной длины, то сбор кортежей закончится.\n",
    "# Пример:\n",
    "# a = (1, 2), b = (4, 3, 2, 1)\n",
    "# zip(a, b) -> (1, 4), (2, 3)\n",
    "\n",
    "a = (1, 2)\n",
    "b = (4, 3, 2, 1)\n",
    "for x, y in zip(a, b):\n",
    "    print(x, y)"
   ],
   "metadata": {
    "collapsed": false,
    "pycharm": {
     "name": "#%%\n"
    }
   }
  },
  {
   "cell_type": "markdown",
   "source": [
    "### Функция reduce"
   ],
   "metadata": {
    "collapsed": false,
    "pycharm": {
     "name": "#%% md\n"
    }
   }
  },
  {
   "cell_type": "code",
   "execution_count": 27,
   "outputs": [
    {
     "name": "stdout",
     "output_type": "stream",
     "text": [
      "15\n",
      "39\n",
      "120\n",
      "6\n"
     ]
    }
   ],
   "source": [
    "from functools import reduce\n",
    "\n",
    "print(reduce(lambda x, y: x + y, [1, 2, 3, 4, 5]))\n",
    "print(reduce(lambda x, y: x + y, map(int, str(798465))))\n",
    "print(reduce(lambda x, y: x * y, range(1, 6)))\n",
    "\n",
    "\n",
    "def f(seq):\n",
    "    return reduce(lambda x, y: x + y, seq, 0)\n",
    "\n",
    "\n",
    "print(f([1, 2, 3]))"
   ],
   "metadata": {
    "collapsed": false,
    "pycharm": {
     "name": "#%%\n"
    }
   }
  },
  {
   "cell_type": "markdown",
   "source": [
    "### Функция partial"
   ],
   "metadata": {
    "collapsed": false,
    "pycharm": {
     "name": "#%% md\n"
    }
   }
  },
  {
   "cell_type": "code",
   "execution_count": 28,
   "outputs": [
    {
     "name": "stdout",
     "output_type": "stream",
     "text": [
      "14\n"
     ]
    }
   ],
   "source": [
    "from functools import partial\n",
    "\n",
    "\n",
    "def f(a, b):\n",
    "    return a + b\n",
    "\n",
    "\n",
    "add_to_10 = partial(f, 10)\n",
    "print(add_to_10(4))"
   ],
   "metadata": {
    "collapsed": false,
    "pycharm": {
     "name": "#%%\n"
    }
   }
  },
  {
   "cell_type": "code",
   "execution_count": 29,
   "outputs": [
    {
     "name": "stdout",
     "output_type": "stream",
     "text": [
      "14\n"
     ]
    }
   ],
   "source": [
    "def f(a, b):\n",
    "    return a + b\n",
    "\n",
    "\n",
    "add_to_10 = partial(f, b=10)\n",
    "print(add_to_10(4))"
   ],
   "metadata": {
    "collapsed": false,
    "pycharm": {
     "name": "#%%\n"
    }
   }
  },
  {
   "cell_type": "code",
   "execution_count": 30,
   "outputs": [
    {
     "name": "stdout",
     "output_type": "stream",
     "text": [
      "10\n"
     ]
    }
   ],
   "source": [
    "def f(a, b, *, factor=1):\n",
    "    return (a + b) * factor\n",
    "\n",
    "\n",
    "add_and_double = partial(f, factor=2)\n",
    "print(add_and_double(1, 4))"
   ],
   "metadata": {
    "collapsed": false,
    "pycharm": {
     "name": "#%%\n"
    }
   }
  },
  {
   "cell_type": "code",
   "execution_count": 31,
   "outputs": [
    {
     "name": "stdout",
     "output_type": "stream",
     "text": [
      "16 8\n"
     ]
    }
   ],
   "source": [
    "def power(base, exponent):\n",
    "    return base ** exponent\n",
    "\n",
    "square = partial(power, exponent=2)\n",
    "cube = partial(power, exponent=3)\n",
    "\n",
    "print(square(4), cube(2))"
   ],
   "metadata": {
    "collapsed": false,
    "pycharm": {
     "name": "#%%\n"
    }
   }
  },
  {
   "cell_type": "code",
   "execution_count": 32,
   "outputs": [
    {
     "name": "stdout",
     "output_type": "stream",
     "text": [
      "1024\n"
     ]
    }
   ],
   "source": [
    "print(square(2, exponent=10)) # вероятно это не то, что ожидается"
   ],
   "metadata": {
    "collapsed": false,
    "pycharm": {
     "name": "#%%\n"
    }
   }
  },
  {
   "cell_type": "markdown",
   "source": [
    "### Модуль operator - набор labmda функций для стандартных операций"
   ],
   "metadata": {
    "collapsed": false,
    "pycharm": {
     "name": "#%% md\n"
    }
   }
  },
  {
   "cell_type": "code",
   "execution_count": 33,
   "outputs": [
    {
     "data": {
      "text/plain": "['__abs__',\n '__add__',\n '__all__',\n '__and__',\n '__builtins__',\n '__cached__',\n '__concat__',\n '__contains__',\n '__delitem__',\n '__doc__',\n '__eq__',\n '__file__',\n '__floordiv__',\n '__ge__',\n '__getitem__',\n '__gt__',\n '__iadd__',\n '__iand__',\n '__iconcat__',\n '__ifloordiv__',\n '__ilshift__',\n '__imatmul__',\n '__imod__',\n '__imul__',\n '__index__',\n '__inv__',\n '__invert__',\n '__ior__',\n '__ipow__',\n '__irshift__',\n '__isub__',\n '__itruediv__',\n '__ixor__',\n '__le__',\n '__loader__',\n '__lshift__',\n '__lt__',\n '__matmul__',\n '__mod__',\n '__mul__',\n '__name__',\n '__ne__',\n '__neg__',\n '__not__',\n '__or__',\n '__package__',\n '__pos__',\n '__pow__',\n '__rshift__',\n '__setitem__',\n '__spec__',\n '__sub__',\n '__truediv__',\n '__xor__',\n '_abs',\n 'abs',\n 'add',\n 'and_',\n 'attrgetter',\n 'concat',\n 'contains',\n 'countOf',\n 'delitem',\n 'eq',\n 'floordiv',\n 'ge',\n 'getitem',\n 'gt',\n 'iadd',\n 'iand',\n 'iconcat',\n 'ifloordiv',\n 'ilshift',\n 'imatmul',\n 'imod',\n 'imul',\n 'index',\n 'indexOf',\n 'inv',\n 'invert',\n 'ior',\n 'ipow',\n 'irshift',\n 'is_',\n 'is_not',\n 'isub',\n 'itemgetter',\n 'itruediv',\n 'ixor',\n 'le',\n 'length_hint',\n 'lshift',\n 'lt',\n 'matmul',\n 'methodcaller',\n 'mod',\n 'mul',\n 'ne',\n 'neg',\n 'not_',\n 'or_',\n 'pos',\n 'pow',\n 'rshift',\n 'setitem',\n 'sub',\n 'truediv',\n 'truth',\n 'xor']"
     },
     "execution_count": 33,
     "metadata": {},
     "output_type": "execute_result"
    }
   ],
   "source": [
    "import operator\n",
    "\n",
    "dir(operator)"
   ],
   "metadata": {
    "collapsed": false,
    "pycharm": {
     "name": "#%%\n"
    }
   }
  },
  {
   "cell_type": "code",
   "execution_count": 34,
   "outputs": [
    {
     "name": "stdout",
     "output_type": "stream",
     "text": [
      "6\n",
      "0\n"
     ]
    }
   ],
   "source": [
    "def get_sum(seq):\n",
    "    return reduce(operator.add, seq, 0)\n",
    "\n",
    "print(get_sum([1, 2, 3]))\n",
    "print(get_sum([]))"
   ],
   "metadata": {
    "collapsed": false,
    "pycharm": {
     "name": "#%%\n"
    }
   }
  }
 ],
 "metadata": {
  "kernelspec": {
   "display_name": "Python 3",
   "language": "python",
   "name": "python3"
  },
  "language_info": {
   "codemirror_mode": {
    "name": "ipython",
    "version": 2
   },
   "file_extension": ".py",
   "mimetype": "text/x-python",
   "name": "python",
   "nbconvert_exporter": "python",
   "pygments_lexer": "ipython2",
   "version": "2.7.6"
  }
 },
 "nbformat": 4,
 "nbformat_minor": 0
}