{
 "cells": [
  {
   "cell_type": "markdown",
   "metadata": {
    "collapsed": true,
    "pycharm": {
     "name": "#%% md\n"
    }
   },
   "source": [
    "# Функции"
   ]
  },
  {
   "cell_type": "markdown",
   "source": [
    "### Аргументы и параметры"
   ],
   "metadata": {
    "collapsed": false,
    "pycharm": {
     "name": "#%% md\n"
    }
   }
  },
  {
   "cell_type": "code",
   "execution_count": 1,
   "outputs": [
    {
     "name": "stdout",
     "output_type": "stream",
     "text": [
      "5\n"
     ]
    }
   ],
   "source": [
    "# a и b называются (формальными) параметрами\n",
    "\n",
    "def add(a, b):\n",
    "    return a + b\n",
    "\n",
    "\n",
    "print(add(1, 4))\n",
    "# значения 1 и 4 называются аргументами или фактическими параметрами\n",
    "\n",
    "# в процессе вызова функции создаются переменная a и принимает значение 1 и переменная b, принимающая значение 4"
   ],
   "metadata": {
    "collapsed": false,
    "pycharm": {
     "name": "#%%\n"
    }
   }
  },
  {
   "cell_type": "code",
   "execution_count": 2,
   "outputs": [
    {
     "data": {
      "text/plain": "15"
     },
     "execution_count": 2,
     "metadata": {},
     "output_type": "execute_result"
    }
   ],
   "source": [
    "# аргументы бывают позиционные и именованные\n",
    "add(5, 10)  # 5 и 10 - позиционные аргументы"
   ],
   "metadata": {
    "collapsed": false,
    "pycharm": {
     "name": "#%%\n"
    }
   }
  },
  {
   "cell_type": "code",
   "execution_count": 3,
   "outputs": [
    {
     "name": "stdout",
     "output_type": "stream",
     "text": [
      "5\n",
      "52\n"
     ]
    }
   ],
   "source": [
    "# параметры могут иметь значение по умолчанию; такие параметры называют опциональными:\n",
    "def add(a, b = 42):\n",
    "    return a + b\n",
    "\n",
    "\n",
    "print(add(1, 4))\n",
    "print(add(10))     # -> add(10, 42); взято значение по умолчанию"
   ],
   "metadata": {
    "collapsed": false,
    "pycharm": {
     "name": "#%%\n"
    }
   }
  },
  {
   "cell_type": "code",
   "execution_count": 4,
   "outputs": [],
   "source": [
    "# опциональные параметры обязаны располагаться в конце списка параметров\n",
    "# def add(a: int = 10, b: int) -> ошибка компиляции"
   ],
   "metadata": {
    "collapsed": false,
    "pycharm": {
     "name": "#%%\n"
    }
   }
  },
  {
   "cell_type": "code",
   "execution_count": 5,
   "outputs": [
    {
     "name": "stdout",
     "output_type": "stream",
     "text": [
      "3\n",
      "5\n"
     ]
    }
   ],
   "source": [
    "print(add(a=1, b=2))  # в данном случае 1 и 2 -- именованные аргументы\n",
    "print(add(b=2, a=3))"
   ],
   "metadata": {
    "collapsed": false,
    "pycharm": {
     "name": "#%%\n"
    }
   }
  },
  {
   "cell_type": "code",
   "execution_count": 6,
   "outputs": [],
   "source": [
    "# стоит отметить, что если был использован именованный аргумент, все аргументы за ним обязаны быть именованными (только аргументы по умолчанию могут быть опущены)"
   ],
   "metadata": {
    "collapsed": false,
    "pycharm": {
     "name": "#%%\n"
    }
   }
  },
  {
   "cell_type": "markdown",
   "source": [
    "### Распаковка последовательностей"
   ],
   "metadata": {
    "collapsed": false,
    "pycharm": {
     "name": "#%% md\n"
    }
   }
  },
  {
   "cell_type": "code",
   "execution_count": 7,
   "outputs": [],
   "source": [
    "# Объекты могут быть упакованы в кортежи, списки, словари, множества\n",
    "p1 = [1, 2, 3]\n",
    "p2 = (5, 3, 7, 3, 5)\n",
    "p3 = {'key1': 4, 'key2': 6, 'key3': 14}\n",
    "p4 = {1, 5, 4}"
   ],
   "metadata": {
    "collapsed": false,
    "pycharm": {
     "name": "#%%\n"
    }
   }
  },
  {
   "cell_type": "code",
   "execution_count": 8,
   "outputs": [
    {
     "name": "stdout",
     "output_type": "stream",
     "text": [
      "1 2 3\n"
     ]
    }
   ],
   "source": [
    "# Объекты могут быть распакованы. Распаковка списков:\n",
    "p = [1, 2, 3]\n",
    "a, b, c = p\n",
    "print(a, b, c)"
   ],
   "metadata": {
    "collapsed": false,
    "pycharm": {
     "name": "#%%\n"
    }
   }
  },
  {
   "cell_type": "code",
   "execution_count": 9,
   "outputs": [
    {
     "name": "stdout",
     "output_type": "stream",
     "text": [
      "X Y Z\n"
     ]
    }
   ],
   "source": [
    "# Распаковка строк:\n",
    "a, b, c = \"XYZ\"\n",
    "print(a, b, c)"
   ],
   "metadata": {
    "collapsed": false,
    "pycharm": {
     "name": "#%%\n"
    }
   }
  },
  {
   "cell_type": "code",
   "execution_count": 11,
   "outputs": [
    {
     "name": "stdout",
     "output_type": "stream",
     "text": [
      "4 1\n"
     ]
    }
   ],
   "source": [
    "# Используя распаковку, можно производить обмен пары значений:\n",
    "a, b = map(int, input().split())\n",
    "a, b = b, a\n",
    "print(a, b)"
   ],
   "metadata": {
    "collapsed": false,
    "pycharm": {
     "name": "#%%\n"
    }
   }
  },
  {
   "cell_type": "code",
   "execution_count": 12,
   "outputs": [
    {
     "name": "stdout",
     "output_type": "stream",
     "text": [
      "key1 key2 key3\n"
     ]
    }
   ],
   "source": [
    "# Распаковка словарей:\n",
    "p = {'key1': 4, 'key2': 6, 'key3': 14}\n",
    "a, b, c = p\n",
    "print(a, b, c)\n",
    "# нет гарантий, что распаковка произойдёт именно в таком порядке,\n",
    "# ключи могли быть перемешаны произвольным образом"
   ],
   "metadata": {
    "collapsed": false,
    "pycharm": {
     "name": "#%%\n"
    }
   }
  },
  {
   "cell_type": "code",
   "execution_count": 13,
   "outputs": [
    {
     "name": "stdout",
     "output_type": "stream",
     "text": [
      "1 [2, 3, 4, 5]\n"
     ]
    }
   ],
   "source": [
    "a, *b = [1, 2, 3, 4, 5]\n",
    "print(a, b)"
   ],
   "metadata": {
    "collapsed": false,
    "pycharm": {
     "name": "#%%\n"
    }
   }
  },
  {
   "cell_type": "code",
   "execution_count": 14,
   "outputs": [
    {
     "name": "stdout",
     "output_type": "stream",
     "text": [
      "1 [2, 3, 4] 5\n"
     ]
    }
   ],
   "source": [
    "a, *b, c = [1, 2, 3, 4, 5]\n",
    "print(a, b, c)"
   ],
   "metadata": {
    "collapsed": false,
    "pycharm": {
     "name": "#%%\n"
    }
   }
  },
  {
   "cell_type": "code",
   "execution_count": 15,
   "outputs": [],
   "source": [
    "# *a, *b, c = [1, 2, 3, 4, 5] -> ошибка, непонятно каким образом выполнять распаковку; сколько элементов нужно отдать a, а сколько b?"
   ],
   "metadata": {
    "collapsed": false,
    "pycharm": {
     "name": "#%%\n"
    }
   }
  },
  {
   "cell_type": "code",
   "execution_count": 16,
   "outputs": [
    {
     "name": "stdout",
     "output_type": "stream",
     "text": [
      "X ['Y', 'Z']\n"
     ]
    }
   ],
   "source": [
    "a, *b = \"XYZ\"\n",
    "print(a, b)"
   ],
   "metadata": {
    "collapsed": false,
    "pycharm": {
     "name": "#%%\n"
    }
   }
  },
  {
   "cell_type": "code",
   "execution_count": 17,
   "outputs": [
    {
     "name": "stdout",
     "output_type": "stream",
     "text": [
      "[1, 2, 3, 4, 5, 6]\n"
     ]
    }
   ],
   "source": [
    "# использование приёма для объединения значений из двух списков:\n",
    "l1 = [1, 2, 3]\n",
    "l2 = [4, 5, 6]\n",
    "l3 = [*l1, *l2]\n",
    "print(l3)"
   ],
   "metadata": {
    "collapsed": false,
    "pycharm": {
     "name": "#%%\n"
    }
   }
  },
  {
   "cell_type": "code",
   "execution_count": 18,
   "outputs": [
    {
     "name": "stdout",
     "output_type": "stream",
     "text": [
      "{1, 2, 3, 4, 5}\n"
     ]
    }
   ],
   "source": [
    "s1 = {1, 2, 3}\n",
    "s2 = {3, 4, 5}\n",
    "print({*s1, *s2})"
   ],
   "metadata": {
    "collapsed": false,
    "pycharm": {
     "name": "#%%\n"
    }
   }
  },
  {
   "cell_type": "code",
   "execution_count": 19,
   "outputs": [
    {
     "name": "stdout",
     "output_type": "stream",
     "text": [
      "{2, 5, 6, 15}\n",
      "2 [5, 6] 15\n"
     ]
    }
   ],
   "source": [
    "# множества не гарантируют порядок элементов\n",
    "s = {5, 2, 6, 15}\n",
    "print(s)\n",
    "a, *b, c = s\n",
    "print(a, b, c)"
   ],
   "metadata": {
    "collapsed": false,
    "pycharm": {
     "name": "#%%\n"
    }
   }
  },
  {
   "cell_type": "code",
   "execution_count": 21,
   "outputs": [
    {
     "name": "stdout",
     "output_type": "stream",
     "text": [
      "{'key1': 4, 'key2': 6, 'key3': 14}\n"
     ]
    }
   ],
   "source": [
    "# распаковка словарей **\n",
    "d1 = {'key1': 4, 'key2': 6, 'key3': 14}\n",
    "d2 = {'key1': 1, 'key5': 16, 'key6': 4}\n",
    "print({**d1})"
   ],
   "metadata": {
    "collapsed": false,
    "pycharm": {
     "name": "#%%\n"
    }
   }
  },
  {
   "cell_type": "code",
   "execution_count": 22,
   "outputs": [
    {
     "name": "stdout",
     "output_type": "stream",
     "text": [
      "{'key1': 1, 'key2': 6, 'key3': 14, 'key5': 16, 'key6': 4}\n"
     ]
    }
   ],
   "source": [
    "d3 = {**d1, **d2}  # при объединении словарей, если имеются одинаковые ключи,\n",
    "                   # будет взято значение из последнего словаря\n",
    "print(d3)"
   ],
   "metadata": {
    "collapsed": false,
    "pycharm": {
     "name": "#%%\n"
    }
   }
  },
  {
   "cell_type": "code",
   "execution_count": 23,
   "outputs": [
    {
     "name": "stdout",
     "output_type": "stream",
     "text": [
      "{'key1': 2000, 'key2': 3000, 'key3': 14}\n"
     ]
    }
   ],
   "source": [
    "d3 = {**d1, 'key1': 2000, 'key2': 3000}\n",
    "print(d3)"
   ],
   "metadata": {
    "collapsed": false,
    "pycharm": {
     "name": "#%%\n"
    }
   }
  },
  {
   "cell_type": "code",
   "execution_count": 24,
   "outputs": [
    {
     "name": "stdout",
     "output_type": "stream",
     "text": [
      "1 [2, 3] 3\n"
     ]
    }
   ],
   "source": [
    "a, b, c = [1, [2, 3], 3]\n",
    "print(a, b, c)"
   ],
   "metadata": {
    "collapsed": false,
    "pycharm": {
     "name": "#%%\n"
    }
   }
  },
  {
   "cell_type": "code",
   "execution_count": 25,
   "outputs": [
    {
     "name": "stdout",
     "output_type": "stream",
     "text": [
      "1 2 3 4\n"
     ]
    }
   ],
   "source": [
    "a, (b, c), d = [1, [2, 3], 4]\n",
    "print(a, b, c, d)"
   ],
   "metadata": {
    "collapsed": false,
    "pycharm": {
     "name": "#%%\n"
    }
   }
  },
  {
   "cell_type": "code",
   "execution_count": 26,
   "outputs": [
    {
     "name": "stdout",
     "output_type": "stream",
     "text": [
      "1 2 [3, 4] [5, 6]\n"
     ]
    }
   ],
   "source": [
    "a, (b, *c), *d = [1, [2, 3, 4], 5, 6]\n",
    "print(a, b, c, d)"
   ],
   "metadata": {
    "collapsed": false,
    "pycharm": {
     "name": "#%%\n"
    }
   }
  },
  {
   "cell_type": "markdown",
   "source": [
    "## *args"
   ],
   "metadata": {
    "collapsed": false,
    "pycharm": {
     "name": "#%% md\n"
    }
   }
  },
  {
   "cell_type": "code",
   "execution_count": 66,
   "outputs": [
    {
     "name": "stdout",
     "output_type": "stream",
     "text": [
      "1 5 (3, 6, 5)\n"
     ]
    }
   ],
   "source": [
    "def f(a, b, *args):  # все параметры с 3 и дальше будут упакованы в кортеж\n",
    "    print(a, b, args)\n",
    "\n",
    "\n",
    "f(1, 5, 3, 6, 5)"
   ],
   "metadata": {
    "collapsed": false,
    "pycharm": {
     "name": "#%%\n"
    }
   }
  },
  {
   "cell_type": "code",
   "execution_count": 72,
   "outputs": [
    {
     "name": "stdout",
     "output_type": "stream",
     "text": [
      "1 2 (3, 4) 42\n"
     ]
    }
   ],
   "source": [
    "# после *args не могут располагаться позиционные параметры, они обязаны быть именованными\n",
    "def f(a, b, *args, d):\n",
    "    print(a, b, args, d)\n",
    "\n",
    "\n",
    "# f(1, 2, 3, 4, 5) -> ошибка, не задан параметр d\n",
    "f(1, 2, 3, 4, d=42)"
   ],
   "metadata": {
    "collapsed": false,
    "pycharm": {
     "name": "#%%\n"
    }
   }
  },
  {
   "cell_type": "code",
   "execution_count": 27,
   "outputs": [
    {
     "name": "stdout",
     "output_type": "stream",
     "text": [
      "1 2 3\n"
     ]
    }
   ],
   "source": [
    "def f(a, b, c):\n",
    "    print(a, b, c)\n",
    "\n",
    "\n",
    "l = [1, 2, 3]\n",
    "f(*l)\n",
    "# f(l) -> ошибка TypeError: не указаны значения для параметров b и c"
   ],
   "metadata": {
    "collapsed": false,
    "pycharm": {
     "name": "#%%\n"
    }
   }
  },
  {
   "cell_type": "code",
   "execution_count": 28,
   "outputs": [
    {
     "name": "stdout",
     "output_type": "stream",
     "text": [
      "2.0\n",
      "0\n"
     ]
    }
   ],
   "source": [
    "def avg(*args):\n",
    "    count = len(args)\n",
    "    total = sum(args)\n",
    "    return count and total / count\n",
    "\n",
    "\n",
    "print(avg(1, 2, 3))\n",
    "print(avg())  # параметр args опционален"
   ],
   "metadata": {
    "collapsed": false,
    "pycharm": {
     "name": "#%%\n"
    }
   }
  },
  {
   "cell_type": "code",
   "execution_count": 29,
   "outputs": [
    {
     "name": "stdout",
     "output_type": "stream",
     "text": [
      "(1, 2, 3) 4\n"
     ]
    }
   ],
   "source": [
    "def func(*args, d):\n",
    "    print(args, d)\n",
    "\n",
    "\n",
    "func(1, 2, 3, d=4)"
   ],
   "metadata": {
    "collapsed": false,
    "pycharm": {
     "name": "#%%\n"
    }
   }
  },
  {
   "cell_type": "code",
   "execution_count": 30,
   "outputs": [
    {
     "name": "stdout",
     "output_type": "stream",
     "text": [
      "1\n"
     ]
    }
   ],
   "source": [
    "# звёздочка намекает на то, что все позиционные параметры закончились, дальше идут только именованные\n",
    "def func(*, d):\n",
    "    print(d)\n",
    "\n",
    "\n",
    "# func(1) # ошибка, 1 - позиционный аргумент\n",
    "func(d=1)  # допустимо"
   ],
   "metadata": {
    "collapsed": false,
    "pycharm": {
     "name": "#%%\n"
    }
   }
  },
  {
   "cell_type": "code",
   "execution_count": 32,
   "outputs": [],
   "source": [
    "# Рассмотрим пример сложнее:\n",
    "def func(a, b=1, *args, d, e=True):\n",
    "    pass\n",
    "\n",
    "# a, b -> позиционные параметры\n",
    "# args -> опциональный позиционный параметр\n",
    "# d, e -> именованные параметры"
   ],
   "metadata": {
    "collapsed": false,
    "pycharm": {
     "name": "#%%\n"
    }
   }
  },
  {
   "cell_type": "code",
   "execution_count": 33,
   "outputs": [],
   "source": [
    "# Рассмотрим пример сложнее:\n",
    "def func(a, b, *, d, e=True):\n",
    "    pass\n",
    "\n",
    "# a, b -> позиционные параметры\n",
    "# *    -> конец позиционных параметров\n",
    "# d, e -> именованные параметры"
   ],
   "metadata": {
    "collapsed": false,
    "pycharm": {
     "name": "#%%\n"
    }
   }
  },
  {
   "cell_type": "markdown",
   "source": [
    "## **kwargs"
   ],
   "metadata": {
    "collapsed": false,
    "pycharm": {
     "name": "#%% md\n"
    }
   }
  },
  {
   "cell_type": "code",
   "execution_count": 34,
   "outputs": [
    {
     "name": "stdout",
     "output_type": "stream",
     "text": [
      "10 {}\n",
      "10 {'b': 20, 'c': 30}\n"
     ]
    }
   ],
   "source": [
    "def func(*, a, **kwargs):\n",
    "    print(a, kwargs)\n",
    "\n",
    "\n",
    "func(a=10)\n",
    "func(a=10, b=20, c=30)"
   ],
   "metadata": {
    "collapsed": false,
    "pycharm": {
     "name": "#%%\n"
    }
   }
  },
  {
   "cell_type": "code",
   "execution_count": 35,
   "outputs": [
    {
     "name": "stdout",
     "output_type": "stream",
     "text": [
      "(1, 3) {'c': 30}\n",
      "() {'a': 10, 'b': 20, 'c': 30}\n"
     ]
    }
   ],
   "source": [
    "# все позиционные параметры запишутся в args, все именованные в kwargs\n",
    "def func(*args, **kwargs):\n",
    "    print(args, kwargs)\n",
    "\n",
    "\n",
    "func(1, 3, c=30)\n",
    "func(a=10, b=20, c=30)"
   ],
   "metadata": {
    "collapsed": false,
    "pycharm": {
     "name": "#%%\n"
    }
   }
  },
  {
   "cell_type": "code",
   "execution_count": 36,
   "outputs": [],
   "source": [
    "# Таким образом, параметры делятся на позиционные и именованные. И те и другие могут иметь значение по умолчанию.\n",
    "# Среди позиционных параметров может находиться параметр *args, который при вызове упаковывает все переданные ему позиционные аргументы в кортеж (возможно, пустой). Также в списке параметров может находиться *. И args, и * являются концом позиционных параметров. После * / *args обязан находиться хотя бы один именованный параметр.\n",
    "# Именованные параметры идут сразу после позиционных. После именованных параметров не могут следовать позиционные. Именованные параметры могут быть собраны в словарь **kwargs. После **kwargs не могут следовать никакие параметры."
   ],
   "metadata": {
    "collapsed": false,
    "pycharm": {
     "name": "#%%\n"
    }
   }
  },
  {
   "cell_type": "code",
   "execution_count": 37,
   "outputs": [
    {
     "data": {
      "text/plain": "0.0006590787999994064"
     },
     "execution_count": 37,
     "metadata": {},
     "output_type": "execute_result"
    }
   ],
   "source": [
    "# программа для замера времени работы функции\n",
    "import time\n",
    "from math import sqrt\n",
    "\n",
    "\n",
    "def get_avg_time(fn, *args, rep=1, **kwargs):\n",
    "    start = time.perf_counter()\n",
    "    for i in range(rep):\n",
    "        fn(*args, **kwargs)\n",
    "    end = time.perf_counter()\n",
    "    return (end - start) / rep\n",
    "\n",
    "\n",
    "def is_prime(x: int):\n",
    "    if x <= 0:\n",
    "        raise ValueError\n",
    "\n",
    "    if x % 2 == 0 and x != 2 or x == 1:\n",
    "        return False\n",
    "\n",
    "    max_possible_divider = int(sqrt(x))\n",
    "    for divider in range(3, max_possible_divider, 2):\n",
    "        if x % divider == 0:\n",
    "            return False\n",
    "\n",
    "    return True\n",
    "\n",
    "\n",
    "get_avg_time(is_prime, 1000000007, rep=2000)"
   ],
   "metadata": {
    "collapsed": false,
    "pycharm": {
     "name": "#%%\n"
    }
   }
  },
  {
   "cell_type": "code",
   "execution_count": 38,
   "outputs": [
    {
     "name": "stdout",
     "output_type": "stream",
     "text": [
      "[1, 2, 3, 1]\n",
      "[1, 2, 3, 1, 1]\n"
     ]
    }
   ],
   "source": [
    "# если параметр относится к изменяемому типу и будет изменён внутри функции, при следующем вызове он сохранит своё состояние\n",
    "my_list = [1, 2, 3]\n",
    "\n",
    "\n",
    "def f(a = my_list):\n",
    "    a.append(1)\n",
    "    return a\n",
    "\n",
    "\n",
    "print(f())\n",
    "print(f())"
   ],
   "metadata": {
    "collapsed": false,
    "pycharm": {
     "name": "#%%\n"
    }
   }
  },
  {
   "cell_type": "code",
   "execution_count": 39,
   "outputs": [
    {
     "name": "stdout",
     "output_type": "stream",
     "text": [
      "message 1 2022-10-04 19:29:57.982757\n"
     ]
    }
   ],
   "source": [
    "from datetime import datetime\n",
    "\n",
    "\n",
    "#значения параметров по умолчанию определяются в момент подключения функции\n",
    "def f(message, *, t=datetime.utcnow()):\n",
    "    print(message, t)\n",
    "\n",
    "\n",
    "f(\"message 1\")"
   ],
   "metadata": {
    "collapsed": false,
    "pycharm": {
     "name": "#%%\n"
    }
   }
  },
  {
   "cell_type": "code",
   "execution_count": 40,
   "outputs": [
    {
     "name": "stdout",
     "output_type": "stream",
     "text": [
      "message 1 2022-10-04 19:29:57.982757\n"
     ]
    }
   ],
   "source": [
    "f(\"message 1\")  # было получено то же самое время, так как параметр t был проинициализирован при загрузке модуля"
   ],
   "metadata": {
    "collapsed": false,
    "pycharm": {
     "name": "#%%\n"
    }
   }
  },
  {
   "cell_type": "code",
   "execution_count": 41,
   "outputs": [
    {
     "name": "stdout",
     "output_type": "stream",
     "text": [
      "2022-10-04 19:30:01.899347\n"
     ]
    }
   ],
   "source": [
    "# Возможное решение:\n",
    "def f(message, *, t=None):\n",
    "    if t is None:\n",
    "        t = datetime.utcnow()\n",
    "    print(t)\n",
    "\n",
    "\n",
    "f(\"message 1\")"
   ],
   "metadata": {
    "collapsed": false,
    "pycharm": {
     "name": "#%%\n"
    }
   }
  },
  {
   "cell_type": "code",
   "execution_count": 42,
   "outputs": [
    {
     "name": "stdout",
     "output_type": "stream",
     "text": [
      "2022-10-04 19:30:03.274191\n"
     ]
    }
   ],
   "source": [
    "f(\"message 2\")"
   ],
   "metadata": {
    "collapsed": false,
    "pycharm": {
     "name": "#%%\n"
    }
   }
  },
  {
   "cell_type": "code",
   "execution_count": 43,
   "outputs": [],
   "source": [
    "# Однако такое поведение может быть использовано, например, для кеширования\n",
    "\n",
    "def factorial(n, *, cache={1: 1}):\n",
    "    if n < 0:\n",
    "        return ValueError\n",
    "\n",
    "    if n in cache:\n",
    "        return cache[n]\n",
    "    else:\n",
    "        print(f\"Вычисляю {n}!\")\n",
    "        v = n * factorial(n - 1)\n",
    "        cache[n] = v\n",
    "        return v"
   ],
   "metadata": {
    "collapsed": false,
    "pycharm": {
     "name": "#%%\n"
    }
   }
  },
  {
   "cell_type": "code",
   "execution_count": 44,
   "outputs": [
    {
     "name": "stdout",
     "output_type": "stream",
     "text": [
      "Вычисляю 3!\n",
      "Вычисляю 2!\n",
      "Вычисляю 5!\n",
      "Вычисляю 4!\n"
     ]
    },
    {
     "data": {
      "text/plain": "120"
     },
     "execution_count": 44,
     "metadata": {},
     "output_type": "execute_result"
    }
   ],
   "source": [
    "factorial(3)\n",
    "factorial(5)"
   ],
   "metadata": {
    "collapsed": false,
    "pycharm": {
     "name": "#%%\n"
    }
   }
  }
 ],
 "metadata": {
  "kernelspec": {
   "display_name": "Python 3",
   "language": "python",
   "name": "python3"
  },
  "language_info": {
   "codemirror_mode": {
    "name": "ipython",
    "version": 2
   },
   "file_extension": ".py",
   "mimetype": "text/x-python",
   "name": "python",
   "nbconvert_exporter": "python",
   "pygments_lexer": "ipython2",
   "version": "2.7.6"
  }
 },
 "nbformat": 4,
 "nbformat_minor": 0
}