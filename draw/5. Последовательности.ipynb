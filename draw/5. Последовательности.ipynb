{
 "cells": [
  {
   "cell_type": "markdown",
   "metadata": {
    "collapsed": true,
    "pycharm": {
     "name": "#%% md\n"
    }
   },
   "source": [
    "# Последовательности"
   ]
  },
  {
   "cell_type": "markdown",
   "source": [
    "Основное, что характерно последовательностям в Python: элементы последовательности пронумерованы (имеют индекс). Например, список является последовательностью, а множество -- нет (нельзя обратиться к элементам по индексу)."
   ],
   "metadata": {
    "collapsed": false,
    "pycharm": {
     "name": "#%% md\n"
    }
   }
  },
  {
   "cell_type": "code",
   "execution_count": 2,
   "outputs": [
    {
     "name": "stdout",
     "output_type": "stream",
     "text": [
      "[4, 2, 5, 6] {2, 4, 5, 6}\n"
     ]
    }
   ],
   "source": [
    "a = [4, 2, 5, 6] # список, является последовательностью\n",
    "b = {4, 2, 5, 6} # множество, не является последовательностью\n",
    "print(a, b)"
   ],
   "metadata": {
    "collapsed": false,
    "pycharm": {
     "name": "#%%\n"
    }
   }
  },
  {
   "cell_type": "code",
   "execution_count": null,
   "outputs": [],
   "source": [
    "print(a[0]) # обращение к элементам по индексу допустимо"
   ],
   "metadata": {
    "collapsed": false,
    "pycharm": {
     "name": "#%%\n"
    }
   }
  },
  {
   "cell_type": "code",
   "execution_count": null,
   "outputs": [],
   "source": [
    "# отрицательные индексы нужны, чтобы взять какой-то элемент с конца\n",
    "print(a[-1]) # вывести первый элемент с конца\n",
    "print(a[-2]) # вывести второй элемент с конца"
   ],
   "metadata": {
    "collapsed": false,
    "pycharm": {
     "name": "#%%\n"
    }
   }
  },
  {
   "cell_type": "code",
   "execution_count": 5,
   "outputs": [
    {
     "ename": "TypeError",
     "evalue": "'set' object is not subscriptable",
     "output_type": "error",
     "traceback": [
      "\u001B[1;31m---------------------------------------------------------------------------\u001B[0m",
      "\u001B[1;31mTypeError\u001B[0m                                 Traceback (most recent call last)",
      "Cell \u001B[1;32mIn [5], line 2\u001B[0m\n\u001B[0;32m      1\u001B[0m \u001B[38;5;66;03m# в случае с множествами получим ошибку\u001B[39;00m\n\u001B[1;32m----> 2\u001B[0m b[\u001B[38;5;241m0\u001B[39m]\n",
      "\u001B[1;31mTypeError\u001B[0m: 'set' object is not subscriptable"
     ]
    }
   ],
   "source": [
    "# в случае с множествами получим ошибку\n",
    "b[0]"
   ],
   "metadata": {
    "collapsed": false,
    "pycharm": {
     "name": "#%%\n"
    }
   }
  },
  {
   "cell_type": "markdown",
   "source": [
    "#### Встроенные последовательности:\n",
    "* изменяемые (lists, bytearrays)\n",
    "* неизменяемые (strings, tuples, range, bytes)\n",
    "#### Дополнительные стандартные последовательности:\n",
    "* namedtuple, deque (модуль collections)\n",
    "* array (модуль array)\n",
    "#### Последовательности:\n",
    "* Гомогенные (все элементы последовательности принадлежат одному типу)\n",
    "* Гетерогенные (найдётся хотя бы одна пара элементов с различными типами)\n",
    "С гомогенным относятся строки (каждый элемент является символом). К гетерогенным относятся списки и кортежи.\n",
    "\n",
    "\n",
    "### Итерирование по последовательностям\n",
    "Последовательности поддерживают возможность проитерироваться (выполнить перебор) по элементам последовательности:"
   ],
   "metadata": {
    "collapsed": false,
    "pycharm": {
     "name": "#%% md\n"
    }
   }
  },
  {
   "cell_type": "code",
   "execution_count": 6,
   "outputs": [
    {
     "name": "stdout",
     "output_type": "stream",
     "text": [
      "5 3 7 6 "
     ]
    }
   ],
   "source": [
    "a = [5, 3, 7, 6]\n",
    "for el in a:\n",
    "    print(el, end=\" \")"
   ],
   "metadata": {
    "collapsed": false,
    "pycharm": {
     "name": "#%%\n"
    }
   }
  },
  {
   "cell_type": "markdown",
   "source": [
    "Хотя возможность \"проитерироваться\" принадлежит не только последовательностям, а, например, множествам:"
   ],
   "metadata": {
    "collapsed": false,
    "pycharm": {
     "name": "#%% md\n"
    }
   }
  },
  {
   "cell_type": "code",
   "execution_count": 7,
   "outputs": [
    {
     "name": "stdout",
     "output_type": "stream",
     "text": [
      "1 2 4 6 "
     ]
    }
   ],
   "source": [
    "x = {4, 6, 2, 1}\n",
    "for el in x:\n",
    "    print(el, end=\" \")\n",
    "# с другой стороны, нельзя обратиться к элементу по индексу"
   ],
   "metadata": {
    "collapsed": false,
    "pycharm": {
     "name": "#%%\n"
    }
   }
  },
  {
   "cell_type": "markdown",
   "source": [
    "### Проверка на вхождение (`in`, `not in`):\n",
    "\n",
    "Используя операцию `in` и `not in` можно узнать, входит или не входит некоторый элемент в заданную последовательность:"
   ],
   "metadata": {
    "collapsed": false,
    "pycharm": {
     "name": "#%% md\n"
    }
   }
  },
  {
   "cell_type": "code",
   "execution_count": 8,
   "outputs": [
    {
     "name": "stdout",
     "output_type": "stream",
     "text": [
      "Элемент 5 находится в последовательности [5, 3, 6]\n"
     ]
    }
   ],
   "source": [
    "a = [5, 3, 6]\n",
    "x = int(input())\n",
    "if x in a:\n",
    "    print(f\"Элемент {x} находится в последовательности {a}\")\n",
    "else:\n",
    "    print(f\"Элемент {x} не находится в последовательности {a}\")"
   ],
   "metadata": {
    "collapsed": false,
    "pycharm": {
     "name": "#%%\n"
    }
   }
  },
  {
   "cell_type": "code",
   "execution_count": 9,
   "outputs": [
    {
     "name": "stdout",
     "output_type": "stream",
     "text": [
      "Элемент 5 находится в последовательности [5, 3, 6]\n"
     ]
    }
   ],
   "source": [
    "a = [5, 3, 6]\n",
    "x = int(input())\n",
    "if x not in a:\n",
    "    print(f\"Элемент {x} не находится в последовательности {a}\")\n",
    "else:\n",
    "    print(f\"Элемент {x} находится в последовательности {a}\")"
   ],
   "metadata": {
    "collapsed": false,
    "pycharm": {
     "name": "#%%\n"
    }
   }
  },
  {
   "cell_type": "markdown",
   "source": [
    "### Конкатенация и повторение последовательностей\n",
    "\n",
    "Последовательности могут быть повторены необходимое количество раз:"
   ],
   "metadata": {
    "collapsed": false,
    "pycharm": {
     "name": "#%% md\n"
    }
   }
  },
  {
   "cell_type": "code",
   "execution_count": 10,
   "outputs": [
    {
     "name": "stdout",
     "output_type": "stream",
     "text": [
      "[1, 2, 3, 1, 2, 3, 1, 2, 3]\n"
     ]
    }
   ],
   "source": [
    "a = [1, 2, 3]\n",
    "b = a * 3\n",
    "print(b)"
   ],
   "metadata": {
    "collapsed": false,
    "pycharm": {
     "name": "#%%\n"
    }
   }
  },
  {
   "cell_type": "code",
   "execution_count": 63,
   "outputs": [
    {
     "name": "stdout",
     "output_type": "stream",
     "text": [
      "[1, 2, 3, 1, 2, 3, 1, 2, 3]\n"
     ]
    }
   ],
   "source": [
    "a = [1, 2, 3]\n",
    "b = a * 3\n",
    "print(b)"
   ],
   "metadata": {
    "collapsed": false,
    "pycharm": {
     "name": "#%%\n"
    }
   }
  },
  {
   "cell_type": "markdown",
   "source": [
    "Последовательности можно конкатенировать (склеивать), если они принадлежат одному типу:"
   ],
   "metadata": {
    "collapsed": false,
    "pycharm": {
     "name": "#%% md\n"
    }
   }
  },
  {
   "cell_type": "code",
   "execution_count": 11,
   "outputs": [
    {
     "name": "stdout",
     "output_type": "stream",
     "text": [
      "[1, 2, 3, 4, 5]\n"
     ]
    }
   ],
   "source": [
    "a = [1, 2, 3]\n",
    "b = [4, 5]\n",
    "c = a + b\n",
    "print(c)"
   ],
   "metadata": {
    "collapsed": false,
    "pycharm": {
     "name": "#%%\n"
    }
   }
  },
  {
   "cell_type": "code",
   "execution_count": 12,
   "outputs": [
    {
     "ename": "TypeError",
     "evalue": "can only concatenate list (not \"tuple\") to list",
     "output_type": "error",
     "traceback": [
      "\u001B[1;31m---------------------------------------------------------------------------\u001B[0m",
      "\u001B[1;31mTypeError\u001B[0m                                 Traceback (most recent call last)",
      "Cell \u001B[1;32mIn [12], line 4\u001B[0m\n\u001B[0;32m      2\u001B[0m a \u001B[38;5;241m=\u001B[39m [\u001B[38;5;241m1\u001B[39m, \u001B[38;5;241m2\u001B[39m, \u001B[38;5;241m3\u001B[39m]\n\u001B[0;32m      3\u001B[0m b \u001B[38;5;241m=\u001B[39m (\u001B[38;5;241m4\u001B[39m, \u001B[38;5;241m5\u001B[39m)\n\u001B[1;32m----> 4\u001B[0m c \u001B[38;5;241m=\u001B[39m a \u001B[38;5;241m+\u001B[39m b\n",
      "\u001B[1;31mTypeError\u001B[0m: can only concatenate list (not \"tuple\") to list"
     ]
    }
   ],
   "source": [
    "# в данном случае будет получена ошибка\n",
    "a = [1, 2, 3]\n",
    "b = (4, 5)\n",
    "c = a + b"
   ],
   "metadata": {
    "collapsed": false,
    "pycharm": {
     "name": "#%%\n"
    }
   }
  },
  {
   "cell_type": "markdown",
   "source": [
    "### Поиск минимума и максимума в последовательности\n",
    "\n",
    "Если элементы можно упорядочить, тогда доступны функции `min` и `max`:"
   ],
   "metadata": {
    "collapsed": false,
    "pycharm": {
     "name": "#%% md\n"
    }
   }
  },
  {
   "cell_type": "code",
   "execution_count": 13,
   "outputs": [
    {
     "name": "stdout",
     "output_type": "stream",
     "text": [
      "3 7\n"
     ]
    }
   ],
   "source": [
    "a = [5, 3, 7]\n",
    "print(min(a), max(a))"
   ],
   "metadata": {
    "collapsed": false,
    "pycharm": {
     "name": "#%%\n"
    }
   }
  },
  {
   "cell_type": "code",
   "execution_count": 14,
   "outputs": [
    {
     "ename": "TypeError",
     "evalue": "'<' not supported between instances of 'str' and 'int'",
     "output_type": "error",
     "traceback": [
      "\u001B[1;31m---------------------------------------------------------------------------\u001B[0m",
      "\u001B[1;31mTypeError\u001B[0m                                 Traceback (most recent call last)",
      "Cell \u001B[1;32mIn [14], line 3\u001B[0m\n\u001B[0;32m      1\u001B[0m \u001B[38;5;66;03m# ошибка, не поддерживается сравнение между строками и целым\u001B[39;00m\n\u001B[0;32m      2\u001B[0m a \u001B[38;5;241m=\u001B[39m [\u001B[38;5;241m5\u001B[39m, \u001B[38;5;124m'\u001B[39m\u001B[38;5;124m3\u001B[39m\u001B[38;5;124m'\u001B[39m]\n\u001B[1;32m----> 3\u001B[0m \u001B[38;5;28mprint\u001B[39m(\u001B[38;5;28mmin\u001B[39m(a))\n",
      "\u001B[1;31mTypeError\u001B[0m: '<' not supported between instances of 'str' and 'int'"
     ]
    }
   ],
   "source": [
    "# ошибка, не поддерживается сравнение между строками и целым\n",
    "a = [5, '3']\n",
    "print(min(a))"
   ],
   "metadata": {
    "collapsed": false,
    "pycharm": {
     "name": "#%%\n"
    }
   }
  },
  {
   "cell_type": "code",
   "execution_count": 15,
   "outputs": [
    {
     "name": "stdout",
     "output_type": "stream",
     "text": [
      "-19/4 1.54\n"
     ]
    }
   ],
   "source": [
    "# но это не означает, что все переменные коллекции должны иметь один тип;\n",
    "# важно чтобы поддерживалось сравнение между элементами последовательности\n",
    "from fractions import Fraction\n",
    "from decimal import Decimal\n",
    "\n",
    "a = [1, Decimal(\"1.54\"), -4.45, Fraction(-19/4)]\n",
    "print(min(a), max(a))"
   ],
   "metadata": {
    "collapsed": false,
    "pycharm": {
     "name": "#%%\n"
    }
   }
  },
  {
   "cell_type": "markdown",
   "source": [
    "### Метод `.index`"
   ],
   "metadata": {
    "collapsed": false,
    "pycharm": {
     "name": "#%% md\n"
    }
   }
  },
  {
   "cell_type": "markdown",
   "source": [
    "Метод `seq.index(x)` возвращает позицию первого вхождения `x` в некоторой последовательности `seq`:"
   ],
   "metadata": {
    "collapsed": false,
    "pycharm": {
     "name": "#%% md\n"
    }
   }
  },
  {
   "cell_type": "code",
   "execution_count": 16,
   "outputs": [
    {
     "data": {
      "text/plain": "3"
     },
     "execution_count": 16,
     "metadata": {},
     "output_type": "execute_result"
    }
   ],
   "source": [
    "a = [5, 3, 6, 7, 1, 2, 7]\n",
    "a.index(7) # возвращает позицию первой семёрки: помните, что нумерация ведётся с нуля"
   ],
   "metadata": {
    "collapsed": false,
    "pycharm": {
     "name": "#%%\n"
    }
   }
  },
  {
   "cell_type": "markdown",
   "source": [
    "Можно указать второй индекс, который будет обозначать, с какой позиции требуется выполнить поиск:"
   ],
   "metadata": {
    "collapsed": false,
    "pycharm": {
     "name": "#%% md\n"
    }
   }
  },
  {
   "cell_type": "code",
   "execution_count": 17,
   "outputs": [
    {
     "name": "stdout",
     "output_type": "stream",
     "text": [
      "6\n",
      "3\n"
     ]
    }
   ],
   "source": [
    "print(a.index(7, 4)) # поиск значения 7 в списке a с 4 позиции\n",
    "print(a.index(7, 2)) # поиск значения 7 в списке a с 3 позиции"
   ],
   "metadata": {
    "collapsed": false,
    "pycharm": {
     "name": "#%%\n"
    }
   }
  },
  {
   "cell_type": "markdown",
   "source": [
    "Третий параметр функции отвечает за конечную позицию, до которой будет производиться поиск (не включая её):"
   ],
   "metadata": {
    "collapsed": false,
    "pycharm": {
     "name": "#%% md\n"
    }
   }
  },
  {
   "cell_type": "code",
   "execution_count": 18,
   "outputs": [
    {
     "name": "stdout",
     "output_type": "stream",
     "text": [
      "2\n",
      "3\n"
     ]
    }
   ],
   "source": [
    "s = \"Hello\"\n",
    "print(s.index('l', 0, 3)) # поиск символа 'l' в строке s с 0 позиции по 2 включительно\n",
    "print(s.index('l', 3, 5)) # поиск символа 'l' в строке s с 3 позиции по 4 включительно"
   ],
   "metadata": {
    "collapsed": false,
    "pycharm": {
     "name": "#%%\n"
    }
   }
  },
  {
   "cell_type": "code",
   "execution_count": 19,
   "outputs": [
    {
     "data": {
      "text/plain": "2"
     },
     "execution_count": 19,
     "metadata": {},
     "output_type": "execute_result"
    }
   ],
   "source": [
    "# Можно искать не только одиночный символ, но и подстроку:\n",
    "s.index('ll') # выполняется поиск двух 'll' в строке s"
   ],
   "metadata": {
    "collapsed": false,
    "pycharm": {
     "name": "#%%\n"
    }
   }
  },
  {
   "cell_type": "code",
   "execution_count": 20,
   "outputs": [
    {
     "ename": "ValueError",
     "evalue": "substring not found",
     "output_type": "error",
     "traceback": [
      "\u001B[1;31m---------------------------------------------------------------------------\u001B[0m",
      "\u001B[1;31mValueError\u001B[0m                                Traceback (most recent call last)",
      "Cell \u001B[1;32mIn [20], line 2\u001B[0m\n\u001B[0;32m      1\u001B[0m \u001B[38;5;66;03m# Если элемент не будет найден, на экран будет отображена ошибка:\u001B[39;00m\n\u001B[1;32m----> 2\u001B[0m s\u001B[38;5;241m.\u001B[39mindex(\u001B[38;5;124m'\u001B[39m\u001B[38;5;124mo\u001B[39m\u001B[38;5;124m'\u001B[39m, \u001B[38;5;241m0\u001B[39m, \u001B[38;5;241m3\u001B[39m)\n",
      "\u001B[1;31mValueError\u001B[0m: substring not found"
     ]
    }
   ],
   "source": [
    "# Если элемент не будет найден, на экран будет отображена ошибка:\n",
    "s.index('o', 0, 3)"
   ],
   "metadata": {
    "collapsed": false,
    "pycharm": {
     "name": "#%%\n"
    }
   }
  },
  {
   "cell_type": "markdown",
   "source": [
    "### Изменяемые и неизменяемые последовательности\n",
    "\n",
    "Элементы изменяемых последовательностей можно изменить, например, выполняя присваивание. Над неизменяемыми последовательностями такое действие невозможно:"
   ],
   "metadata": {
    "collapsed": false,
    "pycharm": {
     "name": "#%% md\n"
    }
   }
  },
  {
   "cell_type": "code",
   "execution_count": 21,
   "outputs": [
    {
     "name": "stdout",
     "output_type": "stream",
     "text": [
      "[0, 1, 2] (0, 1, 2)\n"
     ]
    }
   ],
   "source": [
    "a = [0, 1, 2]\n",
    "b = (0, 1, 2)\n",
    "print(a, b)"
   ],
   "metadata": {
    "collapsed": false,
    "pycharm": {
     "name": "#%%\n"
    }
   }
  },
  {
   "cell_type": "code",
   "execution_count": 22,
   "outputs": [
    {
     "name": "stdout",
     "output_type": "stream",
     "text": [
      "[100, 1, 2]\n"
     ]
    }
   ],
   "source": [
    "a[0] = 100\n",
    "print(a)"
   ],
   "metadata": {
    "collapsed": false,
    "pycharm": {
     "name": "#%%\n"
    }
   }
  },
  {
   "cell_type": "code",
   "execution_count": 23,
   "outputs": [
    {
     "ename": "TypeError",
     "evalue": "'tuple' object does not support item assignment",
     "output_type": "error",
     "traceback": [
      "\u001B[1;31m---------------------------------------------------------------------------\u001B[0m",
      "\u001B[1;31mTypeError\u001B[0m                                 Traceback (most recent call last)",
      "Cell \u001B[1;32mIn [23], line 1\u001B[0m\n\u001B[1;32m----> 1\u001B[0m b[\u001B[38;5;241m0\u001B[39m] \u001B[38;5;241m=\u001B[39m \u001B[38;5;241m100\u001B[39m\n",
      "\u001B[1;31mTypeError\u001B[0m: 'tuple' object does not support item assignment"
     ]
    }
   ],
   "source": [
    "b[0] = 100"
   ],
   "metadata": {
    "collapsed": false,
    "pycharm": {
     "name": "#%%\n"
    }
   }
  },
  {
   "cell_type": "code",
   "execution_count": 24,
   "outputs": [
    {
     "ename": "TypeError",
     "evalue": "'str' object does not support item assignment",
     "output_type": "error",
     "traceback": [
      "\u001B[1;31m---------------------------------------------------------------------------\u001B[0m",
      "\u001B[1;31mTypeError\u001B[0m                                 Traceback (most recent call last)",
      "Cell \u001B[1;32mIn [24], line 2\u001B[0m\n\u001B[0;32m      1\u001B[0m s \u001B[38;5;241m=\u001B[39m \u001B[38;5;124m\"\u001B[39m\u001B[38;5;124mHello, world!\u001B[39m\u001B[38;5;124m\"\u001B[39m\n\u001B[1;32m----> 2\u001B[0m s[\u001B[38;5;241m1\u001B[39m] \u001B[38;5;241m=\u001B[39m \u001B[38;5;124m\"\u001B[39m\u001B[38;5;124m!\u001B[39m\u001B[38;5;124m\"\u001B[39m\n",
      "\u001B[1;31mTypeError\u001B[0m: 'str' object does not support item assignment"
     ]
    }
   ],
   "source": [
    "s = \"Hello, world!\"\n",
    "s[1] = \"!\""
   ],
   "metadata": {
    "collapsed": false,
    "pycharm": {
     "name": "#%%\n"
    }
   }
  },
  {
   "cell_type": "markdown",
   "source": [
    "### Enumerate\n",
    "\n",
    "К элементам последовательности можно применить `enumerate`. Он возвращает пары, где первый элемент пары -- значение индекса, второй элемент пары -- взятое значение из последовательности:"
   ],
   "metadata": {
    "collapsed": false,
    "pycharm": {
     "name": "#%% md\n"
    }
   }
  },
  {
   "cell_type": "code",
   "execution_count": 25,
   "outputs": [
    {
     "name": "stdout",
     "output_type": "stream",
     "text": [
      "<enumerate object at 0x000001506E7D2B40>\n"
     ]
    }
   ],
   "source": [
    "a = [5, 3, 7, 5]\n",
    "print(enumerate(a)) # -> ((0, 5), (1, 3), (2, 7), (3, 5))"
   ],
   "metadata": {
    "collapsed": false,
    "pycharm": {
     "name": "#%%\n"
    }
   }
  },
  {
   "cell_type": "code",
   "execution_count": 26,
   "outputs": [
    {
     "name": "stdout",
     "output_type": "stream",
     "text": [
      "((0, 5), (1, 3), (2, 7), (3, 5))\n"
     ]
    }
   ],
   "source": [
    "# чтобы визуально увидеть элементы этой последовательности придется выполнить приведение типов данных к списку или кортежу\n",
    "print(tuple(enumerate(a)))"
   ],
   "metadata": {
    "collapsed": false,
    "pycharm": {
     "name": "#%%\n"
    }
   }
  },
  {
   "cell_type": "markdown",
   "source": [
    "### Срезы\n",
    "\n",
    "Для все последовательностей можно брать срезы. Срез -- копия элементов последовательности, полученная по определенным правилам. Легче рассмотреть на примерах:ф"
   ],
   "metadata": {
    "collapsed": false,
    "pycharm": {
     "name": "#%% md\n"
    }
   }
  },
  {
   "cell_type": "code",
   "execution_count": 27,
   "outputs": [
    {
     "name": "stdout",
     "output_type": "stream",
     "text": [
      "[0, 1, 2, 3, 4, 5]\n",
      "1444962075008 1444961889408\n"
     ]
    }
   ],
   "source": [
    "a = [0, 1, 2, 3, 4, 5]\n",
    "print(a[:])            # срез без указания каких-либо индексов, вернёт полную копию списка a\n",
    "print(id(a), id(a[:])) # запросив id объекта понимаем, это разные объекты"
   ],
   "metadata": {
    "collapsed": false,
    "pycharm": {
     "name": "#%%\n"
    }
   }
  },
  {
   "cell_type": "code",
   "execution_count": 28,
   "outputs": [
    {
     "name": "stdout",
     "output_type": "stream",
     "text": [
      "[1, 2, 3, 4] [1, 2, 3, 4]\n"
     ]
    }
   ],
   "source": [
    "# Посмотрим на это с точки зрения разделяемых ссылок\n",
    "a = [1, 2, 3]\n",
    "b = a\n",
    "b.append(4)\n",
    "print(a, b) # так как a и b указывают на один и тот же объект в памяти, получаем такой результат"
   ],
   "metadata": {
    "collapsed": false,
    "pycharm": {
     "name": "#%%\n"
    }
   }
  },
  {
   "cell_type": "code",
   "execution_count": 40,
   "outputs": [
    {
     "name": "stdout",
     "output_type": "stream",
     "text": [
      "[1, 2, 3, 4, 5, 6] [1, 2, 3, 4, 5, 6, 7]\n"
     ]
    }
   ],
   "source": [
    "a = [1, 2, 3, 4, 5, 6]\n",
    "b = a[:]\n",
    "b.append(7)\n",
    "print(a, b) # теперь a и b указывают на различные объекты"
   ],
   "metadata": {
    "collapsed": false,
    "pycharm": {
     "name": "#%%\n"
    }
   }
  },
  {
   "cell_type": "code",
   "execution_count": 52,
   "outputs": [
    {
     "name": "stdout",
     "output_type": "stream",
     "text": [
      "[2, 3, 4, 5, 6]\n"
     ]
    }
   ],
   "source": [
    "a = [0, 1, 2, 3, 4, 5, 6]\n",
    "print(a[2:]) # первый индекс означает, с какого элемента требуется выполнить срез"
   ],
   "metadata": {
    "collapsed": false,
    "pycharm": {
     "name": "#%%\n"
    }
   }
  },
  {
   "cell_type": "code",
   "execution_count": 53,
   "outputs": [
    {
     "name": "stdout",
     "output_type": "stream",
     "text": [
      "[5, 6]\n"
     ]
    }
   ],
   "source": [
    "print(a[-2:]) # отрицательный индекс несет смысл \"с конца\"\n",
    "              # начать со второго элемента с конца и до конца последовательности"
   ],
   "metadata": {
    "collapsed": false,
    "pycharm": {
     "name": "#%%\n"
    }
   }
  },
  {
   "cell_type": "code",
   "execution_count": 54,
   "outputs": [
    {
     "name": "stdout",
     "output_type": "stream",
     "text": [
      "[]\n"
     ]
    }
   ],
   "source": [
    "# Если индекс окажется больше, чем длина последовательности, ошибка не произойдёт\n",
    "print(a[1000:])"
   ],
   "metadata": {
    "collapsed": false,
    "pycharm": {
     "name": "#%%\n"
    }
   }
  },
  {
   "cell_type": "code",
   "execution_count": 55,
   "outputs": [
    {
     "name": "stdout",
     "output_type": "stream",
     "text": [
      "[0, 1]\n"
     ]
    }
   ],
   "source": [
    "print(a[:2]) # второй индекс означает, до какого элемента требуется выполнить срез (не считая элемент с данным индексом"
   ],
   "metadata": {
    "collapsed": false,
    "pycharm": {
     "name": "#%%\n"
    }
   }
  },
  {
   "cell_type": "code",
   "execution_count": 56,
   "outputs": [
    {
     "name": "stdout",
     "output_type": "stream",
     "text": [
      "[0, 1, 2, 3, 4]\n"
     ]
    }
   ],
   "source": [
    "print(a[:-2]) # вывести элементы с начала последовательности до второго с конца последовательности не считая его"
   ],
   "metadata": {
    "collapsed": false,
    "pycharm": {
     "name": "#%%\n"
    }
   }
  },
  {
   "cell_type": "code",
   "execution_count": 57,
   "outputs": [
    {
     "name": "stdout",
     "output_type": "stream",
     "text": [
      "[0, 1, 2, 3, 4, 5, 6]\n"
     ]
    }
   ],
   "source": [
    "# Если индекс окажется больше, чем длина последовательности, ошибка не произойдёт\n",
    "print(a[:1000])"
   ],
   "metadata": {
    "collapsed": false,
    "pycharm": {
     "name": "#%%\n"
    }
   }
  },
  {
   "cell_type": "code",
   "execution_count": 58,
   "outputs": [
    {
     "name": "stdout",
     "output_type": "stream",
     "text": [
      "[1, 2, 3]\n"
     ]
    }
   ],
   "source": [
    "print(a[1:4]) # Можно использовать два индекса одновременно"
   ],
   "metadata": {
    "collapsed": false,
    "pycharm": {
     "name": "#%%\n"
    }
   }
  },
  {
   "cell_type": "code",
   "execution_count": 59,
   "outputs": [
    {
     "name": "stdout",
     "output_type": "stream",
     "text": [
      "[0, 2, 4, 6]\n"
     ]
    }
   ],
   "source": [
    "print(a[::2]) # Последний индекс задаёт шаг; в данном случае мы хотим получить все элементы последовательности с шагом 2"
   ],
   "metadata": {
    "collapsed": false,
    "pycharm": {
     "name": "#%%\n"
    }
   }
  },
  {
   "cell_type": "code",
   "execution_count": 60,
   "outputs": [
    {
     "name": "stdout",
     "output_type": "stream",
     "text": [
      "[6, 5, 4, 3, 2, 1, 0]\n"
     ]
    }
   ],
   "source": [
    "print(a[::-1]) # Шаг может быть отрицательным. Такой приём часто используется для получения элементов в обратном порядке"
   ],
   "metadata": {
    "collapsed": false,
    "pycharm": {
     "name": "#%%\n"
    }
   }
  },
  {
   "cell_type": "code",
   "execution_count": 61,
   "outputs": [
    {
     "name": "stdout",
     "output_type": "stream",
     "text": [
      "[1, 3]\n",
      "[]\n",
      "[4, 3, 2]\n"
     ]
    }
   ],
   "source": [
    "# Несколько более сложных примеров\n",
    "print(a[1:4:2])  # вывести с 1 элемента по 3 включительно с шагом 2\n",
    "print(a[1:4:-1]) # вывести с 1 элемента по 3 включительно с шагом -1 (пустая последовательность)\n",
    "print(a[4:1:-1]) # вывести с 4 элемента по 2 включительно"
   ],
   "metadata": {
    "collapsed": false,
    "pycharm": {
     "name": "#%%\n"
    }
   }
  },
  {
   "cell_type": "markdown",
   "source": [
    "### Изменение списков"
   ],
   "metadata": {
    "collapsed": false,
    "pycharm": {
     "name": "#%% md\n"
    }
   }
  },
  {
   "cell_type": "markdown",
   "source": [
    "Метод `.append` позволяет выполнить добавление элемента в конец списка:"
   ],
   "metadata": {
    "collapsed": false,
    "pycharm": {
     "name": "#%% md\n"
    }
   }
  },
  {
   "cell_type": "code",
   "execution_count": 68,
   "outputs": [
    {
     "name": "stdout",
     "output_type": "stream",
     "text": [
      "[1, 10]\n"
     ]
    }
   ],
   "source": [
    "a = []\n",
    "a.append(1)\n",
    "a.append(10)\n",
    "print(a)"
   ],
   "metadata": {
    "collapsed": false,
    "pycharm": {
     "name": "#%%\n"
    }
   }
  },
  {
   "cell_type": "markdown",
   "source": [
    "Метод `.pop` -- удаление с конца списка:"
   ],
   "metadata": {
    "collapsed": false,
    "pycharm": {
     "name": "#%% md\n"
    }
   }
  },
  {
   "cell_type": "code",
   "execution_count": 70,
   "outputs": [
    {
     "name": "stdout",
     "output_type": "stream",
     "text": [
      "[1, 5, 4]\n"
     ]
    }
   ],
   "source": [
    "a = [1, 5, 4, 6]\n",
    "a.pop()\n",
    "print(a)"
   ],
   "metadata": {
    "collapsed": false,
    "pycharm": {
     "name": "#%%\n"
    }
   }
  },
  {
   "cell_type": "markdown",
   "source": [
    "В силу того, что списки могут быть конкатенированы (склеены), допустимо такое добавление элементов:"
   ],
   "metadata": {
    "collapsed": false,
    "pycharm": {
     "name": "#%% md\n"
    }
   }
  },
  {
   "cell_type": "code",
   "execution_count": 78,
   "outputs": [
    {
     "name": "stdout",
     "output_type": "stream",
     "text": [
      "[1, 2, 3, 4, 5, 6, 100]\n"
     ]
    }
   ],
   "source": [
    "a = [1, 2, 3, 4, 5, 6]\n",
    "b = a + [100]\n",
    "print(b)"
   ],
   "metadata": {
    "collapsed": false,
    "pycharm": {
     "name": "#%%\n"
    }
   }
  },
  {
   "cell_type": "markdown",
   "source": [
    "Однако если нужно добавить несколько элементов в конец большого списка, такой синтаксис не рекомендуется. Каждый раз, когда вызывается\n",
    "```\n",
    "b = a + [100]\n",
    "```\n",
    "В памяти создаётся копия списка `a`, к которому добавляется элемент со значением `100`. Создание копий не происходит бесплатно. Рассмотрим два случая, в первом добавление будем производить через `.append`, во втором - через операцию `+`:"
   ],
   "metadata": {
    "collapsed": false,
    "pycharm": {
     "name": "#%% md\n"
    }
   }
  },
  {
   "cell_type": "code",
   "execution_count": 74,
   "outputs": [],
   "source": [
    "a = []\n",
    "for i in range(10000):\n",
    "    a.append(i)"
   ],
   "metadata": {
    "collapsed": false,
    "pycharm": {
     "name": "#%%\n"
    }
   }
  },
  {
   "cell_type": "code",
   "execution_count": 75,
   "outputs": [],
   "source": [
    "a = []\n",
    "for i in range(10000):\n",
    "    a = a + [i] # каждый раз создаётся новый объект, это занимает много времени"
   ],
   "metadata": {
    "collapsed": false,
    "pycharm": {
     "name": "#%%\n"
    }
   }
  },
  {
   "cell_type": "code",
   "execution_count": 109,
   "outputs": [
    {
     "data": {
      "text/plain": "0.0037963000004310743"
     },
     "execution_count": 109,
     "metadata": {},
     "output_type": "execute_result"
    }
   ],
   "source": [
    "from timeit import timeit\n",
    "\n",
    "timeit(\n",
    "\"\"\"\n",
    "a = []\n",
    "for i in range(10000):\n",
    "    a.append(i)\n",
    "\"\"\", number=10)"
   ],
   "metadata": {
    "collapsed": false,
    "pycharm": {
     "name": "#%%\n"
    }
   }
  },
  {
   "cell_type": "code",
   "execution_count": 110,
   "outputs": [
    {
     "data": {
      "text/plain": "0.8303859999996348"
     },
     "execution_count": 110,
     "metadata": {},
     "output_type": "execute_result"
    }
   ],
   "source": [
    "from timeit import timeit\n",
    "\n",
    "timeit(\n",
    "\"\"\"\n",
    "a = []\n",
    "for i in range(10000):\n",
    "    a = a + [i]\n",
    "\"\"\", number=10)"
   ],
   "metadata": {
    "collapsed": false,
    "pycharm": {
     "name": "#%%\n"
    }
   }
  },
  {
   "cell_type": "markdown",
   "source": [
    "Таким образом, для добавления одного элемента стоит использовать метод `.append`."
   ],
   "metadata": {
    "collapsed": false,
    "pycharm": {
     "name": "#%% md\n"
    }
   }
  },
  {
   "cell_type": "markdown",
   "source": [
    "Изменять списки можно как с использованием индексов, так и срезов:\n",
    "```\n",
    "s[i] = x           # заменить элемент в индексом i на x\n",
    "s[i:j] = iterable  # заменить срез i:j на iterable\n",
    "del s[i]           # удалить s[i]\n",
    "del s[i:j]         # удалить срез s[i:j]\n",
    "```"
   ],
   "metadata": {
    "collapsed": false,
    "pycharm": {
     "name": "#%% md\n"
    }
   }
  },
  {
   "cell_type": "code",
   "execution_count": 88,
   "outputs": [
    {
     "name": "stdout",
     "output_type": "stream",
     "text": [
      "[5, 3, 100, 7, 8, 3]\n"
     ]
    }
   ],
   "source": [
    "x = [5, 3, 6, 7, 8, 3]\n",
    "x[2] = 100\n",
    "print(x)"
   ],
   "metadata": {
    "collapsed": false,
    "pycharm": {
     "name": "#%%\n"
    }
   }
  },
  {
   "cell_type": "code",
   "execution_count": 89,
   "outputs": [
    {
     "name": "stdout",
     "output_type": "stream",
     "text": [
      "[5, 3, 100, 7, 8, 3]\n",
      "[5, 2, 7, 8, 3]\n"
     ]
    }
   ],
   "source": [
    "print(x)\n",
    "x[1:3] = [2] # элементы с 1 по 2 заменяются на 2\n",
    "print(x)"
   ],
   "metadata": {
    "collapsed": false,
    "pycharm": {
     "name": "#%%\n"
    }
   }
  },
  {
   "cell_type": "code",
   "execution_count": 90,
   "outputs": [
    {
     "name": "stdout",
     "output_type": "stream",
     "text": [
      "[5, 2, 7, 8, 3]\n",
      "[5, 0, 0, 0, 7, 8, 3]\n"
     ]
    }
   ],
   "source": [
    "print(x)\n",
    "x[1:2] = [0, 0, 0] # элементы с 1 по 2 заменяются на 2\n",
    "print(x)"
   ],
   "metadata": {
    "collapsed": false,
    "pycharm": {
     "name": "#%%\n"
    }
   }
  },
  {
   "cell_type": "code",
   "execution_count": 91,
   "outputs": [
    {
     "name": "stdout",
     "output_type": "stream",
     "text": [
      "[5, 0, 0, 0, 7, 8, 3]\n",
      "[5, 6, 6, 6, 0, 0, 0, 7, 8, 3]\n"
     ]
    }
   ],
   "source": [
    "# данный приём может выступать аналогом вставки последовательности в последовательность\n",
    "print(x)\n",
    "x[1:1] = [6, 6, 6]\n",
    "print(x)"
   ],
   "metadata": {
    "collapsed": false,
    "pycharm": {
     "name": "#%%\n"
    }
   }
  },
  {
   "cell_type": "markdown",
   "source": [
    "Для удаления всех элементов последовательности используется метод `.clear()`"
   ],
   "metadata": {
    "collapsed": false,
    "pycharm": {
     "name": "#%% md\n"
    }
   }
  },
  {
   "cell_type": "code",
   "execution_count": 96,
   "outputs": [
    {
     "name": "stdout",
     "output_type": "stream",
     "text": [
      "[]\n"
     ]
    }
   ],
   "source": [
    "a = [1, 2, 3]\n",
    "a.clear()\n",
    "print(a)"
   ],
   "metadata": {
    "collapsed": false,
    "pycharm": {
     "name": "#%%\n"
    }
   }
  },
  {
   "cell_type": "markdown",
   "source": [
    "```\n",
    "s.insert(i, x)      # вставить значение x по индексу i\n",
    "s.extend(iterable)  # расширить последовательность из элементов объекта, по которому можно проитетироваться (iterable)\n",
    "s.reverse()         # изменить порядок следования объектов на обратный\n",
    "s.copy()            # возвращает копию последовательности s\n",
    "```"
   ],
   "metadata": {
    "collapsed": false,
    "pycharm": {
     "name": "#%% md\n"
    }
   }
  },
  {
   "cell_type": "code",
   "execution_count": 97,
   "outputs": [
    {
     "name": "stdout",
     "output_type": "stream",
     "text": [
      "[0, 1, 2, 3]\n"
     ]
    }
   ],
   "source": [
    "x = [1, 2, 3]\n",
    "x.insert(0, 0)\n",
    "print(x)"
   ],
   "metadata": {
    "collapsed": false,
    "pycharm": {
     "name": "#%%\n"
    }
   }
  },
  {
   "cell_type": "code",
   "execution_count": 98,
   "outputs": [
    {
     "name": "stdout",
     "output_type": "stream",
     "text": [
      "[0, 1, 2, 3, 9, 8, 7]\n"
     ]
    }
   ],
   "source": [
    "x.extend([9, 8, 7])\n",
    "print(x)"
   ],
   "metadata": {
    "collapsed": false,
    "pycharm": {
     "name": "#%%\n"
    }
   }
  },
  {
   "cell_type": "code",
   "execution_count": 99,
   "outputs": [
    {
     "name": "stdout",
     "output_type": "stream",
     "text": [
      "[0, 1, 2, 3, 9, 8, 7]\n",
      "[7, 8, 9, 3, 2, 1, 0]\n"
     ]
    }
   ],
   "source": [
    "print(x)\n",
    "x.reverse()\n",
    "print(x)"
   ],
   "metadata": {
    "collapsed": false,
    "pycharm": {
     "name": "#%%\n"
    }
   }
  },
  {
   "cell_type": "code",
   "execution_count": 104,
   "outputs": [
    {
     "name": "stdout",
     "output_type": "stream",
     "text": [
      "[[5, 6], 1, 2, 3] [[5, 6], 1, 2, 3, 4]\n",
      "1444962388928 1444962314304\n",
      "1444962515968 1444962515968\n"
     ]
    }
   ],
   "source": [
    "a = [[5, 6], 1, 2, 3]\n",
    "b = a.copy()\n",
    "b.append(4)\n",
    "print(a, b) # a не изменилось, так как a и b не являются разделяемыми ссылками\n",
    "print(id(a), id(b))\n",
    "print(id(a[0]), id(b[0])) # списки после копирования разделяют ссылки на изменяемые объекты"
   ],
   "metadata": {
    "collapsed": false,
    "pycharm": {
     "name": "#%%\n"
    }
   }
  },
  {
   "cell_type": "markdown",
   "source": [
    "### Списки и кортежи в контексте изменяемости и времени\n",
    "**Списки** -- изменяемые последовательности, **кортежи** -- неизменяемые. Для создания списка элементов требуется больше времени, чем на создание кортежа."
   ],
   "metadata": {
    "collapsed": false,
    "pycharm": {
     "name": "#%% md\n"
    }
   }
  },
  {
   "cell_type": "code",
   "execution_count": 122,
   "outputs": [
    {
     "name": "stdout",
     "output_type": "stream",
     "text": [
      "  1           0 LOAD_CONST               0 ((1, 2, 3, 4, 5, 6, 7, 8, 9, 10))\n",
      "              2 RETURN_VALUE\n"
     ]
    }
   ],
   "source": [
    "from timeit import timeit\n",
    "from dis import dis\n",
    "\n",
    "dis(compile(\"(1, 2, 3, 4, 5, 6, 7, 8, 9, 10)\", 'string', 'eval'))"
   ],
   "metadata": {
    "collapsed": false,
    "pycharm": {
     "name": "#%%\n"
    }
   }
  },
  {
   "cell_type": "code",
   "execution_count": 123,
   "outputs": [
    {
     "name": "stdout",
     "output_type": "stream",
     "text": [
      "  1           0 BUILD_LIST               0\n",
      "              2 LOAD_CONST               0 ((1, 2, 3, 4, 5, 6, 7, 8, 9, 10))\n",
      "              4 LIST_EXTEND              1\n",
      "              6 RETURN_VALUE\n"
     ]
    }
   ],
   "source": [
    "dis(compile(\"[1, 2, 3, 4, 5, 6, 7, 8, 9, 10]\", 'string', 'eval'))"
   ],
   "metadata": {
    "collapsed": false,
    "pycharm": {
     "name": "#%%\n"
    }
   }
  },
  {
   "cell_type": "code",
   "execution_count": 126,
   "outputs": [
    {
     "data": {
      "text/plain": "0.06684920000043348"
     },
     "execution_count": 126,
     "metadata": {},
     "output_type": "execute_result"
    }
   ],
   "source": [
    "timeit(\"(1, 2, 3, 4, 5, 6, 7, 8, 9, 10)\", number=10_000_000)"
   ],
   "metadata": {
    "collapsed": false,
    "pycharm": {
     "name": "#%%\n"
    }
   }
  },
  {
   "cell_type": "code",
   "execution_count": 127,
   "outputs": [
    {
     "data": {
      "text/plain": "0.48642070000005333"
     },
     "execution_count": 127,
     "metadata": {},
     "output_type": "execute_result"
    }
   ],
   "source": [
    "timeit(\"[1, 2, 3, 4, 5, 6, 7, 8, 9, 10]\", number=10_000_000)"
   ],
   "metadata": {
    "collapsed": false,
    "pycharm": {
     "name": "#%%\n"
    }
   }
  },
  {
   "cell_type": "markdown",
   "source": [
    "Можно сделать вывод, что если вам нужна коллекция неизменяемых объектов, используйте кортеж, если требуется изменение -- списки."
   ],
   "metadata": {
    "collapsed": false,
    "pycharm": {
     "name": "#%% md\n"
    }
   }
  },
  {
   "cell_type": "markdown",
   "source": [
    "### Способы копирования последовательностей\n",
    "\n",
    "При помощи цикла:"
   ],
   "metadata": {
    "collapsed": false,
    "pycharm": {
     "name": "#%% md\n"
    }
   }
  },
  {
   "cell_type": "code",
   "execution_count": 130,
   "outputs": [
    {
     "name": "stdout",
     "output_type": "stream",
     "text": [
      "[6, 3, 7] [6, 3, 7]\n"
     ]
    }
   ],
   "source": [
    "a = [6, 3, 7]\n",
    "b = []\n",
    "for x in a:\n",
    "    b.append(x)\n",
    "\n",
    "print(a, b)"
   ],
   "metadata": {
    "collapsed": false,
    "pycharm": {
     "name": "#%%\n"
    }
   }
  },
  {
   "cell_type": "markdown",
   "source": [
    "С использованием генератора списков:"
   ],
   "metadata": {
    "collapsed": false,
    "pycharm": {
     "name": "#%% md\n"
    }
   }
  },
  {
   "cell_type": "code",
   "execution_count": 131,
   "outputs": [
    {
     "name": "stdout",
     "output_type": "stream",
     "text": [
      "[6, 3, 7] [6, 3, 7]\n"
     ]
    }
   ],
   "source": [
    "a = [6, 3, 7]\n",
    "b = [x for x in a]\n",
    "\n",
    "print(a, b)"
   ],
   "metadata": {
    "collapsed": false,
    "pycharm": {
     "name": "#%%\n"
    }
   }
  },
  {
   "cell_type": "markdown",
   "source": [
    "Используя метод `.copy()`:"
   ],
   "metadata": {
    "collapsed": false,
    "pycharm": {
     "name": "#%% md\n"
    }
   }
  },
  {
   "cell_type": "code",
   "execution_count": 132,
   "outputs": [
    {
     "name": "stdout",
     "output_type": "stream",
     "text": [
      "[6, 3, 7] [6, 3, 7]\n"
     ]
    }
   ],
   "source": [
    "a = [6, 3, 7]\n",
    "b = a.copy()\n",
    "\n",
    "print(a, b)"
   ],
   "metadata": {
    "collapsed": false,
    "pycharm": {
     "name": "#%%\n"
    }
   }
  },
  {
   "cell_type": "markdown",
   "source": [
    "Используя срезы:"
   ],
   "metadata": {
    "collapsed": false,
    "pycharm": {
     "name": "#%% md\n"
    }
   }
  },
  {
   "cell_type": "code",
   "execution_count": 133,
   "outputs": [
    {
     "name": "stdout",
     "output_type": "stream",
     "text": [
      "[6, 3, 7] [6, 3, 7]\n"
     ]
    }
   ],
   "source": [
    "a = [6, 3, 7]\n",
    "b = a[:]\n",
    "\n",
    "print(a, b)"
   ],
   "metadata": {
    "collapsed": false,
    "pycharm": {
     "name": "#%%\n"
    }
   }
  },
  {
   "cell_type": "markdown",
   "source": [
    "Используя конструктор `list`:"
   ],
   "metadata": {
    "collapsed": false,
    "pycharm": {
     "name": "#%% md\n"
    }
   }
  },
  {
   "cell_type": "code",
   "execution_count": 136,
   "outputs": [
    {
     "name": "stdout",
     "output_type": "stream",
     "text": [
      "[6, 3, 7] [6, 3, 7]\n"
     ]
    }
   ],
   "source": [
    "a = [6, 3, 7]\n",
    "b = list(a)\n",
    "\n",
    "print(a, b)"
   ],
   "metadata": {
    "collapsed": false,
    "pycharm": {
     "name": "#%%\n"
    }
   }
  },
  {
   "cell_type": "markdown",
   "source": [
    "Тонкости с кортежами:"
   ],
   "metadata": {
    "collapsed": false,
    "pycharm": {
     "name": "#%% md\n"
    }
   }
  },
  {
   "cell_type": "code",
   "execution_count": 138,
   "outputs": [
    {
     "name": "stdout",
     "output_type": "stream",
     "text": [
      "1444962090880 1444962090880\n"
     ]
    }
   ],
   "source": [
    "a = (6, 3, 7)\n",
    "b = a[:] # копия не создаётся, возвращается ссылка на кортеж a\n",
    "print(id(a), id(b))"
   ],
   "metadata": {
    "collapsed": false,
    "pycharm": {
     "name": "#%%\n"
    }
   }
  },
  {
   "cell_type": "code",
   "execution_count": 149,
   "outputs": [
    {
     "name": "stdout",
     "output_type": "stream",
     "text": [
      "0.002555800001573516\n",
      "1.0776843999992707\n"
     ]
    }
   ],
   "source": [
    "# так как возвращается ссылка, копирование происходит заметно быстрее\n",
    "print(timeit(\"\"\"\n",
    "a = tuple(range(200000))\n",
    "for i in range(1000):\n",
    "    b = a[:]\n",
    "\"\"\", number=1))\n",
    "print(timeit(\"\"\"\n",
    "a = list(range(200000))\n",
    "for i in range(1000):\n",
    "    b = a[:]\n",
    "\"\"\", number=1))"
   ],
   "metadata": {
    "collapsed": false,
    "pycharm": {
     "name": "#%%\n"
    }
   }
  },
  {
   "cell_type": "markdown",
   "source": [
    "Любая из указанных выше техник возвращает такую копию, что если последовательность содержала изменяемые объекты, будут созданы на них разделяемые ссылки, если будет изменен какой-то изменяемый объект в одной последовательности, это заденет и другие переменные."
   ],
   "metadata": {
    "collapsed": false,
    "pycharm": {
     "name": "#%% md\n"
    }
   }
  },
  {
   "cell_type": "code",
   "execution_count": 153,
   "outputs": [
    {
     "name": "stdout",
     "output_type": "stream",
     "text": [
      "[1, 2, [1, 2, 3]] [1, 2, [1, 2, 3]]\n",
      "1444962159936 1444962159936\n"
     ]
    }
   ],
   "source": [
    "a = [1, 2, [1, 2]]\n",
    "b = a[:]\n",
    "a[2].append(3)\n",
    "print(a, b)\n",
    "print(id(a[2]), id(b[2]))"
   ],
   "metadata": {
    "collapsed": false,
    "pycharm": {
     "name": "#%%\n"
    }
   }
  },
  {
   "cell_type": "markdown",
   "source": [
    "Чтобы сделать глубокую копию, нужно из `copy` импортировать `deepcopy`:"
   ],
   "metadata": {
    "collapsed": false,
    "pycharm": {
     "name": "#%% md\n"
    }
   }
  },
  {
   "cell_type": "code",
   "execution_count": 154,
   "outputs": [
    {
     "name": "stdout",
     "output_type": "stream",
     "text": [
      "[1, 2, [1, 2, 3]] [1, 2, [1, 2]]\n",
      "1444961545856 1444962652416\n"
     ]
    }
   ],
   "source": [
    "from copy import deepcopy\n",
    "\n",
    "a = [1, 2, [1, 2]]\n",
    "b = deepcopy(a)\n",
    "a[2].append(3)\n",
    "print(a, b)\n",
    "print(id(a[2]), id(b[2]))"
   ],
   "metadata": {
    "collapsed": false,
    "pycharm": {
     "name": "#%%\n"
    }
   }
  },
  {
   "cell_type": "markdown",
   "source": [
    "## Создание пользовательских последовательностей **"
   ],
   "metadata": {
    "collapsed": false,
    "pycharm": {
     "name": "#%% md\n"
    }
   }
  },
  {
   "cell_type": "code",
   "execution_count": 164,
   "outputs": [
    {
     "name": "stdout",
     "output_type": "stream",
     "text": [
      "hello\n",
      "world\n",
      "how\n",
      "are\n",
      "you\n"
     ]
    }
   ],
   "source": [
    "class Text:\n",
    "\n",
    "    def __init__(self):\n",
    "        self.words = []\n",
    "\n",
    "    def __getitem__(self, item):\n",
    "        return self.words[item]\n",
    "\n",
    "    def __len__(self):\n",
    "        return len(self.words)\n",
    "\n",
    "    def add_words(self, string: str):\n",
    "        string = \"\".join((ch for ch in string if ch.isalpha() or ch.isspace()))\n",
    "        self.words += string.lower().split()\n",
    "\n",
    "\n",
    "text = Text()\n",
    "text.add_words(\"Hello world!\")\n",
    "text.add_words(\"how are you?\")\n",
    "\n",
    "for word in text:\n",
    "    print(word)"
   ],
   "metadata": {
    "collapsed": false,
    "pycharm": {
     "name": "#%%\n"
    }
   }
  },
  {
   "cell_type": "code",
   "execution_count": 166,
   "outputs": [
    {
     "name": "stdout",
     "output_type": "stream",
     "text": [
      "you\n",
      "['hello', 'how', 'you']\n"
     ]
    }
   ],
   "source": [
    "print(text[-1])\n",
    "print(text[::2])"
   ],
   "metadata": {
    "collapsed": false,
    "pycharm": {
     "name": "#%%\n"
    }
   }
  },
  {
   "cell_type": "code",
   "execution_count": 214,
   "outputs": [],
   "source": [
    "from functools import cache\n",
    "\n",
    "class Fib:\n",
    "    \"\"\"\n",
    "    Класс для работы с числами Фибоначчи\n",
    "    \"\"\"\n",
    "    def __init__(self, n):\n",
    "        self.n = n\n",
    "\n",
    "    def __getitem__(self, index):\n",
    "        if isinstance(index, int):\n",
    "            if index < 0:\n",
    "                index += self.n + 1\n",
    "\n",
    "            if index < 0 or index > len(self):\n",
    "                raise IndexError\n",
    "            else:\n",
    "                return Fib.fib(index)\n",
    "        elif isinstance(index, slice):\n",
    "            start, stop, step = index.indices(self.n)\n",
    "            rng = range(start, stop, step)\n",
    "            return [Fib.fib(i) for i in rng]\n",
    "        else:\n",
    "            raise NotImplemented\n",
    "\n",
    "    def __len__(self):\n",
    "        return self.n\n",
    "\n",
    "    @staticmethod\n",
    "    @cache\n",
    "    def fib(n):\n",
    "        if n < 2:\n",
    "            return 1\n",
    "        else:\n",
    "            return Fib.fib(n - 1) + Fib.fib(n - 2)\n"
   ],
   "metadata": {
    "collapsed": false,
    "pycharm": {
     "name": "#%%\n"
    }
   }
  },
  {
   "cell_type": "code",
   "execution_count": 217,
   "outputs": [
    {
     "name": "stdout",
     "output_type": "stream",
     "text": [
      "1 3 10946\n",
      "[1, 2, 5, 13, 34, 89, 233, 610, 1597, 4181]\n"
     ]
    }
   ],
   "source": [
    "f = Fib(20)\n",
    "print(f[1], f[3], f[-1])\n",
    "print(f[::2])"
   ],
   "metadata": {
    "collapsed": false,
    "pycharm": {
     "name": "#%%\n"
    }
   }
  },
  {
   "cell_type": "code",
   "execution_count": 216,
   "outputs": [
    {
     "name": "stdout",
     "output_type": "stream",
     "text": [
      "1 1 2 3 5 8 13 21 34 55 89 144 233 377 610 987 1597 2584 4181 6765 10946 "
     ]
    }
   ],
   "source": [
    "for x in f:\n",
    "    print(x, end=\" \")"
   ],
   "metadata": {
    "collapsed": false,
    "pycharm": {
     "name": "#%%\n"
    }
   }
  },
  {
   "cell_type": "markdown",
   "source": [
    "## Срезы и присваивание"
   ],
   "metadata": {
    "collapsed": false,
    "pycharm": {
     "name": "#%% md\n"
    }
   }
  },
  {
   "cell_type": "markdown",
   "source": [
    "Присваивание срезам не меняет расположение объекта:"
   ],
   "metadata": {
    "collapsed": false,
    "pycharm": {
     "name": "#%% md\n"
    }
   }
  },
  {
   "cell_type": "code",
   "execution_count": 228,
   "outputs": [
    {
     "name": "stdout",
     "output_type": "stream",
     "text": [
      "[5, 1, 1, 3]\n"
     ]
    }
   ],
   "source": [
    "# Длина среза и итерируемой последовательности должны совпадать, если замена происходит некоторой центральной части среза\n",
    "l = [5, 2, 4, 3]\n",
    "l[1:3] = [1, 1]\n",
    "print(l)"
   ],
   "metadata": {
    "collapsed": false,
    "pycharm": {
     "name": "#%%\n"
    }
   }
  },
  {
   "cell_type": "code",
   "execution_count": 229,
   "outputs": [
    {
     "name": "stdout",
     "output_type": "stream",
     "text": [
      "1444961826112\n",
      "1444961826112\n"
     ]
    }
   ],
   "source": [
    "l = [1, 2, 3, 4, 5]\n",
    "print(id(l))\n",
    "l[::2] = [5, 3, 1]\n",
    "print(id(l))"
   ],
   "metadata": {
    "collapsed": false,
    "pycharm": {
     "name": "#%%\n"
    }
   }
  },
  {
   "cell_type": "code",
   "execution_count": 230,
   "outputs": [
    {
     "name": "stdout",
     "output_type": "stream",
     "text": [
      "[1, 8, 3, 7, 5, 6, 5, 3, 9]\n"
     ]
    }
   ],
   "source": [
    "# Отсортируем элементы на чётных позициях по неубыванию, элементы на нечетных позициях по невозрастанию\n",
    "l = [5, 6, 3, 8, 5, 7, 9, 3, 1]\n",
    "l[::2] = sorted(l[::2])\n",
    "l[1::2] = sorted(l[1::2], key=lambda x: -x)\n",
    "print(l)"
   ],
   "metadata": {
    "collapsed": false,
    "pycharm": {
     "name": "#%%\n"
    }
   }
  },
  {
   "cell_type": "code",
   "execution_count": 235,
   "outputs": [
    {
     "name": "stdout",
     "output_type": "stream",
     "text": [
      "[1, 2, 0, 0, 0, 3]\n"
     ]
    }
   ],
   "source": [
    "# Если срез пустой, длина последовательности справа от знака присваивания может быть любой\n",
    "a = [1, 2, 3]\n",
    "a[2:2] = [0, 0, 0]\n",
    "print(a)"
   ],
   "metadata": {
    "collapsed": false,
    "pycharm": {
     "name": "#%%\n"
    }
   }
  },
  {
   "cell_type": "code",
   "execution_count": 239,
   "outputs": [
    {
     "name": "stdout",
     "output_type": "stream",
     "text": [
      "[1, 4, 5]\n"
     ]
    }
   ],
   "source": [
    "# Длина среза и итерируемой последовательности не обязана совпадать, если замена происходит некоторой начальной или конечной части списка\n",
    "a = [1, 2, 3, 4, 5]\n",
    "a[:3] = [1]\n",
    "print(a)"
   ],
   "metadata": {
    "collapsed": false,
    "pycharm": {
     "name": "#%%\n"
    }
   }
  },
  {
   "cell_type": "code",
   "execution_count": 240,
   "outputs": [
    {
     "name": "stdout",
     "output_type": "stream",
     "text": [
      "[1, 2, 3, 4, 3, 2, 1]\n"
     ]
    }
   ],
   "source": [
    "a = [1, 2, 3, 4, 5]\n",
    "a[3:] = [4, 3, 2, 1]\n",
    "print(a)"
   ],
   "metadata": {
    "collapsed": false,
    "pycharm": {
     "name": "#%%\n"
    }
   }
  },
  {
   "cell_type": "markdown",
   "source": [
    "## Создание пользовательских последовательностей (часть 2) **"
   ],
   "metadata": {
    "collapsed": false
   }
  },
  {
   "cell_type": "code",
   "execution_count": 252,
   "outputs": [
    {
     "name": "stdout",
     "output_type": "stream",
     "text": [
      "hello, world\n",
      "how, are, you\n",
      "hello, world, how, are, you\n",
      "hello, world, how, are, you\n"
     ]
    }
   ],
   "source": [
    "from copy import copy\n",
    "\n",
    "\n",
    "class Text:\n",
    "\n",
    "    def __init__(self):\n",
    "        self.words = []\n",
    "\n",
    "    def __getitem__(self, item):\n",
    "        return self.words[item]\n",
    "\n",
    "    def __len__(self):\n",
    "        return len(self.words)\n",
    "\n",
    "    def __contains__(self, item):\n",
    "        return item in self.words\n",
    "\n",
    "    def __delitem__(self, key):\n",
    "        del self.words[key]\n",
    "\n",
    "    def __add__(self, other):\n",
    "        if isinstance(other, Text):\n",
    "            t = deepcopy(self)\n",
    "            t.words += other.words\n",
    "            return t\n",
    "        else:\n",
    "            raise NotImplemented\n",
    "\n",
    "    def __iadd__(self, other):\n",
    "        self.words += other.words\n",
    "        return self\n",
    "\n",
    "    def __mul__(self, other):\n",
    "        t = Text()\n",
    "        t.words = self.words * other\n",
    "        return t\n",
    "\n",
    "    def __imul__(self, other):\n",
    "        self.words = self.words * other\n",
    "        return self.words\n",
    "\n",
    "    def __str__(self):\n",
    "        return \", \".join(self.words)\n",
    "\n",
    "    def add_words(self, string: str):\n",
    "        string = \"\".join((ch for ch in string if ch.isalpha() or ch.isspace()))\n",
    "        self.words += string.lower().split()\n",
    "\n",
    "\n",
    "text1 = Text()\n",
    "text1.add_words(\"Hello world!\")\n",
    "print(text1)\n",
    "\n",
    "text2 = Text()\n",
    "text2.add_words(\"how are you?\")\n",
    "print(text2)\n",
    "\n",
    "text3 = text1 + text2\n",
    "print(text3)\n",
    "\n",
    "text1 += text2\n",
    "print(text1)"
   ],
   "metadata": {
    "collapsed": false,
    "pycharm": {
     "name": "#%%\n"
    }
   }
  },
  {
   "cell_type": "code",
   "execution_count": 254,
   "outputs": [
    {
     "name": "stdout",
     "output_type": "stream",
     "text": [
      "hello, it, is, me, hello, it, is, me\n"
     ]
    }
   ],
   "source": [
    "text = Text()\n",
    "text.add_words(\"Hello, it is me!\")\n",
    "print(text * 2)"
   ],
   "metadata": {
    "collapsed": false,
    "pycharm": {
     "name": "#%%\n"
    }
   }
  },
  {
   "cell_type": "code",
   "execution_count": 255,
   "outputs": [
    {
     "data": {
      "text/plain": "True"
     },
     "execution_count": 255,
     "metadata": {},
     "output_type": "execute_result"
    }
   ],
   "source": [
    "\"it\" in text"
   ],
   "metadata": {
    "collapsed": false,
    "pycharm": {
     "name": "#%%\n"
    }
   }
  },
  {
   "cell_type": "markdown",
   "source": [
    "## Сортировка последовательностей\n",
    "\n",
    "Сортировка последовательностей возможно, если элементы последовательности можно сравнивать."
   ],
   "metadata": {
    "collapsed": false,
    "pycharm": {
     "name": "#%% md\n"
    }
   }
  },
  {
   "cell_type": "code",
   "execution_count": 260,
   "outputs": [
    {
     "name": "stdout",
     "output_type": "stream",
     "text": [
      "['a', 'b', 'c']\n"
     ]
    }
   ],
   "source": [
    "a = ['a', 'c', 'b']\n",
    "a.sort() # .sort() - сортировка на месте; будет изменён список a\n",
    "\n",
    "# Как работает сортировка? Каждому элементу последовательности в соответствие ставится число -- код символа\n",
    "# Элемент размещается раньше, если код одного символа, меньше, чем код другого символа\n",
    "# a -> 97\n",
    "# c -> 99\n",
    "# b -> 98\n",
    "# Будет в дальнейшем производиться сортировка ключей. Всё сведётся к тому, чтобы ключи были упорядочены\n",
    "# 97 -> a\n",
    "# 98 -> b\n",
    "# 99 -> c\n",
    "# коды символов располагаются в таблице ascii\n",
    "print(a)"
   ],
   "metadata": {
    "collapsed": false,
    "pycharm": {
     "name": "#%%\n"
    }
   }
  },
  {
   "cell_type": "code",
   "execution_count": 261,
   "outputs": [
    {
     "name": "stdout",
     "output_type": "stream",
     "text": [
      "['c', 'b', 'a']\n"
     ]
    }
   ],
   "source": [
    "a = ['a', 'c', 'b']\n",
    "a.sort(reverse=True) # Сортировка в обратном порядке\n",
    "print(a)"
   ],
   "metadata": {
    "collapsed": false,
    "pycharm": {
     "name": "#%%\n"
    }
   }
  },
  {
   "cell_type": "markdown",
   "source": [
    "Предположим, задан список пар. И требуется отсортировать список по возрастанию последнего элемента в списке. Возможное решение:"
   ],
   "metadata": {
    "collapsed": false,
    "pycharm": {
     "name": "#%% md\n"
    }
   }
  },
  {
   "cell_type": "code",
   "execution_count": 264,
   "outputs": [
    {
     "name": "stdout",
     "output_type": "stream",
     "text": [
      "[(1, 2), (4, 2), (5, 3), (2, 4)]\n"
     ]
    }
   ],
   "source": [
    "l = [(1, 2), (5, 3), (4, 2), (2, 4)]\n",
    "l.sort(key=lambda item : item[1]) # item -- один элемент последовательности\n",
    "                                  # в данном примере в качестве ключа используется значение, которое располагается по индексу 1 для каждого элемента последовательности\n",
    "print(l)"
   ],
   "metadata": {
    "collapsed": false,
    "pycharm": {
     "name": "#%%\n"
    }
   }
  },
  {
   "cell_type": "code",
   "execution_count": 267,
   "outputs": [
    {
     "name": "stdout",
     "output_type": "stream",
     "text": [
      "['qa', 'abc', 'programming', 'hi', 'hello']\n"
     ]
    }
   ],
   "source": [
    "l = [\"hi\", \"hello\", \"abc\", \"qa\", \"programming\"]\n",
    "l.sort(key=lambda item : item[-1]) # сортировка по последней букве\n",
    "print(l)"
   ],
   "metadata": {
    "collapsed": false,
    "pycharm": {
     "name": "#%%\n"
    }
   }
  },
  {
   "cell_type": "code",
   "execution_count": 268,
   "outputs": [
    {
     "name": "stdout",
     "output_type": "stream",
     "text": [
      "['hello', 'hi', 'programming', 'abc', 'qa']\n"
     ]
    }
   ],
   "source": [
    "l = [\"hi\", \"hello\", \"abc\", \"qa\", \"programming\"]\n",
    "l.sort(key=lambda item : item[-1], reverse=True) # сортировка по последней букве по невозрастанию\n",
    "print(l)"
   ],
   "metadata": {
    "collapsed": false,
    "pycharm": {
     "name": "#%%\n"
    }
   }
  },
  {
   "cell_type": "code",
   "execution_count": 271,
   "outputs": [
    {
     "name": "stdout",
     "output_type": "stream",
     "text": [
      "['Abc', 'H', 'hi', 'programminG', 'qA']\n"
     ]
    }
   ],
   "source": [
    "l = [\"hi\", \"H\", \"Abc\", \"qA\", \"programminG\"]\n",
    "l.sort(key=lambda item : item.lower()) # отсортировать при условии, что все элементы будут приведены к одному регистру\n",
    "print(l)"
   ],
   "metadata": {
    "collapsed": false,
    "pycharm": {
     "name": "#%%\n"
    }
   }
  },
  {
   "cell_type": "code",
   "execution_count": 272,
   "outputs": [
    {
     "name": "stdout",
     "output_type": "stream",
     "text": [
      "['H', 'hi', 'qA', 'Abc', 'programminG']\n"
     ]
    }
   ],
   "source": [
    "l = [\"hi\", \"H\", \"Abc\", \"qA\", \"programminG\"]\n",
    "l.sort(key=lambda item : len(item)) # отсортировать по длине слова\n",
    "print(l)"
   ],
   "metadata": {
    "collapsed": false,
    "pycharm": {
     "name": "#%%\n"
    }
   }
  },
  {
   "cell_type": "markdown",
   "source": [
    "## List comprehension\n",
    "\n",
    "Данная конструкция состоит из трёх частей:\n",
    "* преобразование\n",
    "* итерация\n",
    "* фильтрация\n",
    "\n",
    "Первые две компоненты обязательны, последняя опциональна"
   ],
   "metadata": {
    "collapsed": false,
    "pycharm": {
     "name": "#%% md\n"
    }
   }
  },
  {
   "cell_type": "code",
   "execution_count": 273,
   "outputs": [
    {
     "name": "stdout",
     "output_type": "stream",
     "text": [
      "[2, 4, 6]\n"
     ]
    }
   ],
   "source": [
    "a = [1, 2, 3]\n",
    "b = [x * 2 for x in a] # преобразование x * 2\n",
    "                       # элементы берутся из a\n",
    "print(b)"
   ],
   "metadata": {
    "collapsed": false,
    "pycharm": {
     "name": "#%%\n"
    }
   }
  },
  {
   "cell_type": "code",
   "execution_count": 275,
   "outputs": [
    {
     "name": "stdout",
     "output_type": "stream",
     "text": [
      "[4, 8]\n"
     ]
    }
   ],
   "source": [
    "a = [1, 2, 3, 4, 5]\n",
    "b = [x * 2 for x in a if x % 2 == 0]  # преобразование x * 2\n",
    "                                      # элементы берутся из a\n",
    "                                      # при условии, что элемент чётный\n",
    "print(b)"
   ],
   "metadata": {
    "collapsed": false,
    "pycharm": {
     "name": "#%%\n"
    }
   }
  },
  {
   "cell_type": "code",
   "execution_count": 280,
   "outputs": [
    {
     "name": "stdout",
     "output_type": "stream",
     "text": [
      "[3, 5, 7, 9, 11, 13, 17, 19, 21, 23, 25, 27, 31, 33, 35, 37, 39, 41, 45, 47, 49, 51, 53, 55, 59, 61, 63, 65, 67, 69, 73, 75, 77, 79, 81, 83, 87, 89, 91, 93, 95, 97]\n"
     ]
    }
   ],
   "source": [
    "a = [x for x in range(1, 101) if x % 2 != 0 and x % 7 != 1] # получить числа, которые не делятся на 2\n",
    "                                                            # и не делятся на 7\n",
    "print(a)"
   ],
   "metadata": {
    "collapsed": false,
    "pycharm": {
     "name": "#%%\n"
    }
   }
  },
  {
   "cell_type": "markdown",
   "source": [
    "Выражения могут быть вложенными:"
   ],
   "metadata": {
    "collapsed": false,
    "pycharm": {
     "name": "#%% md\n"
    }
   }
  },
  {
   "cell_type": "code",
   "execution_count": 281,
   "outputs": [
    {
     "name": "stdout",
     "output_type": "stream",
     "text": [
      "[[0, 0, 0, 0, 0], [0, 1, 2, 3, 4], [0, 2, 4, 6, 8], [0, 3, 6, 9, 12], [0, 4, 8, 12, 16]]\n"
     ]
    }
   ],
   "source": [
    "a = [[i * j for i in range(5)] for j in range(5)]\n",
    "print(a)"
   ],
   "metadata": {
    "collapsed": false,
    "pycharm": {
     "name": "#%%\n"
    }
   }
  },
  {
   "cell_type": "code",
   "execution_count": 282,
   "outputs": [
    {
     "name": "stdout",
     "output_type": "stream",
     "text": [
      "[(0, 0), (1, 0), (0, 1)]\n"
     ]
    }
   ],
   "source": [
    "points = [(1, 2), (0, 0), (1, 0), (0, 1), (1, 1)]\n",
    "points_with_zero = [point for point in points if 0 in point]\n",
    "print(points_with_zero)"
   ],
   "metadata": {
    "collapsed": false,
    "pycharm": {
     "name": "#%%\n"
    }
   }
  }
 ],
 "metadata": {
  "kernelspec": {
   "display_name": "Python 3",
   "language": "python",
   "name": "python3"
  },
  "language_info": {
   "codemirror_mode": {
    "name": "ipython",
    "version": 2
   },
   "file_extension": ".py",
   "mimetype": "text/x-python",
   "name": "python",
   "nbconvert_exporter": "python",
   "pygments_lexer": "ipython2",
   "version": "2.7.6"
  }
 },
 "nbformat": 4,
 "nbformat_minor": 0
}