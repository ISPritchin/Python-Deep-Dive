{
 "cells": [
  {
   "cell_type": "markdown",
   "source": [
    "# Декораторы в Python\n",
    "\n",
    "**Декораторы** — это обёртки вокруг Python-функций (или классов), которые изменяют работу того, к чему они применяются. Чаще всего они изображаются как \"@my_decorator\"над декорируемой функцией.\n",
    "\n",
    "* Декоратор — это всего лишь функция (которая, в качестве аргумента, принимает другую функцию).\n",
    "* Декораторами пользуются, помещая их имя со знаком @ перед определением функции, а не вызывая их.\n",
    "\n",
    "В Python декораторы используются, в основном, для декорирования функций (или, соответственно, методов). Возможно, одним из самых распространённых декораторов является декоратор @property:"
   ],
   "metadata": {
    "collapsed": false,
    "pycharm": {
     "name": "#%% md\n"
    }
   }
  },
  {
   "cell_type": "code",
   "execution_count": null,
   "outputs": [],
   "source": [
    "class Rectangle:\n",
    "    def __init__(self, a, b):\n",
    "        self.a = a\n",
    "        self.b = b\n",
    "\n",
    "    @property\n",
    "    def area(self):\n",
    "        return self.a * self.b\n",
    "\n",
    "\n",
    "rect = Rectangle(5, 6)\n",
    "print(rect.area)"
   ],
   "metadata": {
    "collapsed": false,
    "pycharm": {
     "name": "#%%\n"
    }
   }
  },
  {
   "cell_type": "markdown",
   "source": [
    "В последней строке кода, мы можем обратиться к члену `area` экземпляра класса Rectangle как к атрибуту. То есть — нам не нужно вызывать метод `area`. Вместо этого при обращении к `area` как к атрибуту (то есть — без использования скобок, ()), соответствующий метод вызывается неявным образом. Это возможно благодаря декоратору `@property`.\n",
    "\n",
    "Размещение конструкции @property перед определением функции равносильно использованию конструкции вида `area = property(area)`. Другими словами, `property` — это функция, которая принимает другую функцию в качестве аргумента и возвращает ещё одну функцию. Именно этим и занимаются декораторы.\n",
    "\n",
    "В результате оказывается, что декоратор меняет поведение декорируемой функции.\n",
    "\n",
    "Предположим, имеется функция, которую мы хотим запустить повторно в том случае, если при её первом запуске произойдёт сбой. То есть — нам нужна функция (декоратор, имя которого, retry, можно перевести как «повтор»), которая вызывает нашу функцию один или два раза (это зависит от того, возникнет ли ошибка при первом вызове функции)."
   ],
   "metadata": {
    "collapsed": false,
    "pycharm": {
     "name": "#%% md\n"
    }
   }
  },
  {
   "cell_type": "code",
   "execution_count": 2,
   "outputs": [
    {
     "name": "stdout",
     "output_type": "stream",
     "text": [
      "might_fail\n",
      "might_fail\n"
     ]
    },
    {
     "ename": "Exception",
     "evalue": "",
     "output_type": "error",
     "traceback": [
      "\u001B[1;31m---------------------------------------------------------------------------\u001B[0m",
      "\u001B[1;31mException\u001B[0m                                 Traceback (most recent call last)",
      "Cell \u001B[1;32mIn [2], line 8\u001B[0m, in \u001B[0;36mretry.<locals>._wrapper\u001B[1;34m(*args, **kwargs)\u001B[0m\n\u001B[0;32m      7\u001B[0m \u001B[38;5;28;01mtry\u001B[39;00m:\n\u001B[1;32m----> 8\u001B[0m     func(\u001B[38;5;241m*\u001B[39margs, \u001B[38;5;241m*\u001B[39m\u001B[38;5;241m*\u001B[39mkwargs)\n\u001B[0;32m      9\u001B[0m \u001B[38;5;28;01mexcept\u001B[39;00m:\n",
      "Cell \u001B[1;32mIn [2], line 19\u001B[0m, in \u001B[0;36mmight_fail\u001B[1;34m()\u001B[0m\n\u001B[0;32m     18\u001B[0m \u001B[38;5;28mprint\u001B[39m(\u001B[38;5;124m\"\u001B[39m\u001B[38;5;124mmight_fail\u001B[39m\u001B[38;5;124m\"\u001B[39m)\n\u001B[1;32m---> 19\u001B[0m \u001B[38;5;28;01mraise\u001B[39;00m \u001B[38;5;167;01mException\u001B[39;00m\n",
      "\u001B[1;31mException\u001B[0m: ",
      "\nDuring handling of the above exception, another exception occurred:\n",
      "\u001B[1;31mException\u001B[0m                                 Traceback (most recent call last)",
      "Cell \u001B[1;32mIn [2], line 22\u001B[0m\n\u001B[0;32m     18\u001B[0m     \u001B[38;5;28mprint\u001B[39m(\u001B[38;5;124m\"\u001B[39m\u001B[38;5;124mmight_fail\u001B[39m\u001B[38;5;124m\"\u001B[39m)\n\u001B[0;32m     19\u001B[0m     \u001B[38;5;28;01mraise\u001B[39;00m \u001B[38;5;167;01mException\u001B[39;00m\n\u001B[1;32m---> 22\u001B[0m might_fail()\n",
      "Cell \u001B[1;32mIn [2], line 11\u001B[0m, in \u001B[0;36mretry.<locals>._wrapper\u001B[1;34m(*args, **kwargs)\u001B[0m\n\u001B[0;32m      9\u001B[0m \u001B[38;5;28;01mexcept\u001B[39;00m:\n\u001B[0;32m     10\u001B[0m     time\u001B[38;5;241m.\u001B[39msleep(\u001B[38;5;241m1\u001B[39m)\n\u001B[1;32m---> 11\u001B[0m     func(\u001B[38;5;241m*\u001B[39margs, \u001B[38;5;241m*\u001B[39m\u001B[38;5;241m*\u001B[39mkwargs)\n",
      "Cell \u001B[1;32mIn [2], line 19\u001B[0m, in \u001B[0;36mmight_fail\u001B[1;34m()\u001B[0m\n\u001B[0;32m     16\u001B[0m \u001B[38;5;129m@retry\u001B[39m\n\u001B[0;32m     17\u001B[0m \u001B[38;5;28;01mdef\u001B[39;00m \u001B[38;5;21mmight_fail\u001B[39m():\n\u001B[0;32m     18\u001B[0m     \u001B[38;5;28mprint\u001B[39m(\u001B[38;5;124m\"\u001B[39m\u001B[38;5;124mmight_fail\u001B[39m\u001B[38;5;124m\"\u001B[39m)\n\u001B[1;32m---> 19\u001B[0m     \u001B[38;5;28;01mraise\u001B[39;00m \u001B[38;5;167;01mException\u001B[39;00m\n",
      "\u001B[1;31mException\u001B[0m: "
     ]
    }
   ],
   "source": [
    "from typing import Callable\n",
    "import time\n",
    "\n",
    "\n",
    "def retry(func: Callable):\n",
    "    def _wrapper(*args, **kwargs):\n",
    "        try:\n",
    "            func(*args, **kwargs)\n",
    "        except:\n",
    "            time.sleep(1)\n",
    "            func(*args, **kwargs)\n",
    "\n",
    "    return _wrapper\n",
    "\n",
    "\n",
    "@retry\n",
    "def might_fail():\n",
    "    print(\"might_fail\")\n",
    "    raise Exception\n",
    "\n",
    "\n",
    "might_fail()"
   ],
   "metadata": {
    "collapsed": false,
    "pycharm": {
     "name": "#%%\n"
    }
   }
  },
  {
   "cell_type": "markdown",
   "source": [
    "Наш декоратор носит имя `retry`. Он принимает в виде аргумента (`func`) любую функцию. Внутри декоратора определяется новая функция (`_wrapper`), после чего осуществляется возврат этой функции. Тому, кто впервые видит код декоратора, может показаться непривычным объявление одной функции внутри другой функции. Но это — совершенно корректная синтаксическая конструкция, следствием применения которой является тот полезный для нас факт, что функция `_wrapper` видна лишь внутри пространства имён декоратора `retry`."
   ],
   "metadata": {
    "collapsed": false,
    "pycharm": {
     "name": "#%% md\n"
    }
   }
  },
  {
   "cell_type": "markdown",
   "source": [
    "Напишем ещё один полезный декоратор — timer («таймер»). Он будет измерять время выполнения декорированной с его помощью функции:"
   ],
   "metadata": {
    "collapsed": false,
    "pycharm": {
     "name": "#%% md\n"
    }
   }
  },
  {
   "cell_type": "code",
   "execution_count": 3,
   "outputs": [
    {
     "name": "stdout",
     "output_type": "stream",
     "text": [
      "complex_calculation took 0.5006 secs\n",
      "42\n"
     ]
    }
   ],
   "source": [
    "import functools\n",
    "import time\n",
    "\n",
    "\n",
    "def timer(func):\n",
    "    @functools.wraps(func)\n",
    "    def _wrapper(*args, **kwargs):\n",
    "        start = time.perf_counter()\n",
    "        result = func(*args, **kwargs)\n",
    "        runtime = time.perf_counter() - start\n",
    "        print(f\"{func.__name__} took {runtime:.4f} secs\")\n",
    "        return result\n",
    "\n",
    "    return _wrapper\n",
    "\n",
    "\n",
    "@timer\n",
    "def complex_calculation():\n",
    "    \"\"\"Some complex calculation.\"\"\"\n",
    "    time.sleep(0.5)\n",
    "    return 42\n",
    "\n",
    "\n",
    "print(complex_calculation())"
   ],
   "metadata": {
    "collapsed": false,
    "pycharm": {
     "name": "#%%\n"
    }
   }
  },
  {
   "cell_type": "code",
   "execution_count": 19,
   "outputs": [
    {
     "data": {
      "text/plain": "'<b><i>Hello!</i></b>'"
     },
     "execution_count": 19,
     "metadata": {},
     "output_type": "execute_result"
    }
   ],
   "source": [
    "def makebold(fn):\n",
    "    def wrapped():\n",
    "        return \"<b>\" + fn() + \"</b>\"\n",
    "\n",
    "    return wrapped\n",
    "\n",
    "\n",
    "def makeitalic(fn):\n",
    "    def wrapped():\n",
    "        return \"<i>\" + fn() + \"</i>\"\n",
    "\n",
    "    return wrapped\n",
    "\n",
    "\n",
    "@makebold\n",
    "@makeitalic\n",
    "def say_words():\n",
    "    return \"Hello!\"\n",
    "\n",
    "\n",
    "say_words()"
   ],
   "metadata": {
    "collapsed": false,
    "pycharm": {
     "name": "#%%\n"
    }
   }
  },
  {
   "cell_type": "markdown",
   "source": [
    "Подытожим:"
   ],
   "metadata": {
    "collapsed": false,
    "pycharm": {
     "name": "#%% md\n"
    }
   }
  },
  {
   "cell_type": "code",
   "execution_count": 76,
   "outputs": [
    {
     "name": "stdout",
     "output_type": "stream",
     "text": [
      "Я простая одинокая функция, ты ведь не посмеешь меня изменять?..\n"
     ]
    }
   ],
   "source": [
    "# Декоратор - это функция, ожидающая ДРУГУЮ функцию в качестве параметра\n",
    "def my_shiny_new_decorator(a_function_to_decorate):\n",
    "    # Внутри себя декоратор определяет функцию-\"обёртку\".\n",
    "    # Она будет (что бы вы думали?..) обёрнута вокруг декорируемой,\n",
    "    # получая возможность исполнять произвольный код до и после неё.\n",
    "\n",
    "    print(\"Я создаю декораторы! Я буду вызван только раз: когда ты попросишь меня создать тебе декоратор. \")\n",
    "\n",
    "    def the_wrapper_around_the_original_function():\n",
    "        # Поместим здесь код, который мы хотим запускать ДО вызова\n",
    "        # оригинальной функции\n",
    "        print(\"Я - код, который отработает до вызова функции\")\n",
    "\n",
    "        # ВЫЗОВЕМ саму декорируемую функцию\n",
    "        a_function_to_decorate()\n",
    "\n",
    "        # А здесь поместим код, который мы хотим запускать ПОСЛЕ вызова\n",
    "        # оригинальной функции\n",
    "        print(\"А я - код, срабатывающий после\")\n",
    "\n",
    "    # На данный момент функция \"a_function_to_decorate\" НЕ ВЫЗЫВАЛАСЬ НИ РАЗУ\n",
    "\n",
    "    # Теперь, вернём функцию-обёртку, которая содержит в себе\n",
    "    # декорируемую функцию, и код, который необходимо выполнить до и после.\n",
    "    # Всё просто!\n",
    "    print(\"Я возвращаю декоратор.\")\n",
    "\n",
    "    return the_wrapper_around_the_original_function\n",
    "\n",
    "\n",
    "# Представим теперь, что у нас есть функция, которую мы не планируем больше трогать.\n",
    "def a_stand_alone_function():\n",
    "    print(\"Я простая одинокая функция, ты ведь не посмеешь меня изменять?..\")\n",
    "\n",
    "\n",
    "a_stand_alone_function()"
   ],
   "metadata": {
    "collapsed": false,
    "pycharm": {
     "name": "#%%\n"
    }
   }
  },
  {
   "cell_type": "code",
   "execution_count": 78,
   "outputs": [
    {
     "name": "stdout",
     "output_type": "stream",
     "text": [
      "Я создаю декораторы! Я буду вызван только раз: когда ты попросишь меня создать тебе декоратор. \n",
      "Я возвращаю декоратор.\n"
     ]
    }
   ],
   "source": [
    "# Однако, чтобы изменить её поведение, мы можем декорировать её, то есть\n",
    "# Просто передать декоратору, который обернет исходную функцию в любой код,\n",
    "# который нам потребуется, и вернёт новую, готовую к использованию функцию:\n",
    "\n",
    "a_stand_alone_function_decorated = my_shiny_new_decorator(a_stand_alone_function)"
   ],
   "metadata": {
    "collapsed": false,
    "pycharm": {
     "name": "#%%\n"
    }
   }
  },
  {
   "cell_type": "code",
   "execution_count": 79,
   "outputs": [
    {
     "name": "stdout",
     "output_type": "stream",
     "text": [
      "Я - код, который отработает до вызова функции\n",
      "Я простая одинокая функция, ты ведь не посмеешь меня изменять?..\n",
      "А я - код, срабатывающий после\n"
     ]
    }
   ],
   "source": [
    "a_stand_alone_function_decorated()"
   ],
   "metadata": {
    "collapsed": false,
    "pycharm": {
     "name": "#%%\n"
    }
   }
  },
  {
   "cell_type": "markdown",
   "source": [
    "Тот же код, только с использованием декораторов:"
   ],
   "metadata": {
    "collapsed": false,
    "pycharm": {
     "name": "#%% md\n"
    }
   }
  },
  {
   "cell_type": "code",
   "execution_count": 80,
   "outputs": [
    {
     "name": "stdout",
     "output_type": "stream",
     "text": [
      "Я создаю декораторы! Я буду вызван только раз: когда ты попросишь меня создать тебе декоратор. \n",
      "Я возвращаю декоратор.\n"
     ]
    }
   ],
   "source": [
    "@my_shiny_new_decorator\n",
    "def a_stand_alone_function():\n",
    "    print(\"Я простая одинокая функция, ты ведь не посмеешь меня изменять?..\")"
   ],
   "metadata": {
    "collapsed": false,
    "pycharm": {
     "name": "#%%\n"
    }
   }
  },
  {
   "cell_type": "code",
   "execution_count": 81,
   "outputs": [
    {
     "name": "stdout",
     "output_type": "stream",
     "text": [
      "Я - код, который отработает до вызова функции\n",
      "Я простая одинокая функция, ты ведь не посмеешь меня изменять?..\n",
      "А я - код, срабатывающий после\n"
     ]
    }
   ],
   "source": [
    "a_stand_alone_function()"
   ],
   "metadata": {
    "collapsed": false,
    "pycharm": {
     "name": "#%%\n"
    }
   }
  },
  {
   "cell_type": "code",
   "execution_count": 82,
   "outputs": [
    {
     "name": "stdout",
     "output_type": "stream",
     "text": [
      "Я создаю декораторы! Я буду вызван только раз: когда ты попросишь меня создать тебе декоратор. \n",
      "Я возвращаю декоратор.\n"
     ]
    }
   ],
   "source": [
    "@my_shiny_new_decorator\n",
    "def another_stand_alone_function():\n",
    "    print(\"Оставь меня в покое\")"
   ],
   "metadata": {
    "collapsed": false,
    "pycharm": {
     "name": "#%%\n"
    }
   }
  },
  {
   "cell_type": "code",
   "execution_count": 83,
   "outputs": [
    {
     "name": "stdout",
     "output_type": "stream",
     "text": [
      "Я - код, который отработает до вызова функции\n",
      "Оставь меня в покое\n",
      "А я - код, срабатывающий после\n"
     ]
    }
   ],
   "source": [
    "another_stand_alone_function()"
   ],
   "metadata": {
    "collapsed": false,
    "pycharm": {
     "name": "#%%\n"
    }
   }
  },
  {
   "cell_type": "markdown",
   "source": [
    "Декораторы друг в друга, например так:"
   ],
   "metadata": {
    "collapsed": false,
    "pycharm": {
     "name": "#%% md\n"
    }
   }
  },
  {
   "cell_type": "code",
   "execution_count": 64,
   "outputs": [
    {
     "name": "stdout",
     "output_type": "stream",
     "text": [
      "--ветчина--\n",
      "</------\\>\n",
      "#помидоры#\n",
      "--ветчина--\n",
      "~салат~\n",
      "<\\______/>\n"
     ]
    }
   ],
   "source": [
    "def bread(func):\n",
    "    def wrapper():\n",
    "        print(\"</------\\>\")\n",
    "        func()\n",
    "        print(\"<\\______/>\")\n",
    "\n",
    "    return wrapper\n",
    "\n",
    "\n",
    "def ingredients(func):\n",
    "    def wrapper():\n",
    "        print(\"#помидоры#\")\n",
    "        func()\n",
    "        print(\"~салат~\")\n",
    "\n",
    "    return wrapper\n",
    "\n",
    "\n",
    "def sandwich(food=\"--ветчина--\"):\n",
    "    print(food)\n",
    "\n",
    "\n",
    "sandwich()\n",
    "#выведет: --ветчина--\n",
    "sandwich = bread(ingredients(sandwich))\n",
    "sandwich()\n",
    "#выведет:\n",
    "# </------\\>\n",
    "# #помидоры#\n",
    "# --ветчина--\n",
    "# ~салат~\n",
    "# <\\______/>"
   ],
   "metadata": {
    "collapsed": false,
    "pycharm": {
     "name": "#%%\n"
    }
   }
  },
  {
   "cell_type": "code",
   "execution_count": 65,
   "outputs": [
    {
     "name": "stdout",
     "output_type": "stream",
     "text": [
      "</------\\>\n",
      "#помидоры#\n",
      "--ветчина--\n",
      "~салат~\n",
      "<\\______/>\n"
     ]
    }
   ],
   "source": [
    "@bread\n",
    "@ingredients\n",
    "def sandwich(food=\"--ветчина--\"):\n",
    "    print(food)\n",
    "\n",
    "sandwich()"
   ],
   "metadata": {
    "collapsed": false,
    "pycharm": {
     "name": "#%%\n"
    }
   }
  },
  {
   "cell_type": "markdown",
   "source": [
    "Порядок следования декораторов важен:"
   ],
   "metadata": {
    "collapsed": false,
    "pycharm": {
     "name": "#%% md\n"
    }
   }
  },
  {
   "cell_type": "code",
   "execution_count": 66,
   "outputs": [
    {
     "name": "stdout",
     "output_type": "stream",
     "text": [
      "#помидоры#\n",
      "</------\\>\n",
      "--ветчина--\n",
      "<\\______/>\n",
      "~салат~\n"
     ]
    }
   ],
   "source": [
    "@ingredients\n",
    "@bread\n",
    "def sandwich(food=\"--ветчина--\"):\n",
    "    print(food)\n",
    "\n",
    "sandwich()"
   ],
   "metadata": {
    "collapsed": false,
    "pycharm": {
     "name": "#%%\n"
    }
   }
  },
  {
   "cell_type": "markdown",
   "source": [
    "Передача («проброс») аргументов в декорируемую функцию:\n"
   ],
   "metadata": {
    "collapsed": false,
    "pycharm": {
     "name": "#%% md\n"
    }
   }
  },
  {
   "cell_type": "code",
   "source": [
    "def a_decorator_passing_arguments(function_to_decorate):\n",
    "    def a_wrapper_accepting_arguments(arg1, arg2):  # аргументы прибывают отсюда\n",
    "        print(\"Смотри, что я получил:\", arg1, arg2)\n",
    "        function_to_decorate(arg1, arg2)\n",
    "\n",
    "    return a_wrapper_accepting_arguments\n",
    "\n",
    "\n",
    "# Теперь, когда мы вызываем функцию, которую возвращает декоратор,\n",
    "# мы вызываем её \"обёртку\", передаём ей аргументы и уже в свою очередь\n",
    "# она передаёт их декорируемой функции\n",
    "\n",
    "@a_decorator_passing_arguments\n",
    "def print_full_name(first_name, last_name):\n",
    "    print(\"Меня зовут\", first_name, last_name)\n",
    "\n",
    "\n",
    "print_full_name(\"Питер\", \"Венкман\")"
   ],
   "metadata": {
    "collapsed": false,
    "pycharm": {
     "name": "#%%\n"
    }
   },
   "execution_count": 67,
   "outputs": [
    {
     "name": "stdout",
     "output_type": "stream",
     "text": [
      "Смотри, что я получил: Питер Венкман\n",
      "Меня зовут Питер Венкман\n"
     ]
    }
   ]
  },
  {
   "cell_type": "code",
   "execution_count": 85,
   "outputs": [
    {
     "name": "stdout",
     "output_type": "stream",
     "text": [
      "Я создаю декораторы! И я получил следующие аргументы: Леонард Шелдон\n",
      "Я - декоратор. И ты всё же смог передать мне эти аргументы: Леонард Шелдон\n",
      "Я - обёртка вокруг декорируемой функции.\n",
      "И я имею доступ ко всем аргументам: \n",
      "\t- и декоратора: Леонард Шелдон\n",
      "\t- и функции: Раджеш Говард\n",
      "Теперь я могу передать нужные аргументы дальше\n",
      "Я - декорируемая функция и я знаю только о своих аргументах: Раджеш Говард\n"
     ]
    }
   ],
   "source": [
    "def decorator_maker_with_arguments(decorator_arg1, decorator_arg2):\n",
    "\n",
    "    print(\"Я создаю декораторы! И я получил следующие аргументы:\", decorator_arg1, decorator_arg2)\n",
    "\n",
    "    def my_decorator(func):\n",
    "        print(\"Я - декоратор. И ты всё же смог передать мне эти аргументы:\", decorator_arg1, decorator_arg2)\n",
    "\n",
    "        # Не перепутайте аргументы декораторов с аргументами функций!\n",
    "        def wrapped(function_arg1, function_arg2) :\n",
    "            print (\"Я - обёртка вокруг декорируемой функции.\\n\"\n",
    "                  \"И я имею доступ ко всем аргументам: \\n\"\n",
    "                  \"\\t- и декоратора: {0} {1}\\n\"\n",
    "                  \"\\t- и функции: {2} {3}\\n\"\n",
    "                  \"Теперь я могу передать нужные аргументы дальше\"\n",
    "                  .format(decorator_arg1, decorator_arg2,\n",
    "                          function_arg1, function_arg2))\n",
    "            return func(function_arg1, function_arg2)\n",
    "\n",
    "        return wrapped\n",
    "\n",
    "    return my_decorator\n",
    "\n",
    "@decorator_maker_with_arguments(\"Леонард\", \"Шелдон\")\n",
    "def decorated_function_with_arguments(function_arg1, function_arg2):\n",
    "    print (\"Я - декорируемая функция и я знаю только о своих аргументах: {0}\"\n",
    "           \" {1}\".format(function_arg1, function_arg2))\n",
    "\n",
    "decorated_function_with_arguments(\"Раджеш\", \"Говард\")"
   ],
   "metadata": {
    "collapsed": false,
    "pycharm": {
     "name": "#%%\n"
    }
   }
  },
  {
   "cell_type": "markdown",
   "source": [
    "### Декораторы классов"
   ],
   "metadata": {
    "collapsed": false,
    "pycharm": {
     "name": "#%% md\n"
    }
   }
  },
  {
   "cell_type": "code",
   "source": [
    "@timer\n",
    "class MyClass:\n",
    "    def complex_calculation(self):\n",
    "        time.sleep(1)\n",
    "        return 42\n",
    "\n",
    "\n",
    "my_obj = MyClass()\n",
    "my_obj.complex_calculation()"
   ],
   "metadata": {
    "collapsed": false,
    "pycharm": {
     "name": "#%%\n"
    }
   },
   "execution_count": 68,
   "outputs": [
    {
     "name": "stdout",
     "output_type": "stream",
     "text": [
      "MyClass took 0.0000 secs\n"
     ]
    },
    {
     "data": {
      "text/plain": "42"
     },
     "execution_count": 68,
     "metadata": {},
     "output_type": "execute_result"
    }
   ]
  },
  {
   "cell_type": "markdown",
   "source": [
    "Вспомним о том, что конструкция, начинающаяся с `@` — это всего лишь эквивалент `MyClass = timer(MyClass)`. То есть — декоратор вызывается только когда «вызывают» класс. «Вызов» класса — это создание его экземпляра. Получается, что `timer` вызывается лишь при выполнении строки кода `my_obj = MyClass()`.\n",
    "\n",
    "При декорировании класса методы этого класса не подвергаются автоматическому декорированию. Проще говоря — использование обычного декоратора для декорирования обычного класса приводит лишь к декорированию конструктора (метод __init__) этого класса.\n",
    "\n",
    "Но можно поменять поведение всего класса, воспользовавшись другой формой конструктора. Правда, прежде чем об этом говорить, давайте поинтересуемся тем, может ли декоратор работать несколько иначе — то есть можно ли декорировать функцию с помощью класса. Оказывается — это возможно:"
   ],
   "metadata": {
    "collapsed": false,
    "pycharm": {
     "name": "#%% md\n"
    }
   }
  },
  {
   "cell_type": "code",
   "source": [
    "class MyDecorator:\n",
    "    def __init__(self, function):\n",
    "        self.function = function\n",
    "        self.counter = 0\n",
    "\n",
    "    def __call__(self, *args, **kwargs):\n",
    "        self.function(*args, **kwargs)\n",
    "        self.counter += 1\n",
    "        print(f\"Called {self.counter} times\")\n",
    "\n",
    "\n",
    "@MyDecorator\n",
    "def some_function():\n",
    "    return 42\n",
    "\n",
    "\n",
    "some_function()\n",
    "some_function()\n",
    "some_function()"
   ],
   "metadata": {
    "collapsed": false,
    "pycharm": {
     "name": "#%%\n"
    }
   },
   "execution_count": 69,
   "outputs": [
    {
     "name": "stdout",
     "output_type": "stream",
     "text": [
      "Called 1 times\n",
      "Called 2 times\n",
      "Called 3 times\n"
     ]
    }
   ]
  },
  {
   "cell_type": "markdown",
   "source": [
    "В ходе работы этого кода происходит следующее:\n",
    "* Функция `__init__` вызывается при декорировании `some_function`. Тут, снова, не забываем о том, что использование декоратора — это аналог конструкции `some_function = MyDecorator(some_function)`.\n",
    "* Функция `__call__` вызывается при использовании экземпляра класса, например — при вызове функции. Функция `some_function` — это теперь экземпляр класса `MyDecorator`, но использовать мы её при этом планируем как функцию. За это отвечает магический метод `__call__`, в имени которого используются два символа подчёркивания."
   ],
   "metadata": {
    "collapsed": false,
    "pycharm": {
     "name": "#%% md\n"
    }
   }
  },
  {
   "cell_type": "markdown",
   "source": [
    "### Декораторы методов"
   ],
   "metadata": {
    "collapsed": false,
    "pycharm": {
     "name": "#%% md\n"
    }
   }
  },
  {
   "cell_type": "markdown",
   "source": [
    "Один из важных фактов, которые следует понимать, заключается в том, что функции и методы в Python'e — это практически одно и то же, за исключением того, что методы всегда ожидают первым параметром ссылку на сам объект (`self`). Это значит, что мы можем создавать декораторы для методов так же, как и для функций, просто не забывая про `self`."
   ],
   "metadata": {
    "collapsed": false,
    "pycharm": {
     "name": "#%% md\n"
    }
   }
  },
  {
   "cell_type": "code",
   "execution_count": 70,
   "outputs": [
    {
     "name": "stdout",
     "output_type": "stream",
     "text": [
      "Мне 26, а ты бы сколько дал?\n"
     ]
    }
   ],
   "source": [
    "def method_friendly_decorator(method_to_decorate):\n",
    "    def wrapper(self, lie):\n",
    "        lie = lie - 3  # действительно, дружелюбно - снизим возраст ещё сильней :-)\n",
    "        return method_to_decorate(self, lie)\n",
    "\n",
    "    return wrapper\n",
    "\n",
    "\n",
    "class Woman(object):\n",
    "\n",
    "    def __init__(self):\n",
    "        self.age = 32\n",
    "\n",
    "    @method_friendly_decorator\n",
    "    def sayYourAge(self, lie):\n",
    "        print(\"Мне {}, а ты бы сколько дал?\".format(self.age + lie))\n",
    "\n",
    "\n",
    "lucy = Woman()\n",
    "lucy.sayYourAge(-3)"
   ],
   "metadata": {
    "collapsed": false,
    "pycharm": {
     "name": "#%%\n"
    }
   }
  },
  {
   "cell_type": "markdown",
   "source": [
    "Можно описать такие декораторы, которые могли бы оборачивать любые функции и методы:"
   ],
   "metadata": {
    "collapsed": false,
    "pycharm": {
     "name": "#%% md\n"
    }
   }
  },
  {
   "cell_type": "code",
   "source": [
    "def a_decorator_passing_arbitrary_arguments(function_to_decorate):\n",
    "    # Данная \"обёртка\" принимает любые аргументы\n",
    "    def a_wrapper_accepting_arbitrary_arguments(*args, **kwargs):\n",
    "        print(\"Передали ли мне что-нибудь?:\")\n",
    "        print(args, kwargs)\n",
    "        return function_to_decorate(*args, **kwargs)\n",
    "\n",
    "    return a_wrapper_accepting_arbitrary_arguments"
   ],
   "metadata": {
    "collapsed": false,
    "pycharm": {
     "name": "#%%\n"
    }
   },
   "execution_count": 71,
   "outputs": []
  },
  {
   "cell_type": "code",
   "execution_count": 72,
   "outputs": [
    {
     "name": "stdout",
     "output_type": "stream",
     "text": [
      "Передали ли мне что-нибудь?:\n",
      "() {}\n",
      "Python is cool, no argument here.\n"
     ]
    }
   ],
   "source": [
    "@a_decorator_passing_arbitrary_arguments\n",
    "def function_with_no_argument():\n",
    "    print(\"Python is cool, no argument here.\")  # оставлено без перевода, хорошая игра слов:)\n",
    "\n",
    "\n",
    "function_with_no_argument()"
   ],
   "metadata": {
    "collapsed": false,
    "pycharm": {
     "name": "#%%\n"
    }
   }
  },
  {
   "cell_type": "code",
   "execution_count": 73,
   "outputs": [
    {
     "name": "stdout",
     "output_type": "stream",
     "text": [
      "Передали ли мне что-нибудь?:\n",
      "(1, 2, 3) {}\n",
      "1 2 3\n"
     ]
    }
   ],
   "source": [
    "@a_decorator_passing_arbitrary_arguments\n",
    "def function_with_arguments(a, b, c):\n",
    "    print(a, b, c)\n",
    "\n",
    "\n",
    "function_with_arguments(1, 2, 3)"
   ],
   "metadata": {
    "collapsed": false,
    "pycharm": {
     "name": "#%%\n"
    }
   }
  },
  {
   "cell_type": "code",
   "source": [
    "@a_decorator_passing_arbitrary_arguments\n",
    "def function_with_named_arguments(a, b, c, platypus=\"Почему нет?\"):\n",
    "    print(\"Любят ли {}, {} и {} утконосов? %s\".format(a, b, c, platypus))\n",
    "\n",
    "function_with_named_arguments(\"Билл\", \"Линус\", \"Стив\", platypus=\"Определенно!\")"
   ],
   "metadata": {
    "collapsed": false,
    "pycharm": {
     "name": "#%%\n"
    }
   },
   "execution_count": 74,
   "outputs": [
    {
     "name": "stdout",
     "output_type": "stream",
     "text": [
      "Передали ли мне что-нибудь?:\n",
      "('Билл', 'Линус', 'Стив') {'platypus': 'Определенно!'}\n",
      "Любят ли Билл, Линус и Стив утконосов? %s\n"
     ]
    }
   ]
  },
  {
   "cell_type": "code",
   "execution_count": 75,
   "outputs": [
    {
     "name": "stdout",
     "output_type": "stream",
     "text": [
      "Передали ли мне что-нибудь?:\n",
      "(<__main__.Woman object at 0x000001C51D73BB50>,) {}\n",
      "Мне 28, а ты бы сколько дал?\n"
     ]
    }
   ],
   "source": [
    "class Woman:\n",
    "\n",
    "    def __init__(self):\n",
    "        self.age = 31\n",
    "\n",
    "    @a_decorator_passing_arbitrary_arguments\n",
    "    def sayYourAge(self, lie=-3):  # Теперь мы можем указать значение по умолчанию\n",
    "        print(\"Мне {}, а ты бы сколько дал?\".format(self.age + lie))\n",
    "\n",
    "\n",
    "lucy = Woman()\n",
    "lucy.sayYourAge()"
   ],
   "metadata": {
    "collapsed": false,
    "pycharm": {
     "name": "#%%\n"
    }
   }
  },
  {
   "cell_type": "markdown",
   "source": [
    "#### property"
   ],
   "metadata": {
    "collapsed": false,
    "pycharm": {
     "name": "#%% md\n"
    }
   }
  },
  {
   "cell_type": "code",
   "execution_count": 5,
   "outputs": [
    {
     "name": "stdout",
     "output_type": "stream",
     "text": [
      "Установка температуры в значение 1\n"
     ]
    }
   ],
   "source": [
    "class MyClass:\n",
    "    def __init__(self, t):\n",
    "        self._temp = t\n",
    "\n",
    "    @property\n",
    "    def temperature(self):\n",
    "        return self._temp\n",
    "\n",
    "    @temperature.setter\n",
    "    def temperature(self, t):\n",
    "        print(f\"Установка температуры в значение {t}\")\n",
    "        self._temp = t\n",
    "\n",
    "\n",
    "c = MyClass(500)\n",
    "\n",
    "c.temperature = 1"
   ],
   "metadata": {
    "collapsed": false,
    "pycharm": {
     "name": "#%%\n"
    }
   }
  },
  {
   "cell_type": "markdown",
   "source": [
    "`@property` — это, скорее всего, один из самых популярных Python-декораторов. Его цель заключается в том, чтобы обеспечить доступ к результатам вызова метода класса в такой форме, как будто этот метод является атрибутом. Конечно, существует и альтернатива `@property`, что позволяет, при выполнении операции присваивания значения, самостоятельно выполнять вызов метода."
   ],
   "metadata": {
    "collapsed": false,
    "pycharm": {
     "name": "#%% md\n"
    }
   }
  },
  {
   "cell_type": "code",
   "source": [
    "class MyClass:\n",
    "    def __init__(self, x):\n",
    "        self.x = x\n",
    "\n",
    "    @property\n",
    "    def x_doubled(self):\n",
    "        return self.x * 2\n",
    "\n",
    "    @x_doubled.setter\n",
    "    def x_doubled(self, x_doubled):\n",
    "        self.x = x_doubled // 2\n",
    "\n",
    "\n",
    "my_object = MyClass(5)\n",
    "print(my_object.x_doubled)  #  10\n",
    "print(my_object.x)  #  5\n",
    "my_object.x_doubled = 100  #\n",
    "print(my_object.x_doubled)  #  100\n",
    "print(my_object.x)  #  50"
   ],
   "metadata": {
    "collapsed": false,
    "pycharm": {
     "name": "#%%\n"
    }
   },
   "execution_count": 8,
   "outputs": [
    {
     "name": "stdout",
     "output_type": "stream",
     "text": [
      "10\n",
      "5\n",
      "100\n",
      "50\n"
     ]
    }
   ]
  },
  {
   "cell_type": "markdown",
   "source": [
    "#### staticmethod\n",
    "\n",
    "Ещё один широко известный декоратор — это @staticmethod. Он используется в ситуациях, когда надо вызвать функцию, объявленную в классе, не создавая при этом экземпляр данного класса:"
   ],
   "metadata": {
    "collapsed": false,
    "pycharm": {
     "name": "#%% md\n"
    }
   }
  },
  {
   "cell_type": "code",
   "execution_count": 14,
   "outputs": [
    {
     "name": "stdout",
     "output_type": "stream",
     "text": [
      "False\n",
      "<__main__.Person object at 0x000001C51D565ED0>\n"
     ]
    }
   ],
   "source": [
    "from datetime import date\n",
    "\n",
    "\n",
    "class Person:\n",
    "    def __init__(self, name, age):\n",
    "        self.name = name\n",
    "        self.age = age\n",
    "\n",
    "    @classmethod\n",
    "    def from_birth_year(cls, name, year):\n",
    "        return cls(name, date.today().year - year)\n",
    "\n",
    "    @staticmethod\n",
    "    def is_adult(age):\n",
    "        return age >= 18\n",
    "\n",
    "\n",
    "print(Person.is_adult(10))\n",
    "print(Person.from_birth_year(\"Ivan\", 1994))"
   ],
   "metadata": {
    "collapsed": false,
    "pycharm": {
     "name": "#%%\n"
    }
   }
  },
  {
   "cell_type": "markdown",
   "source": [
    "#### functools.cache"
   ],
   "metadata": {
    "collapsed": false,
    "pycharm": {
     "name": "#%% md\n"
    }
   }
  },
  {
   "cell_type": "code",
   "source": [
    "from functools import cache\n",
    "\n",
    "\n",
    "@cache\n",
    "def complex_calculations(n):\n",
    "    print(\"complex_calculation\")\n",
    "    return 42\n",
    "\n",
    "\n",
    "print(complex_calculations(1))\n",
    "print(complex_calculations(1))\n",
    "print(complex_calculations(1))"
   ],
   "metadata": {
    "collapsed": false,
    "pycharm": {
     "name": "#%%\n"
    }
   },
   "execution_count": 12,
   "outputs": [
    {
     "name": "stdout",
     "output_type": "stream",
     "text": [
      "complex_calculation\n",
      "42\n",
      "42\n",
      "42\n"
     ]
    }
   ]
  },
  {
   "cell_type": "markdown",
   "source": [
    "Теперь, при попытке вызова `complex_calculations()`, Python, перед вызовом функции something_complex, проверяет, имеется ли кешированный результат её работы. Если результат её вызова имеется в кеше — `something_complex` не придётся вызывать дважды."
   ],
   "metadata": {
    "collapsed": false,
    "pycharm": {
     "name": "#%% md\n"
    }
   }
  },
  {
   "cell_type": "markdown",
   "source": [
    "#### dataclass"
   ],
   "metadata": {
    "collapsed": false,
    "pycharm": {
     "name": "#%% md\n"
    }
   }
  },
  {
   "cell_type": "code",
   "execution_count": 15,
   "outputs": [
    {
     "name": "stdout",
     "output_type": "stream",
     "text": [
      "1200\n"
     ]
    }
   ],
   "source": [
    "from dataclasses import dataclass\n",
    "\n",
    "\n",
    "@dataclass\n",
    "class InventoryItem:\n",
    "    name: str\n",
    "    unit_price: float\n",
    "    quantity: int = 0\n",
    "\n",
    "    def total_cost(self) -> float:\n",
    "        return self.unit_price * self.quantity\n",
    "\n",
    "\n",
    "item = InventoryItem(name=\"\", unit_price=12, quantity=100)\n",
    "print(item.total_cost())  # 1200"
   ],
   "metadata": {
    "collapsed": false,
    "pycharm": {
     "name": "#%%\n"
    }
   }
  },
  {
   "cell_type": "markdown",
   "source": [
    "Декоратор `@dataclass` просто снимает с нас нагрузку по написанию конструктора класса, позволяя избежать ручного написания кода, подобного следующему:"
   ],
   "metadata": {
    "collapsed": false,
    "pycharm": {
     "name": "#%% md\n"
    }
   }
  },
  {
   "cell_type": "code",
   "execution_count": null,
   "outputs": [],
   "source": [
    "# ...\n",
    "#     def __init__(self, name, unit_price, quantity):\n",
    "#         self.name = name\n",
    "#         self.unit_price = unit_price\n",
    "#         self.quantity = quantity\n",
    "# ..."
   ],
   "metadata": {
    "collapsed": false,
    "pycharm": {
     "name": "#%%\n"
    }
   }
  },
  {
   "cell_type": "markdown",
   "source": [
    "### Выводы\n",
    "\n",
    "Декораторы могут быть использованы для расширения возможностей функций из сторонних библиотек (код которых мы не можем изменять)."
   ],
   "metadata": {
    "collapsed": false,
    "pycharm": {
     "name": "#%% md\n"
    }
   }
  },
  {
   "cell_type": "code",
   "execution_count": 125,
   "outputs": [],
   "source": [
    "from time import time\n",
    "\n",
    "\n",
    "def benchmark(func):\n",
    "    \"\"\"\n",
    "    Декоратор, выводящий время, которое заняло\n",
    "    выполнение декорируемой функции.\n",
    "    \"\"\"\n",
    "    def wrapper(*args, **kwargs):\n",
    "        t = time()\n",
    "        res = func(*args, **kwargs)\n",
    "        print(func.__name__, time() - t)\n",
    "        return res\n",
    "\n",
    "    return wrapper\n",
    "\n",
    "\n",
    "def logging(func):\n",
    "    \"\"\"\n",
    "    Декоратор, логирующий работу кода.\n",
    "    (хорошо, он просто выводит вызовы, но тут могло быть и логирование!)\n",
    "    \"\"\"\n",
    "\n",
    "    def wrapper(*args, **kwargs):\n",
    "        res = func(*args, **kwargs)\n",
    "        print(func.__name__, args, kwargs)\n",
    "        return res\n",
    "\n",
    "    return wrapper\n",
    "\n",
    "\n",
    "def counter(func):\n",
    "    \"\"\"\n",
    "    Декоратор, считающий и выводящий количество вызовов\n",
    "    декорируемой функции.\n",
    "    \"\"\"\n",
    "\n",
    "    def wrapper(*args, **kwargs):\n",
    "        wrapper.count += 1\n",
    "        res = func(*args, **kwargs)\n",
    "        print(\"{0} была вызвана: {1}x\".format(func.__name__, wrapper.count))\n",
    "        return res\n",
    "\n",
    "    wrapper.count = 0\n",
    "\n",
    "    return wrapper\n",
    "\n",
    "\n",
    "@benchmark\n",
    "@logging\n",
    "@counter\n",
    "def reverse_string(string):\n",
    "    return string[::-1]"
   ],
   "metadata": {
    "collapsed": false,
    "pycharm": {
     "name": "#%%\n"
    }
   }
  },
  {
   "cell_type": "code",
   "execution_count": 126,
   "outputs": [
    {
     "name": "stdout",
     "output_type": "stream",
     "text": [
      "reverse_string была вызвана: 1x\n",
      "reverse_string ('А роза упала на лапу Азора',) {}\n",
      "reverse_string 0.0\n",
      "арозА упал ан алапу азор А\n"
     ]
    }
   ],
   "source": [
    "s = reverse_string(\"А роза упала на лапу Азора\")\n",
    "print(s)"
   ],
   "metadata": {
    "collapsed": false,
    "pycharm": {
     "name": "#%%\n"
    }
   }
  },
  {
   "cell_type": "markdown",
   "source": [
    "### Прочее\n",
    "\n",
    "Чтобы избежать переписывания важной информации, убедитесь в использовании @functools.wraps:"
   ],
   "metadata": {
    "collapsed": false,
    "pycharm": {
     "name": "#%% md\n"
    }
   }
  },
  {
   "cell_type": "code",
   "execution_count": 136,
   "outputs": [
    {
     "name": "stdout",
     "output_type": "stream",
     "text": [
      "call_func\n",
      "doc of call_func\n"
     ]
    }
   ],
   "source": [
    "def my_decorator(func):\n",
    "    def call_func(*args):\n",
    "        \"\"\"doc of call_func\"\"\"\n",
    "\n",
    "        return func(*args)\n",
    "\n",
    "    return call_func\n",
    "\n",
    "\n",
    "@my_decorator\n",
    "def f(x):\n",
    "    \"\"\"does some math\"\"\"\n",
    "    return x + x * x\n",
    "\n",
    "\n",
    "print(f.__name__)\n",
    "print(f.__doc__)"
   ],
   "metadata": {
    "collapsed": false,
    "pycharm": {
     "name": "#%%\n"
    }
   }
  },
  {
   "cell_type": "markdown",
   "source": [
    "Чтобы не было такого поведения, используется декоратор `wraps`:"
   ],
   "metadata": {
    "collapsed": false,
    "pycharm": {
     "name": "#%% md\n"
    }
   }
  },
  {
   "cell_type": "code",
   "execution_count": 137,
   "outputs": [
    {
     "name": "stdout",
     "output_type": "stream",
     "text": [
      "f\n",
      "does some math\n"
     ]
    }
   ],
   "source": [
    "from functools import wraps\n",
    "\n",
    "\n",
    "def my_decorator(func):\n",
    "    @wraps(func)\n",
    "    def call_func(*args):\n",
    "        \"\"\"doc of call_func\"\"\"\n",
    "\n",
    "        return func(*args)\n",
    "\n",
    "    return call_func\n",
    "\n",
    "\n",
    "@my_decorator\n",
    "def f(x):\n",
    "    \"\"\"does some math\"\"\"\n",
    "    return x + x * x\n",
    "\n",
    "\n",
    "print(f.__name__)\n",
    "print(f.__doc__)"
   ],
   "metadata": {
    "collapsed": false,
    "pycharm": {
     "name": "#%%\n"
    }
   }
  }
 ],
 "metadata": {
  "kernelspec": {
   "display_name": "Python 3",
   "language": "python",
   "name": "python3"
  },
  "language_info": {
   "codemirror_mode": {
    "name": "ipython",
    "version": 2
   },
   "file_extension": ".py",
   "mimetype": "text/x-python",
   "name": "python",
   "nbconvert_exporter": "python",
   "pygments_lexer": "ipython2",
   "version": "2.7.6"
  }
 },
 "nbformat": 4,
 "nbformat_minor": 0
}