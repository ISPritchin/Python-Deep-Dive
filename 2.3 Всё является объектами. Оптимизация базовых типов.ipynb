{
 "cells": [
  {
   "cell_type": "markdown",
   "source": [
    "# Всё является объектами\n",
    "\n",
    "Ранее отмечалось, что всё в Python является объектами. В том числе и функции. Раз это так, то переменные могут ссылаться на функции:"
   ],
   "metadata": {
    "collapsed": false,
    "pycharm": {
     "name": "#%% md\n"
    }
   }
  },
  {
   "cell_type": "code",
   "execution_count": 1,
   "outputs": [
    {
     "name": "stdout",
     "output_type": "stream",
     "text": [
      "2291079986288 2291079986288\n"
     ]
    }
   ],
   "source": [
    "def f(x):\n",
    "    return x * x\n",
    "\n",
    "\n",
    "y = f\n",
    "print(id(f), id(y))"
   ],
   "metadata": {
    "collapsed": false,
    "pycharm": {
     "name": "#%%\n"
    }
   }
  },
  {
   "cell_type": "markdown",
   "source": [
    "Объекты могут быть переданы в функции (включая функции):"
   ],
   "metadata": {
    "collapsed": false,
    "pycharm": {
     "name": "#%% md\n"
    }
   }
  },
  {
   "cell_type": "code",
   "execution_count": 2,
   "outputs": [
    {
     "name": "stdout",
     "output_type": "stream",
     "text": [
      "200\n"
     ]
    }
   ],
   "source": [
    "def f(x):\n",
    "    return x * x\n",
    "\n",
    "\n",
    "def g(func, x):\n",
    "    return 2 * func(x)\n",
    "\n",
    "\n",
    "print(g(f, 10))"
   ],
   "metadata": {
    "collapsed": false,
    "pycharm": {
     "name": "#%%\n"
    }
   }
  },
  {
   "cell_type": "markdown",
   "source": [
    "Объекты могут быть возвращены из функции (в том числе и функции):"
   ],
   "metadata": {
    "collapsed": false,
    "pycharm": {
     "name": "#%% md\n"
    }
   }
  },
  {
   "cell_type": "code",
   "execution_count": 3,
   "outputs": [
    {
     "name": "stdout",
     "output_type": "stream",
     "text": [
      "15\n"
     ]
    }
   ],
   "source": [
    "def get_add_with_x_function(x):\n",
    "    return lambda v: x + v\n",
    "\n",
    "\n",
    "add_with_10 = get_add_with_x_function(10)\n",
    "print(add_with_10(5))"
   ],
   "metadata": {
    "collapsed": false,
    "pycharm": {
     "name": "#%%\n"
    }
   }
  },
  {
   "cell_type": "markdown",
   "source": [
    "# Оптимизация строк\n",
    "\n",
    "Две переменные, которые ссылаются на одинаковые строки, как правило не разделяются:"
   ],
   "metadata": {
    "collapsed": false,
    "pycharm": {
     "name": "#%% md\n"
    }
   }
  },
  {
   "cell_type": "code",
   "execution_count": 4,
   "outputs": [
    {
     "name": "stdout",
     "output_type": "stream",
     "text": [
      "2291081221104 2291081221040\n"
     ]
    }
   ],
   "source": [
    "x = \"hello, world!\"\n",
    "y = \"hello, world!\"\n",
    "print(id(x), id(y))"
   ],
   "metadata": {
    "collapsed": false,
    "pycharm": {
     "name": "#%%\n"
    }
   }
  },
  {
   "cell_type": "markdown",
   "source": [
    "Однако, если строка может быть идентификатором (например, именем переменной), разделение происходит:"
   ],
   "metadata": {
    "collapsed": false,
    "pycharm": {
     "name": "#%% md\n"
    }
   }
  },
  {
   "cell_type": "code",
   "execution_count": 5,
   "outputs": [
    {
     "name": "stdout",
     "output_type": "stream",
     "text": [
      "2291080686960 2291080686960\n"
     ]
    }
   ],
   "source": [
    "x = \"hello_world\"\n",
    "y = \"hello_world\"\n",
    "print(id(x), id(y))"
   ],
   "metadata": {
    "collapsed": false,
    "pycharm": {
     "name": "#%%\n"
    }
   }
  },
  {
   "cell_type": "markdown",
   "source": [
    "Можно заставить принудительно разделять объект:"
   ],
   "metadata": {
    "collapsed": false,
    "pycharm": {
     "name": "#%% md\n"
    }
   }
  },
  {
   "cell_type": "code",
   "execution_count": 6,
   "outputs": [
    {
     "name": "stdout",
     "output_type": "stream",
     "text": [
      "2291081224944 2291081224944 2291081225648\n"
     ]
    }
   ],
   "source": [
    "x = sys.intern(\"hello, world!\")\n",
    "y = sys.intern(\"hello, world!\")\n",
    "z = \"hello, world!\"  # строка не будет разделяться с переменной z\n",
    "print(id(x), id(y), id(z))"
   ],
   "metadata": {
    "collapsed": false,
    "pycharm": {
     "name": "#%%\n"
    }
   }
  },
  {
   "cell_type": "markdown",
   "source": [
    "# Оптимизация константных выражений\n",
    "Константные выражения могут быть оптимизированы. Если результатом выражения является числовое значение, оно будет подсчитано. Если в качестве результата получается неизменяемая коротая последовательность, она будет вычислена заранее."
   ],
   "metadata": {
    "collapsed": false,
    "pycharm": {
     "name": "#%% md\n"
    }
   }
  },
  {
   "cell_type": "code",
   "execution_count": 7,
   "outputs": [
    {
     "data": {
      "text/plain": "(None,\n 1440,\n (1, 2, 1, 2, 1, 2, 1, 2, 1, 2),\n 'abcabcabc',\n 'a',\n 'b',\n 3,\n (1, 2, 1, 2, 1, 2, 1, 2, 1, 2, 1, 2, 1, 2, 1, 2, 1, 2, 1, 2),\n (1, 2),\n 500,\n (1, 2, 3))"
     },
     "execution_count": 7,
     "metadata": {},
     "output_type": "execute_result"
    }
   ],
   "source": [
    "def f():\n",
    "    v1 = 24 * 60\n",
    "    v2 = (1, 2) * 5\n",
    "    v3 = \"abc\" * 3\n",
    "    v4 = ['a', 'b'] * 3\n",
    "    v5 = (1, 2) * 10\n",
    "    v6 = (1, 2) * 500\n",
    "\n",
    "    if v1 in [1, 2, 3]:  # -> список будет преобразован к кортежу\n",
    "        print(v1)\n",
    "\n",
    "\n",
    "# набор предподсчитанных значений\n",
    "f.__code__.co_consts"
   ],
   "metadata": {
    "collapsed": false,
    "pycharm": {
     "name": "#%%\n"
    }
   }
  }
 ],
 "metadata": {
  "kernelspec": {
   "display_name": "Python 3",
   "language": "python",
   "name": "python3"
  },
  "language_info": {
   "codemirror_mode": {
    "name": "ipython",
    "version": 2
   },
   "file_extension": ".py",
   "mimetype": "text/x-python",
   "name": "python",
   "nbconvert_exporter": "python",
   "pygments_lexer": "ipython2",
   "version": "2.7.6"
  }
 },
 "nbformat": 4,
 "nbformat_minor": 0
}